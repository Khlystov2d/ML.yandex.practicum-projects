{
 "cells": [
  {
   "cell_type": "markdown",
   "metadata": {},
   "source": [
    "# Выбор локации для скважины"
   ]
  },
  {
   "cell_type": "markdown",
   "metadata": {},
   "source": [
    "Допустим, вы работаете в добывающей компании «ГлавРосГосНефть». Нужно решить, где бурить новую скважину.\n",
    "\n",
    "Вам предоставлены пробы нефти в трёх регионах: в каждом 10 000 месторождений, где измерили качество нефти и объём её запасов. Постройте модель машинного обучения, которая поможет определить регион, где добыча принесёт наибольшую прибыль. Проанализируйте возможную прибыль и риски техникой *Bootstrap.*\n",
    "\n",
    "Шаги для выбора локации:\n",
    "\n",
    "- В избранном регионе ищут месторождения, для каждого определяют значения признаков;\n",
    "- Строят модель и оценивают объём запасов;\n",
    "- Выбирают месторождения с самым высокими оценками значений. Количество месторождений зависит от бюджета компании и стоимости разработки одной скважины;\n",
    "- Прибыль равна суммарной прибыли отобранных месторождений."
   ]
  },
  {
   "cell_type": "markdown",
   "metadata": {},
   "source": [
    "## Загрузка и подготовка данных"
   ]
  },
  {
   "cell_type": "code",
   "execution_count": 1,
   "metadata": {},
   "outputs": [],
   "source": [
    "import pandas as pd\n",
    "from sklearn.model_selection import train_test_split\n",
    "from sklearn.linear_model import LinearRegression\n",
    "from sklearn.metrics import mean_squared_error\n",
    "import seaborn as sns\n",
    "import matplotlib.pyplot as plt\n",
    "import numpy as np\n",
    "rs = 12345"
   ]
  },
  {
   "cell_type": "code",
   "execution_count": 2,
   "metadata": {},
   "outputs": [],
   "source": [
    "df0 = pd.read_csv('/datasets/geo_data_0.csv', index_col = 'id')\n",
    "df1 = pd.read_csv('/datasets/geo_data_1.csv', index_col = 'id')\n",
    "df2 = pd.read_csv('/datasets/geo_data_2.csv', index_col = 'id')"
   ]
  },
  {
   "cell_type": "code",
   "execution_count": 3,
   "metadata": {
    "scrolled": true
   },
   "outputs": [
    {
     "name": "stdout",
     "output_type": "stream",
     "text": [
      "<class 'pandas.core.frame.DataFrame'>\n",
      "Index: 100000 entries, txEyH to 1CWhH\n",
      "Data columns (total 4 columns):\n",
      " #   Column   Non-Null Count   Dtype  \n",
      "---  ------   --------------   -----  \n",
      " 0   f0       100000 non-null  float64\n",
      " 1   f1       100000 non-null  float64\n",
      " 2   f2       100000 non-null  float64\n",
      " 3   product  100000 non-null  float64\n",
      "dtypes: float64(4)\n",
      "memory usage: 3.8+ MB\n"
     ]
    }
   ],
   "source": [
    "df0.info()"
   ]
  },
  {
   "cell_type": "code",
   "execution_count": 4,
   "metadata": {},
   "outputs": [
    {
     "name": "stdout",
     "output_type": "stream",
     "text": [
      "<class 'pandas.core.frame.DataFrame'>\n",
      "Index: 100000 entries, kBEdx to relB0\n",
      "Data columns (total 4 columns):\n",
      " #   Column   Non-Null Count   Dtype  \n",
      "---  ------   --------------   -----  \n",
      " 0   f0       100000 non-null  float64\n",
      " 1   f1       100000 non-null  float64\n",
      " 2   f2       100000 non-null  float64\n",
      " 3   product  100000 non-null  float64\n",
      "dtypes: float64(4)\n",
      "memory usage: 3.8+ MB\n"
     ]
    }
   ],
   "source": [
    "df1.info()"
   ]
  },
  {
   "cell_type": "code",
   "execution_count": 5,
   "metadata": {},
   "outputs": [
    {
     "name": "stdout",
     "output_type": "stream",
     "text": [
      "<class 'pandas.core.frame.DataFrame'>\n",
      "Index: 100000 entries, fwXo0 to V9kWn\n",
      "Data columns (total 4 columns):\n",
      " #   Column   Non-Null Count   Dtype  \n",
      "---  ------   --------------   -----  \n",
      " 0   f0       100000 non-null  float64\n",
      " 1   f1       100000 non-null  float64\n",
      " 2   f2       100000 non-null  float64\n",
      " 3   product  100000 non-null  float64\n",
      "dtypes: float64(4)\n",
      "memory usage: 3.8+ MB\n"
     ]
    }
   ],
   "source": [
    "df2.info()"
   ]
  },
  {
   "cell_type": "markdown",
   "metadata": {},
   "source": [
    "**Данные по сути уже подготовлены. Все значения в подходящих типах и не имеют пропусков. Все, что потребовалось - засунуть id в индексы, для последующего обучения**"
   ]
  },
  {
   "cell_type": "markdown",
   "metadata": {},
   "source": [
    "## Обучение и проверка модели"
   ]
  },
  {
   "cell_type": "code",
   "execution_count": 6,
   "metadata": {},
   "outputs": [],
   "source": [
    "def mrsemean(df):\n",
    "    target = df['product']\n",
    "    features = df.drop('product', axis = 1)\n",
    "    features_train, features_valid, target_train, target_valid = train_test_split(\n",
    "    features, target, test_size=0.25, random_state=rs)\n",
    "    model = LinearRegression()\n",
    "    model.fit(features_train, target_train)\n",
    "    predict = model.predict(features_valid)\n",
    "    return mean_squared_error(target_valid, predict, squared=False), predict.mean(), predict, target_valid\n",
    "    "
   ]
  },
  {
   "cell_type": "code",
   "execution_count": 7,
   "metadata": {},
   "outputs": [],
   "source": [
    "mrse0, meanpred0, predict0, target0 = mrsemean(df0)\n",
    "mrse1, meanpred1, predict1, target1 = mrsemean(df1)\n",
    "mrse2, meanpred2, predict2, target2 = mrsemean(df2)\n",
    "predtarg0 = pd.DataFrame({'predict':predict0, 'target' : target0})\n",
    "predtarg1 = pd.DataFrame({'predict':predict1, 'target' : target1})\n",
    "predtarg2 = pd.DataFrame({'predict':predict2, 'target' : target2})"
   ]
  },
  {
   "cell_type": "code",
   "execution_count": 8,
   "metadata": {},
   "outputs": [],
   "source": [
    "tab = pd.DataFrame({'Регион 1': [mrse0, meanpred0, df0['product'].mean()],\n",
    "                    'Регион 2': [mrse1, meanpred1, df1['product'].mean()],\n",
    "                    'Регион 3': [mrse2, meanpred2, df2['product'].mean()]})\n",
    "tab.index = ['MRSE', 'предсказания(сред. знач.)', 'реальные сред. знач.']\n"
   ]
  },
  {
   "cell_type": "code",
   "execution_count": 9,
   "metadata": {},
   "outputs": [
    {
     "name": "stdout",
     "output_type": "stream",
     "text": [
      "Значения в тыс. барр.\n"
     ]
    },
    {
     "data": {
      "text/html": [
       "<div>\n",
       "<style scoped>\n",
       "    .dataframe tbody tr th:only-of-type {\n",
       "        vertical-align: middle;\n",
       "    }\n",
       "\n",
       "    .dataframe tbody tr th {\n",
       "        vertical-align: top;\n",
       "    }\n",
       "\n",
       "    .dataframe thead th {\n",
       "        text-align: right;\n",
       "    }\n",
       "</style>\n",
       "<table border=\"1\" class=\"dataframe\">\n",
       "  <thead>\n",
       "    <tr style=\"text-align: right;\">\n",
       "      <th></th>\n",
       "      <th>Регион 1</th>\n",
       "      <th>Регион 2</th>\n",
       "      <th>Регион 3</th>\n",
       "    </tr>\n",
       "  </thead>\n",
       "  <tbody>\n",
       "    <tr>\n",
       "      <th>MRSE</th>\n",
       "      <td>37.579422</td>\n",
       "      <td>0.893099</td>\n",
       "      <td>40.029709</td>\n",
       "    </tr>\n",
       "    <tr>\n",
       "      <th>предсказания(сред. знач.)</th>\n",
       "      <td>92.592568</td>\n",
       "      <td>68.728547</td>\n",
       "      <td>94.965046</td>\n",
       "    </tr>\n",
       "    <tr>\n",
       "      <th>реальные сред. знач.</th>\n",
       "      <td>92.500000</td>\n",
       "      <td>68.825000</td>\n",
       "      <td>95.000000</td>\n",
       "    </tr>\n",
       "  </tbody>\n",
       "</table>\n",
       "</div>"
      ],
      "text/plain": [
       "                            Регион 1   Регион 2   Регион 3\n",
       "MRSE                       37.579422   0.893099  40.029709\n",
       "предсказания(сред. знач.)  92.592568  68.728547  94.965046\n",
       "реальные сред. знач.       92.500000  68.825000  95.000000"
      ]
     },
     "execution_count": 9,
     "metadata": {},
     "output_type": "execute_result"
    }
   ],
   "source": [
    "print('Значения в тыс. барр.')\n",
    "tab"
   ]
  },
  {
   "cell_type": "markdown",
   "metadata": {},
   "source": [
    "**При тестировании моделей на валидационной выборке мы получили достаточно высокий МРСЕ в регионах 1 и 3. Реальные средние значения объемов добычи и предсказанные практически не отличаются во всех регионах.**"
   ]
  },
  {
   "cell_type": "markdown",
   "metadata": {},
   "source": [
    "## Подготовка к расчёту прибыли"
   ]
  },
  {
   "cell_type": "markdown",
   "metadata": {},
   "source": [
    "**Рассчитаем минимальный объем добычи для одной скважины и для 200**"
   ]
  },
  {
   "cell_type": "code",
   "execution_count": 10,
   "metadata": {},
   "outputs": [],
   "source": [
    "minvol1 = 1e10/(450*1e3*200) # - Безубыточный объем для 1 скважины\n",
    "minvol200 = 1e10/(450*1e3) # - Безубыточный объем для 200 скважин"
   ]
  },
  {
   "cell_type": "code",
   "execution_count": 11,
   "metadata": {},
   "outputs": [
    {
     "data": {
      "image/png": "[encoded data removed]",
      "text/plain": [
       "<Figure size 720x432 with 1 Axes>"
      ]
     },
     "metadata": {
      "needs_background": "light"
     },
     "output_type": "display_data"
    }
   ],
   "source": [
    "a = pd.DataFrame({0 : minvol1}, index = ['Мин. знач. объема'])\n",
    "b = tab.loc['предсказания(сред. знач.)',:]\n",
    "c =  pd.concat([b, a])\n",
    "plt.figure(figsize=(10, 6))\n",
    "sns.barplot(data = c , x = c.index, y = 0)\n",
    "plt.ylabel('Объем (тыс. бар.)')\n",
    "plt.xlabel('Среднее значение')\n",
    "plt.grid(axis = 'y', alpha = 0.5)\n",
    "plt.title('Отношение среднего объема с 1 скважины к безубыточному')\n",
    "plt.show()"
   ]
  },
  {
   "cell_type": "markdown",
   "metadata": {},
   "source": [
    "**Предсказанные средния значения объема ниже безубыточного**"
   ]
  },
  {
   "cell_type": "markdown",
   "metadata": {},
   "source": [
    "**Просчитаем прибыль по топ 200 предсказанным скважинам по их реальным значениям**"
   ]
  },
  {
   "cell_type": "code",
   "execution_count": 12,
   "metadata": {},
   "outputs": [],
   "source": [
    "price_per_1_unit = 45e4 # Цена за 1.000 баррелей нефти \n",
    "price_per_reg = 1e10 # Стоимость разработки региона"
   ]
  },
  {
   "cell_type": "code",
   "execution_count": 13,
   "metadata": {},
   "outputs": [],
   "source": [
    "def profit(predtarg):\n",
    "    return predtarg.sort_values('predict', ascending = False)[0:200]['target'].sum()*price_per_1_unit - price_per_reg "
   ]
  },
  {
   "cell_type": "code",
   "execution_count": 14,
   "metadata": {},
   "outputs": [
    {
     "data": {
      "text/html": [
       "<div>\n",
       "<style scoped>\n",
       "    .dataframe tbody tr th:only-of-type {\n",
       "        vertical-align: middle;\n",
       "    }\n",
       "\n",
       "    .dataframe tbody tr th {\n",
       "        vertical-align: top;\n",
       "    }\n",
       "\n",
       "    .dataframe thead th {\n",
       "        text-align: right;\n",
       "    }\n",
       "</style>\n",
       "<table border=\"1\" class=\"dataframe\">\n",
       "  <thead>\n",
       "    <tr style=\"text-align: right;\">\n",
       "      <th></th>\n",
       "      <th>Прибыль</th>\n",
       "    </tr>\n",
       "  </thead>\n",
       "  <tbody>\n",
       "    <tr>\n",
       "      <th>1 Регион</th>\n",
       "      <td>3.320826e+09</td>\n",
       "    </tr>\n",
       "    <tr>\n",
       "      <th>2 Регион</th>\n",
       "      <td>2.415087e+09</td>\n",
       "    </tr>\n",
       "    <tr>\n",
       "      <th>3 Регион</th>\n",
       "      <td>2.710350e+09</td>\n",
       "    </tr>\n",
       "  </tbody>\n",
       "</table>\n",
       "</div>"
      ],
      "text/plain": [
       "               Прибыль\n",
       "1 Регион  3.320826e+09\n",
       "2 Регион  2.415087e+09\n",
       "3 Регион  2.710350e+09"
      ]
     },
     "execution_count": 14,
     "metadata": {},
     "output_type": "execute_result"
    }
   ],
   "source": [
    "profittab = pd.DataFrame({\"Прибыль\":[profit(predtarg0), profit(predtarg1), profit(predtarg2)]},\n",
    "                         index = ['1 Регион','2 Регион','3 Регион'])\n",
    "profittab"
   ]
  },
  {
   "cell_type": "markdown",
   "metadata": {},
   "source": [
    "**По таблице не очень понятно, построим график**"
   ]
  },
  {
   "cell_type": "code",
   "execution_count": 15,
   "metadata": {},
   "outputs": [
    {
     "data": {
      "image/png": "[encoded data removed]",
      "text/plain": [
       "<Figure size 720x432 with 1 Axes>"
      ]
     },
     "metadata": {
      "needs_background": "light"
     },
     "output_type": "display_data"
    }
   ],
   "source": [
    "plt.figure(figsize=(10, 6))\n",
    "sns.barplot(data =  profittab, y = 'Прибыль', x = profittab.index)\n",
    "plt.xlabel('Регионы')\n",
    "plt.grid(axis = 'y', alpha = 0.5)\n",
    "plt.ylabel('Прибыль')\n",
    "plt.title('Прибыль с топ 200 ')\n",
    "plt.show()"
   ]
  },
  {
   "cell_type": "markdown",
   "metadata": {},
   "source": [
    "**Так же посмотрим выбросы по предсказанным и реальным значениям**"
   ]
  },
  {
   "cell_type": "code",
   "execution_count": 16,
   "metadata": {},
   "outputs": [
    {
     "data": {
      "image/png": "[encoded data removed]",
      "text/plain": [
       "<Figure size 720x432 with 1 Axes>"
      ]
     },
     "metadata": {
      "needs_background": "light"
     },
     "output_type": "display_data"
    },
    {
     "data": {
      "image/png": "[encoded data removed]",
      "text/plain": [
       "<Figure size 720x432 with 1 Axes>"
      ]
     },
     "metadata": {
      "needs_background": "light"
     },
     "output_type": "display_data"
    },
    {
     "data": {
      "image/png": "[encoded data removed]",
      "text/plain": [
       "<Figure size 720x432 with 1 Axes>"
      ]
     },
     "metadata": {
      "needs_background": "light"
     },
     "output_type": "display_data"
    }
   ],
   "source": [
    "for ind,data in enumerate([predtarg0, predtarg1, predtarg2], start=1):\n",
    "    plt.figure(figsize=(10, 6))\n",
    "    data.boxplot()\n",
    "    plt.ylabel(\"Объем в тыс. барр.\")\n",
    "    plt.title(f'Регион {ind}')\n",
    "    plt.xlabel(\"предсказания/реальные значения\")"
   ]
  },
  {
   "cell_type": "markdown",
   "metadata": {},
   "source": [
    "## Расчёт прибыли и рисков "
   ]
  },
  {
   "cell_type": "markdown",
   "metadata": {},
   "source": [
    "**Пременим bootstrap**"
   ]
  },
  {
   "cell_type": "code",
   "execution_count": 17,
   "metadata": {},
   "outputs": [],
   "source": [
    "import numpy as np\n",
    "state = np.random.RandomState(rs)\n",
    "def bootstrap(predtarg):\n",
    "    result = []\n",
    "    for i in range(1000):\n",
    "        subsample = predtarg.sample(n=500, replace=True, random_state = state)\n",
    "        result.append(profit(subsample))\n",
    "    result = pd.Series(result)\n",
    "    mean = result.mean()\n",
    "    upper  = result.quantile(0.975)\n",
    "    lower = result.quantile(0.025)\n",
    "    probability = result.loc[result < 0].count() / result.count() * 100\n",
    "    return mean, upper, lower, probability"
   ]
  },
  {
   "cell_type": "code",
   "execution_count": 18,
   "metadata": {},
   "outputs": [],
   "source": [
    "mean0, upper0, lower0, probability0 = bootstrap(predtarg0)\n",
    "mean1, upper1, lower1, probability1 = bootstrap(predtarg1)\n",
    "mean2, upper2, lower2, probability2 = bootstrap(predtarg2)"
   ]
  },
  {
   "cell_type": "code",
   "execution_count": 19,
   "metadata": {},
   "outputs": [],
   "source": [
    "boottab =  pd.DataFrame({\"Средняя прибыль ₽\":[mean0, mean1, mean2,], 'Верхнее значение довер. интервала ₽':[upper0, upper1, upper2,],\n",
    "                         'Нижнее значение довер. интервала ₽':[lower0, lower1, lower2],\n",
    "                         'Вероятность убытков %':[probability0, probability1, probability2,]},\n",
    "                        index = ['1 Регион','2 Регион','3 Регион'])"
   ]
  },
  {
   "cell_type": "code",
   "execution_count": 20,
   "metadata": {},
   "outputs": [
    {
     "data": {
      "text/html": [
       "<div>\n",
       "<style scoped>\n",
       "    .dataframe tbody tr th:only-of-type {\n",
       "        vertical-align: middle;\n",
       "    }\n",
       "\n",
       "    .dataframe tbody tr th {\n",
       "        vertical-align: top;\n",
       "    }\n",
       "\n",
       "    .dataframe thead th {\n",
       "        text-align: right;\n",
       "    }\n",
       "</style>\n",
       "<table border=\"1\" class=\"dataframe\">\n",
       "  <thead>\n",
       "    <tr style=\"text-align: right;\">\n",
       "      <th></th>\n",
       "      <th>Средняя прибыль ₽</th>\n",
       "      <th>Верхнее значение довер. интервала ₽</th>\n",
       "      <th>Нижнее значение довер. интервала ₽</th>\n",
       "      <th>Вероятность убытков %</th>\n",
       "    </tr>\n",
       "  </thead>\n",
       "  <tbody>\n",
       "    <tr>\n",
       "      <th>1 Регион</th>\n",
       "      <td>3.961650e+08</td>\n",
       "      <td>9.097669e+08</td>\n",
       "      <td>-1.112155e+08</td>\n",
       "      <td>6.9</td>\n",
       "    </tr>\n",
       "    <tr>\n",
       "      <th>2 Регион</th>\n",
       "      <td>4.611558e+08</td>\n",
       "      <td>8.629521e+08</td>\n",
       "      <td>7.805081e+07</td>\n",
       "      <td>0.7</td>\n",
       "    </tr>\n",
       "    <tr>\n",
       "      <th>3 Регион</th>\n",
       "      <td>3.929505e+08</td>\n",
       "      <td>9.345629e+08</td>\n",
       "      <td>-1.122276e+08</td>\n",
       "      <td>6.5</td>\n",
       "    </tr>\n",
       "  </tbody>\n",
       "</table>\n",
       "</div>"
      ],
      "text/plain": [
       "          Средняя прибыль ₽  Верхнее значение довер. интервала ₽  \\\n",
       "1 Регион       3.961650e+08                         9.097669e+08   \n",
       "2 Регион       4.611558e+08                         8.629521e+08   \n",
       "3 Регион       3.929505e+08                         9.345629e+08   \n",
       "\n",
       "          Нижнее значение довер. интервала ₽  Вероятность убытков %  \n",
       "1 Регион                       -1.112155e+08                    6.9  \n",
       "2 Регион                        7.805081e+07                    0.7  \n",
       "3 Регион                       -1.122276e+08                    6.5  "
      ]
     },
     "execution_count": 20,
     "metadata": {},
     "output_type": "execute_result"
    }
   ],
   "source": [
    "boottab"
   ]
  },
  {
   "cell_type": "markdown",
   "metadata": {},
   "source": [
    "**Вероятность убытков ниже 2.5% только во втором регионе, следовательно по условиям подходит только он. Так же в этом регионе выше средняя прибыль с 200 лучших из случайных 500. Могу добавить, что в регионах 1 и 3 больше разброс по добыче: именно во втором регионе меньше шансов найти \"золотую\" скважину, но и шансов попасть в пустую - тоже.**"
   ]
  }
 ],
 "metadata": {
  "ExecuteTimeLog": [
   {
    "duration": 47,
    "start_time": "2022-09-08T16:47:13.079Z"
   },
   {
    "duration": 465,
    "start_time": "2022-09-08T16:47:15.676Z"
   },
   {
    "duration": 2062,
    "start_time": "2022-09-08T16:47:16.143Z"
   },
   {
    "duration": 27,
    "start_time": "2022-09-08T16:49:36.721Z"
   },
   {
    "duration": 14,
    "start_time": "2022-09-08T16:49:42.393Z"
   },
   {
    "duration": 40,
    "start_time": "2022-09-08T16:49:49.621Z"
   },
   {
    "duration": 13,
    "start_time": "2022-09-08T16:49:52.748Z"
   },
   {
    "duration": 9,
    "start_time": "2022-09-08T17:30:33.338Z"
   },
   {
    "duration": 14,
    "start_time": "2022-09-08T17:30:36.301Z"
   },
   {
    "duration": 15,
    "start_time": "2022-09-08T17:30:41.822Z"
   },
   {
    "duration": 15,
    "start_time": "2022-09-08T17:30:48.494Z"
   },
   {
    "duration": 6,
    "start_time": "2022-09-08T17:34:19.157Z"
   },
   {
    "duration": 7,
    "start_time": "2022-09-08T17:35:27.396Z"
   },
   {
    "duration": 395,
    "start_time": "2022-09-08T17:36:31.890Z"
   },
   {
    "duration": 413,
    "start_time": "2022-09-08T17:36:32.288Z"
   },
   {
    "duration": 15,
    "start_time": "2022-09-08T17:36:32.703Z"
   },
   {
    "duration": 16,
    "start_time": "2022-09-08T17:36:32.720Z"
   },
   {
    "duration": 38,
    "start_time": "2022-09-08T17:36:32.738Z"
   },
   {
    "duration": 788,
    "start_time": "2022-09-08T17:42:08.300Z"
   },
   {
    "duration": 22,
    "start_time": "2022-09-08T17:46:50.829Z"
   },
   {
    "duration": 2,
    "start_time": "2022-09-08T17:47:38.491Z"
   },
   {
    "duration": 115,
    "start_time": "2022-09-08T17:50:19.533Z"
   },
   {
    "duration": 16,
    "start_time": "2022-09-08T17:50:27.894Z"
   },
   {
    "duration": 25,
    "start_time": "2022-09-08T17:51:20.966Z"
   },
   {
    "duration": 4,
    "start_time": "2022-09-08T17:51:26.207Z"
   },
   {
    "duration": 15,
    "start_time": "2022-09-08T17:51:30.914Z"
   },
   {
    "duration": 30,
    "start_time": "2022-09-08T17:51:47.136Z"
   },
   {
    "duration": 63,
    "start_time": "2022-09-08T17:53:06.864Z"
   },
   {
    "duration": 53,
    "start_time": "2022-09-08T17:53:19.897Z"
   },
   {
    "duration": 22,
    "start_time": "2022-09-08T18:01:45.594Z"
   },
   {
    "duration": 453,
    "start_time": "2022-09-08T18:09:07.030Z"
   },
   {
    "duration": 11,
    "start_time": "2022-09-08T18:09:15.326Z"
   },
   {
    "duration": 468,
    "start_time": "2022-09-08T18:09:22.167Z"
   },
   {
    "duration": 85,
    "start_time": "2022-09-08T18:09:29.497Z"
   },
   {
    "duration": 123,
    "start_time": "2022-09-08T18:11:27.156Z"
   },
   {
    "duration": 107,
    "start_time": "2022-09-08T18:14:36.370Z"
   },
   {
    "duration": 62,
    "start_time": "2022-09-08T18:14:50.013Z"
   },
   {
    "duration": 70,
    "start_time": "2022-09-08T18:15:37.501Z"
   },
   {
    "duration": 3,
    "start_time": "2022-09-08T18:15:45.127Z"
   },
   {
    "duration": 72,
    "start_time": "2022-09-08T18:15:48.421Z"
   },
   {
    "duration": 478,
    "start_time": "2022-09-08T18:19:15.790Z"
   },
   {
    "duration": 464,
    "start_time": "2022-09-08T18:19:25.935Z"
   },
   {
    "duration": 471,
    "start_time": "2022-09-08T18:19:38.502Z"
   },
   {
    "duration": 416,
    "start_time": "2022-09-08T18:19:47.689Z"
   },
   {
    "duration": 1093,
    "start_time": "2022-09-09T15:24:32.989Z"
   },
   {
    "duration": 1054,
    "start_time": "2022-09-09T15:24:34.083Z"
   },
   {
    "duration": 20,
    "start_time": "2022-09-09T15:24:35.139Z"
   },
   {
    "duration": 13,
    "start_time": "2022-09-09T15:24:35.162Z"
   },
   {
    "duration": 11,
    "start_time": "2022-09-09T15:24:35.177Z"
   },
   {
    "duration": 22,
    "start_time": "2022-09-09T15:24:35.192Z"
   },
   {
    "duration": 532,
    "start_time": "2022-09-09T15:24:36.422Z"
   },
   {
    "duration": 510,
    "start_time": "2022-09-09T15:24:40.249Z"
   },
   {
    "duration": 545,
    "start_time": "2022-09-09T15:24:42.912Z"
   },
   {
    "duration": 46,
    "start_time": "2022-09-12T14:40:41.114Z"
   },
   {
    "duration": 1057,
    "start_time": "2022-09-12T14:40:44.983Z"
   },
   {
    "duration": 809,
    "start_time": "2022-09-12T14:40:46.042Z"
   },
   {
    "duration": 9,
    "start_time": "2022-09-12T14:40:46.853Z"
   },
   {
    "duration": 8,
    "start_time": "2022-09-12T14:40:46.864Z"
   },
   {
    "duration": 9,
    "start_time": "2022-09-12T14:40:47.057Z"
   },
   {
    "duration": 17,
    "start_time": "2022-09-12T14:40:47.547Z"
   },
   {
    "duration": 59,
    "start_time": "2022-09-12T14:40:49.472Z"
   },
   {
    "duration": 37,
    "start_time": "2022-09-12T14:41:09.689Z"
   },
   {
    "duration": 533,
    "start_time": "2022-09-12T14:41:17.969Z"
   },
   {
    "duration": 547,
    "start_time": "2022-09-12T14:41:26.353Z"
   },
   {
    "duration": 477,
    "start_time": "2022-09-12T14:51:31.670Z"
   },
   {
    "duration": 491,
    "start_time": "2022-09-12T14:51:40.110Z"
   },
   {
    "duration": 546,
    "start_time": "2022-09-12T14:51:52.455Z"
   },
   {
    "duration": 11,
    "start_time": "2022-09-12T14:53:18.875Z"
   },
   {
    "duration": 10,
    "start_time": "2022-09-12T14:53:44.043Z"
   },
   {
    "duration": 11,
    "start_time": "2022-09-12T14:53:45.994Z"
   },
   {
    "duration": 439,
    "start_time": "2022-09-12T14:54:17.085Z"
   },
   {
    "duration": 506,
    "start_time": "2022-09-12T14:54:39.797Z"
   },
   {
    "duration": 47,
    "start_time": "2022-09-12T14:58:43.240Z"
   },
   {
    "duration": 5,
    "start_time": "2022-09-12T14:58:46.637Z"
   },
   {
    "duration": 174,
    "start_time": "2022-09-12T14:59:19.327Z"
   },
   {
    "duration": 6,
    "start_time": "2022-09-12T14:59:34.415Z"
   },
   {
    "duration": 98,
    "start_time": "2022-09-12T14:59:36.103Z"
   },
   {
    "duration": 9,
    "start_time": "2022-09-12T15:00:03.530Z"
   },
   {
    "duration": 5,
    "start_time": "2022-09-12T15:00:06.330Z"
   },
   {
    "duration": 65,
    "start_time": "2022-09-12T15:00:06.545Z"
   },
   {
    "duration": 3,
    "start_time": "2022-09-12T15:09:13.199Z"
   },
   {
    "duration": 98,
    "start_time": "2022-09-12T15:09:13.708Z"
   },
   {
    "duration": 75,
    "start_time": "2022-09-12T15:09:50.102Z"
   },
   {
    "duration": 7,
    "start_time": "2022-09-12T15:11:05.779Z"
   },
   {
    "duration": 3,
    "start_time": "2022-09-12T15:11:08.517Z"
   },
   {
    "duration": 8,
    "start_time": "2022-09-12T15:11:09.385Z"
   },
   {
    "duration": 4,
    "start_time": "2022-09-12T15:11:12.961Z"
   },
   {
    "duration": 9,
    "start_time": "2022-09-12T15:11:14.181Z"
   },
   {
    "duration": 59,
    "start_time": "2022-09-12T15:11:25.849Z"
   },
   {
    "duration": 3,
    "start_time": "2022-09-12T15:11:37.627Z"
   },
   {
    "duration": 42,
    "start_time": "2022-09-12T15:12:18.060Z"
   },
   {
    "duration": 3,
    "start_time": "2022-09-12T15:12:18.844Z"
   },
   {
    "duration": 155,
    "start_time": "2022-09-12T15:12:55.646Z"
   },
   {
    "duration": 3,
    "start_time": "2022-09-12T15:12:56.693Z"
   },
   {
    "duration": 41,
    "start_time": "2022-09-12T15:13:05.110Z"
   },
   {
    "duration": 3,
    "start_time": "2022-09-12T15:13:05.655Z"
   },
   {
    "duration": 5,
    "start_time": "2022-09-12T15:13:39.847Z"
   },
   {
    "duration": 50,
    "start_time": "2022-09-12T15:13:40.751Z"
   },
   {
    "duration": 3,
    "start_time": "2022-09-12T15:14:30.266Z"
   },
   {
    "duration": 99,
    "start_time": "2022-09-12T15:14:31.304Z"
   },
   {
    "duration": 4,
    "start_time": "2022-09-12T15:14:34.697Z"
   },
   {
    "duration": 52,
    "start_time": "2022-09-12T15:14:50.850Z"
   },
   {
    "duration": 3,
    "start_time": "2022-09-12T15:14:52.546Z"
   },
   {
    "duration": 4,
    "start_time": "2022-09-12T15:14:55.825Z"
   },
   {
    "duration": 124,
    "start_time": "2022-09-12T15:14:56.377Z"
   },
   {
    "duration": 3,
    "start_time": "2022-09-12T15:14:57.226Z"
   },
   {
    "duration": 111,
    "start_time": "2022-09-12T15:15:05.290Z"
   },
   {
    "duration": 3,
    "start_time": "2022-09-12T15:15:06.102Z"
   },
   {
    "duration": 68,
    "start_time": "2022-09-12T15:15:22.820Z"
   },
   {
    "duration": 3,
    "start_time": "2022-09-12T15:15:28.309Z"
   },
   {
    "duration": 70,
    "start_time": "2022-09-12T15:15:28.731Z"
   },
   {
    "duration": 8,
    "start_time": "2022-09-12T15:15:43.067Z"
   },
   {
    "duration": 4,
    "start_time": "2022-09-12T15:15:45.259Z"
   },
   {
    "duration": 7,
    "start_time": "2022-09-12T15:15:45.663Z"
   },
   {
    "duration": 8,
    "start_time": "2022-09-12T15:15:59.868Z"
   },
   {
    "duration": 96,
    "start_time": "2022-09-12T15:16:00.908Z"
   },
   {
    "duration": 8,
    "start_time": "2022-09-12T15:17:10.627Z"
   },
   {
    "duration": 4,
    "start_time": "2022-09-12T15:17:14.440Z"
   },
   {
    "duration": 8,
    "start_time": "2022-09-12T15:17:15.182Z"
   },
   {
    "duration": 7,
    "start_time": "2022-09-12T15:17:21.007Z"
   },
   {
    "duration": 4,
    "start_time": "2022-09-12T15:17:25.264Z"
   },
   {
    "duration": 74,
    "start_time": "2022-09-12T15:17:25.831Z"
   },
   {
    "duration": 3,
    "start_time": "2022-09-12T15:17:37.568Z"
   },
   {
    "duration": 85,
    "start_time": "2022-09-12T15:17:38.016Z"
   },
   {
    "duration": 3,
    "start_time": "2022-09-12T15:17:46.632Z"
   },
   {
    "duration": 97,
    "start_time": "2022-09-12T15:17:48.209Z"
   },
   {
    "duration": 157,
    "start_time": "2022-09-12T15:18:52.554Z"
   },
   {
    "duration": 10,
    "start_time": "2022-09-12T15:19:03.855Z"
   },
   {
    "duration": 167,
    "start_time": "2022-09-12T15:19:11.035Z"
   },
   {
    "duration": 159,
    "start_time": "2022-09-12T15:19:24.643Z"
   },
   {
    "duration": 6,
    "start_time": "2022-09-12T15:20:08.718Z"
   },
   {
    "duration": 131,
    "start_time": "2022-09-12T15:20:09.071Z"
   },
   {
    "duration": 111,
    "start_time": "2022-09-12T15:20:25.806Z"
   },
   {
    "duration": 4,
    "start_time": "2022-09-12T15:20:48.008Z"
   },
   {
    "duration": 201,
    "start_time": "2022-09-12T15:20:48.599Z"
   },
   {
    "duration": 95,
    "start_time": "2022-09-12T15:21:33.808Z"
   },
   {
    "duration": 154,
    "start_time": "2022-09-12T15:21:52.154Z"
   },
   {
    "duration": 39,
    "start_time": "2022-09-12T15:22:55.267Z"
   },
   {
    "duration": 80,
    "start_time": "2022-09-12T15:23:08.124Z"
   },
   {
    "duration": 101,
    "start_time": "2022-09-12T15:23:24.805Z"
   },
   {
    "duration": 121,
    "start_time": "2022-09-12T15:25:09.192Z"
   },
   {
    "duration": 4,
    "start_time": "2022-09-12T15:25:11.291Z"
   },
   {
    "duration": 81,
    "start_time": "2022-09-12T15:25:11.520Z"
   },
   {
    "duration": 41,
    "start_time": "2022-09-12T15:26:06.636Z"
   },
   {
    "duration": 402,
    "start_time": "2022-09-12T15:28:19.920Z"
   },
   {
    "duration": 8,
    "start_time": "2022-09-12T15:31:56.314Z"
   },
   {
    "duration": 4,
    "start_time": "2022-09-12T15:32:11.735Z"
   },
   {
    "duration": 5,
    "start_time": "2022-09-12T15:32:51.364Z"
   },
   {
    "duration": 9,
    "start_time": "2022-09-12T15:32:59.122Z"
   },
   {
    "duration": 4,
    "start_time": "2022-09-12T15:33:57.783Z"
   },
   {
    "duration": 8,
    "start_time": "2022-09-12T15:33:58.372Z"
   },
   {
    "duration": 4,
    "start_time": "2022-09-12T15:34:15.932Z"
   },
   {
    "duration": 7,
    "start_time": "2022-09-12T15:34:16.397Z"
   },
   {
    "duration": 3,
    "start_time": "2022-09-12T15:40:43.461Z"
   },
   {
    "duration": 4,
    "start_time": "2022-09-12T15:40:48.475Z"
   },
   {
    "duration": 4,
    "start_time": "2022-09-12T15:41:46.535Z"
   },
   {
    "duration": 5,
    "start_time": "2022-09-12T15:42:17.870Z"
   },
   {
    "duration": 4,
    "start_time": "2022-09-12T15:42:21.839Z"
   },
   {
    "duration": 4,
    "start_time": "2022-09-12T15:42:25.209Z"
   },
   {
    "duration": 4,
    "start_time": "2022-09-12T15:43:07.507Z"
   },
   {
    "duration": 3,
    "start_time": "2022-09-12T15:43:16.344Z"
   },
   {
    "duration": 5,
    "start_time": "2022-09-12T15:43:19.663Z"
   },
   {
    "duration": 8,
    "start_time": "2022-09-12T15:49:05.221Z"
   },
   {
    "duration": 4,
    "start_time": "2022-09-12T15:49:18.839Z"
   },
   {
    "duration": 6,
    "start_time": "2022-09-12T15:49:34.749Z"
   },
   {
    "duration": 8,
    "start_time": "2022-09-12T15:49:40.822Z"
   },
   {
    "duration": 5,
    "start_time": "2022-09-12T15:49:44.246Z"
   },
   {
    "duration": 7,
    "start_time": "2022-09-12T15:55:43.068Z"
   },
   {
    "duration": 492,
    "start_time": "2022-09-12T15:58:29.810Z"
   },
   {
    "duration": 497,
    "start_time": "2022-09-12T15:59:13.205Z"
   },
   {
    "duration": 410,
    "start_time": "2022-09-12T15:59:31.513Z"
   },
   {
    "duration": 9,
    "start_time": "2022-09-12T15:59:38.118Z"
   },
   {
    "duration": 642,
    "start_time": "2022-09-12T16:00:02.158Z"
   },
   {
    "duration": 8,
    "start_time": "2022-09-12T16:00:08.061Z"
   },
   {
    "duration": 411,
    "start_time": "2022-09-12T16:00:42.822Z"
   },
   {
    "duration": 11,
    "start_time": "2022-09-12T16:00:45.783Z"
   },
   {
    "duration": 3,
    "start_time": "2022-09-12T16:04:16.143Z"
   },
   {
    "duration": 10,
    "start_time": "2022-09-12T16:04:18.328Z"
   },
   {
    "duration": 10,
    "start_time": "2022-09-12T16:04:18.365Z"
   },
   {
    "duration": 11,
    "start_time": "2022-09-12T16:04:18.428Z"
   },
   {
    "duration": 366,
    "start_time": "2022-09-12T16:04:18.489Z"
   },
   {
    "duration": 3,
    "start_time": "2022-09-12T16:04:18.978Z"
   },
   {
    "duration": 520,
    "start_time": "2022-09-12T16:04:19.281Z"
   },
   {
    "duration": 6,
    "start_time": "2022-09-12T16:04:19.806Z"
   },
   {
    "duration": 14,
    "start_time": "2022-09-12T16:04:19.901Z"
   },
   {
    "duration": 6,
    "start_time": "2022-09-12T16:04:19.917Z"
   },
   {
    "duration": 9,
    "start_time": "2022-09-12T16:04:19.925Z"
   },
   {
    "duration": 9,
    "start_time": "2022-09-12T16:04:20.180Z"
   },
   {
    "duration": 6,
    "start_time": "2022-09-12T16:08:11.857Z"
   },
   {
    "duration": 7,
    "start_time": "2022-09-12T16:08:12.695Z"
   },
   {
    "duration": 10,
    "start_time": "2022-09-12T16:15:33.042Z"
   },
   {
    "duration": 11,
    "start_time": "2022-09-12T16:15:38.065Z"
   },
   {
    "duration": 544,
    "start_time": "2022-09-12T16:15:47.956Z"
   },
   {
    "duration": 11,
    "start_time": "2022-09-12T16:15:57.364Z"
   },
   {
    "duration": 8,
    "start_time": "2022-09-12T16:20:33.652Z"
   },
   {
    "duration": 19,
    "start_time": "2022-09-12T16:20:40.069Z"
   },
   {
    "duration": 19,
    "start_time": "2022-09-12T16:20:52.470Z"
   },
   {
    "duration": 14,
    "start_time": "2022-09-12T16:21:00.311Z"
   },
   {
    "duration": 66,
    "start_time": "2022-09-12T16:32:44.265Z"
   },
   {
    "duration": 71,
    "start_time": "2022-09-12T16:33:10.184Z"
   },
   {
    "duration": 15,
    "start_time": "2022-09-12T16:33:34.347Z"
   },
   {
    "duration": 74,
    "start_time": "2022-09-12T16:33:49.851Z"
   },
   {
    "duration": 4,
    "start_time": "2022-09-12T16:46:09.028Z"
   },
   {
    "duration": 14,
    "start_time": "2022-09-12T16:46:32.595Z"
   },
   {
    "duration": 11,
    "start_time": "2022-09-12T16:57:03.653Z"
   },
   {
    "duration": 3,
    "start_time": "2022-09-12T16:57:40.503Z"
   },
   {
    "duration": 7,
    "start_time": "2022-09-12T17:01:32.039Z"
   },
   {
    "duration": 9,
    "start_time": "2022-09-12T17:01:35.283Z"
   },
   {
    "duration": 896,
    "start_time": "2022-09-12T17:01:57.679Z"
   },
   {
    "duration": 275,
    "start_time": "2022-09-12T17:02:07.480Z"
   },
   {
    "duration": 358,
    "start_time": "2022-09-12T17:02:13.976Z"
   },
   {
    "duration": 26,
    "start_time": "2022-09-12T17:04:32.886Z"
   },
   {
    "duration": 20,
    "start_time": "2022-09-12T17:04:44.955Z"
   },
   {
    "duration": 877,
    "start_time": "2022-09-12T17:06:26.723Z"
   },
   {
    "duration": 5,
    "start_time": "2022-09-12T17:06:44.316Z"
   },
   {
    "duration": 7,
    "start_time": "2022-09-12T17:07:16.189Z"
   },
   {
    "duration": 11,
    "start_time": "2022-09-12T17:09:21.073Z"
   },
   {
    "duration": 4,
    "start_time": "2022-09-12T17:10:36.685Z"
   },
   {
    "duration": 14,
    "start_time": "2022-09-12T17:11:24.176Z"
   },
   {
    "duration": 160,
    "start_time": "2022-09-12T17:11:40.830Z"
   },
   {
    "duration": 130,
    "start_time": "2022-09-12T17:12:15.801Z"
   },
   {
    "duration": 233,
    "start_time": "2022-09-12T17:12:21.089Z"
   },
   {
    "duration": 115,
    "start_time": "2022-09-12T17:12:29.611Z"
   },
   {
    "duration": 152,
    "start_time": "2022-09-12T17:12:38.089Z"
   },
   {
    "duration": 293,
    "start_time": "2022-09-12T17:12:51.921Z"
   },
   {
    "duration": 129,
    "start_time": "2022-09-12T17:12:57.259Z"
   },
   {
    "duration": 180,
    "start_time": "2022-09-12T17:13:21.503Z"
   },
   {
    "duration": 10,
    "start_time": "2022-09-12T17:13:35.420Z"
   },
   {
    "duration": 140,
    "start_time": "2022-09-12T17:14:00.805Z"
   },
   {
    "duration": 20,
    "start_time": "2022-09-12T17:14:15.486Z"
   },
   {
    "duration": 118,
    "start_time": "2022-09-12T17:14:58.264Z"
   },
   {
    "duration": 93,
    "start_time": "2022-09-12T17:15:03.020Z"
   },
   {
    "duration": 106,
    "start_time": "2022-09-12T17:16:15.930Z"
   },
   {
    "duration": 129,
    "start_time": "2022-09-12T17:16:28.979Z"
   },
   {
    "duration": 102,
    "start_time": "2022-09-12T17:16:36.914Z"
   },
   {
    "duration": 4,
    "start_time": "2022-09-12T17:16:53.534Z"
   },
   {
    "duration": 3,
    "start_time": "2022-09-12T18:02:50.644Z"
   },
   {
    "duration": 106,
    "start_time": "2022-09-12T18:02:53.806Z"
   },
   {
    "duration": 101,
    "start_time": "2022-09-12T18:02:58.174Z"
   },
   {
    "duration": 110,
    "start_time": "2022-09-12T18:03:02.745Z"
   },
   {
    "duration": 4,
    "start_time": "2022-09-12T18:04:46.043Z"
   },
   {
    "duration": 119,
    "start_time": "2022-09-12T18:04:49.362Z"
   },
   {
    "duration": 122,
    "start_time": "2022-09-12T18:05:10.078Z"
   },
   {
    "duration": 118,
    "start_time": "2022-09-12T18:05:27.681Z"
   },
   {
    "duration": 121,
    "start_time": "2022-09-12T18:05:35.735Z"
   },
   {
    "duration": 113,
    "start_time": "2022-09-12T18:06:40.354Z"
   },
   {
    "duration": 120,
    "start_time": "2022-09-12T18:06:46.401Z"
   },
   {
    "duration": 111,
    "start_time": "2022-09-12T18:07:08.181Z"
   },
   {
    "duration": 11,
    "start_time": "2022-09-12T18:07:50.417Z"
   },
   {
    "duration": 11,
    "start_time": "2022-09-12T18:08:03.667Z"
   },
   {
    "duration": 12,
    "start_time": "2022-09-12T18:08:10.729Z"
   },
   {
    "duration": 12,
    "start_time": "2022-09-12T18:08:30.186Z"
   },
   {
    "duration": 15,
    "start_time": "2022-09-12T18:09:02.166Z"
   },
   {
    "duration": 128,
    "start_time": "2022-09-12T18:09:09.332Z"
   },
   {
    "duration": 4,
    "start_time": "2022-09-12T18:09:29.402Z"
   },
   {
    "duration": 235,
    "start_time": "2022-09-12T18:09:29.556Z"
   },
   {
    "duration": 119,
    "start_time": "2022-09-12T18:09:42.271Z"
   },
   {
    "duration": 3,
    "start_time": "2022-09-12T18:09:47.085Z"
   },
   {
    "duration": 44,
    "start_time": "2022-09-13T13:35:27.486Z"
   },
   {
    "duration": 1595,
    "start_time": "2022-09-13T13:35:34.489Z"
   },
   {
    "duration": 103,
    "start_time": "2022-09-13T13:35:36.087Z"
   },
   {
    "duration": 0,
    "start_time": "2022-09-13T13:35:36.192Z"
   },
   {
    "duration": 0,
    "start_time": "2022-09-13T13:35:36.193Z"
   },
   {
    "duration": 0,
    "start_time": "2022-09-13T13:35:36.194Z"
   },
   {
    "duration": 0,
    "start_time": "2022-09-13T13:35:36.195Z"
   },
   {
    "duration": 0,
    "start_time": "2022-09-13T13:35:36.197Z"
   },
   {
    "duration": 0,
    "start_time": "2022-09-13T13:35:36.198Z"
   },
   {
    "duration": 0,
    "start_time": "2022-09-13T13:35:36.199Z"
   },
   {
    "duration": 0,
    "start_time": "2022-09-13T13:35:36.201Z"
   },
   {
    "duration": 0,
    "start_time": "2022-09-13T13:35:36.202Z"
   },
   {
    "duration": 0,
    "start_time": "2022-09-13T13:35:36.204Z"
   },
   {
    "duration": 9,
    "start_time": "2022-09-13T13:36:28.156Z"
   },
   {
    "duration": 3,
    "start_time": "2022-09-13T13:36:48.226Z"
   },
   {
    "duration": 1525,
    "start_time": "2022-09-13T13:36:48.718Z"
   },
   {
    "duration": 16,
    "start_time": "2022-09-13T13:36:51.032Z"
   },
   {
    "duration": 12,
    "start_time": "2022-09-13T13:36:51.762Z"
   },
   {
    "duration": 12,
    "start_time": "2022-09-13T13:36:52.062Z"
   },
   {
    "duration": 3,
    "start_time": "2022-09-13T13:36:59.600Z"
   },
   {
    "duration": 64,
    "start_time": "2022-09-13T13:36:59.921Z"
   },
   {
    "duration": 11,
    "start_time": "2022-09-13T13:37:00.260Z"
   },
   {
    "duration": 8,
    "start_time": "2022-09-13T13:37:01.033Z"
   },
   {
    "duration": 3,
    "start_time": "2022-09-13T13:37:10.662Z"
   },
   {
    "duration": 43,
    "start_time": "2022-09-13T13:37:11.460Z"
   },
   {
    "duration": 3,
    "start_time": "2022-09-13T13:37:22.585Z"
   },
   {
    "duration": 542,
    "start_time": "2022-09-13T13:37:23.340Z"
   },
   {
    "duration": 5,
    "start_time": "2022-09-13T13:37:24.166Z"
   },
   {
    "duration": 10,
    "start_time": "2022-09-13T13:37:24.633Z"
   },
   {
    "duration": 3,
    "start_time": "2022-09-13T13:37:26.262Z"
   },
   {
    "duration": 127,
    "start_time": "2022-09-13T13:37:27.066Z"
   },
   {
    "duration": 23,
    "start_time": "2022-09-13T13:37:30.046Z"
   },
   {
    "duration": 23,
    "start_time": "2022-09-13T13:37:35.316Z"
   },
   {
    "duration": 830,
    "start_time": "2022-09-13T13:37:45.460Z"
   },
   {
    "duration": 15,
    "start_time": "2022-09-13T13:37:49.461Z"
   },
   {
    "duration": 102,
    "start_time": "2022-09-13T13:38:13.847Z"
   },
   {
    "duration": 649,
    "start_time": "2022-09-13T13:38:17.462Z"
   },
   {
    "duration": 21,
    "start_time": "2022-09-13T13:38:21.772Z"
   },
   {
    "duration": 21,
    "start_time": "2022-09-13T13:38:32.621Z"
   },
   {
    "duration": 7,
    "start_time": "2022-09-13T13:38:36.390Z"
   },
   {
    "duration": 9,
    "start_time": "2022-09-13T13:38:39.959Z"
   },
   {
    "duration": 14,
    "start_time": "2022-09-13T13:38:43.275Z"
   },
   {
    "duration": 14,
    "start_time": "2022-09-13T13:38:55.665Z"
   },
   {
    "duration": 11,
    "start_time": "2022-09-13T13:39:23.557Z"
   },
   {
    "duration": 3,
    "start_time": "2022-09-13T13:39:43.764Z"
   },
   {
    "duration": 14,
    "start_time": "2022-09-13T13:40:17.664Z"
   },
   {
    "duration": 3,
    "start_time": "2022-09-13T13:40:19.863Z"
   },
   {
    "duration": 115,
    "start_time": "2022-09-13T13:40:20.319Z"
   },
   {
    "duration": 11,
    "start_time": "2022-09-13T13:41:07.425Z"
   },
   {
    "duration": 3,
    "start_time": "2022-09-13T13:41:10.722Z"
   },
   {
    "duration": 4,
    "start_time": "2022-09-13T13:41:13.521Z"
   },
   {
    "duration": 3,
    "start_time": "2022-09-13T13:41:33.529Z"
   },
   {
    "duration": 114,
    "start_time": "2022-09-13T13:41:34.522Z"
   },
   {
    "duration": 11,
    "start_time": "2022-09-13T13:41:40.922Z"
   },
   {
    "duration": 2,
    "start_time": "2022-09-13T13:42:36.859Z"
   },
   {
    "duration": 115,
    "start_time": "2022-09-13T13:42:37.460Z"
   },
   {
    "duration": 13,
    "start_time": "2022-09-13T13:42:37.958Z"
   },
   {
    "duration": 4,
    "start_time": "2022-09-13T13:42:38.283Z"
   },
   {
    "duration": 9,
    "start_time": "2022-09-13T13:42:48.358Z"
   },
   {
    "duration": 12,
    "start_time": "2022-09-13T13:42:53.849Z"
   },
   {
    "duration": 3,
    "start_time": "2022-09-13T13:43:48.654Z"
   },
   {
    "duration": 2,
    "start_time": "2022-09-13T13:45:30.179Z"
   },
   {
    "duration": 198,
    "start_time": "2022-09-13T13:45:30.585Z"
   },
   {
    "duration": 3,
    "start_time": "2022-09-13T13:45:38.578Z"
   },
   {
    "duration": 2,
    "start_time": "2022-09-13T13:46:00.359Z"
   },
   {
    "duration": 11,
    "start_time": "2022-09-13T13:46:15.198Z"
   },
   {
    "duration": 4,
    "start_time": "2022-09-13T13:49:30.913Z"
   },
   {
    "duration": 9,
    "start_time": "2022-09-13T13:55:32.655Z"
   },
   {
    "duration": 3,
    "start_time": "2022-09-13T13:56:35.900Z"
   },
   {
    "duration": 4,
    "start_time": "2022-09-13T13:56:49.446Z"
   },
   {
    "duration": 31,
    "start_time": "2022-09-13T14:17:13.153Z"
   },
   {
    "duration": 71,
    "start_time": "2022-09-13T14:17:49.336Z"
   },
   {
    "duration": 33,
    "start_time": "2022-09-13T14:18:45.374Z"
   },
   {
    "duration": 34,
    "start_time": "2022-09-13T14:19:34.639Z"
   },
   {
    "duration": 26,
    "start_time": "2022-09-13T14:19:40.634Z"
   },
   {
    "duration": 30,
    "start_time": "2022-09-13T14:21:13.985Z"
   },
   {
    "duration": 83,
    "start_time": "2022-09-13T14:22:27.034Z"
   },
   {
    "duration": 134,
    "start_time": "2022-09-13T14:22:37.285Z"
   },
   {
    "duration": 127,
    "start_time": "2022-09-13T14:22:45.255Z"
   },
   {
    "duration": 27,
    "start_time": "2022-09-13T14:23:51.368Z"
   },
   {
    "duration": 3,
    "start_time": "2022-09-13T15:13:26.340Z"
   },
   {
    "duration": 6,
    "start_time": "2022-09-13T15:13:39.160Z"
   },
   {
    "duration": 4,
    "start_time": "2022-09-13T15:13:53.713Z"
   },
   {
    "duration": 7,
    "start_time": "2022-09-13T15:13:54.048Z"
   },
   {
    "duration": 5,
    "start_time": "2022-09-13T15:14:56.484Z"
   },
   {
    "duration": 3,
    "start_time": "2022-09-13T15:14:59.878Z"
   },
   {
    "duration": 918,
    "start_time": "2022-09-13T15:15:00.445Z"
   },
   {
    "duration": 4,
    "start_time": "2022-09-13T15:15:50.358Z"
   },
   {
    "duration": 5,
    "start_time": "2022-09-13T15:15:50.653Z"
   },
   {
    "duration": 3,
    "start_time": "2022-09-13T15:15:54.958Z"
   },
   {
    "duration": 1020,
    "start_time": "2022-09-13T15:15:55.248Z"
   },
   {
    "duration": 4,
    "start_time": "2022-09-13T15:16:51.495Z"
   },
   {
    "duration": 14,
    "start_time": "2022-09-13T15:16:52.519Z"
   },
   {
    "duration": 4,
    "start_time": "2022-09-13T15:19:37.230Z"
   },
   {
    "duration": 21,
    "start_time": "2022-09-13T15:19:37.986Z"
   },
   {
    "duration": 3,
    "start_time": "2022-09-13T15:20:01.447Z"
   },
   {
    "duration": 882,
    "start_time": "2022-09-13T15:20:02.383Z"
   },
   {
    "duration": 3,
    "start_time": "2022-09-13T15:22:13.892Z"
   },
   {
    "duration": 8,
    "start_time": "2022-09-13T18:09:09.591Z"
   },
   {
    "duration": 44,
    "start_time": "2022-09-13T18:09:10.476Z"
   },
   {
    "duration": 1548,
    "start_time": "2022-09-13T18:09:15.776Z"
   },
   {
    "duration": 959,
    "start_time": "2022-09-13T18:09:17.326Z"
   },
   {
    "duration": 14,
    "start_time": "2022-09-13T18:09:18.287Z"
   },
   {
    "duration": 10,
    "start_time": "2022-09-13T18:09:18.303Z"
   },
   {
    "duration": 10,
    "start_time": "2022-09-13T18:09:18.316Z"
   },
   {
    "duration": 3,
    "start_time": "2022-09-13T18:09:18.328Z"
   },
   {
    "duration": 601,
    "start_time": "2022-09-13T18:09:18.346Z"
   },
   {
    "duration": 98,
    "start_time": "2022-09-13T18:09:18.950Z"
   },
   {
    "duration": 15,
    "start_time": "2022-09-13T18:09:19.050Z"
   },
   {
    "duration": 3,
    "start_time": "2022-09-13T18:09:19.066Z"
   },
   {
    "duration": 156,
    "start_time": "2022-09-13T18:09:19.071Z"
   },
   {
    "duration": 3,
    "start_time": "2022-09-13T18:09:19.228Z"
   },
   {
    "duration": 35,
    "start_time": "2022-09-13T18:09:19.233Z"
   },
   {
    "duration": 3,
    "start_time": "2022-09-13T18:09:19.270Z"
   },
   {
    "duration": 1006,
    "start_time": "2022-09-13T18:09:19.275Z"
   },
   {
    "duration": 3,
    "start_time": "2022-09-13T18:09:26.907Z"
   },
   {
    "duration": 956,
    "start_time": "2022-09-13T18:09:27.714Z"
   },
   {
    "duration": 3,
    "start_time": "2022-09-13T18:09:42.564Z"
   },
   {
    "duration": 929,
    "start_time": "2022-09-13T18:09:43.092Z"
   },
   {
    "duration": 3,
    "start_time": "2022-09-13T18:09:51.388Z"
   },
   {
    "duration": 918,
    "start_time": "2022-09-13T18:09:51.735Z"
   },
   {
    "duration": 3,
    "start_time": "2022-09-13T18:10:02.139Z"
   },
   {
    "duration": 1007,
    "start_time": "2022-09-13T18:10:02.867Z"
   },
   {
    "duration": 116,
    "start_time": "2022-09-13T18:10:12.748Z"
   },
   {
    "duration": 11,
    "start_time": "2022-09-13T18:10:27.395Z"
   },
   {
    "duration": 4,
    "start_time": "2022-09-13T18:10:29.099Z"
   },
   {
    "duration": 9,
    "start_time": "2022-09-13T18:10:29.335Z"
   },
   {
    "duration": 3,
    "start_time": "2022-09-13T18:10:31.737Z"
   },
   {
    "duration": 8,
    "start_time": "2022-09-13T18:10:33.588Z"
   },
   {
    "duration": 3,
    "start_time": "2022-09-13T18:10:40.487Z"
   },
   {
    "duration": 8,
    "start_time": "2022-09-13T18:10:40.935Z"
   },
   {
    "duration": 3,
    "start_time": "2022-09-13T18:10:46.957Z"
   },
   {
    "duration": 8,
    "start_time": "2022-09-13T18:10:47.565Z"
   },
   {
    "duration": 3,
    "start_time": "2022-09-13T18:10:51.484Z"
   },
   {
    "duration": 8,
    "start_time": "2022-09-13T18:10:51.965Z"
   },
   {
    "duration": 1293,
    "start_time": "2022-09-13T18:10:56.577Z"
   },
   {
    "duration": 423,
    "start_time": "2022-09-13T18:10:57.872Z"
   },
   {
    "duration": 14,
    "start_time": "2022-09-13T18:10:58.297Z"
   },
   {
    "duration": 13,
    "start_time": "2022-09-13T18:10:58.314Z"
   },
   {
    "duration": 24,
    "start_time": "2022-09-13T18:10:58.329Z"
   },
   {
    "duration": 10,
    "start_time": "2022-09-13T18:10:58.355Z"
   },
   {
    "duration": 484,
    "start_time": "2022-09-13T18:10:58.366Z"
   },
   {
    "duration": 96,
    "start_time": "2022-09-13T18:10:58.853Z"
   },
   {
    "duration": 18,
    "start_time": "2022-09-13T18:10:58.951Z"
   },
   {
    "duration": 10,
    "start_time": "2022-09-13T18:10:58.971Z"
   },
   {
    "duration": 143,
    "start_time": "2022-09-13T18:10:58.982Z"
   },
   {
    "duration": 3,
    "start_time": "2022-09-13T18:10:59.126Z"
   },
   {
    "duration": 33,
    "start_time": "2022-09-13T18:10:59.131Z"
   },
   {
    "duration": 3,
    "start_time": "2022-09-13T18:10:59.166Z"
   },
   {
    "duration": 109,
    "start_time": "2022-09-13T18:10:59.171Z"
   },
   {
    "duration": 1047,
    "start_time": "2022-09-13T18:11:18.174Z"
   },
   {
    "duration": 4,
    "start_time": "2022-09-13T18:11:22.669Z"
   },
   {
    "duration": 969,
    "start_time": "2022-09-13T18:11:23.181Z"
   },
   {
    "duration": 56,
    "start_time": "2022-09-13T18:11:56.950Z"
   },
   {
    "duration": 3,
    "start_time": "2022-09-13T18:12:00.559Z"
   },
   {
    "duration": 47,
    "start_time": "2022-09-13T18:12:01.407Z"
   },
   {
    "duration": 975,
    "start_time": "2022-09-13T18:12:06.912Z"
   },
   {
    "duration": 3,
    "start_time": "2022-09-13T18:13:50.539Z"
   },
   {
    "duration": 12,
    "start_time": "2022-09-13T18:14:05.782Z"
   },
   {
    "duration": 3,
    "start_time": "2022-09-13T18:14:09.048Z"
   },
   {
    "duration": 11,
    "start_time": "2022-09-13T18:14:09.443Z"
   },
   {
    "duration": 12,
    "start_time": "2022-09-13T18:14:11.381Z"
   },
   {
    "duration": 11,
    "start_time": "2022-09-13T18:14:12.165Z"
   },
   {
    "duration": 11,
    "start_time": "2022-09-13T18:14:12.964Z"
   },
   {
    "duration": 11,
    "start_time": "2022-09-13T18:14:13.872Z"
   },
   {
    "duration": 3,
    "start_time": "2022-09-13T18:14:24.917Z"
   },
   {
    "duration": 11,
    "start_time": "2022-09-13T18:14:25.535Z"
   },
   {
    "duration": 971,
    "start_time": "2022-09-13T18:14:33.557Z"
   },
   {
    "duration": 3,
    "start_time": "2022-09-13T18:14:40.780Z"
   },
   {
    "duration": 971,
    "start_time": "2022-09-13T18:14:41.164Z"
   },
   {
    "duration": 19,
    "start_time": "2022-09-13T18:14:57.785Z"
   },
   {
    "duration": 19,
    "start_time": "2022-09-13T18:15:01.407Z"
   },
   {
    "duration": 3,
    "start_time": "2022-09-13T18:15:03.366Z"
   },
   {
    "duration": 18,
    "start_time": "2022-09-13T18:15:04.070Z"
   },
   {
    "duration": 18,
    "start_time": "2022-09-13T18:15:24.840Z"
   },
   {
    "duration": 928,
    "start_time": "2022-09-13T18:15:34.639Z"
   },
   {
    "duration": 3,
    "start_time": "2022-09-13T18:15:38.377Z"
   },
   {
    "duration": 942,
    "start_time": "2022-09-13T18:15:38.775Z"
   },
   {
    "duration": 3,
    "start_time": "2022-09-13T18:15:58.561Z"
   },
   {
    "duration": 3,
    "start_time": "2022-09-13T18:16:16.010Z"
   },
   {
    "duration": 983,
    "start_time": "2022-09-13T18:16:16.793Z"
   },
   {
    "duration": 4,
    "start_time": "2022-09-13T18:17:30.011Z"
   },
   {
    "duration": 67734,
    "start_time": "2022-09-13T18:17:30.759Z"
   },
   {
    "duration": 0,
    "start_time": "2022-09-13T18:18:38.494Z"
   },
   {
    "duration": 4,
    "start_time": "2022-09-13T18:18:40.003Z"
   },
   {
    "duration": 922,
    "start_time": "2022-09-13T18:18:40.542Z"
   },
   {
    "duration": 915,
    "start_time": "2022-09-13T18:19:46.443Z"
   },
   {
    "duration": 3,
    "start_time": "2022-09-13T18:19:50.115Z"
   },
   {
    "duration": 950,
    "start_time": "2022-09-13T18:19:51.120Z"
   },
   {
    "duration": 10,
    "start_time": "2022-09-13T18:21:10.518Z"
   },
   {
    "duration": 3,
    "start_time": "2022-09-13T18:21:22.737Z"
   },
   {
    "duration": 774,
    "start_time": "2022-09-13T18:21:23.292Z"
   },
   {
    "duration": 4,
    "start_time": "2022-09-13T18:21:34.534Z"
   },
   {
    "duration": 781,
    "start_time": "2022-09-13T18:21:34.884Z"
   },
   {
    "duration": 5,
    "start_time": "2022-09-13T18:22:06.432Z"
   },
   {
    "duration": 5,
    "start_time": "2022-09-13T18:28:48.221Z"
   },
   {
    "duration": 19,
    "start_time": "2022-09-13T18:28:49.425Z"
   },
   {
    "duration": 4,
    "start_time": "2022-09-13T18:35:52.253Z"
   },
   {
    "duration": 1475,
    "start_time": "2022-09-13T18:35:52.964Z"
   },
   {
    "duration": 4,
    "start_time": "2022-09-13T18:36:04.891Z"
   },
   {
    "duration": 14,
    "start_time": "2022-09-13T18:36:06.918Z"
   },
   {
    "duration": 5,
    "start_time": "2022-09-13T18:36:13.564Z"
   },
   {
    "duration": 1386,
    "start_time": "2022-09-13T18:36:13.965Z"
   },
   {
    "duration": 5,
    "start_time": "2022-09-13T18:37:07.240Z"
   },
   {
    "duration": 1079,
    "start_time": "2022-09-13T18:37:08.008Z"
   },
   {
    "duration": 4,
    "start_time": "2022-09-13T18:37:38.442Z"
   },
   {
    "duration": 19,
    "start_time": "2022-09-13T18:37:38.842Z"
   },
   {
    "duration": 5,
    "start_time": "2022-09-13T18:37:47.741Z"
   },
   {
    "duration": 17,
    "start_time": "2022-09-13T18:37:48.096Z"
   },
   {
    "duration": 4,
    "start_time": "2022-09-13T18:38:22.002Z"
   },
   {
    "duration": 798,
    "start_time": "2022-09-13T18:38:22.809Z"
   },
   {
    "duration": 4,
    "start_time": "2022-09-13T18:38:48.354Z"
   },
   {
    "duration": 802,
    "start_time": "2022-09-13T18:38:49.098Z"
   },
   {
    "duration": 5,
    "start_time": "2022-09-13T18:38:53.843Z"
   },
   {
    "duration": 5,
    "start_time": "2022-09-13T18:38:58.362Z"
   },
   {
    "duration": 840,
    "start_time": "2022-09-13T18:39:00.804Z"
   },
   {
    "duration": 4,
    "start_time": "2022-09-13T18:40:44.903Z"
   },
   {
    "duration": 857,
    "start_time": "2022-09-13T18:40:45.635Z"
   },
   {
    "duration": 4,
    "start_time": "2022-09-13T18:40:56.100Z"
   },
   {
    "duration": 779,
    "start_time": "2022-09-13T18:40:59.183Z"
   },
   {
    "duration": 4,
    "start_time": "2022-09-13T18:44:23.687Z"
   },
   {
    "duration": 828,
    "start_time": "2022-09-13T18:44:24.441Z"
   },
   {
    "duration": 5,
    "start_time": "2022-09-13T18:44:38.895Z"
   },
   {
    "duration": 772,
    "start_time": "2022-09-13T18:44:39.337Z"
   },
   {
    "duration": 5,
    "start_time": "2022-09-13T18:44:47.074Z"
   },
   {
    "duration": 804,
    "start_time": "2022-09-13T18:44:47.696Z"
   },
   {
    "duration": 4,
    "start_time": "2022-09-13T18:45:24.778Z"
   },
   {
    "duration": 782,
    "start_time": "2022-09-13T18:45:25.141Z"
   },
   {
    "duration": 4,
    "start_time": "2022-09-13T18:45:33.378Z"
   },
   {
    "duration": 775,
    "start_time": "2022-09-13T18:45:33.644Z"
   },
   {
    "duration": 4,
    "start_time": "2022-09-13T18:49:58.604Z"
   },
   {
    "duration": 826,
    "start_time": "2022-09-13T18:49:58.883Z"
   },
   {
    "duration": 4,
    "start_time": "2022-09-13T18:50:26.748Z"
   },
   {
    "duration": 837,
    "start_time": "2022-09-13T18:50:27.172Z"
   },
   {
    "duration": 4,
    "start_time": "2022-09-13T18:50:34.373Z"
   },
   {
    "duration": 804,
    "start_time": "2022-09-13T18:50:35.092Z"
   },
   {
    "duration": 5,
    "start_time": "2022-09-13T18:53:13.239Z"
   },
   {
    "duration": 837,
    "start_time": "2022-09-13T18:53:13.757Z"
   },
   {
    "duration": 4,
    "start_time": "2022-09-13T18:53:20.075Z"
   },
   {
    "duration": 778,
    "start_time": "2022-09-13T18:53:20.500Z"
   },
   {
    "duration": 6,
    "start_time": "2022-09-13T18:53:28.269Z"
   },
   {
    "duration": 792,
    "start_time": "2022-09-13T18:53:28.958Z"
   },
   {
    "duration": 794,
    "start_time": "2022-09-13T18:53:39.189Z"
   },
   {
    "duration": 824,
    "start_time": "2022-09-13T18:53:44.942Z"
   },
   {
    "duration": 826,
    "start_time": "2022-09-13T18:53:51.244Z"
   },
   {
    "duration": 4,
    "start_time": "2022-09-13T18:54:01.439Z"
   },
   {
    "duration": 836,
    "start_time": "2022-09-13T18:54:01.918Z"
   },
   {
    "duration": 864,
    "start_time": "2022-09-13T18:54:08.172Z"
   },
   {
    "duration": 764,
    "start_time": "2022-09-13T18:54:31.396Z"
   },
   {
    "duration": 4,
    "start_time": "2022-09-13T18:55:38.540Z"
   },
   {
    "duration": 760,
    "start_time": "2022-09-13T18:55:39.378Z"
   },
   {
    "duration": 4,
    "start_time": "2022-09-13T18:56:03.160Z"
   },
   {
    "duration": 798,
    "start_time": "2022-09-13T18:56:03.586Z"
   },
   {
    "duration": 811,
    "start_time": "2022-09-13T18:56:10.058Z"
   },
   {
    "duration": 789,
    "start_time": "2022-09-13T18:56:16.714Z"
   },
   {
    "duration": 785,
    "start_time": "2022-09-13T18:56:34.940Z"
   },
   {
    "duration": 837,
    "start_time": "2022-09-13T18:56:48.219Z"
   },
   {
    "duration": 770,
    "start_time": "2022-09-13T18:56:52.097Z"
   },
   {
    "duration": 783,
    "start_time": "2022-09-13T18:56:57.647Z"
   },
   {
    "duration": 802,
    "start_time": "2022-09-13T18:56:59.298Z"
   },
   {
    "duration": 800,
    "start_time": "2022-09-13T18:57:00.569Z"
   },
   {
    "duration": 779,
    "start_time": "2022-09-13T18:57:02.302Z"
   },
   {
    "duration": 822,
    "start_time": "2022-09-13T18:57:03.927Z"
   },
   {
    "duration": 831,
    "start_time": "2022-09-13T18:57:05.266Z"
   },
   {
    "duration": 820,
    "start_time": "2022-09-13T18:57:06.662Z"
   },
   {
    "duration": 825,
    "start_time": "2022-09-13T18:57:08.170Z"
   },
   {
    "duration": 815,
    "start_time": "2022-09-13T18:57:09.526Z"
   },
   {
    "duration": 854,
    "start_time": "2022-09-13T18:57:11.104Z"
   },
   {
    "duration": 6,
    "start_time": "2022-09-13T18:57:25.438Z"
   },
   {
    "duration": 873,
    "start_time": "2022-09-13T18:57:26.340Z"
   },
   {
    "duration": 764,
    "start_time": "2022-09-13T18:57:38.412Z"
   },
   {
    "duration": 775,
    "start_time": "2022-09-13T18:57:39.848Z"
   },
   {
    "duration": 858,
    "start_time": "2022-09-13T18:57:41.157Z"
   },
   {
    "duration": 792,
    "start_time": "2022-09-13T18:57:42.444Z"
   },
   {
    "duration": 814,
    "start_time": "2022-09-13T18:57:43.811Z"
   },
   {
    "duration": 791,
    "start_time": "2022-09-13T18:57:45.273Z"
   },
   {
    "duration": 791,
    "start_time": "2022-09-13T18:57:46.985Z"
   },
   {
    "duration": 800,
    "start_time": "2022-09-13T18:57:48.306Z"
   },
   {
    "duration": 788,
    "start_time": "2022-09-13T18:57:50.908Z"
   },
   {
    "duration": 32,
    "start_time": "2022-09-13T19:28:53.512Z"
   },
   {
    "duration": 15,
    "start_time": "2022-09-13T19:30:41.484Z"
   },
   {
    "duration": 16,
    "start_time": "2022-09-13T19:33:31.972Z"
   },
   {
    "duration": 301,
    "start_time": "2022-09-14T11:17:19.694Z"
   },
   {
    "duration": 1489,
    "start_time": "2022-09-14T11:17:25.426Z"
   },
   {
    "duration": 746,
    "start_time": "2022-09-14T11:17:26.916Z"
   },
   {
    "duration": 13,
    "start_time": "2022-09-14T11:17:27.663Z"
   },
   {
    "duration": 11,
    "start_time": "2022-09-14T11:17:27.678Z"
   },
   {
    "duration": 19,
    "start_time": "2022-09-14T11:17:27.690Z"
   },
   {
    "duration": 3,
    "start_time": "2022-09-14T11:17:27.711Z"
   },
   {
    "duration": 522,
    "start_time": "2022-09-14T11:17:27.716Z"
   },
   {
    "duration": 72,
    "start_time": "2022-09-14T11:17:28.240Z"
   },
   {
    "duration": 100,
    "start_time": "2022-09-14T11:17:28.316Z"
   },
   {
    "duration": 3,
    "start_time": "2022-09-14T11:17:28.418Z"
   },
   {
    "duration": 144,
    "start_time": "2022-09-14T11:17:28.422Z"
   },
   {
    "duration": 2,
    "start_time": "2022-09-14T11:17:28.568Z"
   },
   {
    "duration": 30,
    "start_time": "2022-09-14T11:17:28.572Z"
   },
   {
    "duration": 6,
    "start_time": "2022-09-14T11:17:28.604Z"
   },
   {
    "duration": 14,
    "start_time": "2022-09-14T11:17:28.611Z"
   },
   {
    "duration": 4,
    "start_time": "2022-09-14T11:17:46.776Z"
   },
   {
    "duration": 621,
    "start_time": "2022-09-14T11:17:57.752Z"
   },
   {
    "duration": 659,
    "start_time": "2022-09-14T11:18:14.392Z"
   },
   {
    "duration": 654,
    "start_time": "2022-09-14T11:18:24.408Z"
   },
   {
    "duration": 594,
    "start_time": "2022-09-14T11:18:34.657Z"
   },
   {
    "duration": 599,
    "start_time": "2022-09-14T11:18:37.659Z"
   },
   {
    "duration": 614,
    "start_time": "2022-09-14T11:18:40.125Z"
   },
   {
    "duration": 1822,
    "start_time": "2022-09-14T11:20:18.334Z"
   },
   {
    "duration": 5,
    "start_time": "2022-09-14T11:21:20.449Z"
   },
   {
    "duration": 1793,
    "start_time": "2022-09-14T11:21:42.144Z"
   },
   {
    "duration": 6,
    "start_time": "2022-09-14T11:25:01.915Z"
   },
   {
    "duration": 66,
    "start_time": "2022-09-14T11:25:04.818Z"
   },
   {
    "duration": 4,
    "start_time": "2022-09-14T11:25:25.978Z"
   },
   {
    "duration": 7,
    "start_time": "2022-09-14T11:25:27.088Z"
   },
   {
    "duration": 7,
    "start_time": "2022-09-14T11:25:47.682Z"
   },
   {
    "duration": 4,
    "start_time": "2022-09-14T11:25:48.938Z"
   },
   {
    "duration": 6,
    "start_time": "2022-09-14T11:25:49.346Z"
   },
   {
    "duration": 1805,
    "start_time": "2022-09-14T11:25:51.689Z"
   },
   {
    "duration": 4,
    "start_time": "2022-09-14T11:25:53.496Z"
   },
   {
    "duration": 13,
    "start_time": "2022-09-14T11:25:53.502Z"
   },
   {
    "duration": 3,
    "start_time": "2022-09-14T11:27:58.391Z"
   },
   {
    "duration": 9,
    "start_time": "2022-09-14T11:27:58.998Z"
   },
   {
    "duration": 9,
    "start_time": "2022-09-14T11:27:59.717Z"
   },
   {
    "duration": 9,
    "start_time": "2022-09-14T11:28:01.006Z"
   },
   {
    "duration": 361,
    "start_time": "2022-09-14T11:28:03.613Z"
   },
   {
    "duration": 4,
    "start_time": "2022-09-14T11:30:48.317Z"
   },
   {
    "duration": 586,
    "start_time": "2022-09-14T11:30:50.723Z"
   },
   {
    "duration": 6,
    "start_time": "2022-09-14T11:30:53.630Z"
   },
   {
    "duration": 7,
    "start_time": "2022-09-14T11:30:54.267Z"
   },
   {
    "duration": 125,
    "start_time": "2022-09-14T11:37:45.529Z"
   },
   {
    "duration": 147,
    "start_time": "2022-09-14T11:38:09.929Z"
   },
   {
    "duration": 141,
    "start_time": "2022-09-14T11:42:30.886Z"
   },
   {
    "duration": 7,
    "start_time": "2022-09-14T11:48:12.252Z"
   },
   {
    "duration": 211,
    "start_time": "2022-09-14T11:49:38.501Z"
   },
   {
    "duration": 3,
    "start_time": "2022-09-14T11:49:47.976Z"
   },
   {
    "duration": 26,
    "start_time": "2022-09-14T11:49:48.477Z"
   },
   {
    "duration": 109,
    "start_time": "2022-09-14T11:49:49.766Z"
   },
   {
    "duration": 128,
    "start_time": "2022-09-14T11:50:12.366Z"
   },
   {
    "duration": 145,
    "start_time": "2022-09-14T11:50:33.865Z"
   },
   {
    "duration": 119,
    "start_time": "2022-09-14T11:50:41.361Z"
   },
   {
    "duration": 109,
    "start_time": "2022-09-14T11:51:33.838Z"
   },
   {
    "duration": 122,
    "start_time": "2022-09-14T11:52:11.459Z"
   },
   {
    "duration": 131,
    "start_time": "2022-09-14T11:52:48.645Z"
   },
   {
    "duration": 1899,
    "start_time": "2022-09-14T11:52:58.989Z"
   },
   {
    "duration": 5,
    "start_time": "2022-09-14T11:54:08.986Z"
   },
   {
    "duration": 1911,
    "start_time": "2022-09-14T11:54:09.450Z"
   },
   {
    "duration": 4,
    "start_time": "2022-09-14T11:54:11.363Z"
   },
   {
    "duration": 12,
    "start_time": "2022-09-14T11:54:11.368Z"
   },
   {
    "duration": 5,
    "start_time": "2022-09-14T11:56:09.259Z"
   },
   {
    "duration": 7,
    "start_time": "2022-09-14T11:56:09.739Z"
   },
   {
    "duration": 5,
    "start_time": "2022-09-14T11:57:25.627Z"
   },
   {
    "duration": 1924,
    "start_time": "2022-09-14T11:57:26.051Z"
   },
   {
    "duration": 5,
    "start_time": "2022-09-14T11:57:27.977Z"
   },
   {
    "duration": 17,
    "start_time": "2022-09-14T11:57:27.983Z"
   },
   {
    "duration": 4,
    "start_time": "2022-09-14T11:58:43.314Z"
   },
   {
    "duration": 7,
    "start_time": "2022-09-14T11:58:43.858Z"
   },
   {
    "duration": 1424,
    "start_time": "2022-09-14T12:01:53.976Z"
   },
   {
    "duration": 405,
    "start_time": "2022-09-14T12:01:55.402Z"
   },
   {
    "duration": 18,
    "start_time": "2022-09-14T12:01:55.809Z"
   },
   {
    "duration": 15,
    "start_time": "2022-09-14T12:01:55.829Z"
   },
   {
    "duration": 11,
    "start_time": "2022-09-14T12:01:55.847Z"
   },
   {
    "duration": 5,
    "start_time": "2022-09-14T12:01:55.860Z"
   },
   {
    "duration": 555,
    "start_time": "2022-09-14T12:01:55.866Z"
   },
   {
    "duration": 11,
    "start_time": "2022-09-14T12:01:56.423Z"
   },
   {
    "duration": 109,
    "start_time": "2022-09-14T12:01:56.436Z"
   },
   {
    "duration": 6,
    "start_time": "2022-09-14T12:01:56.547Z"
   },
   {
    "duration": 210,
    "start_time": "2022-09-14T12:01:56.555Z"
   },
   {
    "duration": 4,
    "start_time": "2022-09-14T12:01:56.767Z"
   },
   {
    "duration": 56,
    "start_time": "2022-09-14T12:01:56.772Z"
   },
   {
    "duration": 119,
    "start_time": "2022-09-14T12:01:56.831Z"
   },
   {
    "duration": 5,
    "start_time": "2022-09-14T12:01:56.952Z"
   },
   {
    "duration": 1971,
    "start_time": "2022-09-14T12:01:56.958Z"
   },
   {
    "duration": 5,
    "start_time": "2022-09-14T12:01:58.931Z"
   },
   {
    "duration": 15,
    "start_time": "2022-09-14T12:01:58.938Z"
   },
   {
    "duration": 422,
    "start_time": "2022-09-14T12:04:51.443Z"
   },
   {
    "duration": 133,
    "start_time": "2022-09-14T12:05:05.946Z"
   },
   {
    "duration": 229,
    "start_time": "2022-09-14T12:05:19.452Z"
   },
   {
    "duration": 182,
    "start_time": "2022-09-14T12:05:34.159Z"
   },
   {
    "duration": 156,
    "start_time": "2022-09-14T12:05:43.773Z"
   },
   {
    "duration": 9,
    "start_time": "2022-09-14T12:08:22.292Z"
   },
   {
    "duration": 8,
    "start_time": "2022-09-14T12:08:26.901Z"
   },
   {
    "duration": 9,
    "start_time": "2022-09-14T12:08:30.431Z"
   },
   {
    "duration": 128,
    "start_time": "2022-09-14T12:11:23.689Z"
   },
   {
    "duration": 146,
    "start_time": "2022-09-14T12:12:33.725Z"
   },
   {
    "duration": 155,
    "start_time": "2022-09-14T12:12:47.100Z"
   },
   {
    "duration": 241,
    "start_time": "2022-09-14T12:13:00.110Z"
   },
   {
    "duration": 150,
    "start_time": "2022-09-14T12:13:05.941Z"
   },
   {
    "duration": 185,
    "start_time": "2022-09-14T12:13:30.422Z"
   },
   {
    "duration": 170,
    "start_time": "2022-09-14T12:20:06.268Z"
   },
   {
    "duration": 68,
    "start_time": "2022-09-14T12:20:17.365Z"
   },
   {
    "duration": 3,
    "start_time": "2022-09-14T12:20:28.061Z"
   },
   {
    "duration": 3,
    "start_time": "2022-09-14T12:21:57.649Z"
   },
   {
    "duration": 6,
    "start_time": "2022-09-14T12:22:21.153Z"
   },
   {
    "duration": 3,
    "start_time": "2022-09-14T12:22:46.506Z"
   },
   {
    "duration": 75,
    "start_time": "2022-09-14T12:25:23.722Z"
   },
   {
    "duration": 455,
    "start_time": "2022-09-14T12:25:31.145Z"
   },
   {
    "duration": 519,
    "start_time": "2022-09-14T12:25:59.691Z"
   },
   {
    "duration": 13,
    "start_time": "2022-09-14T12:26:18.107Z"
   },
   {
    "duration": 18,
    "start_time": "2022-09-14T12:26:29.315Z"
   },
   {
    "duration": 439,
    "start_time": "2022-09-14T12:26:38.540Z"
   },
   {
    "duration": 636,
    "start_time": "2022-09-14T12:27:09.694Z"
   },
   {
    "duration": 447,
    "start_time": "2022-09-14T12:27:15.653Z"
   },
   {
    "duration": 532,
    "start_time": "2022-09-14T12:27:19.829Z"
   },
   {
    "duration": 440,
    "start_time": "2022-09-14T12:28:13.784Z"
   },
   {
    "duration": 8,
    "start_time": "2022-09-14T17:45:12.857Z"
   },
   {
    "duration": 3,
    "start_time": "2022-09-14T17:47:10.462Z"
   },
   {
    "duration": 4,
    "start_time": "2022-09-14T17:47:14.580Z"
   },
   {
    "duration": 44,
    "start_time": "2022-09-14T17:50:24.264Z"
   },
   {
    "duration": 1594,
    "start_time": "2022-09-14T17:50:29.739Z"
   },
   {
    "duration": 1736,
    "start_time": "2022-09-14T17:50:31.336Z"
   },
   {
    "duration": 11,
    "start_time": "2022-09-14T17:50:33.074Z"
   },
   {
    "duration": 9,
    "start_time": "2022-09-14T17:50:33.087Z"
   },
   {
    "duration": 8,
    "start_time": "2022-09-14T17:50:33.097Z"
   },
   {
    "duration": 3,
    "start_time": "2022-09-14T17:50:33.107Z"
   },
   {
    "duration": 610,
    "start_time": "2022-09-14T17:50:33.112Z"
   },
   {
    "duration": 98,
    "start_time": "2022-09-14T17:50:33.724Z"
   },
   {
    "duration": 12,
    "start_time": "2022-09-14T17:50:33.824Z"
   },
   {
    "duration": 3,
    "start_time": "2022-09-14T17:50:33.838Z"
   },
   {
    "duration": 158,
    "start_time": "2022-09-14T17:50:33.843Z"
   },
   {
    "duration": 2,
    "start_time": "2022-09-14T17:50:34.002Z"
   },
   {
    "duration": 6,
    "start_time": "2022-09-14T17:50:34.006Z"
   },
   {
    "duration": 30,
    "start_time": "2022-09-14T17:50:34.022Z"
   },
   {
    "duration": 143,
    "start_time": "2022-09-14T17:50:34.055Z"
   },
   {
    "duration": 465,
    "start_time": "2022-09-14T17:50:34.200Z"
   },
   {
    "duration": 7,
    "start_time": "2022-09-14T17:50:34.666Z"
   },
   {
    "duration": 2597,
    "start_time": "2022-09-14T17:50:34.675Z"
   },
   {
    "duration": 3,
    "start_time": "2022-09-14T17:50:37.274Z"
   },
   {
    "duration": 13,
    "start_time": "2022-09-14T17:50:37.279Z"
   },
   {
    "duration": 2462,
    "start_time": "2022-09-14T17:51:01.341Z"
   },
   {
    "duration": 4,
    "start_time": "2022-09-14T17:51:19.999Z"
   },
   {
    "duration": 2525,
    "start_time": "2022-09-14T17:51:22.006Z"
   },
   {
    "duration": 4,
    "start_time": "2022-09-14T17:51:27.899Z"
   },
   {
    "duration": 9,
    "start_time": "2022-09-14T17:51:28.983Z"
   },
   {
    "duration": 2565,
    "start_time": "2022-09-14T17:51:48.159Z"
   },
   {
    "duration": 4,
    "start_time": "2022-09-14T17:51:54.600Z"
   },
   {
    "duration": 9,
    "start_time": "2022-09-14T17:51:55.333Z"
   },
   {
    "duration": 4,
    "start_time": "2022-09-14T17:52:32.766Z"
   },
   {
    "duration": 9,
    "start_time": "2022-09-14T17:52:33.824Z"
   },
   {
    "duration": 2625,
    "start_time": "2022-09-14T17:52:38.499Z"
   },
   {
    "duration": 4,
    "start_time": "2022-09-14T17:52:46.188Z"
   },
   {
    "duration": 9,
    "start_time": "2022-09-14T17:52:48.745Z"
   },
   {
    "duration": 4,
    "start_time": "2022-09-14T17:53:06.579Z"
   },
   {
    "duration": 3,
    "start_time": "2022-09-14T17:55:06.766Z"
   },
   {
    "duration": 3,
    "start_time": "2022-09-14T17:55:10.535Z"
   },
   {
    "duration": 5,
    "start_time": "2022-09-14T17:55:29.298Z"
   },
   {
    "duration": 2507,
    "start_time": "2022-09-14T17:55:30.674Z"
   },
   {
    "duration": 4,
    "start_time": "2022-09-14T17:55:33.184Z"
   },
   {
    "duration": 13,
    "start_time": "2022-09-14T17:55:33.190Z"
   },
   {
    "duration": 3,
    "start_time": "2022-09-14T17:55:33.302Z"
   },
   {
    "duration": 3,
    "start_time": "2022-09-14T18:01:50.784Z"
   },
   {
    "duration": 3,
    "start_time": "2022-09-14T18:01:55.357Z"
   },
   {
    "duration": 4,
    "start_time": "2022-09-14T18:02:00.735Z"
   },
   {
    "duration": 13,
    "start_time": "2022-09-14T18:02:01.029Z"
   },
   {
    "duration": 6,
    "start_time": "2022-09-14T18:02:03.308Z"
   },
   {
    "duration": 2561,
    "start_time": "2022-09-14T18:02:04.373Z"
   },
   {
    "duration": 4,
    "start_time": "2022-09-14T18:02:06.936Z"
   },
   {
    "duration": 15,
    "start_time": "2022-09-14T18:02:06.941Z"
   },
   {
    "duration": 6,
    "start_time": "2022-09-14T18:02:06.958Z"
   },
   {
    "duration": 5,
    "start_time": "2022-09-14T18:03:16.056Z"
   },
   {
    "duration": 4,
    "start_time": "2022-09-14T18:03:22.832Z"
   },
   {
    "duration": 9,
    "start_time": "2022-09-14T18:03:23.320Z"
   },
   {
    "duration": 3,
    "start_time": "2022-09-14T18:03:23.760Z"
   },
   {
    "duration": 99,
    "start_time": "2022-09-14T18:07:03.314Z"
   },
   {
    "duration": 9,
    "start_time": "2022-09-14T18:07:05.337Z"
   },
   {
    "duration": 9,
    "start_time": "2022-09-14T18:07:27.093Z"
   },
   {
    "duration": 9,
    "start_time": "2022-09-14T18:09:05.447Z"
   },
   {
    "duration": 40,
    "start_time": "2022-09-14T18:09:53.750Z"
   },
   {
    "duration": 33,
    "start_time": "2022-09-14T18:10:33.416Z"
   },
   {
    "duration": 30,
    "start_time": "2022-09-14T18:10:37.960Z"
   },
   {
    "duration": 8,
    "start_time": "2022-09-14T18:10:55.761Z"
   },
   {
    "duration": 8,
    "start_time": "2022-09-14T18:11:02.929Z"
   },
   {
    "duration": 11,
    "start_time": "2022-09-14T18:11:06.049Z"
   },
   {
    "duration": 1359,
    "start_time": "2022-09-14T18:11:11.246Z"
   },
   {
    "duration": 392,
    "start_time": "2022-09-14T18:11:12.608Z"
   },
   {
    "duration": 12,
    "start_time": "2022-09-14T18:11:13.001Z"
   },
   {
    "duration": 12,
    "start_time": "2022-09-14T18:11:13.022Z"
   },
   {
    "duration": 10,
    "start_time": "2022-09-14T18:11:13.036Z"
   },
   {
    "duration": 5,
    "start_time": "2022-09-14T18:11:13.047Z"
   },
   {
    "duration": 130,
    "start_time": "2022-09-14T18:11:13.053Z"
   },
   {
    "duration": 0,
    "start_time": "2022-09-14T18:11:13.185Z"
   },
   {
    "duration": 0,
    "start_time": "2022-09-14T18:11:13.187Z"
   },
   {
    "duration": 0,
    "start_time": "2022-09-14T18:11:13.187Z"
   },
   {
    "duration": 0,
    "start_time": "2022-09-14T18:11:13.189Z"
   },
   {
    "duration": 0,
    "start_time": "2022-09-14T18:11:13.190Z"
   },
   {
    "duration": 0,
    "start_time": "2022-09-14T18:11:13.191Z"
   },
   {
    "duration": 0,
    "start_time": "2022-09-14T18:11:13.192Z"
   },
   {
    "duration": 0,
    "start_time": "2022-09-14T18:11:13.192Z"
   },
   {
    "duration": 0,
    "start_time": "2022-09-14T18:11:13.193Z"
   },
   {
    "duration": 0,
    "start_time": "2022-09-14T18:11:13.194Z"
   },
   {
    "duration": 0,
    "start_time": "2022-09-14T18:11:13.195Z"
   },
   {
    "duration": 0,
    "start_time": "2022-09-14T18:11:13.196Z"
   },
   {
    "duration": 0,
    "start_time": "2022-09-14T18:11:13.197Z"
   },
   {
    "duration": 3,
    "start_time": "2022-09-14T18:11:29.849Z"
   },
   {
    "duration": 1248,
    "start_time": "2022-09-14T18:11:34.477Z"
   },
   {
    "duration": 393,
    "start_time": "2022-09-14T18:11:35.727Z"
   },
   {
    "duration": 13,
    "start_time": "2022-09-14T18:11:36.121Z"
   },
   {
    "duration": 36,
    "start_time": "2022-09-14T18:11:36.136Z"
   },
   {
    "duration": 21,
    "start_time": "2022-09-14T18:11:36.174Z"
   },
   {
    "duration": 5,
    "start_time": "2022-09-14T18:11:36.197Z"
   },
   {
    "duration": 518,
    "start_time": "2022-09-14T18:11:36.204Z"
   },
   {
    "duration": 6,
    "start_time": "2022-09-14T18:11:36.724Z"
   },
   {
    "duration": 102,
    "start_time": "2022-09-14T18:11:36.731Z"
   },
   {
    "duration": 3,
    "start_time": "2022-09-14T18:11:36.835Z"
   },
   {
    "duration": 148,
    "start_time": "2022-09-14T18:11:36.839Z"
   },
   {
    "duration": 2,
    "start_time": "2022-09-14T18:11:36.989Z"
   },
   {
    "duration": 9,
    "start_time": "2022-09-14T18:11:36.992Z"
   },
   {
    "duration": 115,
    "start_time": "2022-09-14T18:11:37.002Z"
   },
   {
    "duration": 0,
    "start_time": "2022-09-14T18:11:37.122Z"
   },
   {
    "duration": 0,
    "start_time": "2022-09-14T18:11:37.123Z"
   },
   {
    "duration": 0,
    "start_time": "2022-09-14T18:11:37.124Z"
   },
   {
    "duration": 0,
    "start_time": "2022-09-14T18:11:37.126Z"
   },
   {
    "duration": 0,
    "start_time": "2022-09-14T18:11:37.127Z"
   },
   {
    "duration": 0,
    "start_time": "2022-09-14T18:11:37.128Z"
   },
   {
    "duration": 1365,
    "start_time": "2022-09-14T18:12:16.008Z"
   },
   {
    "duration": 373,
    "start_time": "2022-09-14T18:12:17.374Z"
   },
   {
    "duration": 11,
    "start_time": "2022-09-14T18:12:17.748Z"
   },
   {
    "duration": 9,
    "start_time": "2022-09-14T18:12:17.761Z"
   },
   {
    "duration": 8,
    "start_time": "2022-09-14T18:12:17.772Z"
   },
   {
    "duration": 4,
    "start_time": "2022-09-14T18:12:17.782Z"
   },
   {
    "duration": 463,
    "start_time": "2022-09-14T18:12:17.788Z"
   },
   {
    "duration": 9,
    "start_time": "2022-09-14T18:12:18.322Z"
   },
   {
    "duration": 15,
    "start_time": "2022-09-14T18:12:18.422Z"
   },
   {
    "duration": 2,
    "start_time": "2022-09-14T18:12:18.439Z"
   },
   {
    "duration": 137,
    "start_time": "2022-09-14T18:12:18.442Z"
   },
   {
    "duration": 2,
    "start_time": "2022-09-14T18:12:18.580Z"
   },
   {
    "duration": 6,
    "start_time": "2022-09-14T18:12:18.584Z"
   },
   {
    "duration": 35,
    "start_time": "2022-09-14T18:12:18.592Z"
   },
   {
    "duration": 118,
    "start_time": "2022-09-14T18:12:18.628Z"
   },
   {
    "duration": 439,
    "start_time": "2022-09-14T18:12:18.748Z"
   },
   {
    "duration": 5,
    "start_time": "2022-09-14T18:12:19.188Z"
   },
   {
    "duration": 2475,
    "start_time": "2022-09-14T18:12:19.194Z"
   },
   {
    "duration": 4,
    "start_time": "2022-09-14T18:12:21.671Z"
   },
   {
    "duration": 27,
    "start_time": "2022-09-14T18:12:21.677Z"
   }
  ],
  "kernelspec": {
   "display_name": "Python 3 (ipykernel)",
   "language": "python",
   "name": "python3"
  },
  "language_info": {
   "codemirror_mode": {
    "name": "ipython",
    "version": 3
   },
   "file_extension": ".py",
   "mimetype": "text/x-python",
   "name": "python",
   "nbconvert_exporter": "python",
   "pygments_lexer": "ipython3",
   "version": "3.9.13"
  },
  "toc": {
   "base_numbering": 1,
   "nav_menu": {},
   "number_sections": true,
   "sideBar": true,
   "skip_h1_title": true,
   "title_cell": "Table of Contents",
   "title_sidebar": "Contents",
   "toc_cell": false,
   "toc_position": {},
   "toc_section_display": true,
   "toc_window_display": false
  }
 },
 "nbformat": 4,
 "nbformat_minor": 2
}
