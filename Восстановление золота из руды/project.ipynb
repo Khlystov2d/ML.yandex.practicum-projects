{
 "cells": [
  {
   "cell_type": "markdown",
   "metadata": {
    "toc": true
   },
   "source": [
    "<h1>Содержание<span class=\"tocSkip\"></span></h1>\n",
    "<div class=\"toc\"><ul class=\"toc-item\"><li><span><a href=\"#Подготовка-данных\" data-toc-modified-id=\"Подготовка-данных-1\"><span class=\"toc-item-num\">1&nbsp;&nbsp;</span>Подготовка данных</a></span></li><li><span><a href=\"#Анализ-данных\" data-toc-modified-id=\"Анализ-данных-2\"><span class=\"toc-item-num\">2&nbsp;&nbsp;</span>Анализ данных</a></span></li><li><span><a href=\"#Модель\" data-toc-modified-id=\"Модель-3\"><span class=\"toc-item-num\">3&nbsp;&nbsp;</span>Модель</a></span></li>"
   ]
  },
  {
   "cell_type": "markdown",
   "metadata": {},
   "source": [
    "# Восстановление золота из руды"
   ]
  },
  {
   "cell_type": "markdown",
   "metadata": {},
   "source": [
    "Подготовьте прототип модели машинного обучения для «Цифры». Компания разрабатывает решения для эффективной работы промышленных предприятий.\n",
    "\n",
    "Модель должна предсказать коэффициент восстановления золота из золотосодержащей руды. Используйте данные с параметрами добычи и очистки. \n",
    "\n",
    "Модель поможет оптимизировать производство, чтобы не запускать предприятие с убыточными характеристиками.\n",
    "\n",
    "Требуется:\n",
    "\n",
    "1. Подготовить данные;\n",
    "2. Провести исследовательский анализ данных;\n",
    "3. Построить и обучить модель.\n"
   ]
  },
  {
   "cell_type": "markdown",
   "metadata": {},
   "source": [
    "## Подготовка данных"
   ]
  },
  {
   "cell_type": "code",
   "execution_count": 1,
   "metadata": {},
   "outputs": [],
   "source": [
    "import pandas as pd\n",
    "from sklearn.metrics import mean_absolute_error\n",
    "from datetime import datetime, timedelta\n",
    "import seaborn as sns\n",
    "import matplotlib.pyplot as plt\n",
    "from sklearn.metrics import mean_absolute_percentage_error\n",
    "from sklearn.model_selection import train_test_split\n",
    "from sklearn.model_selection import cross_val_score\n",
    "import numpy as np\n",
    "from catboost import CatBoostRegressor\n",
    "from sklearn.metrics import make_scorer\n",
    "from sklearn.preprocessing import StandardScaler\n",
    "from sklearn.tree import DecisionTreeRegressor\n",
    "from sklearn.ensemble import RandomForestRegressor\n",
    "from sklearn.linear_model import LinearRegression\n",
    "\n",
    "rs = 42 # random_state"
   ]
  },
  {
   "cell_type": "code",
   "execution_count": 2,
   "metadata": {},
   "outputs": [],
   "source": [
    "train = pd.read_csv('/datasets/gold_recovery_train_new.csv')\n",
    "test = pd.read_csv('/datasets/gold_recovery_test_new.csv')\n",
    "full = pd.read_csv('/datasets/gold_recovery_full_new.csv')"
   ]
  },
  {
   "cell_type": "code",
   "execution_count": 3,
   "metadata": {
    "scrolled": true
   },
   "outputs": [
    {
     "name": "stdout",
     "output_type": "stream",
     "text": [
      "<class 'pandas.core.frame.DataFrame'>\n",
      "RangeIndex: 19439 entries, 0 to 19438\n",
      "Data columns (total 87 columns):\n",
      " #   Column                                              Non-Null Count  Dtype  \n",
      "---  ------                                              --------------  -----  \n",
      " 0   date                                                19439 non-null  object \n",
      " 1   final.output.concentrate_ag                         19438 non-null  float64\n",
      " 2   final.output.concentrate_pb                         19438 non-null  float64\n",
      " 3   final.output.concentrate_sol                        19228 non-null  float64\n",
      " 4   final.output.concentrate_au                         19439 non-null  float64\n",
      " 5   final.output.recovery                               19439 non-null  float64\n",
      " 6   final.output.tail_ag                                19438 non-null  float64\n",
      " 7   final.output.tail_pb                                19338 non-null  float64\n",
      " 8   final.output.tail_sol                               19433 non-null  float64\n",
      " 9   final.output.tail_au                                19439 non-null  float64\n",
      " 10  primary_cleaner.input.sulfate                       19415 non-null  float64\n",
      " 11  primary_cleaner.input.depressant                    19402 non-null  float64\n",
      " 12  primary_cleaner.input.feed_size                     19439 non-null  float64\n",
      " 13  primary_cleaner.input.xanthate                      19335 non-null  float64\n",
      " 14  primary_cleaner.output.concentrate_ag               19439 non-null  float64\n",
      " 15  primary_cleaner.output.concentrate_pb               19323 non-null  float64\n",
      " 16  primary_cleaner.output.concentrate_sol              19069 non-null  float64\n",
      " 17  primary_cleaner.output.concentrate_au               19439 non-null  float64\n",
      " 18  primary_cleaner.output.tail_ag                      19435 non-null  float64\n",
      " 19  primary_cleaner.output.tail_pb                      19418 non-null  float64\n",
      " 20  primary_cleaner.output.tail_sol                     19377 non-null  float64\n",
      " 21  primary_cleaner.output.tail_au                      19439 non-null  float64\n",
      " 22  primary_cleaner.state.floatbank8_a_air              19435 non-null  float64\n",
      " 23  primary_cleaner.state.floatbank8_a_level            19438 non-null  float64\n",
      " 24  primary_cleaner.state.floatbank8_b_air              19435 non-null  float64\n",
      " 25  primary_cleaner.state.floatbank8_b_level            19438 non-null  float64\n",
      " 26  primary_cleaner.state.floatbank8_c_air              19437 non-null  float64\n",
      " 27  primary_cleaner.state.floatbank8_c_level            19438 non-null  float64\n",
      " 28  primary_cleaner.state.floatbank8_d_air              19436 non-null  float64\n",
      " 29  primary_cleaner.state.floatbank8_d_level            19438 non-null  float64\n",
      " 30  rougher.calculation.sulfate_to_au_concentrate       19437 non-null  float64\n",
      " 31  rougher.calculation.floatbank10_sulfate_to_au_feed  19437 non-null  float64\n",
      " 32  rougher.calculation.floatbank11_sulfate_to_au_feed  19437 non-null  float64\n",
      " 33  rougher.calculation.au_pb_ratio                     19439 non-null  float64\n",
      " 34  rougher.input.feed_ag                               19439 non-null  float64\n",
      " 35  rougher.input.feed_pb                               19339 non-null  float64\n",
      " 36  rougher.input.feed_rate                             19428 non-null  float64\n",
      " 37  rougher.input.feed_size                             19294 non-null  float64\n",
      " 38  rougher.input.feed_sol                              19340 non-null  float64\n",
      " 39  rougher.input.feed_au                               19439 non-null  float64\n",
      " 40  rougher.input.floatbank10_sulfate                   19405 non-null  float64\n",
      " 41  rougher.input.floatbank10_xanthate                  19431 non-null  float64\n",
      " 42  rougher.input.floatbank11_sulfate                   19395 non-null  float64\n",
      " 43  rougher.input.floatbank11_xanthate                  18986 non-null  float64\n",
      " 44  rougher.output.concentrate_ag                       19439 non-null  float64\n",
      " 45  rougher.output.concentrate_pb                       19439 non-null  float64\n",
      " 46  rougher.output.concentrate_sol                      19416 non-null  float64\n",
      " 47  rougher.output.concentrate_au                       19439 non-null  float64\n",
      " 48  rougher.output.recovery                             19439 non-null  float64\n",
      " 49  rougher.output.tail_ag                              19438 non-null  float64\n",
      " 50  rougher.output.tail_pb                              19439 non-null  float64\n",
      " 51  rougher.output.tail_sol                             19439 non-null  float64\n",
      " 52  rougher.output.tail_au                              19439 non-null  float64\n",
      " 53  rougher.state.floatbank10_a_air                     19438 non-null  float64\n",
      " 54  rougher.state.floatbank10_a_level                   19438 non-null  float64\n",
      " 55  rougher.state.floatbank10_b_air                     19438 non-null  float64\n",
      " 56  rougher.state.floatbank10_b_level                   19438 non-null  float64\n",
      " 57  rougher.state.floatbank10_c_air                     19438 non-null  float64\n",
      " 58  rougher.state.floatbank10_c_level                   19438 non-null  float64\n",
      " 59  rougher.state.floatbank10_d_air                     19439 non-null  float64\n",
      " 60  rougher.state.floatbank10_d_level                   19439 non-null  float64\n",
      " 61  rougher.state.floatbank10_e_air                     19003 non-null  float64\n",
      " 62  rougher.state.floatbank10_e_level                   19439 non-null  float64\n",
      " 63  rougher.state.floatbank10_f_air                     19439 non-null  float64\n",
      " 64  rougher.state.floatbank10_f_level                   19439 non-null  float64\n",
      " 65  secondary_cleaner.output.tail_ag                    19437 non-null  float64\n",
      " 66  secondary_cleaner.output.tail_pb                    19427 non-null  float64\n",
      " 67  secondary_cleaner.output.tail_sol                   17691 non-null  float64\n",
      " 68  secondary_cleaner.output.tail_au                    19439 non-null  float64\n",
      " 69  secondary_cleaner.state.floatbank2_a_air            19219 non-null  float64\n",
      " 70  secondary_cleaner.state.floatbank2_a_level          19438 non-null  float64\n",
      " 71  secondary_cleaner.state.floatbank2_b_air            19416 non-null  float64\n",
      " 72  secondary_cleaner.state.floatbank2_b_level          19438 non-null  float64\n",
      " 73  secondary_cleaner.state.floatbank3_a_air            19426 non-null  float64\n",
      " 74  secondary_cleaner.state.floatbank3_a_level          19438 non-null  float64\n",
      " 75  secondary_cleaner.state.floatbank3_b_air            19438 non-null  float64\n",
      " 76  secondary_cleaner.state.floatbank3_b_level          19438 non-null  float64\n",
      " 77  secondary_cleaner.state.floatbank4_a_air            19433 non-null  float64\n",
      " 78  secondary_cleaner.state.floatbank4_a_level          19438 non-null  float64\n",
      " 79  secondary_cleaner.state.floatbank4_b_air            19438 non-null  float64\n",
      " 80  secondary_cleaner.state.floatbank4_b_level          19438 non-null  float64\n",
      " 81  secondary_cleaner.state.floatbank5_a_air            19438 non-null  float64\n",
      " 82  secondary_cleaner.state.floatbank5_a_level          19438 non-null  float64\n",
      " 83  secondary_cleaner.state.floatbank5_b_air            19438 non-null  float64\n",
      " 84  secondary_cleaner.state.floatbank5_b_level          19438 non-null  float64\n",
      " 85  secondary_cleaner.state.floatbank6_a_air            19437 non-null  float64\n",
      " 86  secondary_cleaner.state.floatbank6_a_level          19438 non-null  float64\n",
      "dtypes: float64(86), object(1)\n",
      "memory usage: 12.9+ MB\n"
     ]
    }
   ],
   "source": [
    "full.info()"
   ]
  },
  {
   "cell_type": "markdown",
   "metadata": {},
   "source": [
    "**Мы видим много столбцов с различными операциями и параметрами. Посмотрим некоторую информацию по трем таблицам:**"
   ]
  },
  {
   "cell_type": "code",
   "execution_count": 4,
   "metadata": {
    "scrolled": true
   },
   "outputs": [
    {
     "data": {
      "text/html": [
       "<div>\n",
       "<style scoped>\n",
       "    .dataframe tbody tr th:only-of-type {\n",
       "        vertical-align: middle;\n",
       "    }\n",
       "\n",
       "    .dataframe tbody tr th {\n",
       "        vertical-align: top;\n",
       "    }\n",
       "\n",
       "    .dataframe thead th {\n",
       "        text-align: right;\n",
       "    }\n",
       "</style>\n",
       "<table border=\"1\" class=\"dataframe\">\n",
       "  <thead>\n",
       "    <tr style=\"text-align: right;\">\n",
       "      <th></th>\n",
       "      <th>full</th>\n",
       "      <th>train</th>\n",
       "      <th>test</th>\n",
       "    </tr>\n",
       "  </thead>\n",
       "  <tbody>\n",
       "    <tr>\n",
       "      <th>Количество столбцов</th>\n",
       "      <td>87</td>\n",
       "      <td>87</td>\n",
       "      <td>53</td>\n",
       "    </tr>\n",
       "    <tr>\n",
       "      <th>пропуски</th>\n",
       "      <td>4481</td>\n",
       "      <td>4100</td>\n",
       "      <td>90</td>\n",
       "    </tr>\n",
       "    <tr>\n",
       "      <th>количество строк</th>\n",
       "      <td>16094</td>\n",
       "      <td>11017</td>\n",
       "      <td>5229</td>\n",
       "    </tr>\n",
       "  </tbody>\n",
       "</table>\n",
       "</div>"
      ],
      "text/plain": [
       "                      full  train  test\n",
       "Количество столбцов     87     87    53\n",
       "пропуски              4481   4100    90\n",
       "количество строк     16094  11017  5229"
      ]
     },
     "execution_count": 4,
     "metadata": {},
     "output_type": "execute_result"
    }
   ],
   "source": [
    "info = pd.DataFrame({'Количество столбцов':[len(full.columns), len(train.columns), len(test.columns)],\n",
    "                     'пропуски':[full.isna().sum().sum(), train.isna().sum().sum(), test.isna().sum().sum()],\n",
    "                     'количество строк':[full.value_counts().count(), train.value_counts().count(), test.value_counts().count()]\n",
    "                   }).T\n",
    "info.columns = ['full', 'train', 'test']\n",
    "info"
   ]
  },
  {
   "cell_type": "markdown",
   "metadata": {},
   "source": [
    "**В тестовой выборке меньше столбцов и пропусков. Пропусков достаточно много в полной таблице и тренеровочной выборке**"
   ]
  },
  {
   "cell_type": "code",
   "execution_count": 5,
   "metadata": {},
   "outputs": [
    {
     "data": {
      "text/plain": [
       "5229"
      ]
     },
     "execution_count": 5,
     "metadata": {},
     "output_type": "execute_result"
    }
   ],
   "source": [
    "test.value_counts().count()"
   ]
  },
  {
   "cell_type": "markdown",
   "metadata": {},
   "source": [
    "**Проверим правильность рассчета эффективности обогащения:**"
   ]
  },
  {
   "cell_type": "code",
   "execution_count": 6,
   "metadata": {},
   "outputs": [
    {
     "data": {
      "text/plain": [
       "9.73512347450521e-15"
      ]
     },
     "execution_count": 6,
     "metadata": {},
     "output_type": "execute_result"
    }
   ],
   "source": [
    "def recovery(c, f, t):\n",
    "    recovery = ((c*(f-t))/(f*(c-t))) * 100\n",
    "    return recovery\n",
    "ror = recovery(train['rougher.output.concentrate_au'], train['rougher.input.feed_au'], train['rougher.output.tail_au'])\n",
    "mean_absolute_error(ror, train['rougher.output.recovery'])"
   ]
  },
  {
   "cell_type": "markdown",
   "metadata": {},
   "source": [
    "**Наличие средней абсолютной ошибки говорит о наличии ошибоки, но число настолько маленькое, что можно это не учитывать.\n",
    "человеческий вид записи этого числа 9,74 * 10^(−15)**"
   ]
  },
  {
   "cell_type": "markdown",
   "metadata": {},
   "source": [
    "**Выведем столбцы, которые отсутствуют в тестовой выборке**"
   ]
  },
  {
   "cell_type": "code",
   "execution_count": 7,
   "metadata": {
    "scrolled": true
   },
   "outputs": [
    {
     "data": {
      "text/plain": [
       "['final.output.concentrate_ag',\n",
       " 'final.output.concentrate_pb',\n",
       " 'final.output.concentrate_sol',\n",
       " 'final.output.concentrate_au',\n",
       " 'final.output.recovery',\n",
       " 'final.output.tail_ag',\n",
       " 'final.output.tail_pb',\n",
       " 'final.output.tail_sol',\n",
       " 'final.output.tail_au',\n",
       " 'primary_cleaner.output.concentrate_ag',\n",
       " 'primary_cleaner.output.concentrate_pb',\n",
       " 'primary_cleaner.output.concentrate_sol',\n",
       " 'primary_cleaner.output.concentrate_au',\n",
       " 'primary_cleaner.output.tail_ag',\n",
       " 'primary_cleaner.output.tail_pb',\n",
       " 'primary_cleaner.output.tail_sol',\n",
       " 'primary_cleaner.output.tail_au',\n",
       " 'rougher.calculation.sulfate_to_au_concentrate',\n",
       " 'rougher.calculation.floatbank10_sulfate_to_au_feed',\n",
       " 'rougher.calculation.floatbank11_sulfate_to_au_feed',\n",
       " 'rougher.calculation.au_pb_ratio',\n",
       " 'rougher.output.concentrate_ag',\n",
       " 'rougher.output.concentrate_pb',\n",
       " 'rougher.output.concentrate_sol',\n",
       " 'rougher.output.concentrate_au',\n",
       " 'rougher.output.recovery',\n",
       " 'rougher.output.tail_ag',\n",
       " 'rougher.output.tail_pb',\n",
       " 'rougher.output.tail_sol',\n",
       " 'rougher.output.tail_au',\n",
       " 'secondary_cleaner.output.tail_ag',\n",
       " 'secondary_cleaner.output.tail_pb',\n",
       " 'secondary_cleaner.output.tail_sol',\n",
       " 'secondary_cleaner.output.tail_au']"
      ]
     },
     "execution_count": 7,
     "metadata": {},
     "output_type": "execute_result"
    }
   ],
   "source": [
    "drop = train.drop(test.columns, axis = 1).columns.to_list()\n",
    "drop"
   ]
  },
  {
   "cell_type": "markdown",
   "metadata": {},
   "source": [
    "**В тестовой выборке срезаны столбцы с параметрами выходящего продукта на всех стадиях и некоторые рассчетные характеристики**"
   ]
  },
  {
   "cell_type": "markdown",
   "metadata": {},
   "source": [
    "**Посмотрим, что из себя представляют таблицы:**"
   ]
  },
  {
   "cell_type": "code",
   "execution_count": 8,
   "metadata": {},
   "outputs": [
    {
     "data": {
      "text/html": [
       "<div>\n",
       "<style scoped>\n",
       "    .dataframe tbody tr th:only-of-type {\n",
       "        vertical-align: middle;\n",
       "    }\n",
       "\n",
       "    .dataframe tbody tr th {\n",
       "        vertical-align: top;\n",
       "    }\n",
       "\n",
       "    .dataframe thead th {\n",
       "        text-align: right;\n",
       "    }\n",
       "</style>\n",
       "<table border=\"1\" class=\"dataframe\">\n",
       "  <thead>\n",
       "    <tr style=\"text-align: right;\">\n",
       "      <th></th>\n",
       "      <th>date</th>\n",
       "      <th>final.output.concentrate_ag</th>\n",
       "      <th>final.output.concentrate_pb</th>\n",
       "      <th>final.output.concentrate_sol</th>\n",
       "      <th>final.output.concentrate_au</th>\n",
       "      <th>final.output.recovery</th>\n",
       "      <th>final.output.tail_ag</th>\n",
       "      <th>final.output.tail_pb</th>\n",
       "      <th>final.output.tail_sol</th>\n",
       "      <th>final.output.tail_au</th>\n",
       "      <th>...</th>\n",
       "      <th>secondary_cleaner.state.floatbank4_a_air</th>\n",
       "      <th>secondary_cleaner.state.floatbank4_a_level</th>\n",
       "      <th>secondary_cleaner.state.floatbank4_b_air</th>\n",
       "      <th>secondary_cleaner.state.floatbank4_b_level</th>\n",
       "      <th>secondary_cleaner.state.floatbank5_a_air</th>\n",
       "      <th>secondary_cleaner.state.floatbank5_a_level</th>\n",
       "      <th>secondary_cleaner.state.floatbank5_b_air</th>\n",
       "      <th>secondary_cleaner.state.floatbank5_b_level</th>\n",
       "      <th>secondary_cleaner.state.floatbank6_a_air</th>\n",
       "      <th>secondary_cleaner.state.floatbank6_a_level</th>\n",
       "    </tr>\n",
       "  </thead>\n",
       "  <tbody>\n",
       "    <tr>\n",
       "      <th>0</th>\n",
       "      <td>2016-01-15 00:00:00</td>\n",
       "      <td>6.055403</td>\n",
       "      <td>9.889648</td>\n",
       "      <td>5.507324</td>\n",
       "      <td>42.192020</td>\n",
       "      <td>70.541216</td>\n",
       "      <td>10.411962</td>\n",
       "      <td>0.895447</td>\n",
       "      <td>16.904297</td>\n",
       "      <td>2.143149</td>\n",
       "      <td>...</td>\n",
       "      <td>14.016835</td>\n",
       "      <td>-502.488007</td>\n",
       "      <td>12.099931</td>\n",
       "      <td>-504.715942</td>\n",
       "      <td>9.925633</td>\n",
       "      <td>-498.310211</td>\n",
       "      <td>8.079666</td>\n",
       "      <td>-500.470978</td>\n",
       "      <td>14.151341</td>\n",
       "      <td>-605.841980</td>\n",
       "    </tr>\n",
       "    <tr>\n",
       "      <th>1</th>\n",
       "      <td>2016-01-15 01:00:00</td>\n",
       "      <td>6.029369</td>\n",
       "      <td>9.968944</td>\n",
       "      <td>5.257781</td>\n",
       "      <td>42.701629</td>\n",
       "      <td>69.266198</td>\n",
       "      <td>10.462676</td>\n",
       "      <td>0.927452</td>\n",
       "      <td>16.634514</td>\n",
       "      <td>2.224930</td>\n",
       "      <td>...</td>\n",
       "      <td>13.992281</td>\n",
       "      <td>-505.503262</td>\n",
       "      <td>11.950531</td>\n",
       "      <td>-501.331529</td>\n",
       "      <td>10.039245</td>\n",
       "      <td>-500.169983</td>\n",
       "      <td>7.984757</td>\n",
       "      <td>-500.582168</td>\n",
       "      <td>13.998353</td>\n",
       "      <td>-599.787184</td>\n",
       "    </tr>\n",
       "  </tbody>\n",
       "</table>\n",
       "<p>2 rows × 87 columns</p>\n",
       "</div>"
      ],
      "text/plain": [
       "                  date  final.output.concentrate_ag  \\\n",
       "0  2016-01-15 00:00:00                     6.055403   \n",
       "1  2016-01-15 01:00:00                     6.029369   \n",
       "\n",
       "   final.output.concentrate_pb  final.output.concentrate_sol  \\\n",
       "0                     9.889648                      5.507324   \n",
       "1                     9.968944                      5.257781   \n",
       "\n",
       "   final.output.concentrate_au  final.output.recovery  final.output.tail_ag  \\\n",
       "0                    42.192020              70.541216             10.411962   \n",
       "1                    42.701629              69.266198             10.462676   \n",
       "\n",
       "   final.output.tail_pb  final.output.tail_sol  final.output.tail_au  ...  \\\n",
       "0              0.895447              16.904297              2.143149  ...   \n",
       "1              0.927452              16.634514              2.224930  ...   \n",
       "\n",
       "   secondary_cleaner.state.floatbank4_a_air  \\\n",
       "0                                 14.016835   \n",
       "1                                 13.992281   \n",
       "\n",
       "   secondary_cleaner.state.floatbank4_a_level  \\\n",
       "0                                 -502.488007   \n",
       "1                                 -505.503262   \n",
       "\n",
       "   secondary_cleaner.state.floatbank4_b_air  \\\n",
       "0                                 12.099931   \n",
       "1                                 11.950531   \n",
       "\n",
       "   secondary_cleaner.state.floatbank4_b_level  \\\n",
       "0                                 -504.715942   \n",
       "1                                 -501.331529   \n",
       "\n",
       "   secondary_cleaner.state.floatbank5_a_air  \\\n",
       "0                                  9.925633   \n",
       "1                                 10.039245   \n",
       "\n",
       "   secondary_cleaner.state.floatbank5_a_level  \\\n",
       "0                                 -498.310211   \n",
       "1                                 -500.169983   \n",
       "\n",
       "   secondary_cleaner.state.floatbank5_b_air  \\\n",
       "0                                  8.079666   \n",
       "1                                  7.984757   \n",
       "\n",
       "   secondary_cleaner.state.floatbank5_b_level  \\\n",
       "0                                 -500.470978   \n",
       "1                                 -500.582168   \n",
       "\n",
       "   secondary_cleaner.state.floatbank6_a_air  \\\n",
       "0                                 14.151341   \n",
       "1                                 13.998353   \n",
       "\n",
       "   secondary_cleaner.state.floatbank6_a_level  \n",
       "0                                 -605.841980  \n",
       "1                                 -599.787184  \n",
       "\n",
       "[2 rows x 87 columns]"
      ]
     },
     "execution_count": 8,
     "metadata": {},
     "output_type": "execute_result"
    }
   ],
   "source": [
    "train.head(2)"
   ]
  },
  {
   "cell_type": "code",
   "execution_count": 9,
   "metadata": {},
   "outputs": [
    {
     "data": {
      "text/html": [
       "<div>\n",
       "<style scoped>\n",
       "    .dataframe tbody tr th:only-of-type {\n",
       "        vertical-align: middle;\n",
       "    }\n",
       "\n",
       "    .dataframe tbody tr th {\n",
       "        vertical-align: top;\n",
       "    }\n",
       "\n",
       "    .dataframe thead th {\n",
       "        text-align: right;\n",
       "    }\n",
       "</style>\n",
       "<table border=\"1\" class=\"dataframe\">\n",
       "  <thead>\n",
       "    <tr style=\"text-align: right;\">\n",
       "      <th></th>\n",
       "      <th>date</th>\n",
       "      <th>final.output.concentrate_ag</th>\n",
       "      <th>final.output.concentrate_pb</th>\n",
       "      <th>final.output.concentrate_sol</th>\n",
       "      <th>final.output.concentrate_au</th>\n",
       "      <th>final.output.recovery</th>\n",
       "      <th>final.output.tail_ag</th>\n",
       "      <th>final.output.tail_pb</th>\n",
       "      <th>final.output.tail_sol</th>\n",
       "      <th>final.output.tail_au</th>\n",
       "      <th>...</th>\n",
       "      <th>secondary_cleaner.state.floatbank4_a_air</th>\n",
       "      <th>secondary_cleaner.state.floatbank4_a_level</th>\n",
       "      <th>secondary_cleaner.state.floatbank4_b_air</th>\n",
       "      <th>secondary_cleaner.state.floatbank4_b_level</th>\n",
       "      <th>secondary_cleaner.state.floatbank5_a_air</th>\n",
       "      <th>secondary_cleaner.state.floatbank5_a_level</th>\n",
       "      <th>secondary_cleaner.state.floatbank5_b_air</th>\n",
       "      <th>secondary_cleaner.state.floatbank5_b_level</th>\n",
       "      <th>secondary_cleaner.state.floatbank6_a_air</th>\n",
       "      <th>secondary_cleaner.state.floatbank6_a_level</th>\n",
       "    </tr>\n",
       "  </thead>\n",
       "  <tbody>\n",
       "    <tr>\n",
       "      <th>0</th>\n",
       "      <td>2016-01-15 00:00:00</td>\n",
       "      <td>6.055403</td>\n",
       "      <td>9.889648</td>\n",
       "      <td>5.507324</td>\n",
       "      <td>42.192020</td>\n",
       "      <td>70.541216</td>\n",
       "      <td>10.411962</td>\n",
       "      <td>0.895447</td>\n",
       "      <td>16.904297</td>\n",
       "      <td>2.143149</td>\n",
       "      <td>...</td>\n",
       "      <td>14.016835</td>\n",
       "      <td>-502.488007</td>\n",
       "      <td>12.099931</td>\n",
       "      <td>-504.715942</td>\n",
       "      <td>9.925633</td>\n",
       "      <td>-498.310211</td>\n",
       "      <td>8.079666</td>\n",
       "      <td>-500.470978</td>\n",
       "      <td>14.151341</td>\n",
       "      <td>-605.841980</td>\n",
       "    </tr>\n",
       "    <tr>\n",
       "      <th>1</th>\n",
       "      <td>2016-01-15 01:00:00</td>\n",
       "      <td>6.029369</td>\n",
       "      <td>9.968944</td>\n",
       "      <td>5.257781</td>\n",
       "      <td>42.701629</td>\n",
       "      <td>69.266198</td>\n",
       "      <td>10.462676</td>\n",
       "      <td>0.927452</td>\n",
       "      <td>16.634514</td>\n",
       "      <td>2.224930</td>\n",
       "      <td>...</td>\n",
       "      <td>13.992281</td>\n",
       "      <td>-505.503262</td>\n",
       "      <td>11.950531</td>\n",
       "      <td>-501.331529</td>\n",
       "      <td>10.039245</td>\n",
       "      <td>-500.169983</td>\n",
       "      <td>7.984757</td>\n",
       "      <td>-500.582168</td>\n",
       "      <td>13.998353</td>\n",
       "      <td>-599.787184</td>\n",
       "    </tr>\n",
       "  </tbody>\n",
       "</table>\n",
       "<p>2 rows × 87 columns</p>\n",
       "</div>"
      ],
      "text/plain": [
       "                  date  final.output.concentrate_ag  \\\n",
       "0  2016-01-15 00:00:00                     6.055403   \n",
       "1  2016-01-15 01:00:00                     6.029369   \n",
       "\n",
       "   final.output.concentrate_pb  final.output.concentrate_sol  \\\n",
       "0                     9.889648                      5.507324   \n",
       "1                     9.968944                      5.257781   \n",
       "\n",
       "   final.output.concentrate_au  final.output.recovery  final.output.tail_ag  \\\n",
       "0                    42.192020              70.541216             10.411962   \n",
       "1                    42.701629              69.266198             10.462676   \n",
       "\n",
       "   final.output.tail_pb  final.output.tail_sol  final.output.tail_au  ...  \\\n",
       "0              0.895447              16.904297              2.143149  ...   \n",
       "1              0.927452              16.634514              2.224930  ...   \n",
       "\n",
       "   secondary_cleaner.state.floatbank4_a_air  \\\n",
       "0                                 14.016835   \n",
       "1                                 13.992281   \n",
       "\n",
       "   secondary_cleaner.state.floatbank4_a_level  \\\n",
       "0                                 -502.488007   \n",
       "1                                 -505.503262   \n",
       "\n",
       "   secondary_cleaner.state.floatbank4_b_air  \\\n",
       "0                                 12.099931   \n",
       "1                                 11.950531   \n",
       "\n",
       "   secondary_cleaner.state.floatbank4_b_level  \\\n",
       "0                                 -504.715942   \n",
       "1                                 -501.331529   \n",
       "\n",
       "   secondary_cleaner.state.floatbank5_a_air  \\\n",
       "0                                  9.925633   \n",
       "1                                 10.039245   \n",
       "\n",
       "   secondary_cleaner.state.floatbank5_a_level  \\\n",
       "0                                 -498.310211   \n",
       "1                                 -500.169983   \n",
       "\n",
       "   secondary_cleaner.state.floatbank5_b_air  \\\n",
       "0                                  8.079666   \n",
       "1                                  7.984757   \n",
       "\n",
       "   secondary_cleaner.state.floatbank5_b_level  \\\n",
       "0                                 -500.470978   \n",
       "1                                 -500.582168   \n",
       "\n",
       "   secondary_cleaner.state.floatbank6_a_air  \\\n",
       "0                                 14.151341   \n",
       "1                                 13.998353   \n",
       "\n",
       "   secondary_cleaner.state.floatbank6_a_level  \n",
       "0                                 -605.841980  \n",
       "1                                 -599.787184  \n",
       "\n",
       "[2 rows x 87 columns]"
      ]
     },
     "execution_count": 9,
     "metadata": {},
     "output_type": "execute_result"
    }
   ],
   "source": [
    "full.head(2)"
   ]
  },
  {
   "cell_type": "code",
   "execution_count": 10,
   "metadata": {
    "scrolled": false
   },
   "outputs": [
    {
     "data": {
      "text/html": [
       "<div>\n",
       "<style scoped>\n",
       "    .dataframe tbody tr th:only-of-type {\n",
       "        vertical-align: middle;\n",
       "    }\n",
       "\n",
       "    .dataframe tbody tr th {\n",
       "        vertical-align: top;\n",
       "    }\n",
       "\n",
       "    .dataframe thead th {\n",
       "        text-align: right;\n",
       "    }\n",
       "</style>\n",
       "<table border=\"1\" class=\"dataframe\">\n",
       "  <thead>\n",
       "    <tr style=\"text-align: right;\">\n",
       "      <th></th>\n",
       "      <th>date</th>\n",
       "      <th>primary_cleaner.input.sulfate</th>\n",
       "      <th>primary_cleaner.input.depressant</th>\n",
       "      <th>primary_cleaner.input.feed_size</th>\n",
       "      <th>primary_cleaner.input.xanthate</th>\n",
       "      <th>primary_cleaner.state.floatbank8_a_air</th>\n",
       "      <th>primary_cleaner.state.floatbank8_a_level</th>\n",
       "      <th>primary_cleaner.state.floatbank8_b_air</th>\n",
       "      <th>primary_cleaner.state.floatbank8_b_level</th>\n",
       "      <th>primary_cleaner.state.floatbank8_c_air</th>\n",
       "      <th>...</th>\n",
       "      <th>secondary_cleaner.state.floatbank4_a_air</th>\n",
       "      <th>secondary_cleaner.state.floatbank4_a_level</th>\n",
       "      <th>secondary_cleaner.state.floatbank4_b_air</th>\n",
       "      <th>secondary_cleaner.state.floatbank4_b_level</th>\n",
       "      <th>secondary_cleaner.state.floatbank5_a_air</th>\n",
       "      <th>secondary_cleaner.state.floatbank5_a_level</th>\n",
       "      <th>secondary_cleaner.state.floatbank5_b_air</th>\n",
       "      <th>secondary_cleaner.state.floatbank5_b_level</th>\n",
       "      <th>secondary_cleaner.state.floatbank6_a_air</th>\n",
       "      <th>secondary_cleaner.state.floatbank6_a_level</th>\n",
       "    </tr>\n",
       "  </thead>\n",
       "  <tbody>\n",
       "    <tr>\n",
       "      <th>0</th>\n",
       "      <td>2016-09-01 00:59:59</td>\n",
       "      <td>210.800909</td>\n",
       "      <td>14.993118</td>\n",
       "      <td>8.08</td>\n",
       "      <td>1.005021</td>\n",
       "      <td>1398.981301</td>\n",
       "      <td>-500.225577</td>\n",
       "      <td>1399.144926</td>\n",
       "      <td>-499.919735</td>\n",
       "      <td>1400.102998</td>\n",
       "      <td>...</td>\n",
       "      <td>12.023554</td>\n",
       "      <td>-497.795834</td>\n",
       "      <td>8.016656</td>\n",
       "      <td>-501.289139</td>\n",
       "      <td>7.946562</td>\n",
       "      <td>-432.317850</td>\n",
       "      <td>4.872511</td>\n",
       "      <td>-500.037437</td>\n",
       "      <td>26.705889</td>\n",
       "      <td>-499.709414</td>\n",
       "    </tr>\n",
       "    <tr>\n",
       "      <th>1</th>\n",
       "      <td>2016-09-01 01:59:59</td>\n",
       "      <td>215.392455</td>\n",
       "      <td>14.987471</td>\n",
       "      <td>8.08</td>\n",
       "      <td>0.990469</td>\n",
       "      <td>1398.777912</td>\n",
       "      <td>-500.057435</td>\n",
       "      <td>1398.055362</td>\n",
       "      <td>-499.778182</td>\n",
       "      <td>1396.151033</td>\n",
       "      <td>...</td>\n",
       "      <td>12.058140</td>\n",
       "      <td>-498.695773</td>\n",
       "      <td>8.130979</td>\n",
       "      <td>-499.634209</td>\n",
       "      <td>7.958270</td>\n",
       "      <td>-525.839648</td>\n",
       "      <td>4.878850</td>\n",
       "      <td>-500.162375</td>\n",
       "      <td>25.019940</td>\n",
       "      <td>-499.819438</td>\n",
       "    </tr>\n",
       "  </tbody>\n",
       "</table>\n",
       "<p>2 rows × 53 columns</p>\n",
       "</div>"
      ],
      "text/plain": [
       "                  date  primary_cleaner.input.sulfate  \\\n",
       "0  2016-09-01 00:59:59                     210.800909   \n",
       "1  2016-09-01 01:59:59                     215.392455   \n",
       "\n",
       "   primary_cleaner.input.depressant  primary_cleaner.input.feed_size  \\\n",
       "0                         14.993118                             8.08   \n",
       "1                         14.987471                             8.08   \n",
       "\n",
       "   primary_cleaner.input.xanthate  primary_cleaner.state.floatbank8_a_air  \\\n",
       "0                        1.005021                             1398.981301   \n",
       "1                        0.990469                             1398.777912   \n",
       "\n",
       "   primary_cleaner.state.floatbank8_a_level  \\\n",
       "0                               -500.225577   \n",
       "1                               -500.057435   \n",
       "\n",
       "   primary_cleaner.state.floatbank8_b_air  \\\n",
       "0                             1399.144926   \n",
       "1                             1398.055362   \n",
       "\n",
       "   primary_cleaner.state.floatbank8_b_level  \\\n",
       "0                               -499.919735   \n",
       "1                               -499.778182   \n",
       "\n",
       "   primary_cleaner.state.floatbank8_c_air  ...  \\\n",
       "0                             1400.102998  ...   \n",
       "1                             1396.151033  ...   \n",
       "\n",
       "   secondary_cleaner.state.floatbank4_a_air  \\\n",
       "0                                 12.023554   \n",
       "1                                 12.058140   \n",
       "\n",
       "   secondary_cleaner.state.floatbank4_a_level  \\\n",
       "0                                 -497.795834   \n",
       "1                                 -498.695773   \n",
       "\n",
       "   secondary_cleaner.state.floatbank4_b_air  \\\n",
       "0                                  8.016656   \n",
       "1                                  8.130979   \n",
       "\n",
       "   secondary_cleaner.state.floatbank4_b_level  \\\n",
       "0                                 -501.289139   \n",
       "1                                 -499.634209   \n",
       "\n",
       "   secondary_cleaner.state.floatbank5_a_air  \\\n",
       "0                                  7.946562   \n",
       "1                                  7.958270   \n",
       "\n",
       "   secondary_cleaner.state.floatbank5_a_level  \\\n",
       "0                                 -432.317850   \n",
       "1                                 -525.839648   \n",
       "\n",
       "   secondary_cleaner.state.floatbank5_b_air  \\\n",
       "0                                  4.872511   \n",
       "1                                  4.878850   \n",
       "\n",
       "   secondary_cleaner.state.floatbank5_b_level  \\\n",
       "0                                 -500.037437   \n",
       "1                                 -500.162375   \n",
       "\n",
       "   secondary_cleaner.state.floatbank6_a_air  \\\n",
       "0                                 26.705889   \n",
       "1                                 25.019940   \n",
       "\n",
       "   secondary_cleaner.state.floatbank6_a_level  \n",
       "0                                 -499.709414  \n",
       "1                                 -499.819438  \n",
       "\n",
       "[2 rows x 53 columns]"
      ]
     },
     "execution_count": 10,
     "metadata": {},
     "output_type": "execute_result"
    }
   ],
   "source": [
    "test.head(2)"
   ]
  },
  {
   "cell_type": "markdown",
   "metadata": {},
   "source": [
    "**Приведем столбец date в соответствующий тип**"
   ]
  },
  {
   "cell_type": "code",
   "execution_count": 11,
   "metadata": {},
   "outputs": [],
   "source": [
    "def datetimefunc(df):\n",
    "    df['date'] = pd.to_datetime(df['date'], format = \"%Y-%m-%dT%H:%M:%S\")\n",
    "    return df\n",
    "for i in [test, full, train]:\n",
    "    i = datetimefunc(i)"
   ]
  },
  {
   "cell_type": "markdown",
   "metadata": {},
   "source": [
    "**Поставим в индекс время.**"
   ]
  },
  {
   "cell_type": "code",
   "execution_count": 12,
   "metadata": {},
   "outputs": [],
   "source": [
    "def reindex(df):\n",
    "    df.index = df['date']\n",
    "    df = df.drop('date', axis = 1)\n",
    "    return df\n",
    "test = reindex(test)\n",
    "full = reindex(full)\n",
    "train = reindex(train)"
   ]
  },
  {
   "cell_type": "markdown",
   "metadata": {},
   "source": [
    "**Заполним пропуски предыдущими значениями, удалив строки с пропущенным целевым признаком**"
   ]
  },
  {
   "cell_type": "code",
   "execution_count": 13,
   "metadata": {},
   "outputs": [],
   "source": [
    "full = full.dropna(subset = ['rougher.output.recovery', 'final.output.recovery']).ffill()\n",
    "train = train.dropna(subset = ['rougher.output.recovery', 'final.output.recovery']).ffill()\n",
    "test = test.ffill()"
   ]
  },
  {
   "cell_type": "markdown",
   "metadata": {},
   "source": [
    "## Анализ данных"
   ]
  },
  {
   "cell_type": "markdown",
   "metadata": {},
   "source": [
    "**Посмотрим, как меняется концентрация металлов (Au, Ag, Pb) на различных этапах очистки:**"
   ]
  },
  {
   "cell_type": "markdown",
   "metadata": {},
   "source": [
    "**Среднее значение**"
   ]
  },
  {
   "cell_type": "code",
   "execution_count": 14,
   "metadata": {
    "scrolled": true
   },
   "outputs": [
    {
     "data": {
      "image/png": "[encoded data removed]",
      "text/plain": [
       "<Figure size 1008x432 with 1 Axes>"
      ]
     },
     "metadata": {
      "needs_background": "light"
     },
     "output_type": "display_data"
    }
   ],
   "source": [
    "p = []\n",
    "for i in full.columns:\n",
    "    if i.__contains__('feed_au') or i.__contains__('feed_ag') or i.__contains__('feed_pb')or i.__contains__('concentrate_au') or i.__contains__('concentrate_ag') or i.__contains__('concentrate_pb'):\n",
    "        p.append(i)        \n",
    "hist_au_ag_pb = pd.DataFrame(full.loc[:, p].mean()).reset_index()\n",
    "hist_au_ag_pb.columns = ['x', 'y']\n",
    "plt.figure(figsize=(14, 6))\n",
    "sns.barplot(data = hist_au_ag_pb, y = 'y', x = 'x')\n",
    "plt.xticks(rotation=70)\n",
    "plt.grid(axis = 'y', alpha = 0.5)\n",
    "plt.xlabel('Этапы и металлы')\n",
    "plt.ylabel('Концентрация')\n",
    "plt.title('Среднее значение на каждом этапе')\n",
    "plt.show()"
   ]
  },
  {
   "cell_type": "markdown",
   "metadata": {},
   "source": [
    "**Концентрация au поэтапно увеличивается, концентрация pb в среднем намного меньше, но так же поэтапно увеличивается, концентрация ag снижается** "
   ]
  },
  {
   "cell_type": "markdown",
   "metadata": {},
   "source": [
    "**Посмотрим распределение:**"
   ]
  },
  {
   "cell_type": "code",
   "execution_count": 15,
   "metadata": {},
   "outputs": [
    {
     "data": {
      "image/png": "[encoded data removed]",
      "text/plain": [
       "<Figure size 720x432 with 1 Axes>"
      ]
     },
     "metadata": {
      "needs_background": "light"
     },
     "output_type": "display_data"
    },
    {
     "data": {
      "image/png": "[encoded data removed]",
      "text/plain": [
       "<Figure size 720x432 with 1 Axes>"
      ]
     },
     "metadata": {
      "needs_background": "light"
     },
     "output_type": "display_data"
    },
    {
     "data": {
      "image/png": "[encoded data removed]",
      "text/plain": [
       "<Figure size 720x432 with 1 Axes>"
      ]
     },
     "metadata": {
      "needs_background": "light"
     },
     "output_type": "display_data"
    }
   ],
   "source": [
    "pupu = []\n",
    "for i in full.columns:\n",
    "    if i.__contains__('feed_au') or i.__contains__('feed_ag') or i.__contains__('feed_pb')or i.__contains__('concentrate_au') or i.__contains__('concentrate_ag') or i.__contains__('concentrate_pb'):\n",
    "        pupu.append(i)\n",
    "popo = full[pupu]        \n",
    "for pipi in ['au', 'ag', 'pb']:\n",
    "    pepe  = []\n",
    "    for i in popo.columns:\n",
    "        if i.__contains__(pipi):\n",
    "            pepe.append(i)        \n",
    "    \n",
    "    plt.figure(figsize=(10, 6))\n",
    "    sns.histplot(full.loc[:, pepe], bins = 65)\n",
    "    plt.grid(axis = 'y', alpha = 0.5)\n",
    "    plt.xlabel('Распределение')\n",
    "    plt.ylabel('Концентрация')\n",
    "    plt.title(pipi)\n",
    "    plt.show()"
   ]
  },
  {
   "cell_type": "markdown",
   "metadata": {},
   "source": [
    "**На графике можно увидеть, что концентрация золота поэтапно увеличивается:**\n",
    "1. rougher.input.feed_au - в среднем 8\n",
    "2. rougher.output.feed_au - в среднем 21\n",
    "3. primary_cleaner.output.concentrate_au - в среднем 32\n",
    "4. final.output.concentrate_au - в среднем 43"
   ]
  },
  {
   "cell_type": "markdown",
   "metadata": {},
   "source": [
    "**Мы видим, что есть некоторое количество нулевых значений. Для повышения качества модели удалим их:**"
   ]
  },
  {
   "cell_type": "code",
   "execution_count": 16,
   "metadata": {},
   "outputs": [
    {
     "name": "stdout",
     "output_type": "stream",
     "text": [
      "Минимальные значения:\n",
      "final.output.concentrate_ag  -  1.0084698264775216\n",
      "final.output.concentrate_pb  -  1.8127683739364149\n",
      "final.output.concentrate_au  -  1.482979107612286\n",
      "primary_cleaner.output.concentrate_ag  -  1.0123948414119233\n",
      "primary_cleaner.output.concentrate_pb  -  1.2359782836411748\n",
      "primary_cleaner.output.concentrate_au  -  2.9912558990821063\n",
      "rougher.input.feed_ag  -  2.2156882574568586\n",
      "rougher.input.feed_pb  -  1.006167786773294\n",
      "rougher.input.feed_au  -  1.025235159676522\n",
      "rougher.output.concentrate_ag  -  2.1538265870137634\n",
      "rougher.output.concentrate_pb  -  1.3496411574093832\n",
      "rougher.output.concentrate_au  -  3.066083780475043\n",
      "final.output.concentrate_ag  -  1.0084698264775216\n",
      "final.output.concentrate_pb  -  1.6790355791110132\n",
      "final.output.concentrate_au  -  1.482979107612286\n",
      "primary_cleaner.output.concentrate_ag  -  1.0123948414119233\n",
      "primary_cleaner.output.concentrate_pb  -  1.2359782836411748\n",
      "primary_cleaner.output.concentrate_au  -  2.9912558990821063\n",
      "rougher.input.feed_ag  -  2.2156882574568586\n",
      "rougher.input.feed_pb  -  1.006167786773294\n",
      "rougher.input.feed_au  -  1.025235159676522\n",
      "rougher.output.concentrate_ag  -  2.1538265870137634\n",
      "rougher.output.concentrate_pb  -  1.3496411574093832\n",
      "rougher.output.concentrate_au  -  3.066083780475043\n"
     ]
    }
   ],
   "source": [
    "for pp in p:\n",
    "    train = train.loc[train[pp] > 1]\n",
    "for pp in p:\n",
    "    full = full.loc[full[pp] > 1]\n",
    "print('Минимальные значения:')    \n",
    "for df in [train, full]:\n",
    "    for pp in p:\n",
    "        print(str(pp), ' - ', df[pp].min())"
   ]
  },
  {
   "cell_type": "markdown",
   "metadata": {},
   "source": [
    "**Сравним размеры гранул сырья на обучающей и тестовой выборках.**"
   ]
  },
  {
   "cell_type": "code",
   "execution_count": 17,
   "metadata": {},
   "outputs": [
    {
     "data": {
      "image/png": "[encoded data removed]",
      "text/plain": [
       "<Figure size 720x432 with 1 Axes>"
      ]
     },
     "metadata": {
      "needs_background": "light"
     },
     "output_type": "display_data"
    },
    {
     "data": {
      "image/png": "[encoded data removed]",
      "text/plain": [
       "<Figure size 720x432 with 1 Axes>"
      ]
     },
     "metadata": {
      "needs_background": "light"
     },
     "output_type": "display_data"
    }
   ],
   "source": [
    "o = []\n",
    "for i in test.columns:\n",
    "    if i.__contains__('feed_size'):\n",
    "        o.append(i)  \n",
    "otest = test.loc[:, o]\n",
    "otrain = train.loc[:, o]\n",
    "hist_feed_size = pd.concat([otest, otrain], axis = 1)\n",
    "hist_feed_size.columns = ['test_primary_cleaner.input.feed_size','test_rougher.input.feed_size',\n",
    "                          'train_primary_cleaner.input.feed_size','train_rougher.input.feed_size']\n",
    "for feed in ['primary_cleaner.input.feed_size','rougher.input.feed_size']:\n",
    "    uwu = []\n",
    "    for i in hist_feed_size.columns:\n",
    "        if i.__contains__(feed):\n",
    "            uwu.append(i)        \n",
    "    \n",
    "    plt.figure(figsize=(10, 6))\n",
    "    sns.histplot(hist_feed_size.loc[:, uwu], bins = 65)\n",
    "    plt.grid(axis = 'y', alpha = 0.5)\n",
    "    plt.xlabel('Распределение')\n",
    "    plt.ylabel('Размер гранул')\n",
    "    plt.title(feed)\n",
    "    plt.show() "
   ]
  },
  {
   "cell_type": "markdown",
   "metadata": {},
   "source": [
    "**Распределение не сильно отличается. На качестве модели это не скажется.**"
   ]
  },
  {
   "cell_type": "markdown",
   "metadata": {},
   "source": [
    "**Исследуем суммарную концентрацию всех веществ на разных стадиях: в сырье, в черновом и финальном концентратах**"
   ]
  },
  {
   "cell_type": "code",
   "execution_count": 18,
   "metadata": {},
   "outputs": [
    {
     "data": {
      "image/png": "[encoded data removed]",
      "text/plain": [
       "<Figure size 720x432 with 1 Axes>"
      ]
     },
     "metadata": {
      "needs_background": "light"
     },
     "output_type": "display_data"
    },
    {
     "data": {
      "image/png": "[encoded data removed]",
      "text/plain": [
       "<Figure size 720x432 with 1 Axes>"
      ]
     },
     "metadata": {
      "needs_background": "light"
     },
     "output_type": "display_data"
    },
    {
     "data": {
      "image/png": "[encoded data removed]",
      "text/plain": [
       "<Figure size 720x432 with 1 Axes>"
      ]
     },
     "metadata": {
      "needs_background": "light"
     },
     "output_type": "display_data"
    },
    {
     "data": {
      "image/png": "[encoded data removed]",
      "text/plain": [
       "<Figure size 720x432 with 1 Axes>"
      ]
     },
     "metadata": {
      "needs_background": "light"
     },
     "output_type": "display_data"
    }
   ],
   "source": [
    "import warnings\n",
    "warnings.filterwarnings(\"ignore\")\n",
    "iwi = []\n",
    "for i in full.columns:\n",
    "    if i.__contains__('feed_au') or i.__contains__('feed_ag') or i.__contains__('feed_pb')or i.__contains__('feed_sol') or i.__contains__('concentrate_'):\n",
    "        iwi.append(i)        \n",
    "summm = full[iwi]\n",
    "for y in ['rougher.input.feed_', 'rougher.output.concentrate_', 'primary_cleaner.output.concentrate_', 'final.output.concentrate_']:\n",
    "    uwu = []\n",
    "    for i in iwi:\n",
    "        if i.__contains__(y):\n",
    "            uwu.append(i)\n",
    "    summm['sum'] = summm[uwu[0]] + summm[uwu[1]] + summm[uwu[2]] + summm[uwu[3]]\n",
    "    plt.figure(figsize=(10, 6))\n",
    "    sns.histplot(summm['sum'], bins = 50)\n",
    "    plt.grid(axis = 'y', alpha = 0.5)\n",
    "    plt.xlabel('Распределение')\n",
    "    plt.ylabel('au + ag + pb + sol')\n",
    "    plt.title(y)\n",
    "    plt.show() "
   ]
  },
  {
   "cell_type": "markdown",
   "metadata": {},
   "source": [
    "**У всех металлов суммарная концентрация на всех этапах постепенно растет. Здесь так же есть небольшое количество нулевых значений, которые стоит убрать**"
   ]
  },
  {
   "cell_type": "code",
   "execution_count": 19,
   "metadata": {},
   "outputs": [
    {
     "name": "stdout",
     "output_type": "stream",
     "text": [
      "Минимальные значения:\n",
      "final.output.concentrate_ag  -  1.0084698264775216\n",
      "final.output.concentrate_pb  -  1.8127683739364149\n",
      "final.output.concentrate_sol  -  1.0166924284258858\n",
      "final.output.concentrate_au  -  1.482979107612286\n",
      "primary_cleaner.output.concentrate_ag  -  1.0123948414119233\n",
      "primary_cleaner.output.concentrate_pb  -  1.2546373817986909\n",
      "primary_cleaner.output.concentrate_sol  -  1.003160325292653\n",
      "primary_cleaner.output.concentrate_au  -  2.9912558990821063\n",
      "rougher.input.feed_ag  -  2.2156882574568586\n",
      "rougher.input.feed_pb  -  1.006167786773294\n",
      "rougher.input.feed_sol  -  3.1359269361940263\n",
      "rougher.input.feed_au  -  1.025235159676522\n",
      "rougher.output.concentrate_ag  -  2.1538265870137634\n",
      "rougher.output.concentrate_pb  -  1.3496411574093832\n",
      "rougher.output.concentrate_sol  -  1.7159061482191509\n",
      "rougher.output.concentrate_au  -  3.066083780475043\n",
      "final.output.concentrate_ag  -  1.0084698264775216\n",
      "final.output.concentrate_pb  -  1.6790355791110132\n",
      "final.output.concentrate_sol  -  1.0166924284258858\n",
      "final.output.concentrate_au  -  1.482979107612286\n",
      "primary_cleaner.output.concentrate_ag  -  1.0123948414119233\n",
      "primary_cleaner.output.concentrate_pb  -  1.2546373817986909\n",
      "primary_cleaner.output.concentrate_sol  -  1.003160325292653\n",
      "primary_cleaner.output.concentrate_au  -  2.9912558990821063\n",
      "rougher.input.feed_ag  -  2.2156882574568586\n",
      "rougher.input.feed_pb  -  1.006167786773294\n",
      "rougher.input.feed_sol  -  1.7162845884646392\n",
      "rougher.input.feed_au  -  1.025235159676522\n",
      "rougher.output.concentrate_ag  -  2.1538265870137634\n",
      "rougher.output.concentrate_pb  -  1.3496411574093832\n",
      "rougher.output.concentrate_sol  -  1.7159061482191509\n",
      "rougher.output.concentrate_au  -  3.066083780475043\n"
     ]
    }
   ],
   "source": [
    "for pp in iwi:\n",
    "    train = train.loc[train[pp] > 1]\n",
    "for pp in iwi:\n",
    "    full = full.loc[full[pp] > 1]\n",
    "print('Минимальные значения:')    \n",
    "for df in [train, full]:\n",
    "    for pp in iwi:\n",
    "        print(str(pp), ' - ', df[pp].min())"
   ]
  },
  {
   "cell_type": "markdown",
   "metadata": {},
   "source": [
    "## Модель"
   ]
  },
  {
   "cell_type": "markdown",
   "metadata": {},
   "source": [
    "**Функции sMAPE  и final sMAPE**"
   ]
  },
  {
   "cell_type": "code",
   "execution_count": 20,
   "metadata": {},
   "outputs": [],
   "source": [
    "def smape(target, predict):\n",
    "    return 1/len(target) * np.sum(2 * np.abs(target - predict) / (np.abs(target) + np.abs(predict))*100)\n",
    "def finalsmape(rougher, final):\n",
    "    return 0.25*rougher + 0.75*final"
   ]
  },
  {
   "cell_type": "markdown",
   "metadata": {},
   "source": [
    "**Подготовим выборки и проведем масштабирование признаков**"
   ]
  },
  {
   "cell_type": "code",
   "execution_count": 21,
   "metadata": {},
   "outputs": [],
   "source": [
    "target_train_rou = train['rougher.output.recovery']\n",
    "target_train_fin = train['final.output.recovery']\n",
    "features_train = train.drop(drop, axis = 1)\n",
    "\n",
    "scaler = StandardScaler()\n",
    "scaler.fit(features_train)\n",
    "features_train = scaler.transform(features_train)"
   ]
  },
  {
   "cell_type": "code",
   "execution_count": 22,
   "metadata": {},
   "outputs": [],
   "source": [
    "scorer = make_scorer(smape, greater_is_better = False)"
   ]
  },
  {
   "cell_type": "markdown",
   "metadata": {},
   "source": [
    "**Обучим разные модели и оценим результат кросс валидацией:**"
   ]
  },
  {
   "cell_type": "markdown",
   "metadata": {},
   "source": [
    "**CatBoostRegressor**"
   ]
  },
  {
   "cell_type": "code",
   "execution_count": 23,
   "metadata": {
    "scrolled": true
   },
   "outputs": [
    {
     "name": "stdout",
     "output_type": "stream",
     "text": [
      "Learning rate set to 0.158327\n",
      "0:\tlearn: 6.5077352\ttotal: 73ms\tremaining: 21.8s\n",
      "100:\tlearn: 2.6813504\ttotal: 1.63s\tremaining: 3.21s\n",
      "200:\tlearn: 2.1396664\ttotal: 3.26s\tremaining: 1.6s\n",
      "299:\tlearn: 1.8348968\ttotal: 4.81s\tremaining: 0us\n",
      "Learning rate set to 0.158327\n",
      "0:\tlearn: 7.0478004\ttotal: 16.8ms\tremaining: 5.02s\n",
      "100:\tlearn: 2.9362721\ttotal: 1.57s\tremaining: 3.09s\n",
      "200:\tlearn: 2.3451935\ttotal: 3.14s\tremaining: 1.54s\n",
      "299:\tlearn: 2.0118985\ttotal: 4.65s\tremaining: 0us\n",
      "Learning rate set to 0.158327\n",
      "0:\tlearn: 7.5467941\ttotal: 16.1ms\tremaining: 4.82s\n",
      "100:\tlearn: 3.0857167\ttotal: 1.51s\tremaining: 2.97s\n",
      "200:\tlearn: 2.4440851\ttotal: 3.07s\tremaining: 1.51s\n",
      "299:\tlearn: 2.0977137\ttotal: 4.64s\tremaining: 0us\n",
      "Learning rate set to 0.158327\n",
      "0:\tlearn: 7.3160757\ttotal: 24.5ms\tremaining: 7.34s\n",
      "100:\tlearn: 3.0500100\ttotal: 1.68s\tremaining: 3.32s\n",
      "200:\tlearn: 2.4261916\ttotal: 3.23s\tremaining: 1.59s\n",
      "299:\tlearn: 2.0592397\ttotal: 4.65s\tremaining: 0us\n",
      "Learning rate set to 0.15833\n",
      "0:\tlearn: 7.0830342\ttotal: 15.8ms\tremaining: 4.73s\n",
      "100:\tlearn: 2.9833620\ttotal: 1.6s\tremaining: 3.16s\n",
      "200:\tlearn: 2.4013584\ttotal: 3.23s\tremaining: 1.59s\n",
      "299:\tlearn: 2.0696718\ttotal: 4.87s\tremaining: 0us\n",
      "Learning rate set to 0.158327\n",
      "0:\tlearn: 8.5150430\ttotal: 23.3ms\tremaining: 6.95s\n",
      "100:\tlearn: 4.8668604\ttotal: 1.64s\tremaining: 3.24s\n",
      "200:\tlearn: 4.0210338\ttotal: 3.26s\tremaining: 1.6s\n",
      "299:\tlearn: 3.4920614\ttotal: 4.77s\tremaining: 0us\n",
      "Learning rate set to 0.158327\n",
      "0:\tlearn: 8.7488822\ttotal: 17ms\tremaining: 5.09s\n",
      "100:\tlearn: 5.0685731\ttotal: 1.59s\tremaining: 3.13s\n",
      "200:\tlearn: 4.1988511\ttotal: 3.16s\tremaining: 1.56s\n",
      "299:\tlearn: 3.6459855\ttotal: 4.64s\tremaining: 0us\n",
      "Learning rate set to 0.158327\n",
      "0:\tlearn: 8.4293538\ttotal: 17.5ms\tremaining: 5.24s\n",
      "100:\tlearn: 4.9286897\ttotal: 1.61s\tremaining: 3.17s\n",
      "200:\tlearn: 4.0429866\ttotal: 3.16s\tremaining: 1.56s\n",
      "299:\tlearn: 3.5051654\ttotal: 4.65s\tremaining: 0us\n",
      "Learning rate set to 0.158327\n",
      "0:\tlearn: 8.3451218\ttotal: 17.7ms\tremaining: 5.31s\n",
      "100:\tlearn: 4.8808286\ttotal: 1.59s\tremaining: 3.14s\n",
      "200:\tlearn: 4.0706570\ttotal: 3.11s\tremaining: 1.53s\n",
      "299:\tlearn: 3.5288709\ttotal: 4.64s\tremaining: 0us\n",
      "Learning rate set to 0.15833\n",
      "0:\tlearn: 8.4493857\ttotal: 15.4ms\tremaining: 4.61s\n",
      "100:\tlearn: 4.7343461\ttotal: 1.59s\tremaining: 3.14s\n",
      "200:\tlearn: 3.9328063\ttotal: 3.25s\tremaining: 1.6s\n",
      "299:\tlearn: 3.4288428\ttotal: 4.88s\tremaining: 0us\n"
     ]
    }
   ],
   "source": [
    "modelcat = CatBoostRegressor(iterations=300, verbose=100, early_stopping_rounds=100, random_state = rs)\n",
    "scores_cat_rou = cross_val_score(modelcat, features_train, target_train_rou, cv=5, scoring = scorer).mean()\n",
    "scores_cat_fin = cross_val_score(modelcat, features_train, target_train_fin, cv=5, scoring = scorer).mean()\n",
    "score_catboost = finalsmape(scores_cat_rou, scores_cat_fin)"
   ]
  },
  {
   "cell_type": "code",
   "execution_count": 24,
   "metadata": {},
   "outputs": [
    {
     "data": {
      "text/plain": [
       "-8.498200502392626"
      ]
     },
     "execution_count": 24,
     "metadata": {},
     "output_type": "execute_result"
    }
   ],
   "source": [
    "score_catboost"
   ]
  },
  {
   "cell_type": "markdown",
   "metadata": {},
   "source": [
    "**DecisionTreeRegressor**"
   ]
  },
  {
   "cell_type": "code",
   "execution_count": 58,
   "metadata": {},
   "outputs": [],
   "source": [
    "best_max_depth = 0\n",
    "best_scores_dtr_rou = 0\n",
    "best_scores_dtr_fin = 0\n",
    "best_smape = 100\n",
    "for md in (1, 35, 2):\n",
    "    modeldtr = DecisionTreeRegressor(random_state = rs, max_depth = md)\n",
    "    scores_dtr_rou = cross_val_score(modeldtr, features_train, target_train_rou, cv=5, scoring = scorer).mean()\n",
    "    scores_dtr_fin = cross_val_score(modeldtr, features_train, target_train_fin, cv=5, scoring = scorer).mean()\n",
    "    score_dtr = finalsmape(scores_dtr_rou, scores_dtr_fin)\n",
    "    if score_dtr < best_smape:\n",
    "        best_smape = score_dtr\n",
    "        best_max_depth = md\n",
    "        best_scores_dtr_rou = scores_dtr_rou\n",
    "        best_scores_dtr_fin = scores_dtr_fin"
   ]
  },
  {
   "cell_type": "code",
   "execution_count": 60,
   "metadata": {},
   "outputs": [
    {
     "name": "stdout",
     "output_type": "stream",
     "text": [
      "-13.239362943331042\n",
      "35\n",
      "-8.448663158623905\n",
      "-14.836262871566754\n"
     ]
    }
   ],
   "source": [
    "print(best_smape)\n",
    "print(best_max_depth)\n",
    "print(best_scores_dtr_rou)\n",
    "print(best_scores_dtr_fin)"
   ]
  },
  {
   "cell_type": "markdown",
   "metadata": {},
   "source": [
    "**RandomForestRegressor**"
   ]
  },
  {
   "cell_type": "code",
   "execution_count": 27,
   "metadata": {},
   "outputs": [],
   "source": [
    "modelrfr = RandomForestRegressor(random_state = rs, n_estimators = 150, max_features = 20)\n",
    "scores_rfr_rou = cross_val_score(modelrfr, features_train, target_train_rou, cv=5, scoring = scorer).mean()\n",
    "scores_rfr_fin = cross_val_score(modelrfr, features_train, target_train_fin, cv=5, scoring = scorer).mean()\n",
    "score_rfr = finalsmape(scores_rfr_rou, scores_rfr_fin)"
   ]
  },
  {
   "cell_type": "code",
   "execution_count": 30,
   "metadata": {},
   "outputs": [
    {
     "data": {
      "text/plain": [
       "-8.40049723183771"
      ]
     },
     "execution_count": 30,
     "metadata": {},
     "output_type": "execute_result"
    }
   ],
   "source": [
    "score_rfr"
   ]
  },
  {
   "cell_type": "markdown",
   "metadata": {},
   "source": [
    "**LinearRegression**"
   ]
  },
  {
   "cell_type": "code",
   "execution_count": 31,
   "metadata": {},
   "outputs": [],
   "source": [
    "modellr = LinearRegression()\n",
    "scores_lr_rou = cross_val_score(modellr, features_train, target_train_rou, cv=5, scoring = scorer).mean()\n",
    "scores_lr_fin = cross_val_score(modellr, features_train, target_train_fin, cv=5, scoring = scorer).mean()\n",
    "score_lr = finalsmape(scores_lr_rou, scores_lr_fin)"
   ]
  },
  {
   "cell_type": "code",
   "execution_count": 32,
   "metadata": {
    "scrolled": true
   },
   "outputs": [
    {
     "data": {
      "text/plain": [
       "-9.827867845267427"
      ]
     },
     "execution_count": 32,
     "metadata": {},
     "output_type": "execute_result"
    }
   ],
   "source": [
    "score_lr"
   ]
  },
  {
   "cell_type": "markdown",
   "metadata": {},
   "source": [
    "**Что мы получили:**"
   ]
  },
  {
   "cell_type": "code",
   "execution_count": 61,
   "metadata": {},
   "outputs": [
    {
     "data": {
      "text/html": [
       "<div>\n",
       "<style scoped>\n",
       "    .dataframe tbody tr th:only-of-type {\n",
       "        vertical-align: middle;\n",
       "    }\n",
       "\n",
       "    .dataframe tbody tr th {\n",
       "        vertical-align: top;\n",
       "    }\n",
       "\n",
       "    .dataframe thead th {\n",
       "        text-align: right;\n",
       "    }\n",
       "</style>\n",
       "<table border=\"1\" class=\"dataframe\">\n",
       "  <thead>\n",
       "    <tr style=\"text-align: right;\">\n",
       "      <th></th>\n",
       "      <th>sMAPE rougher</th>\n",
       "      <th>sMAPE final</th>\n",
       "      <th>Итоговое sMAPE</th>\n",
       "    </tr>\n",
       "  </thead>\n",
       "  <tbody>\n",
       "    <tr>\n",
       "      <th>CatBoost</th>\n",
       "      <td>-6.189250</td>\n",
       "      <td>-9.267851</td>\n",
       "      <td>-8.498201</td>\n",
       "    </tr>\n",
       "    <tr>\n",
       "      <th>DecisionTree</th>\n",
       "      <td>-8.448663</td>\n",
       "      <td>-14.836263</td>\n",
       "      <td>-13.239363</td>\n",
       "    </tr>\n",
       "    <tr>\n",
       "      <th>RandomForest</th>\n",
       "      <td>-6.671383</td>\n",
       "      <td>-8.976869</td>\n",
       "      <td>-8.400497</td>\n",
       "    </tr>\n",
       "    <tr>\n",
       "      <th>LinearRegression</th>\n",
       "      <td>-7.281963</td>\n",
       "      <td>-10.676503</td>\n",
       "      <td>-9.827868</td>\n",
       "    </tr>\n",
       "  </tbody>\n",
       "</table>\n",
       "</div>"
      ],
      "text/plain": [
       "                  sMAPE rougher  sMAPE final  Итоговое sMAPE\n",
       "CatBoost              -6.189250    -9.267851       -8.498201\n",
       "DecisionTree          -8.448663   -14.836263      -13.239363\n",
       "RandomForest          -6.671383    -8.976869       -8.400497\n",
       "LinearRegression      -7.281963   -10.676503       -9.827868"
      ]
     },
     "execution_count": 61,
     "metadata": {},
     "output_type": "execute_result"
    }
   ],
   "source": [
    "tab = pd.DataFrame({'sMAPE rougher' : [scores_cat_rou, best_scores_dtr_rou, scores_rfr_rou, scores_lr_rou],\n",
    "             'sMAPE final': [scores_cat_fin, best_scores_dtr_fin, scores_rfr_fin, scores_lr_fin],\n",
    "             'Итоговое sMAPE': [score_catboost, best_smape, score_rfr, score_lr]})\n",
    "tab.index = ['CatBoost', 'DecisionTree', 'RandomForest', 'LinearRegression']\n",
    "tab"
   ]
  },
  {
   "cell_type": "markdown",
   "metadata": {},
   "source": [
    "**Лучший показатель у DecisionTreeRegressor и Catboost. Проверим эти 2 модели на тестовой выборке:**"
   ]
  },
  {
   "cell_type": "markdown",
   "metadata": {},
   "source": [
    "**Возьмем таргеты тестовой выборки из полной по индексам**"
   ]
  },
  {
   "cell_type": "code",
   "execution_count": null,
   "metadata": {},
   "outputs": [],
   "source": [
    "test_target_rou = full.loc[full.index.isin(test.index)]['rougher.output.recovery']\n",
    "test_target_fin = full.loc[full.index.isin(test.index)]['final.output.recovery']\n",
    "print(test.value_counts().count())\n",
    "print(test_target_rou.count())"
   ]
  },
  {
   "cell_type": "markdown",
   "metadata": {},
   "source": [
    "**Часть индексов индексов найти не удалось. Уменьшим тестовою выборку на эти индексы:**"
   ]
  },
  {
   "cell_type": "code",
   "execution_count": null,
   "metadata": {},
   "outputs": [],
   "source": [
    "noind = test.loc[~test.index.isin(test_target_rou.index)].index\n",
    "test = test.loc[~test.index.isin(noind)]\n",
    "features_test = scaler.transform(test)"
   ]
  },
  {
   "cell_type": "markdown",
   "metadata": {},
   "source": [
    "**Обучим модель DecisionTreeRegressor**"
   ]
  },
  {
   "cell_type": "code",
   "execution_count": null,
   "metadata": {},
   "outputs": [],
   "source": [
    "model_rou = DecisionTreeRegressor(random_state = rs, max_depth = 1).fit(features_train, target_train_rou)\n",
    "test_predict_rou = model_rou.predict(features_test)\n",
    "model_fin = DecisionTreeRegressor(random_state = rs, max_depth = 1).fit(features_train, target_train_fin)\n",
    "test_predict_fin = model_rou.predict(features_test)"
   ]
  },
  {
   "cell_type": "markdown",
   "metadata": {},
   "source": [
    "**Результат:**"
   ]
  },
  {
   "cell_type": "code",
   "execution_count": null,
   "metadata": {
    "scrolled": true
   },
   "outputs": [],
   "source": [
    "print('DecisionTreeRegressor')\n",
    "print('sMAPE rougher', smape(test_target_rou, test_predict_rou))\n",
    "print('sMAPE final', smape(test_target_fin, test_predict_fin))\n",
    "print('Итоговое sMAPE', finalsmape(smape(test_target_rou, test_predict_rou), smape(test_target_fin, test_predict_fin)))"
   ]
  },
  {
   "cell_type": "markdown",
   "metadata": {},
   "source": [
    "**Обучи модель CatBoostRegressor:**"
   ]
  },
  {
   "cell_type": "code",
   "execution_count": null,
   "metadata": {
    "scrolled": true
   },
   "outputs": [],
   "source": [
    "model_rou = CatBoostRegressor(iterations=300, verbose=100, early_stopping_rounds=100, random_state = rs).fit(features_train, target_train_rou)\n",
    "test_predict_rou = model_rou.predict(features_test)\n",
    "model_fin = CatBoostRegressor(iterations=300, verbose=100, early_stopping_rounds=100, random_state = rs).fit(features_train, target_train_fin)\n",
    "test_predict_fin = model_rou.predict(features_test)"
   ]
  },
  {
   "cell_type": "markdown",
   "metadata": {},
   "source": [
    "**Результат**"
   ]
  },
  {
   "cell_type": "code",
   "execution_count": null,
   "metadata": {},
   "outputs": [],
   "source": [
    "print('CatBoostRegressor')\n",
    "print('sMAPE rougher', smape(test_target_rou, test_predict_rou))\n",
    "print('sMAPE final', smape(test_target_fin, test_predict_fin))\n",
    "print('Итоговое sMAPE', finalsmape(smape(test_target_rou, test_predict_rou), smape(test_target_fin, test_predict_fin)))"
   ]
  },
  {
   "cell_type": "markdown",
   "metadata": {},
   "source": [
    "**Константная модель**"
   ]
  },
  {
   "cell_type": "code",
   "execution_count": null,
   "metadata": {},
   "outputs": [],
   "source": [
    "from sklearn.dummy import DummyRegressor \n",
    "constmodel_rou = DummyRegressor(strategy='mean').fit(features_train, target_train_rou)\n",
    "const_rou = constmodel_rou.predict(features_test)\n",
    "constmodel_fin = DummyRegressor(strategy='mean').fit(features_train, target_train_fin)\n",
    "const_fin = constmodel_fin.predict(features_test)"
   ]
  },
  {
   "cell_type": "code",
   "execution_count": null,
   "metadata": {},
   "outputs": [],
   "source": [
    "print('sMAPE rougher', smape(test_target_rou, const_rou))\n",
    "print('sMAPE final', smape(test_target_fin, const_fin))\n",
    "print('Итоговое sMAPE', finalsmape(smape(test_target_rou, const_rou), smape(test_target_fin, const_fin)))"
   ]
  },
  {
   "cell_type": "markdown",
   "metadata": {},
   "source": [
    "**sMAPE у константной модели ниже, чем у 2х выбранных лучших. Вероятно структура данных такова, что ничего лучше константоной модели нет**"
   ]
  }
 ],
 "metadata": {
  "ExecuteTimeLog": [
   {
    "duration": 420,
    "start_time": "2022-09-19T17:52:25.920Z"
   },
   {
    "duration": 2248,
    "start_time": "2022-09-19T17:54:46.698Z"
   },
   {
    "duration": 17,
    "start_time": "2022-09-19T17:55:01.993Z"
   },
   {
    "duration": 13,
    "start_time": "2022-09-19T17:55:42.603Z"
   },
   {
    "duration": 17,
    "start_time": "2022-09-19T17:56:01.451Z"
   },
   {
    "duration": 27,
    "start_time": "2022-09-19T18:23:07.646Z"
   },
   {
    "duration": 1597,
    "start_time": "2022-09-19T18:25:17.609Z"
   },
   {
    "duration": 715,
    "start_time": "2022-09-19T18:25:37.946Z"
   },
   {
    "duration": 19,
    "start_time": "2022-09-19T18:25:44.514Z"
   },
   {
    "duration": 30,
    "start_time": "2022-09-19T18:25:54.994Z"
   },
   {
    "duration": 13,
    "start_time": "2022-09-19T18:26:17.747Z"
   },
   {
    "duration": 1685,
    "start_time": "2022-09-19T18:26:55.245Z"
   },
   {
    "duration": 5,
    "start_time": "2022-09-19T18:27:02.980Z"
   },
   {
    "duration": 43,
    "start_time": "2022-09-20T14:13:29.846Z"
   },
   {
    "duration": 386,
    "start_time": "2022-09-20T14:13:33.820Z"
   },
   {
    "duration": 1959,
    "start_time": "2022-09-20T14:13:34.208Z"
   },
   {
    "duration": 12,
    "start_time": "2022-09-20T14:13:36.170Z"
   },
   {
    "duration": 10,
    "start_time": "2022-09-20T14:13:36.185Z"
   },
   {
    "duration": 5,
    "start_time": "2022-09-20T14:21:23.137Z"
   },
   {
    "duration": 2801,
    "start_time": "2022-09-20T14:21:28.771Z"
   },
   {
    "duration": 15,
    "start_time": "2022-09-20T14:21:47.553Z"
   },
   {
    "duration": 10,
    "start_time": "2022-09-20T14:24:32.000Z"
   },
   {
    "duration": 21,
    "start_time": "2022-09-20T14:24:41.000Z"
   },
   {
    "duration": 724,
    "start_time": "2022-09-20T14:26:19.683Z"
   },
   {
    "duration": 85,
    "start_time": "2022-09-20T14:30:10.519Z"
   },
   {
    "duration": 39,
    "start_time": "2022-09-20T14:30:14.378Z"
   },
   {
    "duration": 24,
    "start_time": "2022-09-20T14:30:35.728Z"
   },
   {
    "duration": 19,
    "start_time": "2022-09-20T14:32:09.659Z"
   },
   {
    "duration": 13,
    "start_time": "2022-09-20T14:46:50.381Z"
   },
   {
    "duration": 9,
    "start_time": "2022-09-20T15:00:31.582Z"
   },
   {
    "duration": 3,
    "start_time": "2022-09-20T15:00:35.830Z"
   },
   {
    "duration": 8,
    "start_time": "2022-09-20T15:00:38.624Z"
   },
   {
    "duration": 7,
    "start_time": "2022-09-20T15:01:37.772Z"
   },
   {
    "duration": 5,
    "start_time": "2022-09-20T15:02:17.859Z"
   },
   {
    "duration": 5,
    "start_time": "2022-09-20T15:02:20.420Z"
   },
   {
    "duration": 5,
    "start_time": "2022-09-20T15:03:46.425Z"
   },
   {
    "duration": 7,
    "start_time": "2022-09-20T15:06:17.820Z"
   },
   {
    "duration": 14,
    "start_time": "2022-09-20T15:09:58.453Z"
   },
   {
    "duration": 132,
    "start_time": "2022-09-20T15:10:47.727Z"
   },
   {
    "duration": 10,
    "start_time": "2022-09-20T15:10:59.544Z"
   },
   {
    "duration": 16,
    "start_time": "2022-09-20T15:11:16.256Z"
   },
   {
    "duration": 4,
    "start_time": "2022-09-20T15:21:47.232Z"
   },
   {
    "duration": 9,
    "start_time": "2022-09-20T15:25:37.676Z"
   },
   {
    "duration": 4,
    "start_time": "2022-09-20T15:25:42.883Z"
   },
   {
    "duration": 8,
    "start_time": "2022-09-20T15:58:19.215Z"
   },
   {
    "duration": 11,
    "start_time": "2022-09-20T15:58:31.938Z"
   },
   {
    "duration": 14,
    "start_time": "2022-09-20T15:58:43.400Z"
   },
   {
    "duration": 9,
    "start_time": "2022-09-20T15:58:50.577Z"
   },
   {
    "duration": 6,
    "start_time": "2022-09-20T15:58:58.842Z"
   },
   {
    "duration": 6,
    "start_time": "2022-09-20T15:59:30.387Z"
   },
   {
    "duration": 4,
    "start_time": "2022-09-20T15:59:34.756Z"
   },
   {
    "duration": 6,
    "start_time": "2022-09-20T15:59:37.338Z"
   },
   {
    "duration": 6,
    "start_time": "2022-09-20T16:00:20.605Z"
   },
   {
    "duration": 36,
    "start_time": "2022-09-20T16:04:49.047Z"
   },
   {
    "duration": 43,
    "start_time": "2022-09-20T16:05:43.999Z"
   },
   {
    "duration": 14,
    "start_time": "2022-09-20T16:06:16.124Z"
   },
   {
    "duration": 11,
    "start_time": "2022-09-20T16:06:36.284Z"
   },
   {
    "duration": 23,
    "start_time": "2022-09-20T16:06:48.683Z"
   },
   {
    "duration": 38,
    "start_time": "2022-09-20T16:07:06.485Z"
   },
   {
    "duration": 36,
    "start_time": "2022-09-20T16:07:20.693Z"
   },
   {
    "duration": 30,
    "start_time": "2022-09-20T16:07:31.236Z"
   },
   {
    "duration": 3,
    "start_time": "2022-09-20T16:07:47.558Z"
   },
   {
    "duration": 20,
    "start_time": "2022-09-20T16:08:38.528Z"
   },
   {
    "duration": 21,
    "start_time": "2022-09-20T16:09:02.632Z"
   },
   {
    "duration": 19,
    "start_time": "2022-09-20T16:09:30.217Z"
   },
   {
    "duration": 19,
    "start_time": "2022-09-20T16:10:59.192Z"
   },
   {
    "duration": 5,
    "start_time": "2022-09-20T16:20:51.243Z"
   },
   {
    "duration": 13,
    "start_time": "2022-09-20T16:21:20.125Z"
   },
   {
    "duration": 11,
    "start_time": "2022-09-20T16:21:38.894Z"
   },
   {
    "duration": 3,
    "start_time": "2022-09-20T16:21:42.557Z"
   },
   {
    "duration": 661,
    "start_time": "2022-09-20T16:22:01.335Z"
   },
   {
    "duration": 12,
    "start_time": "2022-09-20T16:22:07.047Z"
   },
   {
    "duration": 8,
    "start_time": "2022-09-20T16:22:13.640Z"
   },
   {
    "duration": 4,
    "start_time": "2022-09-20T16:22:31.196Z"
   },
   {
    "duration": 608,
    "start_time": "2022-09-20T16:23:34.618Z"
   },
   {
    "duration": 16,
    "start_time": "2022-09-20T16:23:39.403Z"
   },
   {
    "duration": 3,
    "start_time": "2022-09-20T16:23:40.267Z"
   },
   {
    "duration": 696,
    "start_time": "2022-09-20T16:23:45.578Z"
   },
   {
    "duration": 28,
    "start_time": "2022-09-20T16:23:53.435Z"
   },
   {
    "duration": 32,
    "start_time": "2022-09-20T16:24:34.018Z"
   },
   {
    "duration": 7,
    "start_time": "2022-09-20T16:24:47.878Z"
   },
   {
    "duration": 24,
    "start_time": "2022-09-20T16:24:51.462Z"
   },
   {
    "duration": 14,
    "start_time": "2022-09-20T16:24:56.838Z"
   },
   {
    "duration": 18,
    "start_time": "2022-09-20T16:25:02.918Z"
   },
   {
    "duration": 4,
    "start_time": "2022-09-20T16:25:05.813Z"
   },
   {
    "duration": 9,
    "start_time": "2022-09-20T16:25:12.334Z"
   },
   {
    "duration": 5,
    "start_time": "2022-09-20T16:26:01.064Z"
   },
   {
    "duration": 8,
    "start_time": "2022-09-20T16:26:35.693Z"
   },
   {
    "duration": 635,
    "start_time": "2022-09-20T16:26:40.521Z"
   },
   {
    "duration": 28,
    "start_time": "2022-09-20T16:26:59.524Z"
   },
   {
    "duration": 18,
    "start_time": "2022-09-20T16:27:02.731Z"
   },
   {
    "duration": 24,
    "start_time": "2022-09-20T16:27:06.266Z"
   },
   {
    "duration": 12,
    "start_time": "2022-09-20T16:27:11.694Z"
   },
   {
    "duration": 9,
    "start_time": "2022-09-20T16:47:51.524Z"
   },
   {
    "duration": 3,
    "start_time": "2022-09-20T16:48:10.995Z"
   },
   {
    "duration": 5,
    "start_time": "2022-09-20T16:48:16.094Z"
   },
   {
    "duration": 30,
    "start_time": "2022-09-20T16:48:24.243Z"
   },
   {
    "duration": 20,
    "start_time": "2022-09-20T16:48:44.931Z"
   },
   {
    "duration": 10,
    "start_time": "2022-09-20T16:57:57.709Z"
   },
   {
    "duration": 8,
    "start_time": "2022-09-20T16:58:14.235Z"
   },
   {
    "duration": 64,
    "start_time": "2022-09-20T16:58:28.716Z"
   },
   {
    "duration": 250,
    "start_time": "2022-09-20T16:58:54.803Z"
   },
   {
    "duration": 601,
    "start_time": "2022-09-20T16:59:02.139Z"
   },
   {
    "duration": 972,
    "start_time": "2022-09-20T16:59:16.070Z"
   },
   {
    "duration": 664,
    "start_time": "2022-09-20T16:59:17.045Z"
   },
   {
    "duration": 19,
    "start_time": "2022-09-20T16:59:17.714Z"
   },
   {
    "duration": 17,
    "start_time": "2022-09-20T16:59:17.735Z"
   },
   {
    "duration": 14,
    "start_time": "2022-09-20T16:59:17.754Z"
   },
   {
    "duration": 11,
    "start_time": "2022-09-20T16:59:17.770Z"
   },
   {
    "duration": 40,
    "start_time": "2022-09-20T16:59:17.783Z"
   },
   {
    "duration": 32,
    "start_time": "2022-09-20T16:59:17.825Z"
   },
   {
    "duration": 30,
    "start_time": "2022-09-20T16:59:17.860Z"
   },
   {
    "duration": 49,
    "start_time": "2022-09-20T16:59:17.892Z"
   },
   {
    "duration": 3,
    "start_time": "2022-09-20T16:59:17.943Z"
   },
   {
    "duration": 1469,
    "start_time": "2022-09-20T16:59:17.948Z"
   },
   {
    "duration": 0,
    "start_time": "2022-09-20T16:59:19.419Z"
   },
   {
    "duration": 1046,
    "start_time": "2022-09-20T16:59:40.441Z"
   },
   {
    "duration": 628,
    "start_time": "2022-09-20T16:59:41.488Z"
   },
   {
    "duration": 15,
    "start_time": "2022-09-20T16:59:42.117Z"
   },
   {
    "duration": 15,
    "start_time": "2022-09-20T16:59:42.134Z"
   },
   {
    "duration": 13,
    "start_time": "2022-09-20T16:59:42.151Z"
   },
   {
    "duration": 11,
    "start_time": "2022-09-20T16:59:42.166Z"
   },
   {
    "duration": 4,
    "start_time": "2022-09-20T16:59:42.178Z"
   },
   {
    "duration": 61,
    "start_time": "2022-09-20T16:59:42.184Z"
   },
   {
    "duration": 18,
    "start_time": "2022-09-20T16:59:42.246Z"
   },
   {
    "duration": 20,
    "start_time": "2022-09-20T16:59:42.265Z"
   },
   {
    "duration": 2,
    "start_time": "2022-09-20T16:59:42.286Z"
   },
   {
    "duration": 16,
    "start_time": "2022-09-20T16:59:42.289Z"
   },
   {
    "duration": 3,
    "start_time": "2022-09-20T16:59:42.322Z"
   },
   {
    "duration": 93,
    "start_time": "2022-09-20T17:13:44.014Z"
   },
   {
    "duration": 18,
    "start_time": "2022-09-20T17:14:04.511Z"
   },
   {
    "duration": 10,
    "start_time": "2022-09-20T17:14:14.692Z"
   },
   {
    "duration": 134,
    "start_time": "2022-09-20T17:14:36.000Z"
   },
   {
    "duration": 37,
    "start_time": "2022-09-20T17:14:54.297Z"
   },
   {
    "duration": 24,
    "start_time": "2022-09-20T17:15:14.875Z"
   },
   {
    "duration": 41,
    "start_time": "2022-09-20T17:15:38.306Z"
   },
   {
    "duration": 38,
    "start_time": "2022-09-20T17:16:27.550Z"
   },
   {
    "duration": 15,
    "start_time": "2022-09-20T17:16:37.614Z"
   },
   {
    "duration": 89,
    "start_time": "2022-09-20T17:16:43.992Z"
   },
   {
    "duration": 10,
    "start_time": "2022-09-20T17:17:50.081Z"
   },
   {
    "duration": 45,
    "start_time": "2022-09-20T17:17:56.274Z"
   },
   {
    "duration": 4,
    "start_time": "2022-09-20T17:18:11.537Z"
   },
   {
    "duration": 25,
    "start_time": "2022-09-20T17:18:18.609Z"
   },
   {
    "duration": 37,
    "start_time": "2022-09-20T17:19:21.387Z"
   },
   {
    "duration": 1524,
    "start_time": "2022-09-20T17:20:13.081Z"
   },
   {
    "duration": 585,
    "start_time": "2022-09-20T17:20:14.607Z"
   },
   {
    "duration": 13,
    "start_time": "2022-09-20T17:20:15.194Z"
   },
   {
    "duration": 27,
    "start_time": "2022-09-20T17:20:15.209Z"
   },
   {
    "duration": 14,
    "start_time": "2022-09-20T17:20:15.238Z"
   },
   {
    "duration": 11,
    "start_time": "2022-09-20T17:20:15.253Z"
   },
   {
    "duration": 5,
    "start_time": "2022-09-20T17:20:15.265Z"
   },
   {
    "duration": 50,
    "start_time": "2022-09-20T17:20:15.271Z"
   },
   {
    "duration": 18,
    "start_time": "2022-09-20T17:20:15.323Z"
   },
   {
    "duration": 27,
    "start_time": "2022-09-20T17:20:15.342Z"
   },
   {
    "duration": 15,
    "start_time": "2022-09-20T17:20:15.370Z"
   },
   {
    "duration": 4,
    "start_time": "2022-09-20T17:20:15.387Z"
   },
   {
    "duration": 40,
    "start_time": "2022-09-20T17:20:15.393Z"
   },
   {
    "duration": 22,
    "start_time": "2022-09-20T17:20:15.435Z"
   },
   {
    "duration": 4,
    "start_time": "2022-09-20T17:21:21.530Z"
   },
   {
    "duration": 99,
    "start_time": "2022-09-20T17:22:21.473Z"
   },
   {
    "duration": 1088,
    "start_time": "2022-09-20T17:22:36.129Z"
   },
   {
    "duration": 672,
    "start_time": "2022-09-20T17:22:37.219Z"
   },
   {
    "duration": 28,
    "start_time": "2022-09-20T17:22:37.896Z"
   },
   {
    "duration": 17,
    "start_time": "2022-09-20T17:22:37.927Z"
   },
   {
    "duration": 21,
    "start_time": "2022-09-20T17:22:37.946Z"
   },
   {
    "duration": 17,
    "start_time": "2022-09-20T17:22:37.968Z"
   },
   {
    "duration": 9,
    "start_time": "2022-09-20T17:22:37.986Z"
   },
   {
    "duration": 28,
    "start_time": "2022-09-20T17:22:38.022Z"
   },
   {
    "duration": 21,
    "start_time": "2022-09-20T17:22:38.051Z"
   },
   {
    "duration": 18,
    "start_time": "2022-09-20T17:22:38.074Z"
   },
   {
    "duration": 40,
    "start_time": "2022-09-20T17:22:38.094Z"
   },
   {
    "duration": 7,
    "start_time": "2022-09-20T17:22:38.136Z"
   },
   {
    "duration": 128,
    "start_time": "2022-09-20T17:22:38.146Z"
   },
   {
    "duration": 17,
    "start_time": "2022-09-20T17:22:45.225Z"
   },
   {
    "duration": 32,
    "start_time": "2022-09-20T17:22:48.971Z"
   },
   {
    "duration": 127,
    "start_time": "2022-09-20T17:23:35.667Z"
   },
   {
    "duration": 24,
    "start_time": "2022-09-20T17:23:42.156Z"
   },
   {
    "duration": 11,
    "start_time": "2022-09-20T17:23:55.555Z"
   },
   {
    "duration": 24,
    "start_time": "2022-09-20T17:23:58.734Z"
   },
   {
    "duration": 18,
    "start_time": "2022-09-20T17:24:20.316Z"
   },
   {
    "duration": 14,
    "start_time": "2022-09-20T17:24:34.477Z"
   },
   {
    "duration": 28,
    "start_time": "2022-09-20T17:24:37.319Z"
   },
   {
    "duration": 20,
    "start_time": "2022-09-20T17:26:53.122Z"
   },
   {
    "duration": 994,
    "start_time": "2022-09-20T17:26:58.037Z"
   },
   {
    "duration": 620,
    "start_time": "2022-09-20T17:26:59.033Z"
   },
   {
    "duration": 13,
    "start_time": "2022-09-20T17:26:59.655Z"
   },
   {
    "duration": 15,
    "start_time": "2022-09-20T17:26:59.670Z"
   },
   {
    "duration": 12,
    "start_time": "2022-09-20T17:26:59.687Z"
   },
   {
    "duration": 29,
    "start_time": "2022-09-20T17:26:59.700Z"
   },
   {
    "duration": 10,
    "start_time": "2022-09-20T17:26:59.731Z"
   },
   {
    "duration": 28,
    "start_time": "2022-09-20T17:26:59.743Z"
   },
   {
    "duration": 15,
    "start_time": "2022-09-20T17:26:59.773Z"
   },
   {
    "duration": 18,
    "start_time": "2022-09-20T17:26:59.790Z"
   },
   {
    "duration": 21,
    "start_time": "2022-09-20T17:26:59.809Z"
   },
   {
    "duration": 7,
    "start_time": "2022-09-20T17:26:59.832Z"
   },
   {
    "duration": 20,
    "start_time": "2022-09-20T17:26:59.840Z"
   },
   {
    "duration": 17,
    "start_time": "2022-09-20T17:26:59.861Z"
   },
   {
    "duration": 24,
    "start_time": "2022-09-20T17:26:59.879Z"
   },
   {
    "duration": 104,
    "start_time": "2022-09-20T17:26:59.905Z"
   },
   {
    "duration": 11,
    "start_time": "2022-09-20T20:20:44.289Z"
   },
   {
    "duration": 20,
    "start_time": "2022-09-20T20:20:55.513Z"
   },
   {
    "duration": 10,
    "start_time": "2022-09-20T20:21:38.596Z"
   },
   {
    "duration": 8,
    "start_time": "2022-09-20T20:22:35.823Z"
   },
   {
    "duration": 8,
    "start_time": "2022-09-20T20:22:46.757Z"
   },
   {
    "duration": 7,
    "start_time": "2022-09-20T20:23:07.575Z"
   },
   {
    "duration": 8,
    "start_time": "2022-09-20T20:23:11.536Z"
   },
   {
    "duration": 9,
    "start_time": "2022-09-20T20:23:29.527Z"
   },
   {
    "duration": 8,
    "start_time": "2022-09-20T20:23:41.983Z"
   },
   {
    "duration": 7,
    "start_time": "2022-09-20T20:24:09.633Z"
   },
   {
    "duration": 4,
    "start_time": "2022-09-20T20:24:12.553Z"
   },
   {
    "duration": 72,
    "start_time": "2022-09-20T20:24:19.516Z"
   },
   {
    "duration": 31,
    "start_time": "2022-09-20T20:24:24.091Z"
   },
   {
    "duration": 169,
    "start_time": "2022-09-20T20:24:51.250Z"
   },
   {
    "duration": 10,
    "start_time": "2022-09-20T20:25:00.299Z"
   },
   {
    "duration": 10,
    "start_time": "2022-09-20T20:25:06.518Z"
   },
   {
    "duration": 161,
    "start_time": "2022-09-20T20:25:14.579Z"
   },
   {
    "duration": 11,
    "start_time": "2022-09-20T20:25:40.340Z"
   },
   {
    "duration": 11,
    "start_time": "2022-09-20T20:25:43.085Z"
   },
   {
    "duration": 177,
    "start_time": "2022-09-20T20:25:49.981Z"
   },
   {
    "duration": 8,
    "start_time": "2022-09-20T20:26:54.313Z"
   },
   {
    "duration": 1196,
    "start_time": "2022-09-20T20:27:32.230Z"
   },
   {
    "duration": 1118,
    "start_time": "2022-09-20T20:27:55.362Z"
   },
   {
    "duration": 10,
    "start_time": "2022-09-20T20:28:02.410Z"
   },
   {
    "duration": 21,
    "start_time": "2022-09-20T20:28:19.420Z"
   },
   {
    "duration": 9,
    "start_time": "2022-09-20T20:28:33.580Z"
   },
   {
    "duration": 34,
    "start_time": "2022-09-20T20:29:14.220Z"
   },
   {
    "duration": 30,
    "start_time": "2022-09-20T20:29:22.653Z"
   },
   {
    "duration": 21,
    "start_time": "2022-09-20T20:29:30.389Z"
   },
   {
    "duration": 20,
    "start_time": "2022-09-20T20:29:59.129Z"
   },
   {
    "duration": 19,
    "start_time": "2022-09-20T20:30:11.888Z"
   },
   {
    "duration": 11,
    "start_time": "2022-09-20T20:30:26.662Z"
   },
   {
    "duration": 20,
    "start_time": "2022-09-20T20:30:46.609Z"
   },
   {
    "duration": 7,
    "start_time": "2022-09-20T20:30:57.872Z"
   },
   {
    "duration": 46,
    "start_time": "2022-09-21T15:50:51.849Z"
   },
   {
    "duration": 997,
    "start_time": "2022-09-21T15:50:56.584Z"
   },
   {
    "duration": 2917,
    "start_time": "2022-09-21T15:50:57.582Z"
   },
   {
    "duration": 13,
    "start_time": "2022-09-21T15:51:00.501Z"
   },
   {
    "duration": 28,
    "start_time": "2022-09-21T15:51:00.516Z"
   },
   {
    "duration": 17,
    "start_time": "2022-09-21T15:51:00.546Z"
   },
   {
    "duration": 22,
    "start_time": "2022-09-21T15:51:00.565Z"
   },
   {
    "duration": 23,
    "start_time": "2022-09-21T15:51:00.589Z"
   },
   {
    "duration": 42,
    "start_time": "2022-09-21T15:51:00.613Z"
   },
   {
    "duration": 21,
    "start_time": "2022-09-21T15:51:00.657Z"
   },
   {
    "duration": 46,
    "start_time": "2022-09-21T15:51:00.680Z"
   },
   {
    "duration": 19,
    "start_time": "2022-09-21T15:51:00.727Z"
   },
   {
    "duration": 12,
    "start_time": "2022-09-21T15:51:00.748Z"
   },
   {
    "duration": 34,
    "start_time": "2022-09-21T15:51:00.762Z"
   },
   {
    "duration": 19,
    "start_time": "2022-09-21T15:51:00.797Z"
   },
   {
    "duration": 104,
    "start_time": "2022-09-21T15:51:00.817Z"
   },
   {
    "duration": 845,
    "start_time": "2022-09-21T15:51:15.634Z"
   },
   {
    "duration": 66,
    "start_time": "2022-09-21T15:51:59.707Z"
   },
   {
    "duration": 824,
    "start_time": "2022-09-21T15:52:23.276Z"
   },
   {
    "duration": 157,
    "start_time": "2022-09-21T16:12:14.078Z"
   },
   {
    "duration": 28,
    "start_time": "2022-09-21T16:12:18.650Z"
   },
   {
    "duration": 18,
    "start_time": "2022-09-21T16:12:39.298Z"
   },
   {
    "duration": 34,
    "start_time": "2022-09-21T16:12:40.017Z"
   },
   {
    "duration": 19,
    "start_time": "2022-09-21T16:12:44.814Z"
   },
   {
    "duration": 29,
    "start_time": "2022-09-21T16:12:45.386Z"
   },
   {
    "duration": 146,
    "start_time": "2022-09-21T16:12:51.722Z"
   },
   {
    "duration": 27,
    "start_time": "2022-09-21T16:12:52.266Z"
   },
   {
    "duration": 138,
    "start_time": "2022-09-21T16:19:44.749Z"
   },
   {
    "duration": 25,
    "start_time": "2022-09-21T16:19:47.344Z"
   },
   {
    "duration": 9,
    "start_time": "2022-09-21T16:20:05.058Z"
   },
   {
    "duration": 28,
    "start_time": "2022-09-21T16:20:05.363Z"
   },
   {
    "duration": 144,
    "start_time": "2022-09-21T16:20:15.586Z"
   },
   {
    "duration": 25,
    "start_time": "2022-09-21T16:20:20.914Z"
   },
   {
    "duration": 229,
    "start_time": "2022-09-21T16:20:41.884Z"
   },
   {
    "duration": 8,
    "start_time": "2022-09-21T16:21:00.612Z"
   },
   {
    "duration": 8,
    "start_time": "2022-09-21T16:21:05.054Z"
   },
   {
    "duration": 9,
    "start_time": "2022-09-21T16:21:18.076Z"
   },
   {
    "duration": 8,
    "start_time": "2022-09-21T16:23:11.379Z"
   },
   {
    "duration": 13,
    "start_time": "2022-09-21T16:23:11.642Z"
   },
   {
    "duration": 150,
    "start_time": "2022-09-21T16:23:18.265Z"
   },
   {
    "duration": 7,
    "start_time": "2022-09-21T16:23:19.234Z"
   },
   {
    "duration": 9,
    "start_time": "2022-09-21T16:32:43.013Z"
   },
   {
    "duration": 12,
    "start_time": "2022-09-21T16:32:44.253Z"
   },
   {
    "duration": 11,
    "start_time": "2022-09-21T16:32:44.367Z"
   },
   {
    "duration": 224,
    "start_time": "2022-09-21T16:32:48.692Z"
   },
   {
    "duration": 135,
    "start_time": "2022-09-21T16:34:34.317Z"
   },
   {
    "duration": 8,
    "start_time": "2022-09-21T16:34:34.454Z"
   },
   {
    "duration": 8,
    "start_time": "2022-09-21T16:34:34.536Z"
   },
   {
    "duration": 21,
    "start_time": "2022-09-21T16:38:33.679Z"
   },
   {
    "duration": 10,
    "start_time": "2022-09-21T16:39:02.280Z"
   },
   {
    "duration": 21,
    "start_time": "2022-09-21T16:39:51.475Z"
   },
   {
    "duration": 8,
    "start_time": "2022-09-21T16:40:01.049Z"
   },
   {
    "duration": 9,
    "start_time": "2022-09-21T16:40:25.130Z"
   },
   {
    "duration": 7,
    "start_time": "2022-09-21T16:40:34.042Z"
   },
   {
    "duration": 7,
    "start_time": "2022-09-21T16:40:54.374Z"
   },
   {
    "duration": 9,
    "start_time": "2022-09-21T16:41:08.166Z"
   },
   {
    "duration": 29,
    "start_time": "2022-09-21T16:57:02.954Z"
   },
   {
    "duration": 12,
    "start_time": "2022-09-21T16:57:23.172Z"
   },
   {
    "duration": 12,
    "start_time": "2022-09-21T16:57:43.232Z"
   },
   {
    "duration": 1208,
    "start_time": "2022-09-21T17:05:08.337Z"
   },
   {
    "duration": 1330,
    "start_time": "2022-09-21T17:05:18.474Z"
   },
   {
    "duration": 12,
    "start_time": "2022-09-21T17:05:33.497Z"
   },
   {
    "duration": 12,
    "start_time": "2022-09-21T17:05:41.199Z"
   },
   {
    "duration": 11,
    "start_time": "2022-09-21T17:05:44.871Z"
   },
   {
    "duration": 9,
    "start_time": "2022-09-21T17:06:12.890Z"
   },
   {
    "duration": 30,
    "start_time": "2022-09-21T17:06:33.418Z"
   },
   {
    "duration": 14,
    "start_time": "2022-09-21T17:06:53.599Z"
   },
   {
    "duration": 15,
    "start_time": "2022-09-21T17:07:08.762Z"
   },
   {
    "duration": 35,
    "start_time": "2022-09-21T17:07:31.363Z"
   },
   {
    "duration": 13,
    "start_time": "2022-09-21T17:07:45.735Z"
   },
   {
    "duration": 36,
    "start_time": "2022-09-21T17:08:32.867Z"
   },
   {
    "duration": 10,
    "start_time": "2022-09-21T17:08:34.231Z"
   },
   {
    "duration": 1009,
    "start_time": "2022-09-21T17:08:42.689Z"
   },
   {
    "duration": 704,
    "start_time": "2022-09-21T17:08:43.701Z"
   },
   {
    "duration": 15,
    "start_time": "2022-09-21T17:08:44.407Z"
   },
   {
    "duration": 21,
    "start_time": "2022-09-21T17:08:44.433Z"
   },
   {
    "duration": 22,
    "start_time": "2022-09-21T17:08:44.456Z"
   },
   {
    "duration": 16,
    "start_time": "2022-09-21T17:08:44.480Z"
   },
   {
    "duration": 36,
    "start_time": "2022-09-21T17:08:44.498Z"
   },
   {
    "duration": 24,
    "start_time": "2022-09-21T17:08:44.541Z"
   },
   {
    "duration": 20,
    "start_time": "2022-09-21T17:08:44.567Z"
   },
   {
    "duration": 20,
    "start_time": "2022-09-21T17:08:44.589Z"
   },
   {
    "duration": 42,
    "start_time": "2022-09-21T17:08:44.611Z"
   },
   {
    "duration": 6,
    "start_time": "2022-09-21T17:08:44.655Z"
   },
   {
    "duration": 20,
    "start_time": "2022-09-21T17:08:44.663Z"
   },
   {
    "duration": 51,
    "start_time": "2022-09-21T17:08:44.685Z"
   },
   {
    "duration": 12,
    "start_time": "2022-09-21T17:08:44.741Z"
   },
   {
    "duration": 100,
    "start_time": "2022-09-21T17:27:00.023Z"
   },
   {
    "duration": 14,
    "start_time": "2022-09-21T17:27:34.182Z"
   },
   {
    "duration": 11,
    "start_time": "2022-09-21T17:27:40.408Z"
   },
   {
    "duration": 8,
    "start_time": "2022-09-21T17:28:08.962Z"
   },
   {
    "duration": 9,
    "start_time": "2022-09-21T17:28:25.954Z"
   },
   {
    "duration": 10,
    "start_time": "2022-09-21T17:28:40.716Z"
   },
   {
    "duration": 13,
    "start_time": "2022-09-21T17:29:05.338Z"
   },
   {
    "duration": 8,
    "start_time": "2022-09-21T17:30:00.951Z"
   },
   {
    "duration": 5,
    "start_time": "2022-09-21T17:35:19.640Z"
   },
   {
    "duration": 13,
    "start_time": "2022-09-21T17:35:32.694Z"
   },
   {
    "duration": 13,
    "start_time": "2022-09-21T17:35:44.457Z"
   },
   {
    "duration": 10,
    "start_time": "2022-09-21T17:36:23.509Z"
   },
   {
    "duration": 6,
    "start_time": "2022-09-21T17:36:28.897Z"
   },
   {
    "duration": 12,
    "start_time": "2022-09-21T17:38:31.538Z"
   },
   {
    "duration": 13,
    "start_time": "2022-09-21T18:02:04.006Z"
   },
   {
    "duration": 11,
    "start_time": "2022-09-21T18:02:12.446Z"
   },
   {
    "duration": 63,
    "start_time": "2022-09-23T17:02:34.140Z"
   },
   {
    "duration": 1058,
    "start_time": "2022-09-23T17:02:41.549Z"
   },
   {
    "duration": 2935,
    "start_time": "2022-09-23T17:02:42.610Z"
   },
   {
    "duration": 13,
    "start_time": "2022-09-23T17:02:45.547Z"
   },
   {
    "duration": 17,
    "start_time": "2022-09-23T17:02:45.562Z"
   },
   {
    "duration": 15,
    "start_time": "2022-09-23T17:02:45.581Z"
   },
   {
    "duration": 19,
    "start_time": "2022-09-23T17:02:45.597Z"
   },
   {
    "duration": 5,
    "start_time": "2022-09-23T17:02:45.618Z"
   },
   {
    "duration": 22,
    "start_time": "2022-09-23T17:02:45.625Z"
   },
   {
    "duration": 16,
    "start_time": "2022-09-23T17:02:45.649Z"
   },
   {
    "duration": 17,
    "start_time": "2022-09-23T17:02:45.669Z"
   },
   {
    "duration": 15,
    "start_time": "2022-09-23T17:02:45.709Z"
   },
   {
    "duration": 6,
    "start_time": "2022-09-23T17:02:45.725Z"
   },
   {
    "duration": 14,
    "start_time": "2022-09-23T17:02:45.732Z"
   },
   {
    "duration": 37,
    "start_time": "2022-09-23T17:02:45.748Z"
   },
   {
    "duration": 24,
    "start_time": "2022-09-23T17:02:45.786Z"
   },
   {
    "duration": 119,
    "start_time": "2022-09-23T17:02:45.812Z"
   },
   {
    "duration": 0,
    "start_time": "2022-09-23T17:02:45.933Z"
   },
   {
    "duration": 9,
    "start_time": "2022-09-23T17:03:02.564Z"
   },
   {
    "duration": 8,
    "start_time": "2022-09-23T17:03:19.653Z"
   },
   {
    "duration": 8,
    "start_time": "2022-09-23T17:03:27.021Z"
   },
   {
    "duration": 76,
    "start_time": "2022-09-23T17:04:24.904Z"
   },
   {
    "duration": 8,
    "start_time": "2022-09-23T17:04:27.999Z"
   },
   {
    "duration": 64,
    "start_time": "2022-09-23T17:04:45.608Z"
   },
   {
    "duration": 9,
    "start_time": "2022-09-23T17:04:48.594Z"
   },
   {
    "duration": 8,
    "start_time": "2022-09-23T17:05:01.074Z"
   },
   {
    "duration": 3,
    "start_time": "2022-09-23T17:06:41.254Z"
   },
   {
    "duration": 4,
    "start_time": "2022-09-23T17:06:53.373Z"
   },
   {
    "duration": 11,
    "start_time": "2022-09-23T17:08:38.729Z"
   },
   {
    "duration": 13,
    "start_time": "2022-09-23T17:08:44.617Z"
   },
   {
    "duration": 12,
    "start_time": "2022-09-23T17:08:48.195Z"
   },
   {
    "duration": 13,
    "start_time": "2022-09-23T17:09:01.082Z"
   },
   {
    "duration": 9,
    "start_time": "2022-09-23T17:09:05.906Z"
   },
   {
    "duration": 5,
    "start_time": "2022-09-23T17:10:16.885Z"
   },
   {
    "duration": 4,
    "start_time": "2022-09-23T17:10:38.029Z"
   },
   {
    "duration": 57,
    "start_time": "2022-09-23T17:11:15.821Z"
   },
   {
    "duration": 11,
    "start_time": "2022-09-23T17:11:21.215Z"
   },
   {
    "duration": 615,
    "start_time": "2022-09-23T17:11:34.855Z"
   },
   {
    "duration": 17,
    "start_time": "2022-09-23T17:11:46.895Z"
   },
   {
    "duration": 115,
    "start_time": "2022-09-23T17:12:20.583Z"
   },
   {
    "duration": 15,
    "start_time": "2022-09-23T17:12:33.161Z"
   },
   {
    "duration": 71,
    "start_time": "2022-09-23T17:12:38.553Z"
   },
   {
    "duration": 15,
    "start_time": "2022-09-23T17:12:44.789Z"
   },
   {
    "duration": 17,
    "start_time": "2022-09-23T17:12:51.441Z"
   },
   {
    "duration": 548,
    "start_time": "2022-09-23T17:12:54.786Z"
   },
   {
    "duration": 13,
    "start_time": "2022-09-23T17:13:19.188Z"
   },
   {
    "duration": 26,
    "start_time": "2022-09-23T17:13:25.765Z"
   },
   {
    "duration": 13,
    "start_time": "2022-09-23T17:13:35.659Z"
   },
   {
    "duration": 15,
    "start_time": "2022-09-23T17:13:47.389Z"
   },
   {
    "duration": 14,
    "start_time": "2022-09-23T17:13:55.981Z"
   },
   {
    "duration": 5,
    "start_time": "2022-09-23T17:14:00.095Z"
   },
   {
    "duration": 5,
    "start_time": "2022-09-23T17:14:05.281Z"
   },
   {
    "duration": 6,
    "start_time": "2022-09-23T17:14:18.406Z"
   },
   {
    "duration": 91,
    "start_time": "2022-09-23T17:14:29.103Z"
   },
   {
    "duration": 4,
    "start_time": "2022-09-23T17:14:33.677Z"
   },
   {
    "duration": 4,
    "start_time": "2022-09-23T17:15:01.377Z"
   },
   {
    "duration": 5,
    "start_time": "2022-09-23T17:15:12.695Z"
   },
   {
    "duration": 4,
    "start_time": "2022-09-23T17:15:16.913Z"
   },
   {
    "duration": 15,
    "start_time": "2022-09-23T17:15:23.496Z"
   },
   {
    "duration": 1103,
    "start_time": "2022-09-23T17:15:42.040Z"
   },
   {
    "duration": 69,
    "start_time": "2022-09-23T17:22:13.536Z"
   },
   {
    "duration": 124,
    "start_time": "2022-09-23T17:26:05.369Z"
   },
   {
    "duration": 33,
    "start_time": "2022-09-23T17:26:09.379Z"
   },
   {
    "duration": 17,
    "start_time": "2022-09-23T17:26:24.162Z"
   },
   {
    "duration": 16,
    "start_time": "2022-09-23T17:26:37.823Z"
   },
   {
    "duration": 16,
    "start_time": "2022-09-23T17:26:45.097Z"
   },
   {
    "duration": 19,
    "start_time": "2022-09-23T17:27:51.309Z"
   },
   {
    "duration": 16,
    "start_time": "2022-09-23T17:27:58.646Z"
   },
   {
    "duration": 15,
    "start_time": "2022-09-23T17:28:02.036Z"
   },
   {
    "duration": 24,
    "start_time": "2022-09-23T17:28:33.366Z"
   },
   {
    "duration": 9,
    "start_time": "2022-09-23T17:28:57.502Z"
   },
   {
    "duration": 135,
    "start_time": "2022-09-23T17:29:27.583Z"
   },
   {
    "duration": 245,
    "start_time": "2022-09-23T17:29:39.020Z"
   },
   {
    "duration": 16,
    "start_time": "2022-09-23T17:35:33.344Z"
   },
   {
    "duration": 119,
    "start_time": "2022-09-23T17:35:42.789Z"
   },
   {
    "duration": 82,
    "start_time": "2022-09-23T17:35:45.779Z"
   },
   {
    "duration": 141,
    "start_time": "2022-09-23T17:36:02.103Z"
   },
   {
    "duration": 47,
    "start_time": "2022-09-23T17:36:05.120Z"
   },
   {
    "duration": 136,
    "start_time": "2022-09-23T17:37:29.698Z"
   },
   {
    "duration": 51,
    "start_time": "2022-09-23T17:37:32.883Z"
   },
   {
    "duration": 99,
    "start_time": "2022-09-23T17:37:37.370Z"
   },
   {
    "duration": 49,
    "start_time": "2022-09-23T17:37:39.442Z"
   },
   {
    "duration": 10,
    "start_time": "2022-09-23T17:38:40.660Z"
   },
   {
    "duration": 15,
    "start_time": "2022-09-23T17:38:48.540Z"
   },
   {
    "duration": 14,
    "start_time": "2022-09-23T17:38:55.758Z"
   },
   {
    "duration": 96,
    "start_time": "2022-09-23T17:39:53.159Z"
   },
   {
    "duration": 57,
    "start_time": "2022-09-23T17:39:54.736Z"
   },
   {
    "duration": 106,
    "start_time": "2022-09-23T17:40:02.455Z"
   },
   {
    "duration": 101,
    "start_time": "2022-09-23T17:40:03.334Z"
   },
   {
    "duration": 51,
    "start_time": "2022-09-23T17:40:03.520Z"
   },
   {
    "duration": 4,
    "start_time": "2022-09-23T17:40:18.359Z"
   },
   {
    "duration": 7,
    "start_time": "2022-09-23T17:43:28.135Z"
   },
   {
    "duration": 4,
    "start_time": "2022-09-23T17:43:31.723Z"
   },
   {
    "duration": 7,
    "start_time": "2022-09-23T17:44:03.240Z"
   },
   {
    "duration": 5,
    "start_time": "2022-09-23T17:44:05.528Z"
   },
   {
    "duration": 6,
    "start_time": "2022-09-23T17:44:28.168Z"
   },
   {
    "duration": 8,
    "start_time": "2022-09-23T17:44:29.502Z"
   },
   {
    "duration": 19,
    "start_time": "2022-09-23T17:45:17.258Z"
   },
   {
    "duration": 3,
    "start_time": "2022-09-23T17:45:27.315Z"
   },
   {
    "duration": 91,
    "start_time": "2022-09-23T17:45:43.133Z"
   },
   {
    "duration": 7,
    "start_time": "2022-09-23T17:46:36.237Z"
   },
   {
    "duration": 14,
    "start_time": "2022-09-23T17:46:46.933Z"
   },
   {
    "duration": 13,
    "start_time": "2022-09-23T17:46:57.935Z"
   },
   {
    "duration": 230,
    "start_time": "2022-09-23T17:49:07.508Z"
   },
   {
    "duration": 93,
    "start_time": "2022-09-23T17:49:51.405Z"
   },
   {
    "duration": 7,
    "start_time": "2022-09-23T17:49:55.724Z"
   },
   {
    "duration": 7,
    "start_time": "2022-09-23T17:49:59.826Z"
   },
   {
    "duration": 7,
    "start_time": "2022-09-23T17:50:25.309Z"
   },
   {
    "duration": 156,
    "start_time": "2022-09-23T17:50:30.062Z"
   },
   {
    "duration": 154,
    "start_time": "2022-09-23T17:50:38.414Z"
   },
   {
    "duration": 3,
    "start_time": "2022-09-23T17:51:28.185Z"
   },
   {
    "duration": 207,
    "start_time": "2022-09-23T17:51:39.524Z"
   },
   {
    "duration": 208,
    "start_time": "2022-09-23T17:52:08.545Z"
   },
   {
    "duration": 213,
    "start_time": "2022-09-23T17:52:25.090Z"
   },
   {
    "duration": 221,
    "start_time": "2022-09-23T17:52:32.331Z"
   },
   {
    "duration": 214,
    "start_time": "2022-09-23T17:52:39.907Z"
   },
   {
    "duration": 211,
    "start_time": "2022-09-23T17:53:07.781Z"
   },
   {
    "duration": 286,
    "start_time": "2022-09-23T17:54:51.392Z"
   },
   {
    "duration": 224,
    "start_time": "2022-09-23T17:55:20.609Z"
   },
   {
    "duration": 56,
    "start_time": "2022-09-23T18:10:15.908Z"
   },
   {
    "duration": 3,
    "start_time": "2022-09-23T18:10:20.878Z"
   },
   {
    "duration": 16,
    "start_time": "2022-09-23T18:12:02.822Z"
   },
   {
    "duration": 15,
    "start_time": "2022-09-23T18:13:06.658Z"
   },
   {
    "duration": 20,
    "start_time": "2022-09-23T18:13:34.171Z"
   },
   {
    "duration": 8,
    "start_time": "2022-09-23T18:14:42.221Z"
   },
   {
    "duration": 5,
    "start_time": "2022-09-23T18:14:45.429Z"
   },
   {
    "duration": 4,
    "start_time": "2022-09-23T18:14:49.980Z"
   },
   {
    "duration": 7,
    "start_time": "2022-09-23T18:15:22.481Z"
   },
   {
    "duration": 7,
    "start_time": "2022-09-23T18:15:35.986Z"
   },
   {
    "duration": 7,
    "start_time": "2022-09-23T18:15:38.645Z"
   },
   {
    "duration": 12,
    "start_time": "2022-09-23T18:15:53.472Z"
   },
   {
    "duration": 17,
    "start_time": "2022-09-23T18:16:06.433Z"
   },
   {
    "duration": 7,
    "start_time": "2022-09-23T18:17:03.322Z"
   },
   {
    "duration": 6,
    "start_time": "2022-09-23T18:17:07.817Z"
   },
   {
    "duration": 8,
    "start_time": "2022-09-23T18:17:13.722Z"
   },
   {
    "duration": 6,
    "start_time": "2022-09-23T18:17:19.259Z"
   },
   {
    "duration": 8,
    "start_time": "2022-09-23T18:17:40.565Z"
   },
   {
    "duration": 11,
    "start_time": "2022-09-23T18:17:52.851Z"
   },
   {
    "duration": 10,
    "start_time": "2022-09-23T18:18:20.901Z"
   },
   {
    "duration": 7,
    "start_time": "2022-09-23T18:18:47.141Z"
   },
   {
    "duration": 7,
    "start_time": "2022-09-23T18:18:50.581Z"
   },
   {
    "duration": 10,
    "start_time": "2022-09-23T18:18:51.229Z"
   },
   {
    "duration": 7,
    "start_time": "2022-09-23T18:18:59.053Z"
   },
   {
    "duration": 10,
    "start_time": "2022-09-23T18:19:17.527Z"
   },
   {
    "duration": 12,
    "start_time": "2022-09-23T18:19:35.464Z"
   },
   {
    "duration": 8,
    "start_time": "2022-09-23T18:19:46.039Z"
   },
   {
    "duration": 8,
    "start_time": "2022-09-23T18:21:01.458Z"
   },
   {
    "duration": 9,
    "start_time": "2022-09-23T18:21:15.419Z"
   },
   {
    "duration": 9,
    "start_time": "2022-09-23T18:21:21.569Z"
   },
   {
    "duration": 8,
    "start_time": "2022-09-23T18:21:40.021Z"
   },
   {
    "duration": 8,
    "start_time": "2022-09-23T18:22:55.935Z"
   },
   {
    "duration": 8,
    "start_time": "2022-09-23T18:23:00.391Z"
   },
   {
    "duration": 7,
    "start_time": "2022-09-23T18:23:49.125Z"
   },
   {
    "duration": 103,
    "start_time": "2022-09-23T18:25:43.518Z"
   },
   {
    "duration": 12,
    "start_time": "2022-09-23T18:27:08.304Z"
   },
   {
    "duration": 14,
    "start_time": "2022-09-23T18:27:12.673Z"
   },
   {
    "duration": 12,
    "start_time": "2022-09-23T18:27:44.323Z"
   },
   {
    "duration": 11,
    "start_time": "2022-09-23T18:27:55.042Z"
   },
   {
    "duration": 6,
    "start_time": "2022-09-23T18:28:34.020Z"
   },
   {
    "duration": 6,
    "start_time": "2022-09-23T18:28:36.916Z"
   },
   {
    "duration": 273,
    "start_time": "2022-09-23T18:28:41.998Z"
   },
   {
    "duration": 12,
    "start_time": "2022-09-23T18:28:55.181Z"
   },
   {
    "duration": 10,
    "start_time": "2022-09-23T18:29:31.974Z"
   },
   {
    "duration": 10,
    "start_time": "2022-09-23T18:29:36.870Z"
   },
   {
    "duration": 17,
    "start_time": "2022-09-23T18:29:42.992Z"
   },
   {
    "duration": 133,
    "start_time": "2022-09-23T18:29:53.303Z"
   },
   {
    "duration": 123,
    "start_time": "2022-09-23T18:29:59.871Z"
   },
   {
    "duration": 123,
    "start_time": "2022-09-23T18:30:31.200Z"
   },
   {
    "duration": 125,
    "start_time": "2022-09-23T18:30:39.464Z"
   },
   {
    "duration": 135,
    "start_time": "2022-09-23T18:30:53.833Z"
   },
   {
    "duration": 177,
    "start_time": "2022-09-23T18:31:04.122Z"
   },
   {
    "duration": 168,
    "start_time": "2022-09-23T18:31:26.922Z"
   },
   {
    "duration": 48,
    "start_time": "2022-09-23T19:52:32.470Z"
   },
   {
    "duration": 1529,
    "start_time": "2022-09-23T19:52:50.325Z"
   },
   {
    "duration": 1857,
    "start_time": "2022-09-23T19:52:51.857Z"
   },
   {
    "duration": 14,
    "start_time": "2022-09-23T19:52:53.715Z"
   },
   {
    "duration": 15,
    "start_time": "2022-09-23T19:52:53.731Z"
   },
   {
    "duration": 15,
    "start_time": "2022-09-23T19:52:53.748Z"
   },
   {
    "duration": 9,
    "start_time": "2022-09-23T19:52:53.765Z"
   },
   {
    "duration": 15,
    "start_time": "2022-09-23T19:52:53.776Z"
   },
   {
    "duration": 24,
    "start_time": "2022-09-23T19:52:53.792Z"
   },
   {
    "duration": 20,
    "start_time": "2022-09-23T19:52:53.818Z"
   },
   {
    "duration": 19,
    "start_time": "2022-09-23T19:52:53.840Z"
   },
   {
    "duration": 36,
    "start_time": "2022-09-23T19:52:53.861Z"
   },
   {
    "duration": 4,
    "start_time": "2022-09-23T19:52:53.899Z"
   },
   {
    "duration": 19,
    "start_time": "2022-09-23T19:52:53.904Z"
   },
   {
    "duration": 40,
    "start_time": "2022-09-23T19:52:53.925Z"
   },
   {
    "duration": 24,
    "start_time": "2022-09-23T19:52:53.967Z"
   },
   {
    "duration": 109,
    "start_time": "2022-09-23T19:52:53.993Z"
   },
   {
    "duration": 0,
    "start_time": "2022-09-23T19:52:54.104Z"
   },
   {
    "duration": 0,
    "start_time": "2022-09-23T19:52:54.106Z"
   },
   {
    "duration": 0,
    "start_time": "2022-09-23T19:52:54.107Z"
   },
   {
    "duration": 0,
    "start_time": "2022-09-23T19:52:54.109Z"
   },
   {
    "duration": 1373,
    "start_time": "2022-09-23T19:57:03.700Z"
   },
   {
    "duration": 680,
    "start_time": "2022-09-23T19:57:05.075Z"
   },
   {
    "duration": 14,
    "start_time": "2022-09-23T19:57:05.759Z"
   },
   {
    "duration": 30,
    "start_time": "2022-09-23T19:57:05.775Z"
   },
   {
    "duration": 16,
    "start_time": "2022-09-23T19:57:05.807Z"
   },
   {
    "duration": 12,
    "start_time": "2022-09-23T19:57:05.824Z"
   },
   {
    "duration": 7,
    "start_time": "2022-09-23T19:57:05.838Z"
   },
   {
    "duration": 54,
    "start_time": "2022-09-23T19:57:05.847Z"
   },
   {
    "duration": 20,
    "start_time": "2022-09-23T19:57:05.903Z"
   },
   {
    "duration": 20,
    "start_time": "2022-09-23T19:57:05.925Z"
   },
   {
    "duration": 13,
    "start_time": "2022-09-23T19:57:05.946Z"
   },
   {
    "duration": 29,
    "start_time": "2022-09-23T19:57:05.961Z"
   },
   {
    "duration": 16,
    "start_time": "2022-09-23T19:57:05.993Z"
   },
   {
    "duration": 42,
    "start_time": "2022-09-23T19:57:06.010Z"
   },
   {
    "duration": 7,
    "start_time": "2022-09-23T19:57:06.054Z"
   },
   {
    "duration": 123,
    "start_time": "2022-09-23T19:57:06.062Z"
   },
   {
    "duration": 0,
    "start_time": "2022-09-23T19:57:06.186Z"
   },
   {
    "duration": 0,
    "start_time": "2022-09-23T19:57:06.189Z"
   },
   {
    "duration": 0,
    "start_time": "2022-09-23T19:57:06.190Z"
   },
   {
    "duration": 0,
    "start_time": "2022-09-23T19:57:06.191Z"
   },
   {
    "duration": 225,
    "start_time": "2022-09-23T19:57:22.699Z"
   },
   {
    "duration": 12,
    "start_time": "2022-09-23T19:57:23.555Z"
   },
   {
    "duration": 179,
    "start_time": "2022-09-23T19:57:24.034Z"
   },
   {
    "duration": 225,
    "start_time": "2022-09-23T19:57:25.883Z"
   },
   {
    "duration": 222,
    "start_time": "2022-09-23T19:58:04.197Z"
   },
   {
    "duration": 229,
    "start_time": "2022-09-23T19:58:09.438Z"
   },
   {
    "duration": 8,
    "start_time": "2022-09-23T19:58:18.704Z"
   },
   {
    "duration": 7,
    "start_time": "2022-09-23T19:58:29.767Z"
   },
   {
    "duration": 22,
    "start_time": "2022-09-23T19:58:40.965Z"
   },
   {
    "duration": 305,
    "start_time": "2022-09-23T19:58:47.478Z"
   },
   {
    "duration": 1347,
    "start_time": "2022-09-23T20:15:45.580Z"
   },
   {
    "duration": 1892,
    "start_time": "2022-09-23T20:16:01.261Z"
   },
   {
    "duration": 710,
    "start_time": "2022-09-23T20:16:23.845Z"
   },
   {
    "duration": 15,
    "start_time": "2022-09-23T20:16:36.222Z"
   },
   {
    "duration": 12,
    "start_time": "2022-09-23T20:16:47.565Z"
   },
   {
    "duration": 19,
    "start_time": "2022-09-23T20:16:54.254Z"
   },
   {
    "duration": 3,
    "start_time": "2022-09-23T20:17:16.206Z"
   },
   {
    "duration": 16,
    "start_time": "2022-09-23T20:17:22.448Z"
   },
   {
    "duration": 4,
    "start_time": "2022-09-23T20:19:44.788Z"
   },
   {
    "duration": 22,
    "start_time": "2022-09-23T20:38:01.068Z"
   },
   {
    "duration": 2,
    "start_time": "2022-09-23T20:38:32.655Z"
   },
   {
    "duration": 3,
    "start_time": "2022-09-23T20:39:42.636Z"
   },
   {
    "duration": 909,
    "start_time": "2022-09-23T20:39:56.252Z"
   },
   {
    "duration": 59,
    "start_time": "2022-09-23T20:41:28.254Z"
   },
   {
    "duration": 18,
    "start_time": "2022-09-23T20:46:32.354Z"
   },
   {
    "duration": 854,
    "start_time": "2022-09-23T20:46:34.513Z"
   },
   {
    "duration": 13,
    "start_time": "2022-09-23T20:48:55.095Z"
   },
   {
    "duration": 14,
    "start_time": "2022-09-23T20:49:03.480Z"
   },
   {
    "duration": 89,
    "start_time": "2022-09-23T20:49:22.433Z"
   },
   {
    "duration": 104,
    "start_time": "2022-09-23T20:50:01.401Z"
   },
   {
    "duration": 100,
    "start_time": "2022-09-23T20:50:37.347Z"
   },
   {
    "duration": 667,
    "start_time": "2022-09-23T20:50:53.540Z"
   },
   {
    "duration": 1204,
    "start_time": "2022-09-23T20:51:15.094Z"
   },
   {
    "duration": 496,
    "start_time": "2022-09-23T20:51:23.901Z"
   },
   {
    "duration": 702,
    "start_time": "2022-09-23T20:51:46.590Z"
   },
   {
    "duration": 1414,
    "start_time": "2022-09-23T20:52:53.364Z"
   },
   {
    "duration": 3064,
    "start_time": "2022-09-23T20:53:05.457Z"
   },
   {
    "duration": 3025,
    "start_time": "2022-09-23T20:53:23.140Z"
   },
   {
    "duration": 2932,
    "start_time": "2022-09-23T20:53:48.131Z"
   },
   {
    "duration": 2745,
    "start_time": "2022-09-23T20:54:43.543Z"
   },
   {
    "duration": 2469,
    "start_time": "2022-09-23T20:54:51.508Z"
   },
   {
    "duration": 3080,
    "start_time": "2022-09-23T20:54:56.150Z"
   },
   {
    "duration": 501,
    "start_time": "2022-09-23T20:55:11.802Z"
   },
   {
    "duration": 725,
    "start_time": "2022-09-23T20:55:23.574Z"
   },
   {
    "duration": 59,
    "start_time": "2022-09-24T10:10:01.439Z"
   },
   {
    "duration": 6,
    "start_time": "2022-09-24T10:10:24.276Z"
   },
   {
    "duration": 2064,
    "start_time": "2022-09-24T10:10:36.505Z"
   },
   {
    "duration": 3514,
    "start_time": "2022-09-24T10:10:38.572Z"
   },
   {
    "duration": 15,
    "start_time": "2022-09-24T10:10:42.090Z"
   },
   {
    "duration": 19,
    "start_time": "2022-09-24T10:10:42.107Z"
   },
   {
    "duration": 29,
    "start_time": "2022-09-24T10:10:42.128Z"
   },
   {
    "duration": 11,
    "start_time": "2022-09-24T10:10:42.159Z"
   },
   {
    "duration": 7,
    "start_time": "2022-09-24T10:10:42.171Z"
   },
   {
    "duration": 27,
    "start_time": "2022-09-24T10:10:42.179Z"
   },
   {
    "duration": 46,
    "start_time": "2022-09-24T10:10:42.209Z"
   },
   {
    "duration": 22,
    "start_time": "2022-09-24T10:10:42.257Z"
   },
   {
    "duration": 28,
    "start_time": "2022-09-24T10:10:42.281Z"
   },
   {
    "duration": 10,
    "start_time": "2022-09-24T10:10:42.311Z"
   },
   {
    "duration": 31,
    "start_time": "2022-09-24T10:10:42.323Z"
   },
   {
    "duration": 49,
    "start_time": "2022-09-24T10:10:42.356Z"
   },
   {
    "duration": 8,
    "start_time": "2022-09-24T10:10:42.407Z"
   },
   {
    "duration": 254,
    "start_time": "2022-09-24T10:10:42.416Z"
   },
   {
    "duration": 14,
    "start_time": "2022-09-24T10:10:42.671Z"
   },
   {
    "duration": 218,
    "start_time": "2022-09-24T10:10:42.687Z"
   },
   {
    "duration": 262,
    "start_time": "2022-09-24T10:10:42.907Z"
   },
   {
    "duration": 161,
    "start_time": "2022-09-24T10:10:43.171Z"
   },
   {
    "duration": 43,
    "start_time": "2022-09-24T10:10:43.334Z"
   },
   {
    "duration": 130,
    "start_time": "2022-09-24T10:10:43.379Z"
   },
   {
    "duration": 0,
    "start_time": "2022-09-24T10:10:43.511Z"
   },
   {
    "duration": 19,
    "start_time": "2022-09-24T10:22:23.258Z"
   },
   {
    "duration": 29,
    "start_time": "2022-09-24T10:23:03.804Z"
   },
   {
    "duration": 15,
    "start_time": "2022-09-24T10:30:37.700Z"
   },
   {
    "duration": 6,
    "start_time": "2022-09-24T10:31:27.548Z"
   },
   {
    "duration": 16,
    "start_time": "2022-09-24T10:33:58.595Z"
   },
   {
    "duration": 218,
    "start_time": "2022-09-24T10:34:01.612Z"
   },
   {
    "duration": 68,
    "start_time": "2022-09-24T10:40:25.139Z"
   },
   {
    "duration": 60,
    "start_time": "2022-09-24T10:40:33.425Z"
   },
   {
    "duration": 96,
    "start_time": "2022-09-24T10:40:41.682Z"
   },
   {
    "duration": 3501,
    "start_time": "2022-09-24T10:48:09.589Z"
   },
   {
    "duration": 1646,
    "start_time": "2022-09-24T10:48:33.100Z"
   },
   {
    "duration": 12,
    "start_time": "2022-09-24T10:48:43.652Z"
   },
   {
    "duration": 125,
    "start_time": "2022-09-24T10:49:01.261Z"
   },
   {
    "duration": 319,
    "start_time": "2022-09-24T10:51:18.251Z"
   },
   {
    "duration": 320,
    "start_time": "2022-09-24T10:51:21.780Z"
   },
   {
    "duration": 216,
    "start_time": "2022-09-24T10:56:27.520Z"
   },
   {
    "duration": 6,
    "start_time": "2022-09-24T10:56:38.150Z"
   },
   {
    "duration": 23,
    "start_time": "2022-09-24T10:56:45.504Z"
   },
   {
    "duration": 8,
    "start_time": "2022-09-24T11:00:21.381Z"
   },
   {
    "duration": 7,
    "start_time": "2022-09-24T11:00:34.534Z"
   },
   {
    "duration": 7,
    "start_time": "2022-09-24T11:00:43.543Z"
   },
   {
    "duration": 16,
    "start_time": "2022-09-24T11:01:03.450Z"
   },
   {
    "duration": 20,
    "start_time": "2022-09-24T11:01:57.715Z"
   },
   {
    "duration": 52,
    "start_time": "2022-09-24T11:02:17.986Z"
   },
   {
    "duration": 65,
    "start_time": "2022-09-24T11:02:30.818Z"
   },
   {
    "duration": 50,
    "start_time": "2022-09-24T11:02:36.214Z"
   },
   {
    "duration": 14,
    "start_time": "2022-09-24T11:02:58.589Z"
   },
   {
    "duration": 14,
    "start_time": "2022-09-24T11:03:14.917Z"
   },
   {
    "duration": 9,
    "start_time": "2022-09-24T11:03:24.476Z"
   },
   {
    "duration": 10,
    "start_time": "2022-09-24T11:04:08.272Z"
   },
   {
    "duration": 9,
    "start_time": "2022-09-24T11:04:15.750Z"
   },
   {
    "duration": 18,
    "start_time": "2022-09-24T11:04:23.935Z"
   },
   {
    "duration": 47,
    "start_time": "2022-09-24T11:06:43.283Z"
   },
   {
    "duration": 14,
    "start_time": "2022-09-24T11:06:47.781Z"
   },
   {
    "duration": 14,
    "start_time": "2022-09-24T11:07:27.118Z"
   },
   {
    "duration": 16,
    "start_time": "2022-09-24T11:07:43.038Z"
   },
   {
    "duration": 10,
    "start_time": "2022-09-24T11:07:51.336Z"
   },
   {
    "duration": 4,
    "start_time": "2022-09-24T11:08:03.544Z"
   },
   {
    "duration": 7,
    "start_time": "2022-09-24T11:17:40.453Z"
   },
   {
    "duration": 87,
    "start_time": "2022-09-24T11:18:21.125Z"
   },
   {
    "duration": 184,
    "start_time": "2022-09-24T11:18:41.984Z"
   },
   {
    "duration": 184,
    "start_time": "2022-09-24T11:18:51.188Z"
   },
   {
    "duration": 312,
    "start_time": "2022-09-24T11:19:33.672Z"
   },
   {
    "duration": 318,
    "start_time": "2022-09-24T11:19:38.097Z"
   },
   {
    "duration": 95,
    "start_time": "2022-09-24T11:23:53.548Z"
   },
   {
    "duration": 15,
    "start_time": "2022-09-24T11:23:59.168Z"
   },
   {
    "duration": 11,
    "start_time": "2022-09-24T11:24:25.467Z"
   },
   {
    "duration": 247,
    "start_time": "2022-09-24T11:24:33.611Z"
   },
   {
    "duration": 320,
    "start_time": "2022-09-24T11:24:36.355Z"
   },
   {
    "duration": 16,
    "start_time": "2022-09-24T11:24:43.235Z"
   },
   {
    "duration": 5,
    "start_time": "2022-09-24T11:25:01.469Z"
   },
   {
    "duration": 15,
    "start_time": "2022-09-24T11:25:11.926Z"
   },
   {
    "duration": 442,
    "start_time": "2022-09-24T11:25:17.141Z"
   },
   {
    "duration": 16,
    "start_time": "2022-09-24T11:25:54.366Z"
   },
   {
    "duration": 52,
    "start_time": "2022-09-24T11:27:09.538Z"
   },
   {
    "duration": 1343,
    "start_time": "2022-09-24T11:27:18.993Z"
   },
   {
    "duration": 3045,
    "start_time": "2022-09-24T11:27:22.009Z"
   },
   {
    "duration": 13,
    "start_time": "2022-09-24T11:27:25.056Z"
   },
   {
    "duration": 20,
    "start_time": "2022-09-24T11:27:25.072Z"
   },
   {
    "duration": 18,
    "start_time": "2022-09-24T11:27:25.095Z"
   },
   {
    "duration": 10,
    "start_time": "2022-09-24T11:27:25.114Z"
   },
   {
    "duration": 33,
    "start_time": "2022-09-24T11:27:25.126Z"
   },
   {
    "duration": 39,
    "start_time": "2022-09-24T11:27:25.161Z"
   },
   {
    "duration": 22,
    "start_time": "2022-09-24T11:27:25.201Z"
   },
   {
    "duration": 35,
    "start_time": "2022-09-24T11:27:25.225Z"
   },
   {
    "duration": 17,
    "start_time": "2022-09-24T11:27:25.263Z"
   },
   {
    "duration": 17,
    "start_time": "2022-09-24T11:27:25.282Z"
   },
   {
    "duration": 30,
    "start_time": "2022-09-24T11:27:25.300Z"
   },
   {
    "duration": 44,
    "start_time": "2022-09-24T11:27:25.332Z"
   },
   {
    "duration": 147,
    "start_time": "2022-09-24T11:27:25.377Z"
   },
   {
    "duration": 247,
    "start_time": "2022-09-24T11:27:25.526Z"
   },
   {
    "duration": 5,
    "start_time": "2022-09-24T11:27:25.775Z"
   },
   {
    "duration": 229,
    "start_time": "2022-09-24T11:27:25.782Z"
   },
   {
    "duration": 4,
    "start_time": "2022-09-24T11:27:26.012Z"
   },
   {
    "duration": 86,
    "start_time": "2022-09-24T11:27:26.018Z"
   },
   {
    "duration": 0,
    "start_time": "2022-09-24T11:27:26.106Z"
   },
   {
    "duration": 0,
    "start_time": "2022-09-24T11:27:26.107Z"
   },
   {
    "duration": 0,
    "start_time": "2022-09-24T11:27:26.108Z"
   },
   {
    "duration": 0,
    "start_time": "2022-09-24T11:27:26.109Z"
   },
   {
    "duration": 0,
    "start_time": "2022-09-24T11:27:26.110Z"
   },
   {
    "duration": 0,
    "start_time": "2022-09-24T11:27:26.112Z"
   },
   {
    "duration": 0,
    "start_time": "2022-09-24T11:27:26.113Z"
   },
   {
    "duration": 13,
    "start_time": "2022-09-24T11:27:40.425Z"
   },
   {
    "duration": 561,
    "start_time": "2022-09-24T11:27:59.194Z"
   },
   {
    "duration": 11,
    "start_time": "2022-09-24T11:29:06.164Z"
   },
   {
    "duration": 11,
    "start_time": "2022-09-24T11:30:05.364Z"
   },
   {
    "duration": 9,
    "start_time": "2022-09-24T11:30:25.356Z"
   },
   {
    "duration": 737,
    "start_time": "2022-09-24T11:39:06.537Z"
   },
   {
    "duration": 381,
    "start_time": "2022-09-24T11:39:51.403Z"
   },
   {
    "duration": 310,
    "start_time": "2022-09-24T11:40:11.107Z"
   },
   {
    "duration": 303,
    "start_time": "2022-09-24T11:40:26.759Z"
   },
   {
    "duration": 150,
    "start_time": "2022-09-24T11:41:56.175Z"
   },
   {
    "duration": 170,
    "start_time": "2022-09-24T11:42:07.528Z"
   },
   {
    "duration": 507,
    "start_time": "2022-09-24T11:43:14.025Z"
   },
   {
    "duration": 20,
    "start_time": "2022-09-24T11:57:47.009Z"
   },
   {
    "duration": 14,
    "start_time": "2022-09-24T11:58:02.265Z"
   },
   {
    "duration": 495,
    "start_time": "2022-09-24T12:00:22.664Z"
   },
   {
    "duration": 586,
    "start_time": "2022-09-24T12:00:33.448Z"
   },
   {
    "duration": 461,
    "start_time": "2022-09-24T12:06:22.828Z"
   },
   {
    "duration": 685,
    "start_time": "2022-09-24T12:06:28.240Z"
   },
   {
    "duration": 526,
    "start_time": "2022-09-24T12:06:36.676Z"
   },
   {
    "duration": 14,
    "start_time": "2022-09-24T12:06:43.413Z"
   },
   {
    "duration": 312,
    "start_time": "2022-09-24T12:06:53.372Z"
   },
   {
    "duration": 1643,
    "start_time": "2022-09-24T12:09:30.474Z"
   },
   {
    "duration": 750,
    "start_time": "2022-09-24T12:09:32.119Z"
   },
   {
    "duration": 17,
    "start_time": "2022-09-24T12:09:32.873Z"
   },
   {
    "duration": 19,
    "start_time": "2022-09-24T12:09:32.893Z"
   },
   {
    "duration": 44,
    "start_time": "2022-09-24T12:09:32.914Z"
   },
   {
    "duration": 10,
    "start_time": "2022-09-24T12:09:32.960Z"
   },
   {
    "duration": 14,
    "start_time": "2022-09-24T12:09:32.972Z"
   },
   {
    "duration": 28,
    "start_time": "2022-09-24T12:09:32.987Z"
   },
   {
    "duration": 40,
    "start_time": "2022-09-24T12:09:33.017Z"
   },
   {
    "duration": 23,
    "start_time": "2022-09-24T12:09:33.060Z"
   },
   {
    "duration": 18,
    "start_time": "2022-09-24T12:09:33.085Z"
   },
   {
    "duration": 10,
    "start_time": "2022-09-24T12:09:33.106Z"
   },
   {
    "duration": 37,
    "start_time": "2022-09-24T12:09:33.120Z"
   },
   {
    "duration": 46,
    "start_time": "2022-09-24T12:09:33.159Z"
   },
   {
    "duration": 154,
    "start_time": "2022-09-24T12:09:33.207Z"
   },
   {
    "duration": 257,
    "start_time": "2022-09-24T12:09:33.363Z"
   },
   {
    "duration": 6,
    "start_time": "2022-09-24T12:09:33.622Z"
   },
   {
    "duration": 243,
    "start_time": "2022-09-24T12:09:33.629Z"
   },
   {
    "duration": 73,
    "start_time": "2022-09-24T12:09:33.874Z"
   },
   {
    "duration": 0,
    "start_time": "2022-09-24T12:09:33.949Z"
   },
   {
    "duration": 0,
    "start_time": "2022-09-24T12:09:33.950Z"
   },
   {
    "duration": 1,
    "start_time": "2022-09-24T12:09:33.951Z"
   },
   {
    "duration": 0,
    "start_time": "2022-09-24T12:09:33.953Z"
   },
   {
    "duration": 0,
    "start_time": "2022-09-24T12:09:33.954Z"
   },
   {
    "duration": 0,
    "start_time": "2022-09-24T12:09:33.955Z"
   },
   {
    "duration": 0,
    "start_time": "2022-09-24T12:09:33.956Z"
   },
   {
    "duration": 1082,
    "start_time": "2022-09-24T12:10:01.229Z"
   },
   {
    "duration": 1601,
    "start_time": "2022-09-24T12:10:26.585Z"
   },
   {
    "duration": 1720,
    "start_time": "2022-09-24T12:11:12.029Z"
   },
   {
    "duration": 345,
    "start_time": "2022-09-24T12:12:12.261Z"
   },
   {
    "duration": 1353,
    "start_time": "2022-09-24T12:12:25.656Z"
   },
   {
    "duration": 16,
    "start_time": "2022-09-24T12:12:49.086Z"
   },
   {
    "duration": 13,
    "start_time": "2022-09-24T12:12:59.679Z"
   },
   {
    "duration": 1110,
    "start_time": "2022-09-24T12:13:03.416Z"
   },
   {
    "duration": 1692,
    "start_time": "2022-09-24T12:13:44.993Z"
   },
   {
    "duration": 2006,
    "start_time": "2022-09-24T12:14:40.534Z"
   },
   {
    "duration": 1864,
    "start_time": "2022-09-24T12:15:16.468Z"
   },
   {
    "duration": 127,
    "start_time": "2022-09-24T12:15:22.972Z"
   },
   {
    "duration": 1875,
    "start_time": "2022-09-24T12:15:26.852Z"
   },
   {
    "duration": 2003,
    "start_time": "2022-09-24T12:15:39.708Z"
   },
   {
    "duration": 2247,
    "start_time": "2022-09-24T12:15:49.453Z"
   },
   {
    "duration": 2260,
    "start_time": "2022-09-24T12:16:09.654Z"
   },
   {
    "duration": 2350,
    "start_time": "2022-09-24T12:16:30.487Z"
   },
   {
    "duration": 2285,
    "start_time": "2022-09-24T12:16:50.631Z"
   },
   {
    "duration": 224,
    "start_time": "2022-09-24T12:17:06.735Z"
   },
   {
    "duration": 2117,
    "start_time": "2022-09-24T12:17:18.440Z"
   },
   {
    "duration": 2226,
    "start_time": "2022-09-24T12:17:50.754Z"
   },
   {
    "duration": 2260,
    "start_time": "2022-09-24T12:18:10.747Z"
   },
   {
    "duration": 2089,
    "start_time": "2022-09-24T12:18:23.946Z"
   },
   {
    "duration": 14,
    "start_time": "2022-09-24T12:18:40.002Z"
   },
   {
    "duration": 220,
    "start_time": "2022-09-24T12:18:41.354Z"
   },
   {
    "duration": 64,
    "start_time": "2022-09-25T14:45:38.425Z"
   },
   {
    "duration": 8,
    "start_time": "2022-09-25T14:48:24.481Z"
   },
   {
    "duration": 1467,
    "start_time": "2022-09-25T14:48:30.498Z"
   },
   {
    "duration": 3005,
    "start_time": "2022-09-25T14:48:31.968Z"
   },
   {
    "duration": 14,
    "start_time": "2022-09-25T14:48:34.975Z"
   },
   {
    "duration": 15,
    "start_time": "2022-09-25T14:48:34.990Z"
   },
   {
    "duration": 16,
    "start_time": "2022-09-25T14:48:35.007Z"
   },
   {
    "duration": 9,
    "start_time": "2022-09-25T14:48:35.024Z"
   },
   {
    "duration": 5,
    "start_time": "2022-09-25T14:48:35.034Z"
   },
   {
    "duration": 20,
    "start_time": "2022-09-25T14:48:35.041Z"
   },
   {
    "duration": 16,
    "start_time": "2022-09-25T14:48:35.062Z"
   },
   {
    "duration": 16,
    "start_time": "2022-09-25T14:48:35.110Z"
   },
   {
    "duration": 12,
    "start_time": "2022-09-25T14:48:35.127Z"
   },
   {
    "duration": 6,
    "start_time": "2022-09-25T14:48:35.140Z"
   },
   {
    "duration": 14,
    "start_time": "2022-09-25T14:48:35.147Z"
   },
   {
    "duration": 56,
    "start_time": "2022-09-25T14:48:35.164Z"
   },
   {
    "duration": 132,
    "start_time": "2022-09-25T14:48:35.222Z"
   },
   {
    "duration": 192,
    "start_time": "2022-09-25T14:48:35.355Z"
   },
   {
    "duration": 5,
    "start_time": "2022-09-25T14:48:35.548Z"
   },
   {
    "duration": 190,
    "start_time": "2022-09-25T14:48:35.554Z"
   },
   {
    "duration": 1759,
    "start_time": "2022-09-25T14:48:35.745Z"
   },
   {
    "duration": 12,
    "start_time": "2022-09-25T14:48:37.506Z"
   },
   {
    "duration": 245,
    "start_time": "2022-09-25T14:48:37.520Z"
   },
   {
    "duration": 2075,
    "start_time": "2022-09-25T14:48:37.767Z"
   },
   {
    "duration": 232,
    "start_time": "2022-09-25T14:48:39.844Z"
   },
   {
    "duration": 77,
    "start_time": "2022-09-25T14:48:40.078Z"
   },
   {
    "duration": 18,
    "start_time": "2022-09-25T14:48:40.156Z"
   },
   {
    "duration": 134,
    "start_time": "2022-09-25T14:48:40.175Z"
   },
   {
    "duration": 0,
    "start_time": "2022-09-25T14:48:40.310Z"
   },
   {
    "duration": 1232,
    "start_time": "2022-09-25T14:51:26.285Z"
   },
   {
    "duration": 236,
    "start_time": "2022-09-25T14:52:04.997Z"
   },
   {
    "duration": 199,
    "start_time": "2022-09-25T14:52:25.568Z"
   },
   {
    "duration": 6,
    "start_time": "2022-09-25T14:52:43.260Z"
   },
   {
    "duration": 18,
    "start_time": "2022-09-25T14:52:51.603Z"
   },
   {
    "duration": 57,
    "start_time": "2022-09-25T14:53:44.894Z"
   },
   {
    "duration": 13,
    "start_time": "2022-09-25T14:54:04.812Z"
   },
   {
    "duration": 12,
    "start_time": "2022-09-25T14:54:14.324Z"
   },
   {
    "duration": 19,
    "start_time": "2022-09-25T14:54:21.702Z"
   },
   {
    "duration": 17,
    "start_time": "2022-09-25T14:54:51.804Z"
   },
   {
    "duration": 16,
    "start_time": "2022-09-25T14:55:09.694Z"
   },
   {
    "duration": 13,
    "start_time": "2022-09-25T14:55:27.299Z"
   },
   {
    "duration": 17,
    "start_time": "2022-09-25T14:55:45.373Z"
   },
   {
    "duration": 18,
    "start_time": "2022-09-25T14:57:36.819Z"
   },
   {
    "duration": 135,
    "start_time": "2022-09-25T15:04:11.643Z"
   },
   {
    "duration": 2109,
    "start_time": "2022-09-25T15:05:15.212Z"
   },
   {
    "duration": 1452,
    "start_time": "2022-09-25T15:20:10.762Z"
   },
   {
    "duration": 1550,
    "start_time": "2022-09-25T15:20:21.562Z"
   },
   {
    "duration": 793,
    "start_time": "2022-09-25T15:20:34.048Z"
   },
   {
    "duration": 4,
    "start_time": "2022-09-25T15:27:08.420Z"
   },
   {
    "duration": 15,
    "start_time": "2022-09-25T15:30:11.879Z"
   },
   {
    "duration": 15,
    "start_time": "2022-09-25T15:32:12.258Z"
   },
   {
    "duration": 1218,
    "start_time": "2022-09-25T15:32:32.830Z"
   },
   {
    "duration": 44,
    "start_time": "2022-09-25T15:34:03.621Z"
   },
   {
    "duration": 1279,
    "start_time": "2022-09-25T15:34:52.245Z"
   },
   {
    "duration": 635,
    "start_time": "2022-09-25T15:34:53.527Z"
   },
   {
    "duration": 14,
    "start_time": "2022-09-25T15:34:54.163Z"
   },
   {
    "duration": 15,
    "start_time": "2022-09-25T15:34:54.179Z"
   },
   {
    "duration": 16,
    "start_time": "2022-09-25T15:34:54.208Z"
   },
   {
    "duration": 8,
    "start_time": "2022-09-25T15:34:54.226Z"
   },
   {
    "duration": 5,
    "start_time": "2022-09-25T15:34:54.235Z"
   },
   {
    "duration": 20,
    "start_time": "2022-09-25T15:34:54.241Z"
   },
   {
    "duration": 48,
    "start_time": "2022-09-25T15:34:54.262Z"
   },
   {
    "duration": 18,
    "start_time": "2022-09-25T15:34:54.312Z"
   },
   {
    "duration": 25,
    "start_time": "2022-09-25T15:34:54.331Z"
   },
   {
    "duration": 8,
    "start_time": "2022-09-25T15:34:54.358Z"
   },
   {
    "duration": 18,
    "start_time": "2022-09-25T15:34:54.367Z"
   },
   {
    "duration": 54,
    "start_time": "2022-09-25T15:34:54.386Z"
   },
   {
    "duration": 240,
    "start_time": "2022-09-25T15:34:54.443Z"
   },
   {
    "duration": 7,
    "start_time": "2022-09-25T15:34:54.685Z"
   },
   {
    "duration": 216,
    "start_time": "2022-09-25T15:34:54.693Z"
   },
   {
    "duration": 1514,
    "start_time": "2022-09-25T15:34:54.911Z"
   },
   {
    "duration": 53,
    "start_time": "2022-09-25T15:34:56.426Z"
   },
   {
    "duration": 758,
    "start_time": "2022-09-25T15:34:56.481Z"
   },
   {
    "duration": 1382,
    "start_time": "2022-09-25T15:36:23.494Z"
   },
   {
    "duration": 644,
    "start_time": "2022-09-25T15:36:24.879Z"
   },
   {
    "duration": 14,
    "start_time": "2022-09-25T15:36:25.525Z"
   },
   {
    "duration": 17,
    "start_time": "2022-09-25T15:36:25.541Z"
   },
   {
    "duration": 16,
    "start_time": "2022-09-25T15:36:25.560Z"
   },
   {
    "duration": 38,
    "start_time": "2022-09-25T15:36:25.577Z"
   },
   {
    "duration": 7,
    "start_time": "2022-09-25T15:36:25.616Z"
   },
   {
    "duration": 25,
    "start_time": "2022-09-25T15:36:25.624Z"
   },
   {
    "duration": 17,
    "start_time": "2022-09-25T15:36:25.650Z"
   },
   {
    "duration": 20,
    "start_time": "2022-09-25T15:36:25.668Z"
   },
   {
    "duration": 28,
    "start_time": "2022-09-25T15:36:25.690Z"
   },
   {
    "duration": 6,
    "start_time": "2022-09-25T15:36:25.720Z"
   },
   {
    "duration": 15,
    "start_time": "2022-09-25T15:36:25.728Z"
   },
   {
    "duration": 32,
    "start_time": "2022-09-25T15:36:25.746Z"
   },
   {
    "duration": 209,
    "start_time": "2022-09-25T15:36:25.779Z"
   },
   {
    "duration": 5,
    "start_time": "2022-09-25T15:36:25.990Z"
   },
   {
    "duration": 200,
    "start_time": "2022-09-25T15:36:25.997Z"
   },
   {
    "duration": 1610,
    "start_time": "2022-09-25T15:36:26.199Z"
   },
   {
    "duration": 70,
    "start_time": "2022-09-25T15:36:27.811Z"
   },
   {
    "duration": 760,
    "start_time": "2022-09-25T15:36:27.883Z"
   },
   {
    "duration": 318,
    "start_time": "2022-09-25T15:36:28.644Z"
   },
   {
    "duration": 68,
    "start_time": "2022-09-25T15:36:28.963Z"
   },
   {
    "duration": 12,
    "start_time": "2022-09-25T15:36:29.033Z"
   },
   {
    "duration": 125,
    "start_time": "2022-09-25T15:36:29.047Z"
   },
   {
    "duration": 0,
    "start_time": "2022-09-25T15:36:29.174Z"
   },
   {
    "duration": 4,
    "start_time": "2022-09-25T15:40:20.356Z"
   },
   {
    "duration": 6,
    "start_time": "2022-09-25T15:50:35.564Z"
   },
   {
    "duration": 6,
    "start_time": "2022-09-25T15:50:48.002Z"
   },
   {
    "duration": 105,
    "start_time": "2022-09-25T15:51:02.073Z"
   },
   {
    "duration": 67,
    "start_time": "2022-09-25T15:51:14.215Z"
   },
   {
    "duration": 7,
    "start_time": "2022-09-25T15:51:25.209Z"
   },
   {
    "duration": 718,
    "start_time": "2022-09-25T15:52:30.028Z"
   },
   {
    "duration": 706,
    "start_time": "2022-09-25T15:52:43.514Z"
   },
   {
    "duration": 686,
    "start_time": "2022-09-25T15:53:21.025Z"
   },
   {
    "duration": 83,
    "start_time": "2022-09-25T15:53:33.289Z"
   },
   {
    "duration": 48,
    "start_time": "2022-09-25T15:53:58.915Z"
   },
   {
    "duration": 709,
    "start_time": "2022-09-25T15:54:45.489Z"
   },
   {
    "duration": 723,
    "start_time": "2022-09-25T15:54:56.015Z"
   },
   {
    "duration": 1258,
    "start_time": "2022-09-25T15:55:10.942Z"
   },
   {
    "duration": 634,
    "start_time": "2022-09-25T15:55:12.202Z"
   },
   {
    "duration": 18,
    "start_time": "2022-09-25T15:55:12.837Z"
   },
   {
    "duration": 776,
    "start_time": "2022-09-25T15:55:12.857Z"
   },
   {
    "duration": 73,
    "start_time": "2022-09-25T15:55:13.636Z"
   },
   {
    "duration": 8,
    "start_time": "2022-09-25T15:55:13.711Z"
   },
   {
    "duration": 10,
    "start_time": "2022-09-25T15:55:13.720Z"
   },
   {
    "duration": 19,
    "start_time": "2022-09-25T15:55:13.732Z"
   },
   {
    "duration": 19,
    "start_time": "2022-09-25T15:55:13.753Z"
   },
   {
    "duration": 37,
    "start_time": "2022-09-25T15:55:13.773Z"
   },
   {
    "duration": 15,
    "start_time": "2022-09-25T15:55:13.812Z"
   },
   {
    "duration": 7,
    "start_time": "2022-09-25T15:55:13.828Z"
   },
   {
    "duration": 15,
    "start_time": "2022-09-25T15:55:13.836Z"
   },
   {
    "duration": 33,
    "start_time": "2022-09-25T15:55:13.853Z"
   },
   {
    "duration": 194,
    "start_time": "2022-09-25T15:55:13.888Z"
   },
   {
    "duration": 5,
    "start_time": "2022-09-25T15:55:14.084Z"
   },
   {
    "duration": 199,
    "start_time": "2022-09-25T15:55:14.090Z"
   },
   {
    "duration": 1648,
    "start_time": "2022-09-25T15:55:14.291Z"
   },
   {
    "duration": 51,
    "start_time": "2022-09-25T15:55:15.940Z"
   },
   {
    "duration": 812,
    "start_time": "2022-09-25T15:55:15.993Z"
   },
   {
    "duration": 319,
    "start_time": "2022-09-25T15:55:16.807Z"
   },
   {
    "duration": 64,
    "start_time": "2022-09-25T15:55:17.128Z"
   },
   {
    "duration": 26,
    "start_time": "2022-09-25T15:55:17.194Z"
   },
   {
    "duration": 135,
    "start_time": "2022-09-25T15:55:17.221Z"
   },
   {
    "duration": 0,
    "start_time": "2022-09-25T15:55:17.357Z"
   },
   {
    "duration": 24,
    "start_time": "2022-09-25T16:05:51.797Z"
   },
   {
    "duration": 24,
    "start_time": "2022-09-25T16:05:52.432Z"
   },
   {
    "duration": 18,
    "start_time": "2022-09-25T16:05:53.095Z"
   },
   {
    "duration": 54,
    "start_time": "2022-09-25T16:06:59.460Z"
   },
   {
    "duration": 3,
    "start_time": "2022-09-25T16:07:06.032Z"
   },
   {
    "duration": 30,
    "start_time": "2022-09-25T16:07:15.639Z"
   },
   {
    "duration": 23,
    "start_time": "2022-09-25T16:07:45.011Z"
   },
   {
    "duration": 25,
    "start_time": "2022-09-25T16:08:35.627Z"
   },
   {
    "duration": 18,
    "start_time": "2022-09-25T16:08:51.361Z"
   },
   {
    "duration": 17,
    "start_time": "2022-09-25T16:08:55.321Z"
   },
   {
    "duration": 17,
    "start_time": "2022-09-25T16:08:59.435Z"
   },
   {
    "duration": 902,
    "start_time": "2022-09-25T16:12:59.491Z"
   },
   {
    "duration": 816,
    "start_time": "2022-09-25T16:14:14.905Z"
   },
   {
    "duration": 28,
    "start_time": "2022-09-25T16:19:43.310Z"
   },
   {
    "duration": 1560,
    "start_time": "2022-09-25T16:32:27.407Z"
   },
   {
    "duration": 179,
    "start_time": "2022-09-25T16:33:09.031Z"
   },
   {
    "duration": 182,
    "start_time": "2022-09-25T16:34:51.987Z"
   },
   {
    "duration": 1599,
    "start_time": "2022-09-25T16:35:15.755Z"
   },
   {
    "duration": 182,
    "start_time": "2022-09-25T16:37:21.535Z"
   },
   {
    "duration": 199,
    "start_time": "2022-09-25T16:37:30.595Z"
   },
   {
    "duration": 190,
    "start_time": "2022-09-25T16:38:43.218Z"
   },
   {
    "duration": 1553,
    "start_time": "2022-09-25T16:38:52.556Z"
   },
   {
    "duration": 1491,
    "start_time": "2022-09-25T16:43:37.308Z"
   },
   {
    "duration": 44,
    "start_time": "2022-09-25T16:43:42.474Z"
   },
   {
    "duration": 46,
    "start_time": "2022-09-25T16:43:59.572Z"
   },
   {
    "duration": 1594,
    "start_time": "2022-09-25T16:44:01.790Z"
   },
   {
    "duration": 44,
    "start_time": "2022-09-25T16:44:24.949Z"
   },
   {
    "duration": 1589,
    "start_time": "2022-09-25T16:44:28.177Z"
   },
   {
    "duration": 42,
    "start_time": "2022-09-25T16:44:42.491Z"
   },
   {
    "duration": 1645,
    "start_time": "2022-09-25T16:44:44.670Z"
   },
   {
    "duration": 816,
    "start_time": "2022-09-25T16:45:29.642Z"
   },
   {
    "duration": 48,
    "start_time": "2022-09-25T16:45:40.048Z"
   },
   {
    "duration": 43,
    "start_time": "2022-09-25T16:45:49.505Z"
   },
   {
    "duration": 46,
    "start_time": "2022-09-25T16:45:53.033Z"
   },
   {
    "duration": 50,
    "start_time": "2022-09-25T16:45:59.223Z"
   },
   {
    "duration": 43,
    "start_time": "2022-09-25T16:53:14.193Z"
   },
   {
    "duration": 45,
    "start_time": "2022-09-25T16:53:30.309Z"
   },
   {
    "duration": 818,
    "start_time": "2022-09-25T16:57:38.892Z"
   },
   {
    "duration": 29,
    "start_time": "2022-09-25T16:59:01.350Z"
   },
   {
    "duration": 7,
    "start_time": "2022-09-25T16:59:16.351Z"
   },
   {
    "duration": 889,
    "start_time": "2022-09-25T16:59:22.495Z"
   },
   {
    "duration": 88,
    "start_time": "2022-09-25T16:59:30.957Z"
   },
   {
    "duration": 88,
    "start_time": "2022-09-25T16:59:45.943Z"
   },
   {
    "duration": 5,
    "start_time": "2022-09-25T16:59:55.495Z"
   },
   {
    "duration": 50,
    "start_time": "2022-09-25T17:00:40.883Z"
   },
   {
    "duration": 56,
    "start_time": "2022-09-25T17:14:25.072Z"
   },
   {
    "duration": 44,
    "start_time": "2022-09-25T17:15:07.835Z"
   },
   {
    "duration": 42,
    "start_time": "2022-09-25T17:15:19.471Z"
   },
   {
    "duration": 40,
    "start_time": "2022-09-25T17:15:42.865Z"
   },
   {
    "duration": 1256,
    "start_time": "2022-09-25T17:16:13.444Z"
   },
   {
    "duration": 963,
    "start_time": "2022-09-25T17:16:44.626Z"
   },
   {
    "duration": 4,
    "start_time": "2022-09-25T17:16:59.454Z"
   },
   {
    "duration": 1311,
    "start_time": "2022-09-25T17:17:14.708Z"
   },
   {
    "duration": 653,
    "start_time": "2022-09-25T17:17:16.022Z"
   },
   {
    "duration": 18,
    "start_time": "2022-09-25T17:17:16.676Z"
   },
   {
    "duration": 782,
    "start_time": "2022-09-25T17:17:16.697Z"
   },
   {
    "duration": 76,
    "start_time": "2022-09-25T17:17:17.480Z"
   },
   {
    "duration": 7,
    "start_time": "2022-09-25T17:17:17.557Z"
   },
   {
    "duration": 5,
    "start_time": "2022-09-25T17:17:17.565Z"
   },
   {
    "duration": 22,
    "start_time": "2022-09-25T17:17:17.572Z"
   },
   {
    "duration": 31,
    "start_time": "2022-09-25T17:17:17.596Z"
   },
   {
    "duration": 18,
    "start_time": "2022-09-25T17:17:17.629Z"
   },
   {
    "duration": 12,
    "start_time": "2022-09-25T17:17:17.649Z"
   },
   {
    "duration": 4,
    "start_time": "2022-09-25T17:17:17.662Z"
   },
   {
    "duration": 47,
    "start_time": "2022-09-25T17:17:17.668Z"
   },
   {
    "duration": 48,
    "start_time": "2022-09-25T17:17:17.716Z"
   },
   {
    "duration": 195,
    "start_time": "2022-09-25T17:17:17.766Z"
   },
   {
    "duration": 1519,
    "start_time": "2022-09-25T17:17:17.963Z"
   },
   {
    "duration": 3,
    "start_time": "2022-09-25T17:17:19.483Z"
   },
   {
    "duration": 62,
    "start_time": "2022-09-25T17:17:19.488Z"
   },
   {
    "duration": 732,
    "start_time": "2022-09-25T17:17:19.551Z"
   },
   {
    "duration": 314,
    "start_time": "2022-09-25T17:17:20.285Z"
   },
   {
    "duration": 63,
    "start_time": "2022-09-25T17:17:20.600Z"
   },
   {
    "duration": 16,
    "start_time": "2022-09-25T17:17:20.665Z"
   },
   {
    "duration": 140,
    "start_time": "2022-09-25T17:17:20.682Z"
   },
   {
    "duration": 0,
    "start_time": "2022-09-25T17:17:20.824Z"
   },
   {
    "duration": 59,
    "start_time": "2022-09-25T17:22:01.310Z"
   },
   {
    "duration": 72,
    "start_time": "2022-09-25T17:22:14.507Z"
   },
   {
    "duration": 55,
    "start_time": "2022-09-25T17:22:24.881Z"
   },
   {
    "duration": 1581,
    "start_time": "2022-09-26T13:39:25.091Z"
   },
   {
    "duration": 3069,
    "start_time": "2022-09-26T13:39:26.674Z"
   },
   {
    "duration": 20,
    "start_time": "2022-09-26T13:39:29.744Z"
   },
   {
    "duration": 769,
    "start_time": "2022-09-26T13:39:29.766Z"
   },
   {
    "duration": 63,
    "start_time": "2022-09-26T13:39:30.539Z"
   },
   {
    "duration": 11,
    "start_time": "2022-09-26T13:39:30.604Z"
   },
   {
    "duration": 29,
    "start_time": "2022-09-26T13:39:30.616Z"
   },
   {
    "duration": 32,
    "start_time": "2022-09-26T13:39:30.646Z"
   },
   {
    "duration": 39,
    "start_time": "2022-09-26T13:39:30.680Z"
   },
   {
    "duration": 31,
    "start_time": "2022-09-26T13:39:30.722Z"
   },
   {
    "duration": 22,
    "start_time": "2022-09-26T13:39:30.755Z"
   },
   {
    "duration": 23,
    "start_time": "2022-09-26T13:39:30.779Z"
   },
   {
    "duration": 62,
    "start_time": "2022-09-26T13:39:30.804Z"
   },
   {
    "duration": 49,
    "start_time": "2022-09-26T13:39:30.868Z"
   },
   {
    "duration": 222,
    "start_time": "2022-09-26T13:39:30.919Z"
   },
   {
    "duration": 1876,
    "start_time": "2022-09-26T13:39:31.142Z"
   },
   {
    "duration": 4,
    "start_time": "2022-09-26T13:39:33.020Z"
   },
   {
    "duration": 79,
    "start_time": "2022-09-26T13:39:33.025Z"
   },
   {
    "duration": 1020,
    "start_time": "2022-09-26T13:39:33.106Z"
   },
   {
    "duration": 263,
    "start_time": "2022-09-26T13:39:34.127Z"
   },
   {
    "duration": 81,
    "start_time": "2022-09-26T13:39:34.392Z"
   },
   {
    "duration": 21,
    "start_time": "2022-09-26T13:39:34.475Z"
   },
   {
    "duration": 120,
    "start_time": "2022-09-26T13:39:34.497Z"
   },
   {
    "duration": 0,
    "start_time": "2022-09-26T13:39:34.619Z"
   },
   {
    "duration": 5,
    "start_time": "2022-09-26T13:40:28.012Z"
   },
   {
    "duration": 83,
    "start_time": "2022-09-26T13:41:59.655Z"
   },
   {
    "duration": 4,
    "start_time": "2022-09-26T13:42:02.228Z"
   },
   {
    "duration": 39,
    "start_time": "2022-09-26T13:52:32.763Z"
   },
   {
    "duration": 42,
    "start_time": "2022-09-26T13:52:42.971Z"
   },
   {
    "duration": 5,
    "start_time": "2022-09-26T13:52:47.546Z"
   },
   {
    "duration": 63,
    "start_time": "2022-09-26T13:54:43.842Z"
   },
   {
    "duration": 4,
    "start_time": "2022-09-26T13:54:48.529Z"
   },
   {
    "duration": 4,
    "start_time": "2022-09-26T13:54:51.634Z"
   },
   {
    "duration": 64,
    "start_time": "2022-09-26T13:55:12.638Z"
   },
   {
    "duration": 5,
    "start_time": "2022-09-26T13:55:25.236Z"
   },
   {
    "duration": 65,
    "start_time": "2022-09-26T13:55:37.600Z"
   },
   {
    "duration": 59,
    "start_time": "2022-09-26T13:56:40.856Z"
   },
   {
    "duration": 60,
    "start_time": "2022-09-26T13:59:13.374Z"
   },
   {
    "duration": 5,
    "start_time": "2022-09-26T13:59:21.896Z"
   },
   {
    "duration": 63,
    "start_time": "2022-09-26T13:59:37.436Z"
   },
   {
    "duration": 4,
    "start_time": "2022-09-26T13:59:40.084Z"
   },
   {
    "duration": 61,
    "start_time": "2022-09-26T14:00:07.438Z"
   },
   {
    "duration": 4,
    "start_time": "2022-09-26T14:00:08.480Z"
   },
   {
    "duration": 62,
    "start_time": "2022-09-26T14:00:12.237Z"
   },
   {
    "duration": 4,
    "start_time": "2022-09-26T14:00:12.753Z"
   },
   {
    "duration": 71,
    "start_time": "2022-09-26T14:01:19.950Z"
   },
   {
    "duration": 5,
    "start_time": "2022-09-26T14:01:21.131Z"
   },
   {
    "duration": 64,
    "start_time": "2022-09-26T14:01:31.475Z"
   },
   {
    "duration": 4,
    "start_time": "2022-09-26T14:01:32.551Z"
   },
   {
    "duration": 4,
    "start_time": "2022-09-26T14:01:43.834Z"
   },
   {
    "duration": 464,
    "start_time": "2022-09-26T14:02:50.648Z"
   },
   {
    "duration": 543,
    "start_time": "2022-09-26T14:03:09.246Z"
   },
   {
    "duration": 62,
    "start_time": "2022-09-26T14:04:23.785Z"
   },
   {
    "duration": 36,
    "start_time": "2022-09-26T14:04:51.466Z"
   },
   {
    "duration": 5,
    "start_time": "2022-09-26T14:04:54.249Z"
   },
   {
    "duration": 65,
    "start_time": "2022-09-26T14:06:10.755Z"
   },
   {
    "duration": 5,
    "start_time": "2022-09-26T14:06:14.576Z"
   },
   {
    "duration": 5,
    "start_time": "2022-09-26T14:06:20.339Z"
   },
   {
    "duration": 5,
    "start_time": "2022-09-26T14:06:42.080Z"
   },
   {
    "duration": 1046,
    "start_time": "2022-09-26T14:06:46.107Z"
   },
   {
    "duration": 6,
    "start_time": "2022-09-26T14:06:57.278Z"
   },
   {
    "duration": 5,
    "start_time": "2022-09-26T14:07:04.333Z"
   },
   {
    "duration": 58,
    "start_time": "2022-09-26T14:07:18.244Z"
   },
   {
    "duration": 55,
    "start_time": "2022-09-26T14:08:04.138Z"
   },
   {
    "duration": 26,
    "start_time": "2022-09-26T14:08:58.193Z"
   },
   {
    "duration": 25,
    "start_time": "2022-09-26T14:09:15.234Z"
   },
   {
    "duration": 1408,
    "start_time": "2022-09-26T14:09:27.016Z"
   },
   {
    "duration": 717,
    "start_time": "2022-09-26T14:09:28.426Z"
   },
   {
    "duration": 20,
    "start_time": "2022-09-26T14:09:29.144Z"
   },
   {
    "duration": 774,
    "start_time": "2022-09-26T14:09:29.166Z"
   },
   {
    "duration": 64,
    "start_time": "2022-09-26T14:09:29.942Z"
   },
   {
    "duration": 9,
    "start_time": "2022-09-26T14:09:30.007Z"
   },
   {
    "duration": 27,
    "start_time": "2022-09-26T14:09:30.017Z"
   },
   {
    "duration": 26,
    "start_time": "2022-09-26T14:09:30.046Z"
   },
   {
    "duration": 25,
    "start_time": "2022-09-26T14:09:30.075Z"
   },
   {
    "duration": 37,
    "start_time": "2022-09-26T14:09:30.103Z"
   },
   {
    "duration": 18,
    "start_time": "2022-09-26T14:09:30.142Z"
   },
   {
    "duration": 12,
    "start_time": "2022-09-26T14:09:30.162Z"
   },
   {
    "duration": 21,
    "start_time": "2022-09-26T14:09:30.176Z"
   },
   {
    "duration": 60,
    "start_time": "2022-09-26T14:09:30.199Z"
   },
   {
    "duration": 232,
    "start_time": "2022-09-26T14:09:30.261Z"
   },
   {
    "duration": 1853,
    "start_time": "2022-09-26T14:09:30.494Z"
   },
   {
    "duration": 64,
    "start_time": "2022-09-26T14:09:32.349Z"
   },
   {
    "duration": 868,
    "start_time": "2022-09-26T14:09:32.415Z"
   },
   {
    "duration": 354,
    "start_time": "2022-09-26T14:09:33.284Z"
   },
   {
    "duration": 67,
    "start_time": "2022-09-26T14:09:33.640Z"
   },
   {
    "duration": 34,
    "start_time": "2022-09-26T14:09:33.708Z"
   },
   {
    "duration": 120,
    "start_time": "2022-09-26T14:09:33.745Z"
   },
   {
    "duration": 0,
    "start_time": "2022-09-26T14:09:33.866Z"
   },
   {
    "duration": 68,
    "start_time": "2022-09-26T14:12:12.364Z"
   },
   {
    "duration": 69,
    "start_time": "2022-09-26T14:12:40.378Z"
   },
   {
    "duration": 62,
    "start_time": "2022-09-26T14:12:43.792Z"
   },
   {
    "duration": 57,
    "start_time": "2022-09-26T14:12:47.258Z"
   },
   {
    "duration": 2,
    "start_time": "2022-09-26T14:24:09.256Z"
   },
   {
    "duration": 4,
    "start_time": "2022-09-26T14:24:28.291Z"
   },
   {
    "duration": 6,
    "start_time": "2022-09-26T14:27:01.997Z"
   },
   {
    "duration": 5,
    "start_time": "2022-09-26T14:27:14.444Z"
   },
   {
    "duration": 10,
    "start_time": "2022-09-26T14:44:17.802Z"
   },
   {
    "duration": 2,
    "start_time": "2022-09-26T14:44:44.192Z"
   },
   {
    "duration": 9,
    "start_time": "2022-09-26T14:44:55.879Z"
   },
   {
    "duration": 4,
    "start_time": "2022-09-26T14:45:04.143Z"
   },
   {
    "duration": 3,
    "start_time": "2022-09-26T14:45:08.045Z"
   },
   {
    "duration": 5,
    "start_time": "2022-09-26T14:47:01.743Z"
   },
   {
    "duration": 11,
    "start_time": "2022-09-26T14:51:36.712Z"
   },
   {
    "duration": 7,
    "start_time": "2022-09-26T14:51:40.885Z"
   },
   {
    "duration": 2286,
    "start_time": "2022-09-26T14:51:41.528Z"
   },
   {
    "duration": 3,
    "start_time": "2022-09-26T14:52:10.393Z"
   },
   {
    "duration": 2467,
    "start_time": "2022-09-26T14:52:11.160Z"
   },
   {
    "duration": 2455,
    "start_time": "2022-09-26T14:52:27.700Z"
   },
   {
    "duration": 131426,
    "start_time": "2022-09-26T14:54:05.597Z"
   },
   {
    "duration": 3,
    "start_time": "2022-09-26T14:57:41.422Z"
   },
   {
    "duration": 264938,
    "start_time": "2022-09-26T14:58:30.802Z"
   },
   {
    "duration": 87,
    "start_time": "2022-09-26T15:06:41.257Z"
   },
   {
    "duration": 146,
    "start_time": "2022-09-26T15:07:25.099Z"
   },
   {
    "duration": 101,
    "start_time": "2022-09-26T15:12:10.504Z"
   },
   {
    "duration": 64,
    "start_time": "2022-09-26T15:17:50.901Z"
   },
   {
    "duration": 102,
    "start_time": "2022-09-26T15:20:30.059Z"
   },
   {
    "duration": 32,
    "start_time": "2022-09-26T15:20:42.797Z"
   },
   {
    "duration": 26,
    "start_time": "2022-09-26T15:21:04.219Z"
   },
   {
    "duration": 10,
    "start_time": "2022-09-26T15:21:13.855Z"
   },
   {
    "duration": 7,
    "start_time": "2022-09-26T15:21:20.328Z"
   },
   {
    "duration": 1340,
    "start_time": "2022-09-26T15:21:39.489Z"
   },
   {
    "duration": 740,
    "start_time": "2022-09-26T15:21:40.831Z"
   },
   {
    "duration": 21,
    "start_time": "2022-09-26T15:21:41.572Z"
   },
   {
    "duration": 765,
    "start_time": "2022-09-26T15:21:41.596Z"
   },
   {
    "duration": 80,
    "start_time": "2022-09-26T15:21:42.363Z"
   },
   {
    "duration": 9,
    "start_time": "2022-09-26T15:21:42.444Z"
   },
   {
    "duration": 7,
    "start_time": "2022-09-26T15:21:42.455Z"
   },
   {
    "duration": 21,
    "start_time": "2022-09-26T15:21:42.463Z"
   },
   {
    "duration": 22,
    "start_time": "2022-09-26T15:21:42.486Z"
   },
   {
    "duration": 43,
    "start_time": "2022-09-26T15:21:42.510Z"
   },
   {
    "duration": 16,
    "start_time": "2022-09-26T15:21:42.554Z"
   },
   {
    "duration": 9,
    "start_time": "2022-09-26T15:21:42.571Z"
   },
   {
    "duration": 22,
    "start_time": "2022-09-26T15:21:42.582Z"
   },
   {
    "duration": 57,
    "start_time": "2022-09-26T15:21:42.607Z"
   },
   {
    "duration": 215,
    "start_time": "2022-09-26T15:21:42.666Z"
   },
   {
    "duration": 1841,
    "start_time": "2022-09-26T15:21:42.883Z"
   },
   {
    "duration": 86,
    "start_time": "2022-09-26T15:21:44.725Z"
   },
   {
    "duration": 889,
    "start_time": "2022-09-26T15:21:44.813Z"
   },
   {
    "duration": 354,
    "start_time": "2022-09-26T15:21:45.704Z"
   },
   {
    "duration": 20,
    "start_time": "2022-09-26T15:21:46.060Z"
   },
   {
    "duration": 3,
    "start_time": "2022-09-26T15:21:46.081Z"
   },
   {
    "duration": 221,
    "start_time": "2022-09-26T15:21:46.086Z"
   },
   {
    "duration": 0,
    "start_time": "2022-09-26T15:21:46.308Z"
   },
   {
    "duration": 0,
    "start_time": "2022-09-26T15:21:46.310Z"
   },
   {
    "duration": 0,
    "start_time": "2022-09-26T15:21:46.311Z"
   },
   {
    "duration": 0,
    "start_time": "2022-09-26T15:21:46.312Z"
   },
   {
    "duration": 0,
    "start_time": "2022-09-26T15:21:46.319Z"
   },
   {
    "duration": 0,
    "start_time": "2022-09-26T15:21:46.320Z"
   },
   {
    "duration": 7,
    "start_time": "2022-09-26T15:22:24.790Z"
   },
   {
    "duration": 6,
    "start_time": "2022-09-26T15:22:31.688Z"
   },
   {
    "duration": 7,
    "start_time": "2022-09-26T15:23:40.590Z"
   },
   {
    "duration": 19,
    "start_time": "2022-09-26T15:25:28.773Z"
   },
   {
    "duration": 9,
    "start_time": "2022-09-26T15:25:29.441Z"
   },
   {
    "duration": 28,
    "start_time": "2022-09-26T15:25:50.044Z"
   },
   {
    "duration": 26,
    "start_time": "2022-09-26T15:26:46.780Z"
   },
   {
    "duration": 11,
    "start_time": "2022-09-26T15:27:01.211Z"
   },
   {
    "duration": 3,
    "start_time": "2022-09-26T15:27:12.549Z"
   },
   {
    "duration": 715,
    "start_time": "2022-09-26T15:27:12.661Z"
   },
   {
    "duration": 22,
    "start_time": "2022-09-26T15:27:13.379Z"
   },
   {
    "duration": 760,
    "start_time": "2022-09-26T15:27:13.403Z"
   },
   {
    "duration": 74,
    "start_time": "2022-09-26T15:27:14.166Z"
   },
   {
    "duration": 9,
    "start_time": "2022-09-26T15:27:14.242Z"
   },
   {
    "duration": 7,
    "start_time": "2022-09-26T15:27:14.445Z"
   },
   {
    "duration": 21,
    "start_time": "2022-09-26T15:27:15.221Z"
   },
   {
    "duration": 19,
    "start_time": "2022-09-26T15:27:15.606Z"
   },
   {
    "duration": 21,
    "start_time": "2022-09-26T15:27:16.029Z"
   },
   {
    "duration": 15,
    "start_time": "2022-09-26T15:27:16.762Z"
   },
   {
    "duration": 4,
    "start_time": "2022-09-26T15:27:17.405Z"
   },
   {
    "duration": 12,
    "start_time": "2022-09-26T15:27:18.321Z"
   },
   {
    "duration": 12,
    "start_time": "2022-09-26T15:27:18.446Z"
   },
   {
    "duration": 9,
    "start_time": "2022-09-26T15:27:18.701Z"
   },
   {
    "duration": 9,
    "start_time": "2022-09-26T15:28:29.734Z"
   },
   {
    "duration": 9,
    "start_time": "2022-09-26T15:28:53.070Z"
   },
   {
    "duration": 9,
    "start_time": "2022-09-26T15:29:08.043Z"
   },
   {
    "duration": 12,
    "start_time": "2022-09-26T15:29:17.552Z"
   },
   {
    "duration": 13,
    "start_time": "2022-09-26T15:29:25.370Z"
   },
   {
    "duration": 12,
    "start_time": "2022-09-26T15:31:03.732Z"
   },
   {
    "duration": 730,
    "start_time": "2022-09-26T15:31:49.625Z"
   },
   {
    "duration": 18,
    "start_time": "2022-09-26T15:31:50.518Z"
   },
   {
    "duration": 734,
    "start_time": "2022-09-26T15:31:51.825Z"
   },
   {
    "duration": 11,
    "start_time": "2022-09-26T15:32:07.996Z"
   },
   {
    "duration": 732,
    "start_time": "2022-09-26T15:32:17.243Z"
   },
   {
    "duration": 11,
    "start_time": "2022-09-26T15:32:25.297Z"
   },
   {
    "duration": 750,
    "start_time": "2022-09-26T15:32:54.792Z"
   },
   {
    "duration": 12,
    "start_time": "2022-09-26T15:33:04.075Z"
   },
   {
    "duration": 10,
    "start_time": "2022-09-26T15:33:27.920Z"
   },
   {
    "duration": 42,
    "start_time": "2022-09-26T15:33:33.339Z"
   },
   {
    "duration": 13,
    "start_time": "2022-09-26T15:33:44.181Z"
   },
   {
    "duration": 10,
    "start_time": "2022-09-26T15:33:45.792Z"
   },
   {
    "duration": 745,
    "start_time": "2022-09-26T15:34:30.308Z"
   },
   {
    "duration": 11,
    "start_time": "2022-09-26T15:34:41.905Z"
   },
   {
    "duration": 10,
    "start_time": "2022-09-26T15:34:44.278Z"
   },
   {
    "duration": 10,
    "start_time": "2022-09-26T15:34:44.898Z"
   },
   {
    "duration": 11,
    "start_time": "2022-09-26T15:34:57.448Z"
   },
   {
    "duration": 10,
    "start_time": "2022-09-26T15:34:57.824Z"
   },
   {
    "duration": 3,
    "start_time": "2022-09-26T15:35:17.407Z"
   },
   {
    "duration": 710,
    "start_time": "2022-09-26T15:35:30.638Z"
   },
   {
    "duration": 13,
    "start_time": "2022-09-26T15:35:41.129Z"
   },
   {
    "duration": 9,
    "start_time": "2022-09-26T15:35:45.311Z"
   },
   {
    "duration": 12,
    "start_time": "2022-09-26T15:37:04.711Z"
   },
   {
    "duration": 9,
    "start_time": "2022-09-26T15:37:15.567Z"
   },
   {
    "duration": 11,
    "start_time": "2022-09-26T15:37:17.361Z"
   },
   {
    "duration": 18,
    "start_time": "2022-09-26T15:37:48.426Z"
   },
   {
    "duration": 9,
    "start_time": "2022-09-26T15:37:49.199Z"
   },
   {
    "duration": 6,
    "start_time": "2022-09-26T15:38:02.067Z"
   },
   {
    "duration": 16,
    "start_time": "2022-09-26T15:38:26.344Z"
   },
   {
    "duration": 4,
    "start_time": "2022-09-26T15:38:30.385Z"
   },
   {
    "duration": 13,
    "start_time": "2022-09-26T15:38:34.148Z"
   },
   {
    "duration": 5,
    "start_time": "2022-09-26T15:38:34.742Z"
   },
   {
    "duration": 39,
    "start_time": "2022-09-26T15:38:54.464Z"
   },
   {
    "duration": 9,
    "start_time": "2022-09-26T15:39:09.657Z"
   },
   {
    "duration": 9,
    "start_time": "2022-09-26T15:39:22.580Z"
   },
   {
    "duration": 9,
    "start_time": "2022-09-26T15:39:23.327Z"
   },
   {
    "duration": 20,
    "start_time": "2022-09-26T15:40:10.493Z"
   },
   {
    "duration": 40,
    "start_time": "2022-09-26T15:40:20.772Z"
   },
   {
    "duration": 661,
    "start_time": "2022-09-26T15:41:09.192Z"
   },
   {
    "duration": 29,
    "start_time": "2022-09-26T15:41:18.542Z"
   },
   {
    "duration": 8,
    "start_time": "2022-09-26T15:41:22.405Z"
   },
   {
    "duration": 33,
    "start_time": "2022-09-26T15:41:44.266Z"
   },
   {
    "duration": 9,
    "start_time": "2022-09-26T15:41:46.133Z"
   },
   {
    "duration": 12,
    "start_time": "2022-09-26T15:42:04.909Z"
   },
   {
    "duration": 36,
    "start_time": "2022-09-26T15:42:21.852Z"
   },
   {
    "duration": 8,
    "start_time": "2022-09-26T15:42:24.438Z"
   },
   {
    "duration": 31,
    "start_time": "2022-09-26T15:43:59.476Z"
   },
   {
    "duration": 8,
    "start_time": "2022-09-26T15:44:01.698Z"
   },
   {
    "duration": 1339,
    "start_time": "2022-09-26T15:44:13.483Z"
   },
   {
    "duration": 731,
    "start_time": "2022-09-26T15:44:14.824Z"
   },
   {
    "duration": 19,
    "start_time": "2022-09-26T15:44:15.556Z"
   },
   {
    "duration": 784,
    "start_time": "2022-09-26T15:44:15.577Z"
   },
   {
    "duration": 76,
    "start_time": "2022-09-26T15:44:16.363Z"
   },
   {
    "duration": 10,
    "start_time": "2022-09-26T15:44:16.442Z"
   },
   {
    "duration": 7,
    "start_time": "2022-09-26T15:44:16.454Z"
   },
   {
    "duration": 25,
    "start_time": "2022-09-26T15:44:16.463Z"
   },
   {
    "duration": 49,
    "start_time": "2022-09-26T15:44:16.490Z"
   },
   {
    "duration": 21,
    "start_time": "2022-09-26T15:44:16.542Z"
   },
   {
    "duration": 14,
    "start_time": "2022-09-26T15:44:16.565Z"
   },
   {
    "duration": 6,
    "start_time": "2022-09-26T15:44:16.581Z"
   },
   {
    "duration": 19,
    "start_time": "2022-09-26T15:44:16.588Z"
   },
   {
    "duration": 65,
    "start_time": "2022-09-26T15:44:16.609Z"
   },
   {
    "duration": 237,
    "start_time": "2022-09-26T15:44:16.676Z"
   },
   {
    "duration": 1975,
    "start_time": "2022-09-26T15:44:16.915Z"
   },
   {
    "duration": 79,
    "start_time": "2022-09-26T15:44:18.892Z"
   },
   {
    "duration": 904,
    "start_time": "2022-09-26T15:44:18.973Z"
   },
   {
    "duration": 364,
    "start_time": "2022-09-26T15:44:19.879Z"
   },
   {
    "duration": 21,
    "start_time": "2022-09-26T15:44:20.245Z"
   },
   {
    "duration": 3,
    "start_time": "2022-09-26T15:44:20.268Z"
   },
   {
    "duration": 189,
    "start_time": "2022-09-26T15:44:20.273Z"
   },
   {
    "duration": 0,
    "start_time": "2022-09-26T15:44:20.464Z"
   },
   {
    "duration": 0,
    "start_time": "2022-09-26T15:44:20.466Z"
   },
   {
    "duration": 0,
    "start_time": "2022-09-26T15:44:20.467Z"
   },
   {
    "duration": 0,
    "start_time": "2022-09-26T15:44:20.468Z"
   },
   {
    "duration": 0,
    "start_time": "2022-09-26T15:44:20.469Z"
   },
   {
    "duration": 0,
    "start_time": "2022-09-26T15:44:20.470Z"
   },
   {
    "duration": 7,
    "start_time": "2022-09-26T15:45:06.001Z"
   },
   {
    "duration": 94,
    "start_time": "2022-09-26T15:45:14.727Z"
   },
   {
    "duration": 31,
    "start_time": "2022-09-26T15:45:21.516Z"
   },
   {
    "duration": 14,
    "start_time": "2022-09-26T15:45:46.122Z"
   },
   {
    "duration": 24,
    "start_time": "2022-09-26T15:46:26.462Z"
   },
   {
    "duration": 12,
    "start_time": "2022-09-26T15:46:54.624Z"
   },
   {
    "duration": 29,
    "start_time": "2022-09-26T15:47:00.211Z"
   },
   {
    "duration": 5,
    "start_time": "2022-09-26T15:47:21.859Z"
   },
   {
    "duration": 27,
    "start_time": "2022-09-26T15:47:25.241Z"
   },
   {
    "duration": 955,
    "start_time": "2022-09-26T15:48:17.226Z"
   },
   {
    "duration": 1438,
    "start_time": "2022-09-26T15:48:28.970Z"
   },
   {
    "duration": 1464,
    "start_time": "2022-09-26T15:48:36.096Z"
   },
   {
    "duration": 757,
    "start_time": "2022-09-26T15:48:37.562Z"
   },
   {
    "duration": 33,
    "start_time": "2022-09-26T15:48:38.321Z"
   },
   {
    "duration": 766,
    "start_time": "2022-09-26T15:48:38.357Z"
   },
   {
    "duration": 71,
    "start_time": "2022-09-26T15:48:39.124Z"
   },
   {
    "duration": 9,
    "start_time": "2022-09-26T15:48:39.197Z"
   },
   {
    "duration": 12,
    "start_time": "2022-09-26T15:48:39.208Z"
   },
   {
    "duration": 49,
    "start_time": "2022-09-26T15:48:39.221Z"
   },
   {
    "duration": 44,
    "start_time": "2022-09-26T15:48:39.271Z"
   },
   {
    "duration": 66,
    "start_time": "2022-09-26T15:48:39.318Z"
   },
   {
    "duration": 38,
    "start_time": "2022-09-26T15:48:39.386Z"
   },
   {
    "duration": 15,
    "start_time": "2022-09-26T15:48:39.426Z"
   },
   {
    "duration": 52,
    "start_time": "2022-09-26T15:48:39.443Z"
   },
   {
    "duration": 66,
    "start_time": "2022-09-26T15:48:39.496Z"
   },
   {
    "duration": 41,
    "start_time": "2022-09-26T15:48:39.564Z"
   },
   {
    "duration": 237,
    "start_time": "2022-09-26T15:48:39.607Z"
   },
   {
    "duration": 1876,
    "start_time": "2022-09-26T15:48:39.846Z"
   },
   {
    "duration": 83,
    "start_time": "2022-09-26T15:48:41.724Z"
   },
   {
    "duration": 914,
    "start_time": "2022-09-26T15:48:41.809Z"
   },
   {
    "duration": 363,
    "start_time": "2022-09-26T15:48:42.724Z"
   },
   {
    "duration": 22,
    "start_time": "2022-09-26T15:48:43.088Z"
   },
   {
    "duration": 4,
    "start_time": "2022-09-26T15:48:43.111Z"
   },
   {
    "duration": 47,
    "start_time": "2022-09-26T15:48:43.117Z"
   },
   {
    "duration": 7,
    "start_time": "2022-09-26T15:48:43.166Z"
   },
   {
    "duration": 147,
    "start_time": "2022-09-26T15:48:43.175Z"
   },
   {
    "duration": 0,
    "start_time": "2022-09-26T15:48:43.323Z"
   },
   {
    "duration": 0,
    "start_time": "2022-09-26T15:48:43.325Z"
   },
   {
    "duration": 0,
    "start_time": "2022-09-26T15:48:43.326Z"
   },
   {
    "duration": 0,
    "start_time": "2022-09-26T15:48:43.338Z"
   },
   {
    "duration": 0,
    "start_time": "2022-09-26T15:48:43.340Z"
   },
   {
    "duration": 35,
    "start_time": "2022-09-26T15:51:15.696Z"
   },
   {
    "duration": 30,
    "start_time": "2022-09-26T15:51:21.475Z"
   },
   {
    "duration": 5,
    "start_time": "2022-09-26T15:51:45.560Z"
   },
   {
    "duration": 29,
    "start_time": "2022-09-26T15:51:51.800Z"
   },
   {
    "duration": 31,
    "start_time": "2022-09-26T15:51:55.655Z"
   },
   {
    "duration": 29,
    "start_time": "2022-09-26T15:52:15.898Z"
   },
   {
    "duration": 45,
    "start_time": "2022-09-26T15:52:38.568Z"
   },
   {
    "duration": 29,
    "start_time": "2022-09-26T15:53:02.067Z"
   },
   {
    "duration": 6,
    "start_time": "2022-09-26T15:53:11.685Z"
   },
   {
    "duration": 5,
    "start_time": "2022-09-26T15:56:16.220Z"
   },
   {
    "duration": 7,
    "start_time": "2022-09-26T15:56:20.436Z"
   },
   {
    "duration": 21,
    "start_time": "2022-09-26T15:57:51.408Z"
   },
   {
    "duration": 22,
    "start_time": "2022-09-26T15:58:37.049Z"
   },
   {
    "duration": 3,
    "start_time": "2022-09-26T16:00:25.647Z"
   },
   {
    "duration": 10,
    "start_time": "2022-09-26T16:02:42.173Z"
   },
   {
    "duration": 11,
    "start_time": "2022-09-26T16:03:01.780Z"
   },
   {
    "duration": 3261,
    "start_time": "2022-09-26T16:03:14.602Z"
   },
   {
    "duration": 179309,
    "start_time": "2022-09-26T16:04:10.703Z"
   },
   {
    "duration": 41,
    "start_time": "2022-09-26T16:10:01.821Z"
   },
   {
    "duration": 0,
    "start_time": "2022-09-26T16:13:40.686Z"
   },
   {
    "duration": 4,
    "start_time": "2022-09-26T16:13:53.372Z"
   },
   {
    "duration": 175081,
    "start_time": "2022-09-26T16:13:57.247Z"
   },
   {
    "duration": 8081,
    "start_time": "2022-09-26T16:16:52.330Z"
   },
   {
    "duration": 13,
    "start_time": "2022-09-26T16:17:00.413Z"
   },
   {
    "duration": 4,
    "start_time": "2022-09-26T16:17:05.735Z"
   },
   {
    "duration": 4,
    "start_time": "2022-09-26T16:17:07.943Z"
   },
   {
    "duration": 690663,
    "start_time": "2022-09-26T16:18:46.211Z"
   },
   {
    "duration": 0,
    "start_time": "2022-09-26T16:30:16.876Z"
   },
   {
    "duration": 9,
    "start_time": "2022-09-26T16:30:35.140Z"
   },
   {
    "duration": 3,
    "start_time": "2022-09-26T16:30:40.780Z"
   },
   {
    "duration": 12,
    "start_time": "2022-09-26T16:30:45.773Z"
   },
   {
    "duration": 3065,
    "start_time": "2022-09-26T16:30:53.676Z"
   },
   {
    "duration": 4,
    "start_time": "2022-09-26T16:31:00.586Z"
   },
   {
    "duration": 488675,
    "start_time": "2022-09-26T16:31:42.681Z"
   },
   {
    "duration": 4,
    "start_time": "2022-09-26T16:39:51.358Z"
   },
   {
    "duration": 270,
    "start_time": "2022-09-26T16:39:51.365Z"
   },
   {
    "duration": 13,
    "start_time": "2022-09-26T16:40:53.994Z"
   },
   {
    "duration": 12,
    "start_time": "2022-09-26T16:41:01.140Z"
   },
   {
    "duration": 10,
    "start_time": "2022-09-26T16:52:03.017Z"
   },
   {
    "duration": 1428,
    "start_time": "2022-09-26T16:52:11.935Z"
   },
   {
    "duration": 726,
    "start_time": "2022-09-26T16:52:13.365Z"
   },
   {
    "duration": 19,
    "start_time": "2022-09-26T16:52:14.092Z"
   },
   {
    "duration": 774,
    "start_time": "2022-09-26T16:52:14.113Z"
   },
   {
    "duration": 72,
    "start_time": "2022-09-26T16:52:14.889Z"
   },
   {
    "duration": 9,
    "start_time": "2022-09-26T16:52:14.962Z"
   },
   {
    "duration": 6,
    "start_time": "2022-09-26T16:52:14.973Z"
   },
   {
    "duration": 27,
    "start_time": "2022-09-26T16:52:14.981Z"
   },
   {
    "duration": 42,
    "start_time": "2022-09-26T16:52:15.010Z"
   },
   {
    "duration": 25,
    "start_time": "2022-09-26T16:52:15.053Z"
   },
   {
    "duration": 17,
    "start_time": "2022-09-26T16:52:15.080Z"
   },
   {
    "duration": 10,
    "start_time": "2022-09-26T16:52:15.098Z"
   },
   {
    "duration": 20,
    "start_time": "2022-09-26T16:52:15.109Z"
   },
   {
    "duration": 40,
    "start_time": "2022-09-26T16:52:15.139Z"
   },
   {
    "duration": 220,
    "start_time": "2022-09-26T16:52:15.181Z"
   },
   {
    "duration": 1782,
    "start_time": "2022-09-26T16:52:15.402Z"
   },
   {
    "duration": 92,
    "start_time": "2022-09-26T16:52:17.186Z"
   },
   {
    "duration": 882,
    "start_time": "2022-09-26T16:52:17.281Z"
   },
   {
    "duration": 391,
    "start_time": "2022-09-26T16:52:18.165Z"
   },
   {
    "duration": 70,
    "start_time": "2022-09-26T16:52:18.558Z"
   },
   {
    "duration": 5,
    "start_time": "2022-09-26T16:52:18.639Z"
   },
   {
    "duration": 26,
    "start_time": "2022-09-26T16:52:18.646Z"
   },
   {
    "duration": 3,
    "start_time": "2022-09-26T16:52:18.674Z"
   },
   {
    "duration": 173018,
    "start_time": "2022-09-26T16:52:18.680Z"
   },
   {
    "duration": 4,
    "start_time": "2022-09-26T16:55:11.700Z"
   },
   {
    "duration": 8120,
    "start_time": "2022-09-26T16:55:11.706Z"
   },
   {
    "duration": 4,
    "start_time": "2022-09-26T16:55:19.828Z"
   },
   {
    "duration": 484663,
    "start_time": "2022-09-26T16:55:19.833Z"
   },
   {
    "duration": 4,
    "start_time": "2022-09-26T17:03:24.498Z"
   },
   {
    "duration": 2637,
    "start_time": "2022-09-26T17:03:24.504Z"
   },
   {
    "duration": 4,
    "start_time": "2022-09-26T17:03:27.144Z"
   },
   {
    "duration": 101,
    "start_time": "2022-09-26T17:03:27.150Z"
   },
   {
    "duration": 4,
    "start_time": "2022-09-26T17:03:51.603Z"
   },
   {
    "duration": 5,
    "start_time": "2022-09-26T17:04:57.024Z"
   },
   {
    "duration": 11,
    "start_time": "2022-09-26T17:05:00.996Z"
   },
   {
    "duration": 10,
    "start_time": "2022-09-26T17:05:28.949Z"
   },
   {
    "duration": 4,
    "start_time": "2022-09-26T17:17:05.966Z"
   },
   {
    "duration": 21,
    "start_time": "2022-09-26T17:17:06.485Z"
   },
   {
    "duration": 3,
    "start_time": "2022-09-26T17:17:07.901Z"
   },
   {
    "duration": 3010,
    "start_time": "2022-09-26T17:17:18.037Z"
   },
   {
    "duration": 4,
    "start_time": "2022-09-26T17:17:26.583Z"
   },
   {
    "duration": 3,
    "start_time": "2022-09-26T17:18:07.968Z"
   },
   {
    "duration": 2707,
    "start_time": "2022-09-26T17:18:11.938Z"
   },
   {
    "duration": 3,
    "start_time": "2022-09-26T17:18:25.646Z"
   },
   {
    "duration": 21,
    "start_time": "2022-09-26T17:18:26.540Z"
   },
   {
    "duration": 2,
    "start_time": "2022-09-26T17:18:26.912Z"
   },
   {
    "duration": 2778,
    "start_time": "2022-09-26T17:18:30.161Z"
   },
   {
    "duration": 4,
    "start_time": "2022-09-26T17:18:36.375Z"
   },
   {
    "duration": 11,
    "start_time": "2022-09-26T17:18:41.057Z"
   },
   {
    "duration": 3,
    "start_time": "2022-09-26T17:22:41.836Z"
   },
   {
    "duration": 2918,
    "start_time": "2022-09-26T17:22:46.328Z"
   },
   {
    "duration": 4,
    "start_time": "2022-09-26T17:22:50.936Z"
   },
   {
    "duration": 12,
    "start_time": "2022-09-26T17:22:58.972Z"
   },
   {
    "duration": 3,
    "start_time": "2022-09-26T17:26:00.628Z"
   },
   {
    "duration": 22,
    "start_time": "2022-09-26T17:26:01.101Z"
   },
   {
    "duration": 3,
    "start_time": "2022-09-26T17:26:01.317Z"
   },
   {
    "duration": 171487,
    "start_time": "2022-09-26T17:26:01.908Z"
   },
   {
    "duration": 4,
    "start_time": "2022-09-26T17:28:53.397Z"
   },
   {
    "duration": 7991,
    "start_time": "2022-09-26T17:28:53.404Z"
   },
   {
    "duration": 4,
    "start_time": "2022-09-26T17:29:01.397Z"
   },
   {
    "duration": 486024,
    "start_time": "2022-09-26T17:29:01.403Z"
   },
   {
    "duration": 10,
    "start_time": "2022-09-26T17:37:07.429Z"
   },
   {
    "duration": 2506,
    "start_time": "2022-09-26T17:37:07.441Z"
   },
   {
    "duration": 4,
    "start_time": "2022-09-26T17:37:10.040Z"
   },
   {
    "duration": 19,
    "start_time": "2022-09-26T17:37:10.046Z"
   },
   {
    "duration": 108,
    "start_time": "2022-09-26T17:39:54.884Z"
   },
   {
    "duration": 3,
    "start_time": "2022-09-26T17:40:46.872Z"
   },
   {
    "duration": 728,
    "start_time": "2022-09-26T17:40:47.069Z"
   },
   {
    "duration": 20,
    "start_time": "2022-09-26T17:40:47.799Z"
   },
   {
    "duration": 741,
    "start_time": "2022-09-26T17:40:47.821Z"
   },
   {
    "duration": 91,
    "start_time": "2022-09-26T17:40:48.564Z"
   },
   {
    "duration": 8,
    "start_time": "2022-09-26T17:40:48.804Z"
   },
   {
    "duration": 6,
    "start_time": "2022-09-26T17:40:49.897Z"
   },
   {
    "duration": 22,
    "start_time": "2022-09-26T17:40:50.323Z"
   },
   {
    "duration": 20,
    "start_time": "2022-09-26T17:40:50.594Z"
   },
   {
    "duration": 22,
    "start_time": "2022-09-26T17:40:50.907Z"
   },
   {
    "duration": 13,
    "start_time": "2022-09-26T17:40:51.467Z"
   },
   {
    "duration": 4,
    "start_time": "2022-09-26T17:40:52.066Z"
   },
   {
    "duration": 16,
    "start_time": "2022-09-26T17:40:52.563Z"
   },
   {
    "duration": 33,
    "start_time": "2022-09-26T17:40:53.090Z"
   },
   {
    "duration": 201,
    "start_time": "2022-09-26T17:40:54.449Z"
   },
   {
    "duration": 1875,
    "start_time": "2022-09-26T17:40:56.131Z"
   },
   {
    "duration": 80,
    "start_time": "2022-09-26T17:40:58.008Z"
   },
   {
    "duration": 903,
    "start_time": "2022-09-26T17:40:58.464Z"
   },
   {
    "duration": 263,
    "start_time": "2022-09-26T17:41:02.213Z"
   },
   {
    "duration": 14,
    "start_time": "2022-09-26T17:41:10.759Z"
   },
   {
    "duration": 5,
    "start_time": "2022-09-26T17:42:12.177Z"
   },
   {
    "duration": 5,
    "start_time": "2022-09-26T17:43:47.336Z"
   },
   {
    "duration": 5,
    "start_time": "2022-09-26T17:43:47.935Z"
   },
   {
    "duration": 24,
    "start_time": "2022-09-26T17:45:03.699Z"
   },
   {
    "duration": 5,
    "start_time": "2022-09-26T17:45:10.309Z"
   },
   {
    "duration": 15,
    "start_time": "2022-09-26T17:48:41.044Z"
   },
   {
    "duration": 16,
    "start_time": "2022-09-26T17:49:04.325Z"
   },
   {
    "duration": 5,
    "start_time": "2022-09-26T17:51:05.125Z"
   },
   {
    "duration": 7,
    "start_time": "2022-09-26T17:53:38.747Z"
   },
   {
    "duration": 21,
    "start_time": "2022-09-26T17:53:56.610Z"
   },
   {
    "duration": 23,
    "start_time": "2022-09-26T17:54:17.292Z"
   },
   {
    "duration": 135,
    "start_time": "2022-09-26T17:55:21.344Z"
   },
   {
    "duration": 12,
    "start_time": "2022-09-26T17:55:29.446Z"
   },
   {
    "duration": 10,
    "start_time": "2022-09-26T17:56:55.630Z"
   },
   {
    "duration": 14,
    "start_time": "2022-09-26T17:57:03.584Z"
   },
   {
    "duration": 7,
    "start_time": "2022-09-26T17:57:06.793Z"
   },
   {
    "duration": 26,
    "start_time": "2022-09-26T17:57:23.794Z"
   },
   {
    "duration": 22,
    "start_time": "2022-09-26T17:57:36.602Z"
   },
   {
    "duration": 22,
    "start_time": "2022-09-26T17:57:47.892Z"
   },
   {
    "duration": 22,
    "start_time": "2022-09-26T17:57:52.189Z"
   },
   {
    "duration": 25,
    "start_time": "2022-09-26T17:57:56.047Z"
   },
   {
    "duration": 13,
    "start_time": "2022-09-26T17:58:44.984Z"
   },
   {
    "duration": 5,
    "start_time": "2022-09-26T17:59:09.629Z"
   },
   {
    "duration": 5,
    "start_time": "2022-09-26T17:59:17.468Z"
   },
   {
    "duration": 3,
    "start_time": "2022-09-26T17:59:24.195Z"
   },
   {
    "duration": 16,
    "start_time": "2022-09-26T18:00:01.019Z"
   },
   {
    "duration": 8,
    "start_time": "2022-09-26T18:00:11.081Z"
   },
   {
    "duration": 674,
    "start_time": "2022-09-26T18:03:44.688Z"
   },
   {
    "duration": 13,
    "start_time": "2022-09-26T18:04:06.845Z"
   },
   {
    "duration": 14,
    "start_time": "2022-09-26T18:04:16.671Z"
   },
   {
    "duration": 33,
    "start_time": "2022-09-26T18:04:25.256Z"
   },
   {
    "duration": 10,
    "start_time": "2022-09-26T18:04:30.638Z"
   },
   {
    "duration": 28,
    "start_time": "2022-09-26T18:04:57.924Z"
   },
   {
    "duration": 7,
    "start_time": "2022-09-26T18:06:42.483Z"
   },
   {
    "duration": 19,
    "start_time": "2022-09-26T18:06:57.020Z"
   },
   {
    "duration": 19,
    "start_time": "2022-09-26T18:06:59.674Z"
   },
   {
    "duration": 20,
    "start_time": "2022-09-26T18:07:02.007Z"
   },
   {
    "duration": 1403,
    "start_time": "2022-09-26T18:11:39.036Z"
   },
   {
    "duration": 747,
    "start_time": "2022-09-26T18:11:40.441Z"
   },
   {
    "duration": 19,
    "start_time": "2022-09-26T18:11:41.190Z"
   },
   {
    "duration": 777,
    "start_time": "2022-09-26T18:11:41.211Z"
   },
   {
    "duration": 75,
    "start_time": "2022-09-26T18:11:41.989Z"
   },
   {
    "duration": 8,
    "start_time": "2022-09-26T18:11:42.065Z"
   },
   {
    "duration": 7,
    "start_time": "2022-09-26T18:11:42.074Z"
   },
   {
    "duration": 23,
    "start_time": "2022-09-26T18:11:42.082Z"
   },
   {
    "duration": 41,
    "start_time": "2022-09-26T18:11:42.107Z"
   },
   {
    "duration": 20,
    "start_time": "2022-09-26T18:11:42.151Z"
   },
   {
    "duration": 17,
    "start_time": "2022-09-26T18:11:42.172Z"
   },
   {
    "duration": 21,
    "start_time": "2022-09-26T18:11:42.191Z"
   },
   {
    "duration": 62,
    "start_time": "2022-09-26T18:11:42.213Z"
   },
   {
    "duration": 253,
    "start_time": "2022-09-26T18:11:42.277Z"
   },
   {
    "duration": 2034,
    "start_time": "2022-09-26T18:11:42.532Z"
   },
   {
    "duration": 76,
    "start_time": "2022-09-26T18:11:44.568Z"
   },
   {
    "duration": 890,
    "start_time": "2022-09-26T18:11:44.646Z"
   },
   {
    "duration": 380,
    "start_time": "2022-09-26T18:11:45.538Z"
   },
   {
    "duration": 76,
    "start_time": "2022-09-26T18:11:45.920Z"
   },
   {
    "duration": 4,
    "start_time": "2022-09-26T18:11:45.998Z"
   },
   {
    "duration": 35,
    "start_time": "2022-09-26T18:11:46.003Z"
   },
   {
    "duration": 3,
    "start_time": "2022-09-26T18:11:46.040Z"
   },
   {
    "duration": 56590,
    "start_time": "2022-09-26T18:11:46.045Z"
   },
   {
    "duration": 4,
    "start_time": "2022-09-26T18:12:42.637Z"
   },
   {
    "duration": 7910,
    "start_time": "2022-09-26T18:12:42.643Z"
   },
   {
    "duration": 4,
    "start_time": "2022-09-26T18:12:50.554Z"
   },
   {
    "duration": 229780,
    "start_time": "2022-09-26T18:12:50.559Z"
   },
   {
    "duration": 0,
    "start_time": "2022-09-26T18:16:40.341Z"
   },
   {
    "duration": 0,
    "start_time": "2022-09-26T18:16:40.342Z"
   },
   {
    "duration": 0,
    "start_time": "2022-09-26T18:16:40.343Z"
   },
   {
    "duration": 0,
    "start_time": "2022-09-26T18:16:40.344Z"
   },
   {
    "duration": 0,
    "start_time": "2022-09-26T18:16:40.346Z"
   },
   {
    "duration": 0,
    "start_time": "2022-09-26T18:16:40.347Z"
   },
   {
    "duration": 1402,
    "start_time": "2022-09-26T18:16:53.436Z"
   },
   {
    "duration": 740,
    "start_time": "2022-09-26T18:16:54.840Z"
   },
   {
    "duration": 20,
    "start_time": "2022-09-26T18:16:55.582Z"
   },
   {
    "duration": 774,
    "start_time": "2022-09-26T18:16:55.604Z"
   },
   {
    "duration": 72,
    "start_time": "2022-09-26T18:16:56.380Z"
   },
   {
    "duration": 8,
    "start_time": "2022-09-26T18:16:56.454Z"
   },
   {
    "duration": 6,
    "start_time": "2022-09-26T18:16:56.464Z"
   },
   {
    "duration": 21,
    "start_time": "2022-09-26T18:16:56.471Z"
   },
   {
    "duration": 21,
    "start_time": "2022-09-26T18:16:56.493Z"
   },
   {
    "duration": 19,
    "start_time": "2022-09-26T18:16:56.539Z"
   },
   {
    "duration": 16,
    "start_time": "2022-09-26T18:16:56.560Z"
   },
   {
    "duration": 17,
    "start_time": "2022-09-26T18:16:56.577Z"
   },
   {
    "duration": 61,
    "start_time": "2022-09-26T18:16:56.596Z"
   },
   {
    "duration": 225,
    "start_time": "2022-09-26T18:16:56.661Z"
   },
   {
    "duration": 1956,
    "start_time": "2022-09-26T18:16:56.888Z"
   },
   {
    "duration": 75,
    "start_time": "2022-09-26T18:16:58.846Z"
   },
   {
    "duration": 898,
    "start_time": "2022-09-26T18:16:58.939Z"
   },
   {
    "duration": 420,
    "start_time": "2022-09-26T18:16:59.839Z"
   },
   {
    "duration": 63,
    "start_time": "2022-09-26T18:17:00.261Z"
   },
   {
    "duration": 4,
    "start_time": "2022-09-26T18:17:00.339Z"
   },
   {
    "duration": 40,
    "start_time": "2022-09-26T18:17:00.345Z"
   },
   {
    "duration": 3,
    "start_time": "2022-09-26T18:17:00.387Z"
   },
   {
    "duration": 56923,
    "start_time": "2022-09-26T18:17:00.391Z"
   },
   {
    "duration": 5,
    "start_time": "2022-09-26T18:17:57.316Z"
   },
   {
    "duration": 1632,
    "start_time": "2022-09-27T14:51:22.701Z"
   },
   {
    "duration": 3001,
    "start_time": "2022-09-27T14:51:24.335Z"
   },
   {
    "duration": 19,
    "start_time": "2022-09-27T14:51:27.337Z"
   },
   {
    "duration": 811,
    "start_time": "2022-09-27T14:51:27.358Z"
   },
   {
    "duration": 99,
    "start_time": "2022-09-27T14:51:28.171Z"
   },
   {
    "duration": 9,
    "start_time": "2022-09-27T14:51:28.272Z"
   },
   {
    "duration": 10,
    "start_time": "2022-09-27T14:51:28.283Z"
   },
   {
    "duration": 28,
    "start_time": "2022-09-27T14:51:28.309Z"
   },
   {
    "duration": 16,
    "start_time": "2022-09-27T14:51:28.338Z"
   },
   {
    "duration": 16,
    "start_time": "2022-09-27T14:51:28.357Z"
   },
   {
    "duration": 40,
    "start_time": "2022-09-27T14:51:28.374Z"
   },
   {
    "duration": 15,
    "start_time": "2022-09-27T14:51:28.416Z"
   },
   {
    "duration": 32,
    "start_time": "2022-09-27T14:51:28.432Z"
   },
   {
    "duration": 223,
    "start_time": "2022-09-27T14:51:28.466Z"
   },
   {
    "duration": 1708,
    "start_time": "2022-09-27T14:51:28.691Z"
   },
   {
    "duration": 69,
    "start_time": "2022-09-27T14:51:30.401Z"
   },
   {
    "duration": 1045,
    "start_time": "2022-09-27T14:51:30.472Z"
   },
   {
    "duration": 260,
    "start_time": "2022-09-27T14:51:31.519Z"
   },
   {
    "duration": 69,
    "start_time": "2022-09-27T14:51:31.781Z"
   },
   {
    "duration": 5,
    "start_time": "2022-09-27T14:51:31.851Z"
   },
   {
    "duration": 61,
    "start_time": "2022-09-27T14:51:31.857Z"
   },
   {
    "duration": 34,
    "start_time": "2022-09-27T14:51:31.920Z"
   },
   {
    "duration": 55568,
    "start_time": "2022-09-27T14:51:31.956Z"
   },
   {
    "duration": 3,
    "start_time": "2022-09-27T14:52:27.526Z"
   },
   {
    "duration": 9038,
    "start_time": "2022-09-27T14:52:27.531Z"
   },
   {
    "duration": 5,
    "start_time": "2022-09-27T14:52:36.570Z"
   },
   {
    "duration": 1335,
    "start_time": "2022-09-27T14:52:53.906Z"
   },
   {
    "duration": 681,
    "start_time": "2022-09-27T14:52:55.243Z"
   },
   {
    "duration": 19,
    "start_time": "2022-09-27T14:52:55.926Z"
   },
   {
    "duration": 814,
    "start_time": "2022-09-27T14:52:55.946Z"
   },
   {
    "duration": 73,
    "start_time": "2022-09-27T14:52:56.761Z"
   },
   {
    "duration": 8,
    "start_time": "2022-09-27T14:52:56.835Z"
   },
   {
    "duration": 11,
    "start_time": "2022-09-27T14:52:56.845Z"
   },
   {
    "duration": 22,
    "start_time": "2022-09-27T14:52:56.858Z"
   },
   {
    "duration": 32,
    "start_time": "2022-09-27T14:52:56.882Z"
   },
   {
    "duration": 16,
    "start_time": "2022-09-27T14:52:56.918Z"
   },
   {
    "duration": 13,
    "start_time": "2022-09-27T14:52:56.935Z"
   },
   {
    "duration": 18,
    "start_time": "2022-09-27T14:52:56.950Z"
   },
   {
    "duration": 54,
    "start_time": "2022-09-27T14:52:56.970Z"
   },
   {
    "duration": 203,
    "start_time": "2022-09-27T14:52:57.026Z"
   },
   {
    "duration": 1633,
    "start_time": "2022-09-27T14:52:57.231Z"
   },
   {
    "duration": 70,
    "start_time": "2022-09-27T14:52:58.865Z"
   },
   {
    "duration": 789,
    "start_time": "2022-09-27T14:52:58.936Z"
   },
   {
    "duration": 369,
    "start_time": "2022-09-27T14:52:59.726Z"
   },
   {
    "duration": 66,
    "start_time": "2022-09-27T14:53:00.097Z"
   },
   {
    "duration": 3,
    "start_time": "2022-09-27T14:53:00.164Z"
   },
   {
    "duration": 46,
    "start_time": "2022-09-27T14:53:00.169Z"
   },
   {
    "duration": 3,
    "start_time": "2022-09-27T14:53:00.217Z"
   },
   {
    "duration": 54948,
    "start_time": "2022-09-27T14:53:00.221Z"
   },
   {
    "duration": 4,
    "start_time": "2022-09-27T14:53:55.171Z"
   },
   {
    "duration": 8718,
    "start_time": "2022-09-27T14:53:55.176Z"
   },
   {
    "duration": 4,
    "start_time": "2022-09-27T14:54:03.897Z"
   },
   {
    "duration": 1047156,
    "start_time": "2022-09-27T14:54:03.902Z"
   },
   {
    "duration": 3,
    "start_time": "2022-09-27T15:11:31.061Z"
   },
   {
    "duration": 2351,
    "start_time": "2022-09-27T15:11:31.066Z"
   },
   {
    "duration": 4,
    "start_time": "2022-09-27T15:11:33.510Z"
   },
   {
    "duration": 13,
    "start_time": "2022-09-27T15:11:33.516Z"
   },
   {
    "duration": 10606,
    "start_time": "2022-09-27T15:11:33.530Z"
   },
   {
    "duration": 6,
    "start_time": "2022-09-27T15:11:44.138Z"
   },
   {
    "duration": 135,
    "start_time": "2022-09-27T15:11:44.146Z"
   },
   {
    "duration": 10,
    "start_time": "2022-09-27T15:16:44.868Z"
   },
   {
    "duration": 2229,
    "start_time": "2022-09-27T15:17:59.815Z"
   },
   {
    "duration": 8,
    "start_time": "2022-09-27T15:18:03.175Z"
   },
   {
    "duration": 19,
    "start_time": "2022-09-27T15:18:03.824Z"
   },
   {
    "duration": 3,
    "start_time": "2022-09-27T15:19:24.978Z"
   },
   {
    "duration": 19,
    "start_time": "2022-09-27T15:19:33.921Z"
   },
   {
    "duration": 2257,
    "start_time": "2022-09-27T15:19:40.988Z"
   },
   {
    "duration": 6,
    "start_time": "2022-09-27T15:19:43.247Z"
   },
   {
    "duration": 17,
    "start_time": "2022-09-27T15:19:43.255Z"
   },
   {
    "duration": 17,
    "start_time": "2022-09-27T15:20:19.192Z"
   },
   {
    "duration": 6,
    "start_time": "2022-09-27T15:21:37.766Z"
   },
   {
    "duration": 5,
    "start_time": "2022-09-27T15:21:39.911Z"
   },
   {
    "duration": 11,
    "start_time": "2022-09-27T15:23:06.762Z"
   },
   {
    "duration": 8,
    "start_time": "2022-09-27T15:23:14.547Z"
   },
   {
    "duration": 13,
    "start_time": "2022-09-27T15:23:31.045Z"
   },
   {
    "duration": 18,
    "start_time": "2022-09-27T15:23:48.331Z"
   },
   {
    "duration": 15,
    "start_time": "2022-09-27T15:46:23.647Z"
   },
   {
    "duration": 16,
    "start_time": "2022-09-27T15:46:36.017Z"
   },
   {
    "duration": 15,
    "start_time": "2022-09-27T15:47:00.480Z"
   },
   {
    "duration": 14,
    "start_time": "2022-09-27T15:48:18.915Z"
   },
   {
    "duration": 10,
    "start_time": "2022-09-27T15:48:27.268Z"
   },
   {
    "duration": 14,
    "start_time": "2022-09-27T15:48:38.390Z"
   },
   {
    "duration": 13,
    "start_time": "2022-09-27T15:48:47.398Z"
   },
   {
    "duration": 10,
    "start_time": "2022-09-27T15:48:59.502Z"
   },
   {
    "duration": 15,
    "start_time": "2022-09-27T15:49:11.605Z"
   },
   {
    "duration": 9,
    "start_time": "2022-09-27T15:49:18.270Z"
   },
   {
    "duration": 8,
    "start_time": "2022-09-27T15:49:31.269Z"
   },
   {
    "duration": 8,
    "start_time": "2022-09-27T15:49:51.856Z"
   },
   {
    "duration": 11,
    "start_time": "2022-09-27T15:51:04.379Z"
   },
   {
    "duration": 12,
    "start_time": "2022-09-27T15:51:12.531Z"
   },
   {
    "duration": 102,
    "start_time": "2022-09-27T15:51:24.698Z"
   },
   {
    "duration": 80,
    "start_time": "2022-09-27T15:51:31.370Z"
   },
   {
    "duration": 5,
    "start_time": "2022-09-27T15:53:16.496Z"
   },
   {
    "duration": 102,
    "start_time": "2022-09-27T15:58:16.274Z"
   },
   {
    "duration": 11,
    "start_time": "2022-09-27T15:59:35.933Z"
   },
   {
    "duration": 74,
    "start_time": "2022-09-27T15:59:38.653Z"
   },
   {
    "duration": 9,
    "start_time": "2022-09-27T15:59:41.245Z"
   },
   {
    "duration": 3,
    "start_time": "2022-09-27T15:59:51.598Z"
   },
   {
    "duration": 162,
    "start_time": "2022-09-27T16:00:42.554Z"
   },
   {
    "duration": 150,
    "start_time": "2022-09-27T16:01:27.283Z"
   },
   {
    "duration": 76,
    "start_time": "2022-09-27T16:01:43.146Z"
   },
   {
    "duration": 11,
    "start_time": "2022-09-27T16:01:58.978Z"
   },
   {
    "duration": 14,
    "start_time": "2022-09-27T16:02:07.675Z"
   },
   {
    "duration": 9,
    "start_time": "2022-09-27T16:02:23.672Z"
   },
   {
    "duration": 10,
    "start_time": "2022-09-27T16:03:18.214Z"
   },
   {
    "duration": 49,
    "start_time": "2022-09-27T16:03:22.529Z"
   },
   {
    "duration": 72,
    "start_time": "2022-09-27T16:04:30.888Z"
   },
   {
    "duration": 8,
    "start_time": "2022-09-27T16:04:33.200Z"
   },
   {
    "duration": 18,
    "start_time": "2022-09-27T16:04:34.874Z"
   },
   {
    "duration": 9,
    "start_time": "2022-09-27T16:05:22.557Z"
   },
   {
    "duration": 11,
    "start_time": "2022-09-27T16:08:23.945Z"
   },
   {
    "duration": 18,
    "start_time": "2022-09-27T16:08:25.394Z"
   },
   {
    "duration": 73,
    "start_time": "2022-09-27T16:08:32.074Z"
   },
   {
    "duration": 10,
    "start_time": "2022-09-27T16:08:32.594Z"
   },
   {
    "duration": 803,
    "start_time": "2022-09-27T16:08:33.019Z"
   },
   {
    "duration": 9,
    "start_time": "2022-09-27T16:08:34.402Z"
   },
   {
    "duration": 1258,
    "start_time": "2022-09-27T16:11:04.166Z"
   },
   {
    "duration": 669,
    "start_time": "2022-09-27T16:11:05.426Z"
   },
   {
    "duration": 18,
    "start_time": "2022-09-27T16:11:06.096Z"
   },
   {
    "duration": 818,
    "start_time": "2022-09-27T16:11:06.116Z"
   },
   {
    "duration": 75,
    "start_time": "2022-09-27T16:11:06.935Z"
   },
   {
    "duration": 7,
    "start_time": "2022-09-27T16:11:07.012Z"
   },
   {
    "duration": 6,
    "start_time": "2022-09-27T16:11:07.021Z"
   },
   {
    "duration": 17,
    "start_time": "2022-09-27T16:11:07.029Z"
   },
   {
    "duration": 18,
    "start_time": "2022-09-27T16:11:07.047Z"
   },
   {
    "duration": 42,
    "start_time": "2022-09-27T16:11:07.067Z"
   },
   {
    "duration": 13,
    "start_time": "2022-09-27T16:11:07.110Z"
   },
   {
    "duration": 15,
    "start_time": "2022-09-27T16:11:07.124Z"
   },
   {
    "duration": 35,
    "start_time": "2022-09-27T16:11:07.141Z"
   },
   {
    "duration": 214,
    "start_time": "2022-09-27T16:11:07.178Z"
   },
   {
    "duration": 1584,
    "start_time": "2022-09-27T16:11:07.393Z"
   },
   {
    "duration": 65,
    "start_time": "2022-09-27T16:11:08.979Z"
   },
   {
    "duration": 785,
    "start_time": "2022-09-27T16:11:09.045Z"
   },
   {
    "duration": 344,
    "start_time": "2022-09-27T16:11:09.832Z"
   },
   {
    "duration": 83,
    "start_time": "2022-09-27T16:11:10.178Z"
   },
   {
    "duration": 4,
    "start_time": "2022-09-27T16:11:10.262Z"
   },
   {
    "duration": 23,
    "start_time": "2022-09-27T16:11:10.267Z"
   },
   {
    "duration": 3,
    "start_time": "2022-09-27T16:11:10.292Z"
   },
   {
    "duration": 53519,
    "start_time": "2022-09-27T16:11:10.297Z"
   },
   {
    "duration": 4,
    "start_time": "2022-09-27T16:12:03.818Z"
   },
   {
    "duration": 8695,
    "start_time": "2022-09-27T16:12:03.823Z"
   },
   {
    "duration": 5,
    "start_time": "2022-09-27T16:12:12.520Z"
   },
   {
    "duration": 1054806,
    "start_time": "2022-09-27T16:12:12.527Z"
   },
   {
    "duration": 3,
    "start_time": "2022-09-27T16:29:47.336Z"
   },
   {
    "duration": 2768,
    "start_time": "2022-09-27T16:29:47.341Z"
   },
   {
    "duration": 3,
    "start_time": "2022-09-27T16:29:50.111Z"
   },
   {
    "duration": 11,
    "start_time": "2022-09-27T16:29:50.115Z"
   },
   {
    "duration": 89,
    "start_time": "2022-09-27T16:29:50.128Z"
   },
   {
    "duration": 7,
    "start_time": "2022-09-27T16:29:50.218Z"
   },
   {
    "duration": 472,
    "start_time": "2022-09-27T16:29:50.227Z"
   },
   {
    "duration": 0,
    "start_time": "2022-09-27T16:29:50.700Z"
   },
   {
    "duration": 0,
    "start_time": "2022-09-27T16:29:50.701Z"
   },
   {
    "duration": 7,
    "start_time": "2022-09-27T16:30:40.325Z"
   },
   {
    "duration": 72,
    "start_time": "2022-09-27T16:32:18.557Z"
   },
   {
    "duration": 8,
    "start_time": "2022-09-27T16:32:20.040Z"
   },
   {
    "duration": 2088,
    "start_time": "2022-09-27T16:32:23.688Z"
   },
   {
    "duration": 2253,
    "start_time": "2022-09-27T16:32:38.063Z"
   },
   {
    "duration": 8,
    "start_time": "2022-09-27T16:32:41.918Z"
   },
   {
    "duration": 8,
    "start_time": "2022-09-27T16:32:52.418Z"
   },
   {
    "duration": 2215,
    "start_time": "2022-09-27T16:32:53.751Z"
   },
   {
    "duration": 8,
    "start_time": "2022-09-27T16:32:55.968Z"
   },
   {
    "duration": 9,
    "start_time": "2022-09-27T17:54:54.716Z"
   },
   {
    "duration": 3,
    "start_time": "2022-09-27T17:55:00.070Z"
   },
   {
    "duration": 637,
    "start_time": "2022-09-27T17:55:00.075Z"
   },
   {
    "duration": 19,
    "start_time": "2022-09-27T17:55:00.714Z"
   },
   {
    "duration": 784,
    "start_time": "2022-09-27T17:55:00.735Z"
   },
   {
    "duration": 76,
    "start_time": "2022-09-27T17:55:01.521Z"
   },
   {
    "duration": 10,
    "start_time": "2022-09-27T17:55:01.599Z"
   },
   {
    "duration": 19,
    "start_time": "2022-09-27T17:55:01.611Z"
   },
   {
    "duration": 27,
    "start_time": "2022-09-27T17:55:01.632Z"
   },
   {
    "duration": 54,
    "start_time": "2022-09-27T17:55:01.662Z"
   },
   {
    "duration": 38,
    "start_time": "2022-09-27T17:55:01.718Z"
   },
   {
    "duration": 20,
    "start_time": "2022-09-27T17:55:01.758Z"
   },
   {
    "duration": 22,
    "start_time": "2022-09-27T17:55:01.781Z"
   },
   {
    "duration": 50,
    "start_time": "2022-09-27T17:55:01.805Z"
   },
   {
    "duration": 267,
    "start_time": "2022-09-27T17:55:01.857Z"
   },
   {
    "duration": 1858,
    "start_time": "2022-09-27T17:55:02.125Z"
   },
   {
    "duration": 66,
    "start_time": "2022-09-27T17:55:03.989Z"
   },
   {
    "duration": 882,
    "start_time": "2022-09-27T17:55:04.057Z"
   },
   {
    "duration": 269,
    "start_time": "2022-09-27T17:55:04.941Z"
   },
   {
    "duration": 4,
    "start_time": "2022-09-27T17:55:05.213Z"
   },
   {
    "duration": 26,
    "start_time": "2022-09-27T17:55:05.220Z"
   },
   {
    "duration": 37,
    "start_time": "2022-09-27T17:55:05.248Z"
   },
   {
    "duration": 12,
    "start_time": "2022-09-27T17:55:05.288Z"
   },
   {
    "duration": 12,
    "start_time": "2022-09-27T17:55:11.523Z"
   },
   {
    "duration": 4,
    "start_time": "2022-09-27T17:55:25.472Z"
   },
   {
    "duration": 7,
    "start_time": "2022-09-27T18:04:40.284Z"
   },
   {
    "duration": 4,
    "start_time": "2022-09-27T18:05:02.612Z"
   },
   {
    "duration": 5,
    "start_time": "2022-09-27T18:05:11.095Z"
   },
   {
    "duration": 6,
    "start_time": "2022-09-27T18:06:21.167Z"
   },
   {
    "duration": 4,
    "start_time": "2022-09-27T18:06:27.980Z"
   },
   {
    "duration": 4,
    "start_time": "2022-09-27T18:06:33.507Z"
   },
   {
    "duration": 651,
    "start_time": "2022-09-27T18:06:33.513Z"
   },
   {
    "duration": 28,
    "start_time": "2022-09-27T18:06:34.166Z"
   },
   {
    "duration": 712,
    "start_time": "2022-09-27T18:06:34.196Z"
   },
   {
    "duration": 80,
    "start_time": "2022-09-27T18:06:34.910Z"
   },
   {
    "duration": 11,
    "start_time": "2022-09-27T18:06:34.993Z"
   },
   {
    "duration": 11,
    "start_time": "2022-09-27T18:06:35.006Z"
   },
   {
    "duration": 27,
    "start_time": "2022-09-27T18:06:35.019Z"
   },
   {
    "duration": 25,
    "start_time": "2022-09-27T18:06:35.089Z"
   },
   {
    "duration": 39,
    "start_time": "2022-09-27T18:06:35.116Z"
   },
   {
    "duration": 32,
    "start_time": "2022-09-27T18:06:35.158Z"
   },
   {
    "duration": 12,
    "start_time": "2022-09-27T18:06:35.194Z"
   },
   {
    "duration": 38,
    "start_time": "2022-09-27T18:06:35.209Z"
   },
   {
    "duration": 379,
    "start_time": "2022-09-27T18:06:35.249Z"
   },
   {
    "duration": 1683,
    "start_time": "2022-09-27T18:06:35.630Z"
   },
   {
    "duration": 99,
    "start_time": "2022-09-27T18:06:37.315Z"
   },
   {
    "duration": 980,
    "start_time": "2022-09-27T18:06:37.416Z"
   },
   {
    "duration": 271,
    "start_time": "2022-09-27T18:06:38.398Z"
   },
   {
    "duration": 3,
    "start_time": "2022-09-27T18:06:38.672Z"
   },
   {
    "duration": 3,
    "start_time": "2022-09-27T18:06:38.689Z"
   },
   {
    "duration": 22,
    "start_time": "2022-09-27T18:06:38.694Z"
   },
   {
    "duration": 3,
    "start_time": "2022-09-27T18:06:38.718Z"
   },
   {
    "duration": 63659,
    "start_time": "2022-09-27T18:06:38.723Z"
   },
   {
    "duration": 5,
    "start_time": "2022-09-27T18:07:42.386Z"
   },
   {
    "duration": 8518,
    "start_time": "2022-09-27T18:07:42.394Z"
   },
   {
    "duration": 4,
    "start_time": "2022-09-27T18:07:50.914Z"
   },
   {
    "duration": 20149,
    "start_time": "2022-09-27T18:07:50.921Z"
   },
   {
    "duration": 0,
    "start_time": "2022-09-27T18:08:11.073Z"
   },
   {
    "duration": 0,
    "start_time": "2022-09-27T18:08:11.075Z"
   },
   {
    "duration": 0,
    "start_time": "2022-09-27T18:08:11.076Z"
   },
   {
    "duration": 0,
    "start_time": "2022-09-27T18:08:11.077Z"
   },
   {
    "duration": 0,
    "start_time": "2022-09-27T18:08:11.090Z"
   },
   {
    "duration": 0,
    "start_time": "2022-09-27T18:08:11.094Z"
   },
   {
    "duration": 5,
    "start_time": "2022-09-27T18:08:14.820Z"
   },
   {
    "duration": 1585,
    "start_time": "2022-09-27T18:23:32.180Z"
   },
   {
    "duration": 111,
    "start_time": "2022-09-27T18:28:20.278Z"
   },
   {
    "duration": 4,
    "start_time": "2022-09-27T18:28:31.045Z"
   },
   {
    "duration": 3049,
    "start_time": "2022-09-27T18:28:31.159Z"
   },
   {
    "duration": 20,
    "start_time": "2022-09-27T18:28:34.210Z"
   },
   {
    "duration": 741,
    "start_time": "2022-09-27T18:28:34.231Z"
   },
   {
    "duration": 65,
    "start_time": "2022-09-27T18:28:34.976Z"
   },
   {
    "duration": 8,
    "start_time": "2022-09-27T18:28:35.043Z"
   },
   {
    "duration": 26,
    "start_time": "2022-09-27T18:28:35.052Z"
   },
   {
    "duration": 22,
    "start_time": "2022-09-27T18:28:35.080Z"
   },
   {
    "duration": 28,
    "start_time": "2022-09-27T18:28:35.286Z"
   },
   {
    "duration": 20,
    "start_time": "2022-09-27T18:28:35.470Z"
   },
   {
    "duration": 13,
    "start_time": "2022-09-27T18:28:36.150Z"
   },
   {
    "duration": 18,
    "start_time": "2022-09-27T18:28:36.678Z"
   },
   {
    "duration": 38,
    "start_time": "2022-09-27T18:28:37.352Z"
   },
   {
    "duration": 213,
    "start_time": "2022-09-27T18:28:47.815Z"
   },
   {
    "duration": 2745,
    "start_time": "2022-09-27T18:28:49.183Z"
   },
   {
    "duration": 133,
    "start_time": "2022-09-27T18:35:31.630Z"
   },
   {
    "duration": 11,
    "start_time": "2022-09-27T18:36:03.383Z"
   },
   {
    "duration": 5,
    "start_time": "2022-09-27T20:28:15.240Z"
   },
   {
    "duration": 4,
    "start_time": "2022-09-27T20:28:22.028Z"
   },
   {
    "duration": 4,
    "start_time": "2022-09-27T20:28:43.410Z"
   },
   {
    "duration": 4,
    "start_time": "2022-09-27T20:28:53.514Z"
   },
   {
    "duration": 5,
    "start_time": "2022-09-27T20:28:54.183Z"
   },
   {
    "duration": 4,
    "start_time": "2022-09-27T20:30:09.296Z"
   },
   {
    "duration": 4,
    "start_time": "2022-09-27T20:30:09.704Z"
   },
   {
    "duration": 4,
    "start_time": "2022-09-27T20:30:19.519Z"
   },
   {
    "duration": 654,
    "start_time": "2022-09-27T20:30:19.757Z"
   },
   {
    "duration": 17,
    "start_time": "2022-09-27T20:30:20.413Z"
   },
   {
    "duration": 698,
    "start_time": "2022-09-27T20:30:20.432Z"
   },
   {
    "duration": 65,
    "start_time": "2022-09-27T20:30:21.132Z"
   },
   {
    "duration": 7,
    "start_time": "2022-09-27T20:30:21.199Z"
   },
   {
    "duration": 7,
    "start_time": "2022-09-27T20:30:21.908Z"
   },
   {
    "duration": 19,
    "start_time": "2022-09-27T20:30:23.501Z"
   },
   {
    "duration": 23,
    "start_time": "2022-09-27T20:30:23.829Z"
   },
   {
    "duration": 20,
    "start_time": "2022-09-27T20:30:24.150Z"
   },
   {
    "duration": 20,
    "start_time": "2022-09-27T20:30:24.973Z"
   },
   {
    "duration": 12,
    "start_time": "2022-09-27T20:30:31.893Z"
   },
   {
    "duration": 33,
    "start_time": "2022-09-27T20:30:32.717Z"
   },
   {
    "duration": 204,
    "start_time": "2022-09-27T20:30:36.022Z"
   },
   {
    "duration": 4,
    "start_time": "2022-09-27T20:30:37.470Z"
   },
   {
    "duration": 4,
    "start_time": "2022-09-27T20:30:38.597Z"
   },
   {
    "duration": 4,
    "start_time": "2022-09-27T20:31:31.415Z"
   },
   {
    "duration": 4,
    "start_time": "2022-09-27T20:31:32.082Z"
   },
   {
    "duration": 4,
    "start_time": "2022-09-27T20:32:16.642Z"
   },
   {
    "duration": 3,
    "start_time": "2022-09-27T20:32:16.962Z"
   },
   {
    "duration": 1778,
    "start_time": "2022-09-27T20:33:52.914Z"
   },
   {
    "duration": 72,
    "start_time": "2022-09-27T20:38:27.412Z"
   },
   {
    "duration": 72,
    "start_time": "2022-09-27T20:38:37.990Z"
   },
   {
    "duration": 3,
    "start_time": "2022-09-27T20:39:01.649Z"
   },
   {
    "duration": 5,
    "start_time": "2022-09-27T20:39:06.256Z"
   },
   {
    "duration": 5,
    "start_time": "2022-09-27T20:42:24.185Z"
   },
   {
    "duration": 23,
    "start_time": "2022-09-27T20:42:41.863Z"
   },
   {
    "duration": 2197,
    "start_time": "2022-09-27T20:43:51.811Z"
   },
   {
    "duration": 3,
    "start_time": "2022-09-27T20:47:58.856Z"
   },
   {
    "duration": 2670,
    "start_time": "2022-09-27T20:50:52.750Z"
   },
   {
    "duration": 2379,
    "start_time": "2022-09-27T20:53:50.445Z"
   },
   {
    "duration": 59,
    "start_time": "2022-09-27T20:54:47.578Z"
   },
   {
    "duration": 185,
    "start_time": "2022-09-27T20:55:57.829Z"
   },
   {
    "duration": 2007,
    "start_time": "2022-09-27T21:00:37.855Z"
   },
   {
    "duration": 2232,
    "start_time": "2022-09-27T21:02:11.393Z"
   },
   {
    "duration": 211,
    "start_time": "2022-09-27T21:02:58.286Z"
   },
   {
    "duration": 220,
    "start_time": "2022-09-27T21:03:52.539Z"
   },
   {
    "duration": 248,
    "start_time": "2022-09-27T21:03:56.182Z"
   },
   {
    "duration": 16,
    "start_time": "2022-09-27T21:13:20.467Z"
   },
   {
    "duration": 261,
    "start_time": "2022-09-27T21:13:26.133Z"
   },
   {
    "duration": 4,
    "start_time": "2022-09-27T21:14:34.397Z"
   },
   {
    "duration": 3,
    "start_time": "2022-09-27T21:14:53.113Z"
   },
   {
    "duration": 6,
    "start_time": "2022-09-27T21:14:55.272Z"
   },
   {
    "duration": 46,
    "start_time": "2022-09-27T21:16:19.739Z"
   },
   {
    "duration": 5,
    "start_time": "2022-09-27T21:16:47.579Z"
   },
   {
    "duration": 5,
    "start_time": "2022-09-27T21:17:47.506Z"
   },
   {
    "duration": 6,
    "start_time": "2022-09-27T21:21:20.757Z"
   },
   {
    "duration": 9,
    "start_time": "2022-09-27T21:21:35.286Z"
   },
   {
    "duration": 7,
    "start_time": "2022-09-27T21:21:57.534Z"
   },
   {
    "duration": 7,
    "start_time": "2022-09-27T21:23:17.838Z"
   },
   {
    "duration": 9,
    "start_time": "2022-09-27T21:23:26.386Z"
   },
   {
    "duration": 7,
    "start_time": "2022-09-27T21:23:35.014Z"
   },
   {
    "duration": 6,
    "start_time": "2022-09-27T21:23:40.789Z"
   },
   {
    "duration": 5,
    "start_time": "2022-09-27T21:23:54.090Z"
   },
   {
    "duration": 5,
    "start_time": "2022-09-27T21:24:14.357Z"
   },
   {
    "duration": 4,
    "start_time": "2022-09-27T21:24:35.140Z"
   },
   {
    "duration": 5,
    "start_time": "2022-09-27T21:24:43.100Z"
   },
   {
    "duration": 5,
    "start_time": "2022-09-27T21:24:48.117Z"
   },
   {
    "duration": 96,
    "start_time": "2022-09-27T21:24:54.548Z"
   },
   {
    "duration": 5,
    "start_time": "2022-09-27T21:24:59.276Z"
   },
   {
    "duration": 4,
    "start_time": "2022-09-27T21:25:07.085Z"
   },
   {
    "duration": 5,
    "start_time": "2022-09-27T21:25:10.791Z"
   },
   {
    "duration": 6,
    "start_time": "2022-09-27T21:27:00.162Z"
   },
   {
    "duration": 22,
    "start_time": "2022-09-27T21:27:03.954Z"
   },
   {
    "duration": 20,
    "start_time": "2022-09-27T21:27:31.458Z"
   },
   {
    "duration": 21,
    "start_time": "2022-09-27T21:28:16.116Z"
   },
   {
    "duration": 6,
    "start_time": "2022-09-27T21:28:20.005Z"
   },
   {
    "duration": 12,
    "start_time": "2022-09-27T21:28:47.198Z"
   },
   {
    "duration": 12,
    "start_time": "2022-09-27T21:28:57.421Z"
   },
   {
    "duration": 6,
    "start_time": "2022-09-27T21:29:05.808Z"
   },
   {
    "duration": 6,
    "start_time": "2022-09-27T21:29:17.557Z"
   },
   {
    "duration": 6,
    "start_time": "2022-09-27T21:30:11.232Z"
   },
   {
    "duration": 12,
    "start_time": "2022-09-27T21:31:17.371Z"
   },
   {
    "duration": 7,
    "start_time": "2022-09-27T21:31:48.026Z"
   },
   {
    "duration": 7,
    "start_time": "2022-09-27T21:33:04.637Z"
   },
   {
    "duration": 8,
    "start_time": "2022-09-27T21:35:44.349Z"
   },
   {
    "duration": 13,
    "start_time": "2022-09-27T21:38:42.179Z"
   },
   {
    "duration": 302,
    "start_time": "2022-09-27T21:38:48.707Z"
   },
   {
    "duration": 15,
    "start_time": "2022-09-27T21:42:25.362Z"
   },
   {
    "duration": 246,
    "start_time": "2022-09-27T21:42:32.714Z"
   },
   {
    "duration": 210,
    "start_time": "2022-09-27T21:42:43.067Z"
   },
   {
    "duration": 12,
    "start_time": "2022-09-27T21:44:15.855Z"
   },
   {
    "duration": 16,
    "start_time": "2022-09-27T21:47:07.111Z"
   },
   {
    "duration": 15,
    "start_time": "2022-09-27T21:47:12.965Z"
   },
   {
    "duration": 45,
    "start_time": "2022-09-27T21:48:54.394Z"
   },
   {
    "duration": 336,
    "start_time": "2022-09-27T21:50:37.525Z"
   },
   {
    "duration": 262,
    "start_time": "2022-09-27T21:51:34.055Z"
   },
   {
    "duration": 931,
    "start_time": "2022-09-27T21:51:39.575Z"
   },
   {
    "duration": 981,
    "start_time": "2022-09-27T21:52:39.098Z"
   },
   {
    "duration": 1024,
    "start_time": "2022-09-27T21:53:26.676Z"
   },
   {
    "duration": 817,
    "start_time": "2022-09-27T21:54:43.048Z"
   },
   {
    "duration": 1964,
    "start_time": "2022-09-27T21:58:42.666Z"
   },
   {
    "duration": 870,
    "start_time": "2022-09-27T21:59:27.777Z"
   },
   {
    "duration": 758,
    "start_time": "2022-09-27T21:59:41.840Z"
   },
   {
    "duration": 887,
    "start_time": "2022-09-27T21:59:50.633Z"
   },
   {
    "duration": 823,
    "start_time": "2022-09-27T22:01:04.428Z"
   },
   {
    "duration": 89,
    "start_time": "2022-09-27T22:01:47.542Z"
   },
   {
    "duration": 101,
    "start_time": "2022-09-27T22:03:27.236Z"
   },
   {
    "duration": 1298,
    "start_time": "2022-09-27T22:23:56.216Z"
   },
   {
    "duration": 665,
    "start_time": "2022-09-27T22:23:57.515Z"
   },
   {
    "duration": 20,
    "start_time": "2022-09-27T22:23:58.182Z"
   },
   {
    "duration": 673,
    "start_time": "2022-09-27T22:23:58.204Z"
   },
   {
    "duration": 57,
    "start_time": "2022-09-27T22:23:58.880Z"
   },
   {
    "duration": 9,
    "start_time": "2022-09-27T22:23:58.939Z"
   },
   {
    "duration": 30,
    "start_time": "2022-09-27T22:23:58.949Z"
   },
   {
    "duration": 21,
    "start_time": "2022-09-27T22:23:58.981Z"
   },
   {
    "duration": 21,
    "start_time": "2022-09-27T22:23:59.003Z"
   },
   {
    "duration": 19,
    "start_time": "2022-09-27T22:23:59.026Z"
   },
   {
    "duration": 12,
    "start_time": "2022-09-27T22:23:59.046Z"
   },
   {
    "duration": 31,
    "start_time": "2022-09-27T22:23:59.059Z"
   },
   {
    "duration": 37,
    "start_time": "2022-09-27T22:23:59.092Z"
   },
   {
    "duration": 229,
    "start_time": "2022-09-27T22:23:59.132Z"
   },
   {
    "duration": 818,
    "start_time": "2022-09-27T22:23:59.362Z"
   },
   {
    "duration": 0,
    "start_time": "2022-09-27T22:24:00.182Z"
   },
   {
    "duration": 0,
    "start_time": "2022-09-27T22:24:00.183Z"
   },
   {
    "duration": 0,
    "start_time": "2022-09-27T22:24:00.184Z"
   },
   {
    "duration": 0,
    "start_time": "2022-09-27T22:24:00.185Z"
   },
   {
    "duration": 0,
    "start_time": "2022-09-27T22:24:00.187Z"
   },
   {
    "duration": 0,
    "start_time": "2022-09-27T22:24:00.188Z"
   },
   {
    "duration": 0,
    "start_time": "2022-09-27T22:24:00.189Z"
   },
   {
    "duration": 0,
    "start_time": "2022-09-27T22:24:00.190Z"
   },
   {
    "duration": 0,
    "start_time": "2022-09-27T22:24:00.191Z"
   },
   {
    "duration": 0,
    "start_time": "2022-09-27T22:24:00.192Z"
   },
   {
    "duration": 0,
    "start_time": "2022-09-27T22:24:00.193Z"
   },
   {
    "duration": 0,
    "start_time": "2022-09-27T22:24:00.194Z"
   },
   {
    "duration": 0,
    "start_time": "2022-09-27T22:24:00.195Z"
   },
   {
    "duration": 0,
    "start_time": "2022-09-27T22:24:00.196Z"
   },
   {
    "duration": 0,
    "start_time": "2022-09-27T22:24:00.197Z"
   },
   {
    "duration": 0,
    "start_time": "2022-09-27T22:24:00.198Z"
   },
   {
    "duration": 0,
    "start_time": "2022-09-27T22:24:00.199Z"
   },
   {
    "duration": 0,
    "start_time": "2022-09-27T22:24:00.200Z"
   },
   {
    "duration": 0,
    "start_time": "2022-09-27T22:24:00.201Z"
   },
   {
    "duration": 0,
    "start_time": "2022-09-27T22:24:00.202Z"
   },
   {
    "duration": 0,
    "start_time": "2022-09-27T22:24:00.203Z"
   },
   {
    "duration": 2104,
    "start_time": "2022-09-27T22:24:36.781Z"
   },
   {
    "duration": 1323,
    "start_time": "2022-09-27T22:24:42.868Z"
   },
   {
    "duration": 650,
    "start_time": "2022-09-27T22:24:44.193Z"
   },
   {
    "duration": 17,
    "start_time": "2022-09-27T22:24:44.845Z"
   },
   {
    "duration": 697,
    "start_time": "2022-09-27T22:24:44.863Z"
   },
   {
    "duration": 61,
    "start_time": "2022-09-27T22:24:45.563Z"
   },
   {
    "duration": 7,
    "start_time": "2022-09-27T22:24:45.626Z"
   },
   {
    "duration": 8,
    "start_time": "2022-09-27T22:24:45.635Z"
   },
   {
    "duration": 33,
    "start_time": "2022-09-27T22:24:45.644Z"
   },
   {
    "duration": 18,
    "start_time": "2022-09-27T22:24:45.679Z"
   },
   {
    "duration": 17,
    "start_time": "2022-09-27T22:24:45.698Z"
   },
   {
    "duration": 11,
    "start_time": "2022-09-27T22:24:45.716Z"
   },
   {
    "duration": 17,
    "start_time": "2022-09-27T22:24:45.729Z"
   },
   {
    "duration": 56,
    "start_time": "2022-09-27T22:24:45.748Z"
   },
   {
    "duration": 227,
    "start_time": "2022-09-27T22:24:45.807Z"
   },
   {
    "duration": 1913,
    "start_time": "2022-09-27T22:24:46.036Z"
   },
   {
    "duration": 46,
    "start_time": "2022-09-27T22:24:47.950Z"
   },
   {
    "duration": 0,
    "start_time": "2022-09-27T22:24:47.998Z"
   },
   {
    "duration": 0,
    "start_time": "2022-09-27T22:24:47.999Z"
   },
   {
    "duration": 0,
    "start_time": "2022-09-27T22:24:48.000Z"
   },
   {
    "duration": 0,
    "start_time": "2022-09-27T22:24:48.001Z"
   },
   {
    "duration": 0,
    "start_time": "2022-09-27T22:24:48.003Z"
   },
   {
    "duration": 0,
    "start_time": "2022-09-27T22:24:48.003Z"
   },
   {
    "duration": 0,
    "start_time": "2022-09-27T22:24:48.005Z"
   },
   {
    "duration": 0,
    "start_time": "2022-09-27T22:24:48.005Z"
   },
   {
    "duration": 0,
    "start_time": "2022-09-27T22:24:48.108Z"
   },
   {
    "duration": 0,
    "start_time": "2022-09-27T22:24:48.110Z"
   },
   {
    "duration": 0,
    "start_time": "2022-09-27T22:24:48.111Z"
   },
   {
    "duration": 0,
    "start_time": "2022-09-27T22:24:48.112Z"
   },
   {
    "duration": 0,
    "start_time": "2022-09-27T22:24:48.113Z"
   },
   {
    "duration": 0,
    "start_time": "2022-09-27T22:24:48.114Z"
   },
   {
    "duration": 0,
    "start_time": "2022-09-27T22:24:48.115Z"
   },
   {
    "duration": 0,
    "start_time": "2022-09-27T22:24:48.115Z"
   },
   {
    "duration": 0,
    "start_time": "2022-09-27T22:24:48.116Z"
   },
   {
    "duration": 0,
    "start_time": "2022-09-27T22:24:48.117Z"
   },
   {
    "duration": 0,
    "start_time": "2022-09-27T22:24:48.118Z"
   },
   {
    "duration": 0,
    "start_time": "2022-09-27T22:24:48.119Z"
   },
   {
    "duration": 1326,
    "start_time": "2022-09-27T22:26:15.117Z"
   },
   {
    "duration": 673,
    "start_time": "2022-09-27T22:26:16.445Z"
   },
   {
    "duration": 20,
    "start_time": "2022-09-27T22:26:17.120Z"
   },
   {
    "duration": 667,
    "start_time": "2022-09-27T22:26:17.142Z"
   },
   {
    "duration": 57,
    "start_time": "2022-09-27T22:26:17.811Z"
   },
   {
    "duration": 13,
    "start_time": "2022-09-27T22:26:17.869Z"
   },
   {
    "duration": 6,
    "start_time": "2022-09-27T22:26:17.883Z"
   },
   {
    "duration": 20,
    "start_time": "2022-09-27T22:26:17.890Z"
   },
   {
    "duration": 18,
    "start_time": "2022-09-27T22:26:17.911Z"
   },
   {
    "duration": 17,
    "start_time": "2022-09-27T22:26:17.931Z"
   },
   {
    "duration": 11,
    "start_time": "2022-09-27T22:26:17.976Z"
   },
   {
    "duration": 19,
    "start_time": "2022-09-27T22:26:17.989Z"
   },
   {
    "duration": 38,
    "start_time": "2022-09-27T22:26:18.010Z"
   },
   {
    "duration": 236,
    "start_time": "2022-09-27T22:26:18.049Z"
   },
   {
    "duration": 2083,
    "start_time": "2022-09-27T22:26:18.286Z"
   },
   {
    "duration": 83,
    "start_time": "2022-09-27T22:26:20.371Z"
   },
   {
    "duration": 883,
    "start_time": "2022-09-27T22:26:20.455Z"
   },
   {
    "duration": 814,
    "start_time": "2022-09-27T22:26:21.339Z"
   },
   {
    "duration": 98,
    "start_time": "2022-09-27T22:26:22.154Z"
   },
   {
    "duration": 3,
    "start_time": "2022-09-27T22:26:22.254Z"
   },
   {
    "duration": 35,
    "start_time": "2022-09-27T22:26:22.258Z"
   },
   {
    "duration": 2,
    "start_time": "2022-09-27T22:26:22.295Z"
   },
   {
    "duration": 50935,
    "start_time": "2022-09-27T22:26:22.299Z"
   },
   {
    "duration": 4,
    "start_time": "2022-09-27T22:27:13.235Z"
   },
   {
    "duration": 7150,
    "start_time": "2022-09-27T22:27:13.240Z"
   },
   {
    "duration": 3,
    "start_time": "2022-09-27T22:27:20.392Z"
   },
   {
    "duration": 1325,
    "start_time": "2022-09-27T22:32:01.099Z"
   },
   {
    "duration": 675,
    "start_time": "2022-09-27T22:32:02.426Z"
   },
   {
    "duration": 19,
    "start_time": "2022-09-27T22:32:03.102Z"
   },
   {
    "duration": 682,
    "start_time": "2022-09-27T22:32:03.122Z"
   },
   {
    "duration": 61,
    "start_time": "2022-09-27T22:32:03.806Z"
   },
   {
    "duration": 13,
    "start_time": "2022-09-27T22:32:03.868Z"
   },
   {
    "duration": 7,
    "start_time": "2022-09-27T22:32:03.883Z"
   },
   {
    "duration": 23,
    "start_time": "2022-09-27T22:32:03.892Z"
   },
   {
    "duration": 30,
    "start_time": "2022-09-27T22:32:03.917Z"
   },
   {
    "duration": 29,
    "start_time": "2022-09-27T22:32:03.949Z"
   },
   {
    "duration": 12,
    "start_time": "2022-09-27T22:32:03.980Z"
   },
   {
    "duration": 17,
    "start_time": "2022-09-27T22:32:03.994Z"
   },
   {
    "duration": 42,
    "start_time": "2022-09-27T22:32:04.013Z"
   },
   {
    "duration": 249,
    "start_time": "2022-09-27T22:32:04.058Z"
   },
   {
    "duration": 2016,
    "start_time": "2022-09-27T22:32:04.309Z"
   },
   {
    "duration": 88,
    "start_time": "2022-09-27T22:32:06.327Z"
   },
   {
    "duration": 919,
    "start_time": "2022-09-27T22:32:06.417Z"
   },
   {
    "duration": 818,
    "start_time": "2022-09-27T22:32:07.337Z"
   },
   {
    "duration": 105,
    "start_time": "2022-09-27T22:32:08.156Z"
   },
   {
    "duration": 14,
    "start_time": "2022-09-27T22:32:08.263Z"
   },
   {
    "duration": 24,
    "start_time": "2022-09-27T22:32:08.278Z"
   },
   {
    "duration": 3,
    "start_time": "2022-09-27T22:32:08.304Z"
   },
   {
    "duration": 50307,
    "start_time": "2022-09-27T22:32:08.308Z"
   },
   {
    "duration": 4,
    "start_time": "2022-09-27T22:32:58.616Z"
   },
   {
    "duration": 6751,
    "start_time": "2022-09-27T22:32:58.621Z"
   },
   {
    "duration": 3,
    "start_time": "2022-09-27T22:33:05.374Z"
   },
   {
    "duration": 1293,
    "start_time": "2022-09-27T22:43:02.429Z"
   },
   {
    "duration": 649,
    "start_time": "2022-09-27T22:43:03.724Z"
   },
   {
    "duration": 16,
    "start_time": "2022-09-27T22:43:04.375Z"
   },
   {
    "duration": 664,
    "start_time": "2022-09-27T22:43:04.393Z"
   },
   {
    "duration": 63,
    "start_time": "2022-09-27T22:43:05.059Z"
   },
   {
    "duration": 7,
    "start_time": "2022-09-27T22:43:05.123Z"
   },
   {
    "duration": 5,
    "start_time": "2022-09-27T22:43:05.132Z"
   },
   {
    "duration": 39,
    "start_time": "2022-09-27T22:43:05.139Z"
   },
   {
    "duration": 22,
    "start_time": "2022-09-27T22:43:05.179Z"
   },
   {
    "duration": 26,
    "start_time": "2022-09-27T22:43:05.203Z"
   },
   {
    "duration": 27,
    "start_time": "2022-09-27T22:43:05.231Z"
   },
   {
    "duration": 23,
    "start_time": "2022-09-27T22:43:05.260Z"
   },
   {
    "duration": 41,
    "start_time": "2022-09-27T22:43:05.285Z"
   },
   {
    "duration": 233,
    "start_time": "2022-09-27T22:43:05.330Z"
   },
   {
    "duration": 2010,
    "start_time": "2022-09-27T22:43:05.564Z"
   },
   {
    "duration": 79,
    "start_time": "2022-09-27T22:43:07.576Z"
   },
   {
    "duration": 864,
    "start_time": "2022-09-27T22:43:07.657Z"
   },
   {
    "duration": 826,
    "start_time": "2022-09-27T22:43:08.522Z"
   },
   {
    "duration": 100,
    "start_time": "2022-09-27T22:43:09.349Z"
   },
   {
    "duration": 4,
    "start_time": "2022-09-27T22:43:09.451Z"
   },
   {
    "duration": 31,
    "start_time": "2022-09-27T22:43:09.456Z"
   },
   {
    "duration": 3,
    "start_time": "2022-09-27T22:43:09.488Z"
   },
   {
    "duration": 50299,
    "start_time": "2022-09-27T22:43:09.492Z"
   },
   {
    "duration": 4,
    "start_time": "2022-09-27T22:43:59.792Z"
   },
   {
    "duration": 6732,
    "start_time": "2022-09-27T22:43:59.797Z"
   },
   {
    "duration": 3,
    "start_time": "2022-09-27T22:44:06.531Z"
   },
   {
    "duration": 566781,
    "start_time": "2022-09-27T22:44:06.535Z"
   },
   {
    "duration": 4,
    "start_time": "2022-09-27T22:53:33.317Z"
   },
   {
    "duration": 2462,
    "start_time": "2022-09-27T22:53:33.322Z"
   },
   {
    "duration": 91,
    "start_time": "2022-09-27T22:53:35.787Z"
   },
   {
    "duration": 16,
    "start_time": "2022-09-27T22:53:35.880Z"
   },
   {
    "duration": 212,
    "start_time": "2022-09-27T22:53:35.898Z"
   },
   {
    "duration": 8,
    "start_time": "2022-09-27T22:53:36.112Z"
   },
   {
    "duration": 1808,
    "start_time": "2022-09-27T22:53:36.122Z"
   },
   {
    "duration": 10,
    "start_time": "2022-09-27T22:53:37.932Z"
   },
   {
    "duration": 0,
    "start_time": "2022-09-28T20:32:03.505Z"
   },
   {
    "duration": 208,
    "start_time": "2022-09-28T20:32:11.192Z"
   },
   {
    "duration": 123,
    "start_time": "2022-09-28T20:32:17.190Z"
   },
   {
    "duration": 775,
    "start_time": "2022-09-29T08:57:12.564Z"
   },
   {
    "duration": 1488,
    "start_time": "2022-09-29T08:57:19.463Z"
   },
   {
    "duration": 2976,
    "start_time": "2022-09-29T08:57:20.953Z"
   },
   {
    "duration": 17,
    "start_time": "2022-09-29T08:57:23.930Z"
   },
   {
    "duration": 796,
    "start_time": "2022-09-29T08:57:23.949Z"
   },
   {
    "duration": 71,
    "start_time": "2022-09-29T08:57:24.747Z"
   },
   {
    "duration": 7,
    "start_time": "2022-09-29T08:57:24.820Z"
   },
   {
    "duration": 5,
    "start_time": "2022-09-29T08:57:24.828Z"
   },
   {
    "duration": 21,
    "start_time": "2022-09-29T08:57:24.835Z"
   },
   {
    "duration": 15,
    "start_time": "2022-09-29T08:57:24.857Z"
   },
   {
    "duration": 36,
    "start_time": "2022-09-29T08:57:24.874Z"
   },
   {
    "duration": 12,
    "start_time": "2022-09-29T08:57:24.911Z"
   },
   {
    "duration": 16,
    "start_time": "2022-09-29T08:57:24.924Z"
   },
   {
    "duration": 36,
    "start_time": "2022-09-29T08:57:24.941Z"
   },
   {
    "duration": 245,
    "start_time": "2022-09-29T08:57:24.979Z"
   },
   {
    "duration": 1978,
    "start_time": "2022-09-29T08:57:25.225Z"
   },
   {
    "duration": 78,
    "start_time": "2022-09-29T08:57:27.204Z"
   },
   {
    "duration": 742,
    "start_time": "2022-09-29T08:57:27.284Z"
   },
   {
    "duration": 836,
    "start_time": "2022-09-29T08:57:28.028Z"
   },
   {
    "duration": 104,
    "start_time": "2022-09-29T08:57:28.865Z"
   },
   {
    "duration": 3,
    "start_time": "2022-09-29T08:57:28.971Z"
   },
   {
    "duration": 36,
    "start_time": "2022-09-29T08:57:28.975Z"
   },
   {
    "duration": 2,
    "start_time": "2022-09-29T08:57:29.013Z"
   },
   {
    "duration": 52322,
    "start_time": "2022-09-29T08:57:29.017Z"
   },
   {
    "duration": 3,
    "start_time": "2022-09-29T08:58:21.341Z"
   },
   {
    "duration": 8179,
    "start_time": "2022-09-29T08:58:21.346Z"
   },
   {
    "duration": 3,
    "start_time": "2022-09-29T08:58:29.527Z"
   },
   {
    "duration": 293140,
    "start_time": "2022-09-29T08:58:29.532Z"
   },
   {
    "duration": 3,
    "start_time": "2022-09-29T09:03:22.675Z"
   },
   {
    "duration": 2337,
    "start_time": "2022-09-29T09:03:22.679Z"
   },
   {
    "duration": 4,
    "start_time": "2022-09-29T09:03:25.109Z"
   },
   {
    "duration": 11,
    "start_time": "2022-09-29T09:03:25.115Z"
   },
   {
    "duration": 155,
    "start_time": "2022-09-29T09:03:25.128Z"
   },
   {
    "duration": 10,
    "start_time": "2022-09-29T09:03:25.285Z"
   },
   {
    "duration": 2149,
    "start_time": "2022-09-29T09:03:25.297Z"
   },
   {
    "duration": 8,
    "start_time": "2022-09-29T09:03:27.448Z"
   },
   {
    "duration": 16,
    "start_time": "2022-09-29T09:03:27.458Z"
   },
   {
    "duration": 124,
    "start_time": "2022-09-29T09:05:30.560Z"
   },
   {
    "duration": 4,
    "start_time": "2022-09-29T09:05:51.976Z"
   },
   {
    "duration": 8,
    "start_time": "2022-09-29T09:09:58.376Z"
   },
   {
    "duration": 10321,
    "start_time": "2022-09-29T09:12:18.821Z"
   },
   {
    "duration": 9,
    "start_time": "2022-09-29T09:12:29.143Z"
   },
   {
    "duration": 2038,
    "start_time": "2022-09-29T09:13:16.743Z"
   },
   {
    "duration": 8,
    "start_time": "2022-09-29T09:13:20.547Z"
   },
   {
    "duration": 5,
    "start_time": "2022-09-29T09:13:21.342Z"
   },
   {
    "duration": 9,
    "start_time": "2022-09-29T09:13:21.699Z"
   },
   {
    "duration": 250,
    "start_time": "2022-09-29T09:14:16.872Z"
   },
   {
    "duration": 9,
    "start_time": "2022-09-29T09:14:18.375Z"
   },
   {
    "duration": 75724,
    "start_time": "2022-09-29T09:14:41.385Z"
   },
   {
    "duration": 9,
    "start_time": "2022-09-29T09:15:57.111Z"
   },
   {
    "duration": 2113,
    "start_time": "2022-09-29T09:17:15.971Z"
   },
   {
    "duration": 10,
    "start_time": "2022-09-29T09:17:18.085Z"
   },
   {
    "duration": 4,
    "start_time": "2022-09-29T09:17:18.474Z"
   },
   {
    "duration": 10,
    "start_time": "2022-09-29T09:17:18.688Z"
   },
   {
    "duration": 10,
    "start_time": "2022-09-29T09:27:20.093Z"
   },
   {
    "duration": 11,
    "start_time": "2022-09-29T09:27:31.253Z"
   },
   {
    "duration": 12042,
    "start_time": "2022-09-29T09:28:36.522Z"
   },
   {
    "duration": 9,
    "start_time": "2022-09-29T09:28:55.961Z"
   },
   {
    "duration": 1605,
    "start_time": "2022-09-30T09:24:11.525Z"
   },
   {
    "duration": 1822,
    "start_time": "2022-09-30T09:24:13.132Z"
   },
   {
    "duration": 20,
    "start_time": "2022-09-30T09:24:14.956Z"
   },
   {
    "duration": 724,
    "start_time": "2022-09-30T09:24:14.978Z"
   },
   {
    "duration": 66,
    "start_time": "2022-09-30T09:24:15.704Z"
   },
   {
    "duration": 25,
    "start_time": "2022-09-30T09:24:15.771Z"
   },
   {
    "duration": 6,
    "start_time": "2022-09-30T09:24:15.798Z"
   },
   {
    "duration": 23,
    "start_time": "2022-09-30T09:24:15.806Z"
   },
   {
    "duration": 24,
    "start_time": "2022-09-30T09:24:15.831Z"
   },
   {
    "duration": 48,
    "start_time": "2022-09-30T09:24:15.858Z"
   },
   {
    "duration": 16,
    "start_time": "2022-09-30T09:24:15.908Z"
   },
   {
    "duration": 28,
    "start_time": "2022-09-30T09:24:15.925Z"
   },
   {
    "duration": 48,
    "start_time": "2022-09-30T09:24:15.955Z"
   },
   {
    "duration": 271,
    "start_time": "2022-09-30T09:24:16.005Z"
   },
   {
    "duration": 2560,
    "start_time": "2022-09-30T09:24:16.277Z"
   },
   {
    "duration": 109,
    "start_time": "2022-09-30T09:24:18.839Z"
   },
   {
    "duration": 932,
    "start_time": "2022-09-30T09:24:18.949Z"
   },
   {
    "duration": 1003,
    "start_time": "2022-09-30T09:24:19.883Z"
   },
   {
    "duration": 121,
    "start_time": "2022-09-30T09:24:20.888Z"
   },
   {
    "duration": 5,
    "start_time": "2022-09-30T09:24:21.011Z"
   },
   {
    "duration": 26,
    "start_time": "2022-09-30T09:24:21.019Z"
   },
   {
    "duration": 9,
    "start_time": "2022-09-30T09:24:21.047Z"
   },
   {
    "duration": 56512,
    "start_time": "2022-09-30T09:24:21.058Z"
   },
   {
    "duration": 6,
    "start_time": "2022-09-30T09:25:17.573Z"
   },
   {
    "duration": 7783,
    "start_time": "2022-09-30T09:25:17.581Z"
   },
   {
    "duration": 4,
    "start_time": "2022-09-30T09:25:25.366Z"
   },
   {
    "duration": 1281535,
    "start_time": "2022-09-30T09:25:25.372Z"
   },
   {
    "duration": 0,
    "start_time": "2022-09-30T09:46:46.909Z"
   },
   {
    "duration": 0,
    "start_time": "2022-09-30T09:46:46.910Z"
   },
   {
    "duration": 0,
    "start_time": "2022-09-30T09:46:46.911Z"
   },
   {
    "duration": 0,
    "start_time": "2022-09-30T09:46:46.912Z"
   },
   {
    "duration": 0,
    "start_time": "2022-09-30T09:46:46.913Z"
   },
   {
    "duration": 0,
    "start_time": "2022-09-30T09:46:46.914Z"
   },
   {
    "duration": 0,
    "start_time": "2022-09-30T09:46:46.915Z"
   },
   {
    "duration": 0,
    "start_time": "2022-09-30T09:46:46.916Z"
   },
   {
    "duration": 0,
    "start_time": "2022-09-30T09:46:46.917Z"
   },
   {
    "duration": 0,
    "start_time": "2022-09-30T09:46:46.918Z"
   },
   {
    "duration": 0,
    "start_time": "2022-09-30T09:46:46.920Z"
   },
   {
    "duration": 0,
    "start_time": "2022-09-30T09:46:46.921Z"
   },
   {
    "duration": 1495,
    "start_time": "2022-09-30T09:47:22.209Z"
   },
   {
    "duration": 699,
    "start_time": "2022-09-30T09:47:23.706Z"
   },
   {
    "duration": 21,
    "start_time": "2022-09-30T09:47:24.407Z"
   },
   {
    "duration": 778,
    "start_time": "2022-09-30T09:47:24.430Z"
   },
   {
    "duration": 67,
    "start_time": "2022-09-30T09:47:25.211Z"
   },
   {
    "duration": 20,
    "start_time": "2022-09-30T09:47:25.279Z"
   },
   {
    "duration": 6,
    "start_time": "2022-09-30T09:47:25.301Z"
   },
   {
    "duration": 23,
    "start_time": "2022-09-30T09:47:25.308Z"
   },
   {
    "duration": 21,
    "start_time": "2022-09-30T09:47:25.333Z"
   },
   {
    "duration": 44,
    "start_time": "2022-09-30T09:47:25.356Z"
   },
   {
    "duration": 13,
    "start_time": "2022-09-30T09:47:25.402Z"
   },
   {
    "duration": 19,
    "start_time": "2022-09-30T09:47:25.416Z"
   },
   {
    "duration": 45,
    "start_time": "2022-09-30T09:47:25.437Z"
   },
   {
    "duration": 277,
    "start_time": "2022-09-30T09:47:25.485Z"
   },
   {
    "duration": 2293,
    "start_time": "2022-09-30T09:47:25.763Z"
   },
   {
    "duration": 100,
    "start_time": "2022-09-30T09:47:28.058Z"
   },
   {
    "duration": 991,
    "start_time": "2022-09-30T09:47:28.160Z"
   },
   {
    "duration": 981,
    "start_time": "2022-09-30T09:47:29.153Z"
   },
   {
    "duration": 117,
    "start_time": "2022-09-30T09:47:30.136Z"
   },
   {
    "duration": 4,
    "start_time": "2022-09-30T09:47:30.254Z"
   },
   {
    "duration": 39,
    "start_time": "2022-09-30T09:47:30.260Z"
   },
   {
    "duration": 11,
    "start_time": "2022-09-30T09:47:30.301Z"
   },
   {
    "duration": 70180,
    "start_time": "2022-09-30T09:47:30.313Z"
   },
   {
    "duration": 4,
    "start_time": "2022-09-30T09:48:40.495Z"
   },
   {
    "duration": 22695,
    "start_time": "2022-09-30T09:48:40.500Z"
   },
   {
    "duration": 4,
    "start_time": "2022-09-30T09:49:03.196Z"
   },
   {
    "duration": 271771,
    "start_time": "2022-09-30T09:49:03.202Z"
   },
   {
    "duration": 125,
    "start_time": "2022-09-30T09:53:34.975Z"
   },
   {
    "duration": 0,
    "start_time": "2022-09-30T09:53:35.101Z"
   },
   {
    "duration": 0,
    "start_time": "2022-09-30T09:53:35.103Z"
   },
   {
    "duration": 0,
    "start_time": "2022-09-30T09:53:35.104Z"
   },
   {
    "duration": 0,
    "start_time": "2022-09-30T09:53:35.105Z"
   },
   {
    "duration": 0,
    "start_time": "2022-09-30T09:53:35.106Z"
   },
   {
    "duration": 0,
    "start_time": "2022-09-30T09:53:35.108Z"
   },
   {
    "duration": 0,
    "start_time": "2022-09-30T09:53:35.109Z"
   },
   {
    "duration": 0,
    "start_time": "2022-09-30T09:53:35.111Z"
   },
   {
    "duration": 0,
    "start_time": "2022-09-30T09:53:35.113Z"
   },
   {
    "duration": 0,
    "start_time": "2022-09-30T09:53:35.115Z"
   },
   {
    "duration": 0,
    "start_time": "2022-09-30T09:53:35.117Z"
   },
   {
    "duration": 0,
    "start_time": "2022-09-30T09:53:35.118Z"
   },
   {
    "duration": 4,
    "start_time": "2022-09-30T09:54:15.953Z"
   },
   {
    "duration": 4,
    "start_time": "2022-09-30T09:54:57.113Z"
   },
   {
    "duration": 2526,
    "start_time": "2022-09-30T09:55:02.969Z"
   },
   {
    "duration": 5,
    "start_time": "2022-09-30T09:55:06.315Z"
   },
   {
    "duration": 10,
    "start_time": "2022-09-30T09:55:07.583Z"
   },
   {
    "duration": 11,
    "start_time": "2022-09-30T09:56:21.141Z"
   },
   {
    "duration": 23381,
    "start_time": "2022-09-30T09:56:33.526Z"
   },
   {
    "duration": 3,
    "start_time": "2022-09-30T09:57:47.615Z"
   },
   {
    "duration": 10425,
    "start_time": "2022-09-30T09:59:01.237Z"
   },
   {
    "duration": 3,
    "start_time": "2022-09-30T10:00:15.917Z"
   },
   {
    "duration": 3,
    "start_time": "2022-09-30T10:00:47.846Z"
   },
   {
    "duration": 11080,
    "start_time": "2022-09-30T10:01:32.535Z"
   },
   {
    "duration": 3,
    "start_time": "2022-09-30T10:02:02.222Z"
   },
   {
    "duration": 11514,
    "start_time": "2022-09-30T10:02:22.584Z"
   },
   {
    "duration": 4,
    "start_time": "2022-09-30T10:02:34.100Z"
   },
   {
    "duration": 10922,
    "start_time": "2022-09-30T10:03:49.725Z"
   },
   {
    "duration": 4,
    "start_time": "2022-09-30T10:04:00.649Z"
   },
   {
    "duration": 10970,
    "start_time": "2022-09-30T10:04:21.219Z"
   },
   {
    "duration": 5,
    "start_time": "2022-09-30T10:04:32.192Z"
   },
   {
    "duration": 16870,
    "start_time": "2022-09-30T10:05:19.613Z"
   },
   {
    "duration": 11,
    "start_time": "2022-09-30T10:05:36.485Z"
   },
   {
    "duration": 10415,
    "start_time": "2022-09-30T10:06:27.515Z"
   },
   {
    "duration": 4,
    "start_time": "2022-09-30T10:06:40.019Z"
   },
   {
    "duration": 9731,
    "start_time": "2022-09-30T10:06:55.481Z"
   },
   {
    "duration": 4,
    "start_time": "2022-09-30T10:07:05.214Z"
   },
   {
    "duration": 9265,
    "start_time": "2022-09-30T10:07:20.599Z"
   },
   {
    "duration": 4,
    "start_time": "2022-09-30T10:07:31.977Z"
   },
   {
    "duration": 9330,
    "start_time": "2022-09-30T10:07:42.644Z"
   },
   {
    "duration": 3,
    "start_time": "2022-09-30T10:07:51.976Z"
   },
   {
    "duration": 9956,
    "start_time": "2022-09-30T10:08:06.436Z"
   },
   {
    "duration": 4,
    "start_time": "2022-09-30T10:08:16.394Z"
   },
   {
    "duration": 4,
    "start_time": "2022-09-30T10:08:27.609Z"
   },
   {
    "duration": 11,
    "start_time": "2022-09-30T10:08:55.407Z"
   }
  ],
  "kernelspec": {
   "display_name": "Python 3 (ipykernel)",
   "language": "python",
   "name": "python3"
  },
  "language_info": {
   "codemirror_mode": {
    "name": "ipython",
    "version": 3
   },
   "file_extension": ".py",
   "mimetype": "text/x-python",
   "name": "python",
   "nbconvert_exporter": "python",
   "pygments_lexer": "ipython3",
   "version": "3.9.13"
  },
  "toc": {
   "base_numbering": 1,
   "nav_menu": {},
   "number_sections": true,
   "sideBar": true,
   "skip_h1_title": true,
   "title_cell": "Содержание",
   "title_sidebar": "Contents",
   "toc_cell": true,
   "toc_position": {},
   "toc_section_display": true,
   "toc_window_display": true
  }
 },
 "nbformat": 4,
 "nbformat_minor": 2
}
