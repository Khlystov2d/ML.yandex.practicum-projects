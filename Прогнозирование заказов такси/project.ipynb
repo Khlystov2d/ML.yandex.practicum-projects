{
 "cells": [
  {
   "cell_type": "markdown",
   "metadata": {
    "toc": true
   },
   "source": [
    "<h1>Содержание<span class=\"tocSkip\"></span></h1>\n",
    "<div class=\"toc\"><ul class=\"toc-item\"><li><span><a href=\"#Подготовка\" data-toc-modified-id=\"Подготовка-1\"><span class=\"toc-item-num\">1&nbsp;&nbsp;</span>Подготовка</a></span></li><li><span><a href=\"#Анализ\" data-toc-modified-id=\"Анализ-2\"><span class=\"toc-item-num\">2&nbsp;&nbsp;</span>Анализ</a></span></li><li><span><a href=\"#Обучение\" data-toc-modified-id=\"Обучение-3\"><span class=\"toc-item-num\">3&nbsp;&nbsp;</span>Обучение</a></span></li><li><span><a href=\"#Тестирование\" data-toc-modified-id=\"Тестирование-4\"><span class=\"toc-item-num\">4&nbsp;&nbsp;</span>Тестирование</a></span></li><li><span><a href=\"#Чек-лист-проверки\" data-toc-modified-id=\"Чек-лист-проверки-5\"><span class=\"toc-item-num\">5&nbsp;&nbsp;</span>Чек-лист проверки</a></span></li></ul></div>"
   ]
  },
  {
   "cell_type": "markdown",
   "metadata": {},
   "source": [
    "#  Прогнозирование заказов такси"
   ]
  },
  {
   "cell_type": "markdown",
   "metadata": {},
   "source": [
    "Компания «Чётенькое такси» собрала исторические данные о заказах такси в аэропортах. Чтобы привлекать больше водителей в период пиковой нагрузки, нужно спрогнозировать количество заказов такси на следующий час. Постройте модель для такого предсказания.\n",
    "\n",
    "Значение метрики *RMSE* на тестовой выборке должно быть не больше 48.\n",
    "\n",
    "Вам нужно:\n",
    "\n",
    "1. Загрузить данные и выполнить их ресемплирование по одному часу.\n",
    "2. Проанализировать данные.\n",
    "3. Обучить разные модели с различными гиперпараметрами. Сделать тестовую выборку размером 10% от исходных данных.\n",
    "4. Проверить данные на тестовой выборке и сделать выводы.\n",
    "\n",
    "\n",
    "Данные лежат в файле `taxi.csv`. Количество заказов находится в столбце `num_orders` (от англ. *number of orders*, «число заказов»)."
   ]
  },
  {
   "cell_type": "markdown",
   "metadata": {},
   "source": [
    "Таблица имеет всего 2 столбца:\n",
    "- **datetime** - *дата и время*\n",
    "- **num_orders** - *количество заказов*"
   ]
  },
  {
   "cell_type": "code",
   "execution_count": 1,
   "metadata": {},
   "outputs": [],
   "source": [
    "import pandas as pd\n",
    "from statsmodels.tsa.seasonal import seasonal_decompose\n",
    "import matplotlib.pyplot as plt\n",
    "import numpy as np\n",
    "from sklearn.model_selection import train_test_split\n",
    "from sklearn.linear_model import LinearRegression\n",
    "from sklearn.metrics import mean_squared_error\n",
    "from sklearn.linear_model import LinearRegression\n",
    "from sklearn.model_selection import cross_val_score\n",
    "from catboost import CatBoostRegressor\n",
    "from sklearn.ensemble import RandomForestRegressor\n",
    "from sklearn.model_selection import RandomizedSearchCV\n",
    "from sklearn.model_selection import TimeSeriesSplit\n",
    "\n",
    "rs = 42 # random_state"
   ]
  },
  {
   "cell_type": "markdown",
   "metadata": {},
   "source": [
    "## Подготовка"
   ]
  },
  {
   "cell_type": "code",
   "execution_count": 2,
   "metadata": {},
   "outputs": [],
   "source": [
    "df = pd.read_csv('/datasets/taxi.csv')"
   ]
  },
  {
   "cell_type": "code",
   "execution_count": 3,
   "metadata": {},
   "outputs": [
    {
     "data": {
      "text/html": [
       "<div>\n",
       "<style scoped>\n",
       "    .dataframe tbody tr th:only-of-type {\n",
       "        vertical-align: middle;\n",
       "    }\n",
       "\n",
       "    .dataframe tbody tr th {\n",
       "        vertical-align: top;\n",
       "    }\n",
       "\n",
       "    .dataframe thead th {\n",
       "        text-align: right;\n",
       "    }\n",
       "</style>\n",
       "<table border=\"1\" class=\"dataframe\">\n",
       "  <thead>\n",
       "    <tr style=\"text-align: right;\">\n",
       "      <th></th>\n",
       "      <th>datetime</th>\n",
       "      <th>num_orders</th>\n",
       "    </tr>\n",
       "  </thead>\n",
       "  <tbody>\n",
       "    <tr>\n",
       "      <th>0</th>\n",
       "      <td>2018-03-01 00:00:00</td>\n",
       "      <td>9</td>\n",
       "    </tr>\n",
       "    <tr>\n",
       "      <th>1</th>\n",
       "      <td>2018-03-01 00:10:00</td>\n",
       "      <td>14</td>\n",
       "    </tr>\n",
       "    <tr>\n",
       "      <th>2</th>\n",
       "      <td>2018-03-01 00:20:00</td>\n",
       "      <td>28</td>\n",
       "    </tr>\n",
       "  </tbody>\n",
       "</table>\n",
       "</div>"
      ],
      "text/plain": [
       "              datetime  num_orders\n",
       "0  2018-03-01 00:00:00           9\n",
       "1  2018-03-01 00:10:00          14\n",
       "2  2018-03-01 00:20:00          28"
      ]
     },
     "execution_count": 3,
     "metadata": {},
     "output_type": "execute_result"
    }
   ],
   "source": [
    "df.head(3) #Посмотрим первые 3 значения"
   ]
  },
  {
   "cell_type": "code",
   "execution_count": 4,
   "metadata": {
    "scrolled": true
   },
   "outputs": [
    {
     "name": "stdout",
     "output_type": "stream",
     "text": [
      "<class 'pandas.core.frame.DataFrame'>\n",
      "RangeIndex: 26496 entries, 0 to 26495\n",
      "Data columns (total 2 columns):\n",
      " #   Column      Non-Null Count  Dtype \n",
      "---  ------      --------------  ----- \n",
      " 0   datetime    26496 non-null  object\n",
      " 1   num_orders  26496 non-null  int64 \n",
      "dtypes: int64(1), object(1)\n",
      "memory usage: 414.1+ KB\n"
     ]
    }
   ],
   "source": [
    "df.info()"
   ]
  },
  {
   "cell_type": "code",
   "execution_count": 5,
   "metadata": {},
   "outputs": [],
   "source": [
    "df['datetime'] = pd.to_datetime(df['datetime'], format=\"%Y-%m-%dT%H:%M:%S\")\n",
    "# переведем столбец datetime в нужный формат"
   ]
  },
  {
   "cell_type": "code",
   "execution_count": 6,
   "metadata": {},
   "outputs": [],
   "source": [
    "df.index = df['datetime'] #Переведем дату в индекс\n",
    "df = df.drop('datetime', axis = 1)"
   ]
  },
  {
   "cell_type": "code",
   "execution_count": 7,
   "metadata": {},
   "outputs": [
    {
     "data": {
      "text/plain": [
       "True"
      ]
     },
     "execution_count": 7,
     "metadata": {},
     "output_type": "execute_result"
    }
   ],
   "source": [
    "df.index.is_monotonic #проверим, отсортированы ли индексы"
   ]
  },
  {
   "cell_type": "code",
   "execution_count": 8,
   "metadata": {},
   "outputs": [],
   "source": [
    "df = df.resample('1H').sum() # ресемплирование по одному часу"
   ]
  },
  {
   "cell_type": "markdown",
   "metadata": {},
   "source": [
    "## Анализ"
   ]
  },
  {
   "cell_type": "code",
   "execution_count": 9,
   "metadata": {},
   "outputs": [
    {
     "data": {
      "image/png": "[encoded data removed]",
      "text/plain": [
       "<Figure size 864x864 with 1 Axes>"
      ]
     },
     "metadata": {
      "needs_background": "light"
     },
     "output_type": "display_data"
    }
   ],
   "source": [
    "df['rolling_mean'] = df.rolling(24).mean()\n",
    "df.plot(figsize=(12, 12))\n",
    "plt.title('Скользящее среднее')\n",
    "plt.grid()\n",
    "plt.legend()\n",
    "plt.show\n",
    "df = df.drop('rolling_mean', axis = 1)"
   ]
  },
  {
   "cell_type": "markdown",
   "metadata": {},
   "source": [
    "**На графике мы видим число заказов по часам и скользящее среднее. По скользящему среднему мы можем наблюдать постоянные колебания количества заказов и постепенный их рост**"
   ]
  },
  {
   "cell_type": "code",
   "execution_count": 10,
   "metadata": {},
   "outputs": [
    {
     "data": {
      "image/png": "[encoded data removed]",
      "text/plain": [
       "<Figure size 864x864 with 1 Axes>"
      ]
     },
     "metadata": {
      "needs_background": "light"
     },
     "output_type": "display_data"
    }
   ],
   "source": [
    "decomposed = seasonal_decompose(df.resample('D').sum())\n",
    "decomposed.trend.plot(figsize=(12, 12))\n",
    "decomposed.seasonal.plot()\n",
    "# decomposed.resid.plot()\n",
    "plt.legend()\n",
    "plt.grid()\n",
    "plt.title('Сезонность + тренд')\n",
    "plt.xlabel('Месяц')\n",
    "plt.show()"
   ]
  },
  {
   "cell_type": "markdown",
   "metadata": {},
   "source": [
    "**По графику можно сказать, что со временем общее число заказов растет, причем в начале почти каждого месяца немного снижается. Сезонность колеблется по дням, посмотрим ее по дням недели:**"
   ]
  },
  {
   "cell_type": "code",
   "execution_count": 11,
   "metadata": {},
   "outputs": [
    {
     "data": {
      "image/png": "[encoded data removed]",
      "text/plain": [
       "<Figure size 864x864 with 1 Axes>"
      ]
     },
     "metadata": {
      "needs_background": "light"
     },
     "output_type": "display_data"
    }
   ],
   "source": [
    "fff = decomposed.seasonal['2018-03-01':'2018-03-15']\n",
    "fff.index = fff.index.day_name()\n",
    "fff.plot(figsize=(12, 12))\n",
    "plt.grid()\n",
    "plt.title('Сезонность')\n",
    "plt.xlabel('День недели')\n",
    "plt.show()"
   ]
  },
  {
   "cell_type": "markdown",
   "metadata": {},
   "source": [
    "**По графику можно сказать, что чащее всего такси заказывают в понедельник и пятницу, а на выходных и в остальные будни - гораздо меньше среднего**"
   ]
  },
  {
   "cell_type": "markdown",
   "metadata": {},
   "source": [
    "## Обучение"
   ]
  },
  {
   "cell_type": "markdown",
   "metadata": {},
   "source": [
    "**Добавим в данные:**\n",
    "\n",
    "- календарные признаки(год, месяц, день, день недели)\n",
    "- «Отстающие значения»(Предыдущие значения временного ряда)\n",
    "- Скользящее среднее\n",
    "\n",
    "**Разделим на фичи и таргеты, а так же на тренировочную и тестовую выборки**"
   ]
  },
  {
   "cell_type": "code",
   "execution_count": 12,
   "metadata": {
    "scrolled": true
   },
   "outputs": [],
   "source": [
    "def make_features(df, max_lag, rolling_mean_size):\n",
    "    df['day'] = df.index.day\n",
    "    df['dayofweek'] = df.index.dayofweek\n",
    "    \n",
    "    for lag in range(1, max_lag + 1):\n",
    "        df['lag_{}'.format(lag)] = df['num_orders'].shift(lag)\n",
    "\n",
    "    df['rolling_mean'] = df['num_orders'].shift().rolling(rolling_mean_size).mean()\n",
    "\n",
    "\n",
    "make_features(df,24,24)\n",
    "\n",
    "train, test = train_test_split(df, shuffle=False, test_size=0.1, random_state = rs)\n",
    "train = train.dropna()\n",
    "train_features = train.drop('num_orders', axis = 1)\n",
    "train_target = train['num_orders']\n",
    "test_features = test.drop('num_orders', axis = 1)\n",
    "test_target = test['num_orders']"
   ]
  },
  {
   "cell_type": "markdown",
   "metadata": {},
   "source": [
    "----\n",
    "**Возьмем 3 модели: Линейную регрессию, cat boost и случайный лес с подбором параметров через random search. Сначала посмотрим метрику RMSE, полученную кросс-валидацие, а затем на тестовой выборке**"
   ]
  },
  {
   "cell_type": "markdown",
   "metadata": {},
   "source": [
    "**LinearRegression**"
   ]
  },
  {
   "cell_type": "code",
   "execution_count": 13,
   "metadata": {},
   "outputs": [
    {
     "name": "stdout",
     "output_type": "stream",
     "text": [
      "средний RMSE методом cross_val_score для linear regression 27.202439726131537\n"
     ]
    }
   ],
   "source": [
    "model_lr = LinearRegression()\n",
    "tscv = TimeSeriesSplit(n_splits=5)\n",
    "RMSE_lr  = np.mean(abs(cross_val_score(model_lr, train_features, train_target, cv=tscv, scoring = 'neg_root_mean_squared_error')))\n",
    "\n",
    "print('средний RMSE методом cross_val_score для linear regression', RMSE_lr)"
   ]
  },
  {
   "cell_type": "markdown",
   "metadata": {},
   "source": [
    "**CatBoostRegressor**"
   ]
  },
  {
   "cell_type": "code",
   "execution_count": 14,
   "metadata": {
    "scrolled": false
   },
   "outputs": [
    {
     "name": "stdout",
     "output_type": "stream",
     "text": [
      "Learning rate set to 0.038341\n",
      "0:\tlearn: 29.1647454\ttotal: 52ms\tremaining: 52s\n",
      "200:\tlearn: 12.1764464\ttotal: 730ms\tremaining: 2.9s\n",
      "400:\tlearn: 8.1045398\ttotal: 1.41s\tremaining: 2.1s\n",
      "600:\tlearn: 5.3452749\ttotal: 2.09s\tremaining: 1.39s\n",
      "800:\tlearn: 3.6580081\ttotal: 2.78s\tremaining: 691ms\n",
      "999:\tlearn: 2.5269540\ttotal: 3.51s\tremaining: 0us\n",
      "Learning rate set to 0.042769\n",
      "0:\tlearn: 29.7902268\ttotal: 5.96ms\tremaining: 5.95s\n",
      "200:\tlearn: 14.3559256\ttotal: 778ms\tremaining: 3.09s\n",
      "400:\tlearn: 10.7617123\ttotal: 1.55s\tremaining: 2.32s\n",
      "600:\tlearn: 8.4247998\ttotal: 2.31s\tremaining: 1.54s\n",
      "800:\tlearn: 6.6551623\ttotal: 3.08s\tremaining: 766ms\n",
      "999:\tlearn: 5.3111967\ttotal: 3.9s\tremaining: 0us\n",
      "Learning rate set to 0.045595\n",
      "0:\tlearn: 31.3958098\ttotal: 6.66ms\tremaining: 6.65s\n",
      "200:\tlearn: 15.4629382\ttotal: 900ms\tremaining: 3.58s\n",
      "400:\tlearn: 12.3911126\ttotal: 1.78s\tremaining: 2.66s\n",
      "600:\tlearn: 10.0976726\ttotal: 2.67s\tremaining: 1.77s\n",
      "800:\tlearn: 8.3370608\ttotal: 3.57s\tremaining: 886ms\n",
      "999:\tlearn: 7.0397312\ttotal: 4.51s\tremaining: 0us\n",
      "Learning rate set to 0.047713\n",
      "0:\tlearn: 32.6873223\ttotal: 7.92ms\tremaining: 7.92s\n",
      "200:\tlearn: 16.8316905\ttotal: 1.01s\tremaining: 4.01s\n",
      "400:\tlearn: 13.7597522\ttotal: 2.03s\tremaining: 3.03s\n",
      "600:\tlearn: 11.4939889\ttotal: 3.11s\tremaining: 2.06s\n",
      "800:\tlearn: 9.7829448\ttotal: 4.16s\tremaining: 1.03s\n",
      "999:\tlearn: 8.4282461\ttotal: 5.18s\tremaining: 0us\n",
      "Learning rate set to 0.049424\n",
      "0:\tlearn: 34.0385942\ttotal: 6.38ms\tremaining: 6.37s\n",
      "200:\tlearn: 18.2613658\ttotal: 1.1s\tremaining: 4.38s\n",
      "400:\tlearn: 15.0786143\ttotal: 2.27s\tremaining: 3.39s\n",
      "600:\tlearn: 12.7826218\ttotal: 3.32s\tremaining: 2.2s\n",
      "800:\tlearn: 11.1393512\ttotal: 4.34s\tremaining: 1.08s\n",
      "999:\tlearn: 9.6780758\ttotal: 5.37s\tremaining: 0us\n",
      "средний RMSE методом cross_val_score для catboost 24.826560760641666\n"
     ]
    }
   ],
   "source": [
    "model_cat = CatBoostRegressor(iterations=1000, verbose=200, early_stopping_rounds=100, \n",
    "                              random_state = rs)\n",
    "RMSE_cat  = np.mean(abs(cross_val_score(model_cat, train_features, train_target, cv=tscv, scoring = 'neg_root_mean_squared_error')))\n",
    "print('средний RMSE методом cross_val_score для catboost', RMSE_cat)"
   ]
  },
  {
   "cell_type": "markdown",
   "metadata": {},
   "source": [
    "----\n",
    "**RandomForestRegressor через RandomizedSearchCV**"
   ]
  },
  {
   "cell_type": "code",
   "execution_count": 15,
   "metadata": {},
   "outputs": [
    {
     "data": {
      "text/plain": [
       "RandomizedSearchCV(cv=TimeSeriesSplit(gap=0, max_train_size=None, n_splits=5, test_size=None),\n",
       "                   estimator=RandomForestRegressor(random_state=42),\n",
       "                   param_distributions={'max_depth': range(6, 34, 3),\n",
       "                                        'n_estimators': range(100, 251, 50)},\n",
       "                   random_state=42, scoring='neg_root_mean_squared_error')"
      ]
     },
     "execution_count": 15,
     "metadata": {},
     "output_type": "execute_result"
    }
   ],
   "source": [
    "model_rfr = RandomForestRegressor(random_state = rs)\n",
    "n_estimators = range(100, 251, 50)\n",
    "max_depth = range(6, 34, 3)\n",
    "random_grid = {'n_estimators': n_estimators, 'max_depth': max_depth}\n",
    "rfr_random = RandomizedSearchCV(estimator = model_rfr, param_distributions = random_grid, cv = tscv,\n",
    "                          random_state=rs, scoring = 'neg_root_mean_squared_error')\n",
    "rfr_random.fit(train_features, train_target)"
   ]
  },
  {
   "cell_type": "code",
   "execution_count": 16,
   "metadata": {
    "scrolled": true
   },
   "outputs": [
    {
     "name": "stdout",
     "output_type": "stream",
     "text": [
      "Лучшие параметры {'n_estimators': 250, 'max_depth': 33}\n",
      "Лучший результат 25.766017721442996\n"
     ]
    }
   ],
   "source": [
    "print('Лучшие параметры', rfr_random.best_params_)\n",
    "print('Лучший результат', abs(rfr_random.best_score_))"
   ]
  },
  {
   "cell_type": "code",
   "execution_count": 17,
   "metadata": {
    "scrolled": true
   },
   "outputs": [
    {
     "data": {
      "text/html": [
       "<div>\n",
       "<style scoped>\n",
       "    .dataframe tbody tr th:only-of-type {\n",
       "        vertical-align: middle;\n",
       "    }\n",
       "\n",
       "    .dataframe tbody tr th {\n",
       "        vertical-align: top;\n",
       "    }\n",
       "\n",
       "    .dataframe thead th {\n",
       "        text-align: right;\n",
       "    }\n",
       "</style>\n",
       "<table border=\"1\" class=\"dataframe\">\n",
       "  <thead>\n",
       "    <tr style=\"text-align: right;\">\n",
       "      <th></th>\n",
       "      <th>LinearRegression</th>\n",
       "      <th>CatBoostRegressor</th>\n",
       "      <th>RandomForestRegressor</th>\n",
       "    </tr>\n",
       "  </thead>\n",
       "  <tbody>\n",
       "    <tr>\n",
       "      <th>RMSE cross-val:</th>\n",
       "      <td>27.20244</td>\n",
       "      <td>24.826561</td>\n",
       "      <td>25.766018</td>\n",
       "    </tr>\n",
       "  </tbody>\n",
       "</table>\n",
       "</div>"
      ],
      "text/plain": [
       "                 LinearRegression  CatBoostRegressor  RandomForestRegressor\n",
       "RMSE cross-val:          27.20244          24.826561              25.766018"
      ]
     },
     "execution_count": 17,
     "metadata": {},
     "output_type": "execute_result"
    }
   ],
   "source": [
    "rmse = pd.DataFrame({'RMSE cross-val:': [RMSE_lr, RMSE_cat,\n",
    "                                     abs(rfr_random.best_score_)]}).T\n",
    "rmse.columns = ['LinearRegression','CatBoostRegressor','RandomForestRegressor']\n",
    "rmse"
   ]
  },
  {
   "cell_type": "markdown",
   "metadata": {},
   "source": [
    "**Все модели показали отличный результат на кросс-валидации. Самый низкий RMSE у CatBoostRegressor. Проведем тесты всех 3х моделей**"
   ]
  },
  {
   "cell_type": "markdown",
   "metadata": {},
   "source": [
    "## Тестирование"
   ]
  },
  {
   "cell_type": "code",
   "execution_count": 18,
   "metadata": {},
   "outputs": [
    {
     "name": "stdout",
     "output_type": "stream",
     "text": [
      "CPU times: user 23.2 ms, sys: 12 ms, total: 35.2 ms\n",
      "Wall time: 9.2 ms\n"
     ]
    },
    {
     "data": {
      "text/plain": [
       "44.979039433306596"
      ]
     },
     "execution_count": 18,
     "metadata": {},
     "output_type": "execute_result"
    }
   ],
   "source": [
    "%%time\n",
    "#LinearRegression\n",
    "model_lr.fit(train_features, train_target)\n",
    "test_lr = mean_squared_error(model_lr.predict(test_features), test_target, squared = False)\n",
    "test_lr"
   ]
  },
  {
   "cell_type": "code",
   "execution_count": 19,
   "metadata": {},
   "outputs": [
    {
     "name": "stdout",
     "output_type": "stream",
     "text": [
      "Learning rate set to 0.050868\n",
      "0:\tlearn: 37.8350515\ttotal: 7.5ms\tremaining: 7.49s\n",
      "200:\tlearn: 20.4346335\ttotal: 1.23s\tremaining: 4.89s\n",
      "400:\tlearn: 16.8208048\ttotal: 2.61s\tremaining: 3.9s\n",
      "600:\tlearn: 14.4472449\ttotal: 3.9s\tremaining: 2.59s\n",
      "800:\tlearn: 12.6682516\ttotal: 5.12s\tremaining: 1.27s\n",
      "999:\tlearn: 11.2850328\ttotal: 6.38s\tremaining: 0us\n",
      "CPU times: user 6.46 s, sys: 105 ms, total: 6.57 s\n",
      "Wall time: 7.67 s\n"
     ]
    },
    {
     "data": {
      "text/plain": [
       "41.371590431199905"
      ]
     },
     "execution_count": 19,
     "metadata": {},
     "output_type": "execute_result"
    }
   ],
   "source": [
    "%%time\n",
    "#CatBoostRegressor\n",
    "model_cat.fit(train_features, train_target)\n",
    "test_cat = mean_squared_error(model_cat.predict(test_features), test_target, squared = False)\n",
    "test_cat"
   ]
  },
  {
   "cell_type": "code",
   "execution_count": 20,
   "metadata": {},
   "outputs": [
    {
     "name": "stdout",
     "output_type": "stream",
     "text": [
      "CPU times: user 3 µs, sys: 0 ns, total: 3 µs\n",
      "Wall time: 6.91 µs\n"
     ]
    },
    {
     "data": {
      "text/plain": [
       "43.52867175049098"
      ]
     },
     "execution_count": 20,
     "metadata": {},
     "output_type": "execute_result"
    }
   ],
   "source": [
    "%time\n",
    "#RandomForestRegressor\n",
    "test_rfr = mean_squared_error(rfr_random.predict(test_features), test_target, squared = False)\n",
    "test_rfr"
   ]
  },
  {
   "cell_type": "code",
   "execution_count": 21,
   "metadata": {
    "scrolled": true
   },
   "outputs": [
    {
     "data": {
      "text/html": [
       "<div>\n",
       "<style scoped>\n",
       "    .dataframe tbody tr th:only-of-type {\n",
       "        vertical-align: middle;\n",
       "    }\n",
       "\n",
       "    .dataframe tbody tr th {\n",
       "        vertical-align: top;\n",
       "    }\n",
       "\n",
       "    .dataframe thead th {\n",
       "        text-align: right;\n",
       "    }\n",
       "</style>\n",
       "<table border=\"1\" class=\"dataframe\">\n",
       "  <thead>\n",
       "    <tr style=\"text-align: right;\">\n",
       "      <th></th>\n",
       "      <th>LinearRegression</th>\n",
       "      <th>CatBoostRegressor</th>\n",
       "      <th>RandomForestRegressor</th>\n",
       "    </tr>\n",
       "  </thead>\n",
       "  <tbody>\n",
       "    <tr>\n",
       "      <th>RMSE test:</th>\n",
       "      <td>44.979039</td>\n",
       "      <td>41.37159</td>\n",
       "      <td>43.528672</td>\n",
       "    </tr>\n",
       "  </tbody>\n",
       "</table>\n",
       "</div>"
      ],
      "text/plain": [
       "            LinearRegression  CatBoostRegressor  RandomForestRegressor\n",
       "RMSE test:         44.979039           41.37159              43.528672"
      ]
     },
     "execution_count": 21,
     "metadata": {},
     "output_type": "execute_result"
    }
   ],
   "source": [
    "test_rmse = pd.DataFrame({'RMSE test:': [test_lr, test_cat,test_rfr]}).T\n",
    "test_rmse.columns = ['LinearRegression','CatBoostRegressor','RandomForestRegressor']\n",
    "test_rmse"
   ]
  },
  {
   "cell_type": "markdown",
   "metadata": {},
   "source": [
    "**Исходя из результатов проверки на тестовой выборке: все модели так же имют требуемый по качеству показатель RMSE, но уже на порядок выше. Лучший результат, как кросс-валидацией так и на тесте - у CatBoostRegressor. Рекомендую эту модель**"
   ]
  }
 ],
 "metadata": {
  "ExecuteTimeLog": [
   {
    "duration": 406,
    "start_time": "2022-11-03T20:12:42.414Z"
   },
   {
    "duration": 183,
    "start_time": "2022-11-03T20:13:39.046Z"
   },
   {
    "duration": 17,
    "start_time": "2022-11-03T20:13:44.645Z"
   },
   {
    "duration": 7,
    "start_time": "2022-11-03T20:14:07.394Z"
   },
   {
    "duration": 7,
    "start_time": "2022-11-03T20:14:25.817Z"
   },
   {
    "duration": 12,
    "start_time": "2022-11-03T20:14:33.824Z"
   },
   {
    "duration": 10,
    "start_time": "2022-11-03T20:17:31.024Z"
   },
   {
    "duration": 5,
    "start_time": "2022-11-03T20:18:25.445Z"
   },
   {
    "duration": 63,
    "start_time": "2022-11-03T20:19:12.749Z"
   },
   {
    "duration": 4,
    "start_time": "2022-11-03T20:19:18.682Z"
   },
   {
    "duration": 4,
    "start_time": "2022-11-03T20:19:49.409Z"
   },
   {
    "duration": 5,
    "start_time": "2022-11-03T20:31:01.381Z"
   },
   {
    "duration": 14,
    "start_time": "2022-11-03T20:51:14.740Z"
   },
   {
    "duration": 10,
    "start_time": "2022-11-03T20:51:22.191Z"
   },
   {
    "duration": 897,
    "start_time": "2022-11-03T20:51:25.473Z"
   },
   {
    "duration": 50,
    "start_time": "2022-11-03T20:51:26.372Z"
   },
   {
    "duration": 8,
    "start_time": "2022-11-03T20:51:26.423Z"
   },
   {
    "duration": 12,
    "start_time": "2022-11-03T20:51:26.583Z"
   },
   {
    "duration": 9,
    "start_time": "2022-11-03T20:51:26.881Z"
   },
   {
    "duration": 4,
    "start_time": "2022-11-03T20:51:27.134Z"
   },
   {
    "duration": 4,
    "start_time": "2022-11-03T20:51:27.424Z"
   },
   {
    "duration": 3,
    "start_time": "2022-11-03T20:51:28.234Z"
   },
   {
    "duration": 47,
    "start_time": "2022-11-03T20:51:32.929Z"
   },
   {
    "duration": 9,
    "start_time": "2022-11-03T20:51:39.819Z"
   },
   {
    "duration": 4,
    "start_time": "2022-11-03T20:51:51.789Z"
   },
   {
    "duration": 49,
    "start_time": "2022-11-03T20:51:52.141Z"
   },
   {
    "duration": 10,
    "start_time": "2022-11-03T20:51:52.285Z"
   },
   {
    "duration": 16,
    "start_time": "2022-11-03T20:51:52.413Z"
   },
   {
    "duration": 14,
    "start_time": "2022-11-03T20:51:52.556Z"
   },
   {
    "duration": 6,
    "start_time": "2022-11-03T20:51:52.909Z"
   },
   {
    "duration": 6,
    "start_time": "2022-11-03T20:51:53.100Z"
   },
   {
    "duration": 8,
    "start_time": "2022-11-03T20:51:54.009Z"
   },
   {
    "duration": 791,
    "start_time": "2022-11-03T21:10:18.724Z"
   },
   {
    "duration": 993,
    "start_time": "2022-11-03T21:10:36.313Z"
   },
   {
    "duration": 104,
    "start_time": "2022-11-03T21:10:37.308Z"
   },
   {
    "duration": 11,
    "start_time": "2022-11-03T21:10:37.414Z"
   },
   {
    "duration": 11,
    "start_time": "2022-11-03T21:10:37.427Z"
   },
   {
    "duration": 19,
    "start_time": "2022-11-03T21:10:37.440Z"
   },
   {
    "duration": 12,
    "start_time": "2022-11-03T21:10:37.460Z"
   },
   {
    "duration": 23,
    "start_time": "2022-11-03T21:10:37.473Z"
   },
   {
    "duration": 26,
    "start_time": "2022-11-03T21:10:37.498Z"
   },
   {
    "duration": 731,
    "start_time": "2022-11-03T21:10:37.525Z"
   },
   {
    "duration": 824,
    "start_time": "2022-11-03T21:11:30.229Z"
   },
   {
    "duration": 436,
    "start_time": "2022-11-03T21:27:38.087Z"
   },
   {
    "duration": 844,
    "start_time": "2022-11-03T21:28:19.937Z"
   },
   {
    "duration": 701,
    "start_time": "2022-11-03T21:28:48.204Z"
   },
   {
    "duration": 724,
    "start_time": "2022-11-03T21:29:05.788Z"
   },
   {
    "duration": 935,
    "start_time": "2022-11-04T00:48:08.839Z"
   },
   {
    "duration": 10,
    "start_time": "2022-11-04T00:48:18.589Z"
   },
   {
    "duration": 1236,
    "start_time": "2022-11-04T00:48:28.257Z"
   },
   {
    "duration": 106,
    "start_time": "2022-11-04T00:48:29.495Z"
   },
   {
    "duration": 11,
    "start_time": "2022-11-04T00:48:29.602Z"
   },
   {
    "duration": 11,
    "start_time": "2022-11-04T00:48:29.615Z"
   },
   {
    "duration": 8,
    "start_time": "2022-11-04T00:48:29.627Z"
   },
   {
    "duration": 11,
    "start_time": "2022-11-04T00:48:29.636Z"
   },
   {
    "duration": 7,
    "start_time": "2022-11-04T00:48:29.648Z"
   },
   {
    "duration": 9,
    "start_time": "2022-11-04T00:48:29.657Z"
   },
   {
    "duration": 868,
    "start_time": "2022-11-04T00:48:29.668Z"
   },
   {
    "duration": 369,
    "start_time": "2022-11-04T00:48:30.539Z"
   },
   {
    "duration": 23,
    "start_time": "2022-11-04T00:48:51.365Z"
   },
   {
    "duration": 19,
    "start_time": "2022-11-04T00:49:24.472Z"
   },
   {
    "duration": 12,
    "start_time": "2022-11-04T00:50:18.021Z"
   },
   {
    "duration": 33,
    "start_time": "2022-11-04T00:50:25.304Z"
   },
   {
    "duration": 29,
    "start_time": "2022-11-04T00:50:48.479Z"
   },
   {
    "duration": 18,
    "start_time": "2022-11-04T00:50:58.837Z"
   },
   {
    "duration": 13,
    "start_time": "2022-11-04T00:51:10.143Z"
   },
   {
    "duration": 14,
    "start_time": "2022-11-04T00:51:17.171Z"
   },
   {
    "duration": 22,
    "start_time": "2022-11-04T00:51:25.189Z"
   },
   {
    "duration": 8,
    "start_time": "2022-11-04T00:52:04.780Z"
   },
   {
    "duration": 12,
    "start_time": "2022-11-04T00:52:14.789Z"
   },
   {
    "duration": 9,
    "start_time": "2022-11-04T00:52:15.937Z"
   },
   {
    "duration": 17,
    "start_time": "2022-11-04T00:52:35.078Z"
   },
   {
    "duration": 19,
    "start_time": "2022-11-04T00:53:11.189Z"
   },
   {
    "duration": 14,
    "start_time": "2022-11-04T00:53:31.071Z"
   },
   {
    "duration": 15,
    "start_time": "2022-11-04T00:53:33.242Z"
   },
   {
    "duration": 30,
    "start_time": "2022-11-04T00:53:42.980Z"
   },
   {
    "duration": 31,
    "start_time": "2022-11-04T00:53:55.173Z"
   },
   {
    "duration": 16,
    "start_time": "2022-11-04T00:54:00.682Z"
   },
   {
    "duration": 27,
    "start_time": "2022-11-04T00:54:05.289Z"
   },
   {
    "duration": 17,
    "start_time": "2022-11-04T00:54:10.001Z"
   },
   {
    "duration": 18,
    "start_time": "2022-11-04T00:54:53.317Z"
   },
   {
    "duration": 15,
    "start_time": "2022-11-04T00:54:57.642Z"
   },
   {
    "duration": 18,
    "start_time": "2022-11-04T00:55:15.022Z"
   },
   {
    "duration": 15,
    "start_time": "2022-11-04T00:55:16.608Z"
   },
   {
    "duration": 18,
    "start_time": "2022-11-04T00:55:51.917Z"
   },
   {
    "duration": 16,
    "start_time": "2022-11-04T00:55:52.670Z"
   },
   {
    "duration": 7,
    "start_time": "2022-11-04T00:56:14.519Z"
   },
   {
    "duration": 13,
    "start_time": "2022-11-04T00:56:39.095Z"
   },
   {
    "duration": 6,
    "start_time": "2022-11-04T00:56:44.240Z"
   },
   {
    "duration": 8,
    "start_time": "2022-11-04T00:57:07.756Z"
   },
   {
    "duration": 11,
    "start_time": "2022-11-04T00:57:41.897Z"
   },
   {
    "duration": 7,
    "start_time": "2022-11-04T00:57:47.351Z"
   },
   {
    "duration": 7,
    "start_time": "2022-11-04T00:57:48.111Z"
   },
   {
    "duration": 21,
    "start_time": "2022-11-04T01:01:15.760Z"
   },
   {
    "duration": 8,
    "start_time": "2022-11-04T01:01:16.177Z"
   },
   {
    "duration": 8,
    "start_time": "2022-11-04T01:01:17.119Z"
   },
   {
    "duration": 23,
    "start_time": "2022-11-04T01:01:23.946Z"
   },
   {
    "duration": 8,
    "start_time": "2022-11-04T01:01:24.328Z"
   },
   {
    "duration": 7,
    "start_time": "2022-11-04T01:01:24.976Z"
   },
   {
    "duration": 24,
    "start_time": "2022-11-04T01:01:32.753Z"
   },
   {
    "duration": 7,
    "start_time": "2022-11-04T01:01:33.111Z"
   },
   {
    "duration": 6,
    "start_time": "2022-11-04T01:01:33.772Z"
   },
   {
    "duration": 44,
    "start_time": "2022-11-04T01:03:40.697Z"
   },
   {
    "duration": 4,
    "start_time": "2022-11-04T01:03:44.942Z"
   },
   {
    "duration": 3,
    "start_time": "2022-11-04T01:03:57.575Z"
   },
   {
    "duration": 3,
    "start_time": "2022-11-04T01:04:01.618Z"
   },
   {
    "duration": 42,
    "start_time": "2022-11-04T01:04:13.929Z"
   },
   {
    "duration": 16,
    "start_time": "2022-11-04T01:04:38.557Z"
   },
   {
    "duration": 17,
    "start_time": "2022-11-04T01:04:45.377Z"
   },
   {
    "duration": 9,
    "start_time": "2022-11-04T01:08:08.488Z"
   },
   {
    "duration": 4,
    "start_time": "2022-11-04T01:08:33.499Z"
   },
   {
    "duration": 36,
    "start_time": "2022-11-04T01:08:38.649Z"
   },
   {
    "duration": 38,
    "start_time": "2022-11-04T01:08:42.739Z"
   },
   {
    "duration": 12,
    "start_time": "2022-11-04T01:08:51.933Z"
   },
   {
    "duration": 31,
    "start_time": "2022-11-04T01:09:47.850Z"
   },
   {
    "duration": 33,
    "start_time": "2022-11-04T01:10:02.185Z"
   },
   {
    "duration": 10,
    "start_time": "2022-11-04T01:10:55.781Z"
   },
   {
    "duration": 140,
    "start_time": "2022-11-04T01:12:26.961Z"
   },
   {
    "duration": 10577,
    "start_time": "2022-11-04T01:13:08.920Z"
   },
   {
    "duration": 12704,
    "start_time": "2022-11-04T01:13:31.210Z"
   },
   {
    "duration": 0,
    "start_time": "2022-11-04T01:14:08.774Z"
   },
   {
    "duration": 0,
    "start_time": "2022-11-04T01:14:08.776Z"
   },
   {
    "duration": 10061,
    "start_time": "2022-11-04T01:14:10.997Z"
   },
   {
    "duration": 4,
    "start_time": "2022-11-04T01:17:32.436Z"
   },
   {
    "duration": 10,
    "start_time": "2022-11-04T01:27:58.512Z"
   },
   {
    "duration": 29,
    "start_time": "2022-11-04T01:28:00.893Z"
   },
   {
    "duration": 16,
    "start_time": "2022-11-04T01:29:35.310Z"
   },
   {
    "duration": 11,
    "start_time": "2022-11-04T01:30:02.145Z"
   },
   {
    "duration": 13,
    "start_time": "2022-11-04T01:30:21.995Z"
   },
   {
    "duration": 15,
    "start_time": "2022-11-04T01:30:31.148Z"
   },
   {
    "duration": 14,
    "start_time": "2022-11-04T01:30:58.798Z"
   },
   {
    "duration": 3,
    "start_time": "2022-11-04T01:31:44.070Z"
   },
   {
    "duration": 129400,
    "start_time": "2022-11-04T01:31:47.503Z"
   },
   {
    "duration": 4,
    "start_time": "2022-11-04T01:34:10.261Z"
   },
   {
    "duration": 4,
    "start_time": "2022-11-04T01:37:35.493Z"
   },
   {
    "duration": 10,
    "start_time": "2022-11-04T01:38:26.577Z"
   },
   {
    "duration": 4,
    "start_time": "2022-11-04T01:38:50.129Z"
   },
   {
    "duration": 55,
    "start_time": "2022-11-04T01:39:00.257Z"
   },
   {
    "duration": 50,
    "start_time": "2022-11-04T01:39:32.397Z"
   },
   {
    "duration": 58,
    "start_time": "2022-11-04T01:39:36.443Z"
   },
   {
    "duration": 7,
    "start_time": "2022-11-04T01:39:45.487Z"
   },
   {
    "duration": 6,
    "start_time": "2022-11-04T01:39:52.161Z"
   },
   {
    "duration": 42,
    "start_time": "2022-11-04T01:40:07.693Z"
   },
   {
    "duration": 5,
    "start_time": "2022-11-04T01:40:39.512Z"
   },
   {
    "duration": 6,
    "start_time": "2022-11-04T01:40:47.838Z"
   },
   {
    "duration": 11,
    "start_time": "2022-11-04T01:40:52.525Z"
   },
   {
    "duration": 5,
    "start_time": "2022-11-04T01:41:05.048Z"
   },
   {
    "duration": 11,
    "start_time": "2022-11-04T01:41:09.519Z"
   },
   {
    "duration": 9,
    "start_time": "2022-11-04T01:41:40.291Z"
   },
   {
    "duration": 10,
    "start_time": "2022-11-04T01:42:01.668Z"
   },
   {
    "duration": 9,
    "start_time": "2022-11-04T01:46:04.696Z"
   },
   {
    "duration": 8,
    "start_time": "2022-11-04T01:47:03.847Z"
   },
   {
    "duration": 11,
    "start_time": "2022-11-04T01:47:08.393Z"
   },
   {
    "duration": 3723,
    "start_time": "2022-11-04T01:48:32.493Z"
   },
   {
    "duration": 53,
    "start_time": "2022-11-04T01:49:53.972Z"
   },
   {
    "duration": 40,
    "start_time": "2022-11-04T01:49:59.094Z"
   },
   {
    "duration": 49,
    "start_time": "2022-11-04T01:50:03.094Z"
   },
   {
    "duration": 39,
    "start_time": "2022-11-04T01:50:26.428Z"
   },
   {
    "duration": 9,
    "start_time": "2022-11-04T01:51:19.054Z"
   },
   {
    "duration": 14,
    "start_time": "2022-11-04T01:51:26.476Z"
   },
   {
    "duration": 5,
    "start_time": "2022-11-04T01:52:02.139Z"
   },
   {
    "duration": 9,
    "start_time": "2022-11-04T01:52:20.163Z"
   },
   {
    "duration": 2116,
    "start_time": "2022-11-04T01:59:16.882Z"
   },
   {
    "duration": 13,
    "start_time": "2022-11-04T01:59:23.785Z"
   },
   {
    "duration": 45,
    "start_time": "2022-11-04T01:59:34.876Z"
   },
   {
    "duration": 4,
    "start_time": "2022-11-04T02:03:00.519Z"
   },
   {
    "duration": 43,
    "start_time": "2022-11-04T02:03:01.392Z"
   },
   {
    "duration": 7,
    "start_time": "2022-11-04T02:03:01.769Z"
   },
   {
    "duration": 11,
    "start_time": "2022-11-04T02:03:02.244Z"
   },
   {
    "duration": 9,
    "start_time": "2022-11-04T02:03:02.692Z"
   },
   {
    "duration": 5,
    "start_time": "2022-11-04T02:03:03.127Z"
   },
   {
    "duration": 5,
    "start_time": "2022-11-04T02:03:03.494Z"
   },
   {
    "duration": 7,
    "start_time": "2022-11-04T02:03:03.924Z"
   },
   {
    "duration": 257,
    "start_time": "2022-11-04T02:03:11.439Z"
   },
   {
    "duration": 11,
    "start_time": "2022-11-04T02:14:42.123Z"
   },
   {
    "duration": 248,
    "start_time": "2022-11-04T02:14:46.861Z"
   },
   {
    "duration": 335,
    "start_time": "2022-11-04T02:15:11.594Z"
   },
   {
    "duration": 273,
    "start_time": "2022-11-04T02:15:15.190Z"
   },
   {
    "duration": 224,
    "start_time": "2022-11-04T02:15:29.474Z"
   },
   {
    "duration": 233,
    "start_time": "2022-11-04T02:15:35.876Z"
   },
   {
    "duration": 225,
    "start_time": "2022-11-04T02:15:40.064Z"
   },
   {
    "duration": 331,
    "start_time": "2022-11-04T02:16:21.534Z"
   },
   {
    "duration": 322,
    "start_time": "2022-11-04T02:16:27.450Z"
   },
   {
    "duration": 258,
    "start_time": "2022-11-04T02:16:42.795Z"
   },
   {
    "duration": 294,
    "start_time": "2022-11-04T02:16:57.093Z"
   },
   {
    "duration": 239,
    "start_time": "2022-11-04T02:17:02.393Z"
   },
   {
    "duration": 262,
    "start_time": "2022-11-04T02:17:10.561Z"
   },
   {
    "duration": 340,
    "start_time": "2022-11-04T02:17:31.396Z"
   },
   {
    "duration": 247,
    "start_time": "2022-11-04T02:17:58.547Z"
   },
   {
    "duration": 242,
    "start_time": "2022-11-04T02:18:05.841Z"
   },
   {
    "duration": 255,
    "start_time": "2022-11-04T02:20:17.057Z"
   },
   {
    "duration": 223,
    "start_time": "2022-11-04T02:20:29.133Z"
   },
   {
    "duration": 461,
    "start_time": "2022-11-04T02:21:33.216Z"
   },
   {
    "duration": 340,
    "start_time": "2022-11-04T02:22:07.554Z"
   },
   {
    "duration": 44,
    "start_time": "2022-11-04T02:22:14.124Z"
   },
   {
    "duration": 52,
    "start_time": "2022-11-04T02:22:18.540Z"
   },
   {
    "duration": 284,
    "start_time": "2022-11-04T02:22:25.175Z"
   },
   {
    "duration": 234,
    "start_time": "2022-11-04T02:22:30.615Z"
   },
   {
    "duration": 264,
    "start_time": "2022-11-04T02:58:34.875Z"
   },
   {
    "duration": 275,
    "start_time": "2022-11-04T02:58:53.874Z"
   },
   {
    "duration": 48,
    "start_time": "2022-11-04T02:59:28.442Z"
   },
   {
    "duration": 4,
    "start_time": "2022-11-04T02:59:32.929Z"
   },
   {
    "duration": 41,
    "start_time": "2022-11-04T02:59:33.537Z"
   },
   {
    "duration": 10,
    "start_time": "2022-11-04T02:59:33.790Z"
   },
   {
    "duration": 11,
    "start_time": "2022-11-04T02:59:34.027Z"
   },
   {
    "duration": 7,
    "start_time": "2022-11-04T02:59:34.252Z"
   },
   {
    "duration": 4,
    "start_time": "2022-11-04T02:59:34.452Z"
   },
   {
    "duration": 5,
    "start_time": "2022-11-04T02:59:34.697Z"
   },
   {
    "duration": 7,
    "start_time": "2022-11-04T02:59:34.936Z"
   },
   {
    "duration": 267,
    "start_time": "2022-11-04T02:59:35.471Z"
   },
   {
    "duration": 47,
    "start_time": "2022-11-04T02:59:37.191Z"
   },
   {
    "duration": 768,
    "start_time": "2022-11-04T02:59:41.336Z"
   },
   {
    "duration": 656,
    "start_time": "2022-11-04T03:00:07.997Z"
   },
   {
    "duration": 525,
    "start_time": "2022-11-04T03:00:28.133Z"
   },
   {
    "duration": 513,
    "start_time": "2022-11-04T03:00:36.140Z"
   },
   {
    "duration": 543,
    "start_time": "2022-11-04T03:01:15.591Z"
   },
   {
    "duration": 291,
    "start_time": "2022-11-04T03:01:23.093Z"
   },
   {
    "duration": 243,
    "start_time": "2022-11-04T03:01:52.105Z"
   },
   {
    "duration": 187,
    "start_time": "2022-11-04T03:02:05.418Z"
   },
   {
    "duration": 226,
    "start_time": "2022-11-04T03:02:19.492Z"
   },
   {
    "duration": 156,
    "start_time": "2022-11-04T03:02:24.594Z"
   },
   {
    "duration": 253,
    "start_time": "2022-11-04T03:02:27.697Z"
   },
   {
    "duration": 360,
    "start_time": "2022-11-04T03:10:45.614Z"
   },
   {
    "duration": 55,
    "start_time": "2022-11-04T11:05:42.315Z"
   },
   {
    "duration": 1644,
    "start_time": "2022-11-04T11:05:45.503Z"
   },
   {
    "duration": 116,
    "start_time": "2022-11-04T11:05:47.149Z"
   },
   {
    "duration": 11,
    "start_time": "2022-11-04T11:05:47.267Z"
   },
   {
    "duration": 18,
    "start_time": "2022-11-04T11:05:47.280Z"
   },
   {
    "duration": 11,
    "start_time": "2022-11-04T11:05:47.299Z"
   },
   {
    "duration": 5,
    "start_time": "2022-11-04T11:05:47.312Z"
   },
   {
    "duration": 12,
    "start_time": "2022-11-04T11:05:47.318Z"
   },
   {
    "duration": 10,
    "start_time": "2022-11-04T11:05:47.332Z"
   },
   {
    "duration": 341,
    "start_time": "2022-11-04T11:05:47.344Z"
   },
   {
    "duration": 396,
    "start_time": "2022-11-04T11:06:05.167Z"
   },
   {
    "duration": 286,
    "start_time": "2022-11-04T13:08:12.083Z"
   },
   {
    "duration": 280,
    "start_time": "2022-11-04T13:08:16.962Z"
   },
   {
    "duration": 227,
    "start_time": "2022-11-04T13:08:32.365Z"
   },
   {
    "duration": 192,
    "start_time": "2022-11-04T13:08:41.325Z"
   },
   {
    "duration": 253,
    "start_time": "2022-11-04T13:08:47.187Z"
   },
   {
    "duration": 192,
    "start_time": "2022-11-04T13:18:07.960Z"
   },
   {
    "duration": 3,
    "start_time": "2022-11-04T13:18:12.747Z"
   },
   {
    "duration": 42,
    "start_time": "2022-11-04T13:18:13.326Z"
   },
   {
    "duration": 8,
    "start_time": "2022-11-04T13:18:13.687Z"
   },
   {
    "duration": 12,
    "start_time": "2022-11-04T13:18:14.024Z"
   },
   {
    "duration": 9,
    "start_time": "2022-11-04T13:18:14.430Z"
   },
   {
    "duration": 6,
    "start_time": "2022-11-04T13:18:14.786Z"
   },
   {
    "duration": 4,
    "start_time": "2022-11-04T13:18:15.143Z"
   },
   {
    "duration": 8,
    "start_time": "2022-11-04T13:18:15.464Z"
   },
   {
    "duration": 302,
    "start_time": "2022-11-04T13:18:16.266Z"
   },
   {
    "duration": 31,
    "start_time": "2022-11-04T13:18:18.338Z"
   },
   {
    "duration": 240,
    "start_time": "2022-11-04T13:18:37.403Z"
   },
   {
    "duration": 6,
    "start_time": "2022-11-04T13:18:49.382Z"
   },
   {
    "duration": 49,
    "start_time": "2022-11-04T13:18:49.718Z"
   },
   {
    "duration": 10,
    "start_time": "2022-11-04T13:18:49.884Z"
   },
   {
    "duration": 13,
    "start_time": "2022-11-04T13:18:50.042Z"
   },
   {
    "duration": 9,
    "start_time": "2022-11-04T13:18:50.222Z"
   },
   {
    "duration": 4,
    "start_time": "2022-11-04T13:18:50.422Z"
   },
   {
    "duration": 5,
    "start_time": "2022-11-04T13:18:50.679Z"
   },
   {
    "duration": 7,
    "start_time": "2022-11-04T13:18:50.951Z"
   },
   {
    "duration": 269,
    "start_time": "2022-11-04T13:18:51.905Z"
   },
   {
    "duration": 219,
    "start_time": "2022-11-04T13:18:53.569Z"
   },
   {
    "duration": 136,
    "start_time": "2022-11-04T13:18:58.113Z"
   },
   {
    "duration": 208,
    "start_time": "2022-11-04T13:19:08.743Z"
   },
   {
    "duration": 214,
    "start_time": "2022-11-04T13:19:28.970Z"
   },
   {
    "duration": 323,
    "start_time": "2022-11-04T13:20:39.003Z"
   },
   {
    "duration": 203,
    "start_time": "2022-11-04T13:20:42.702Z"
   },
   {
    "duration": 225,
    "start_time": "2022-11-04T13:20:46.394Z"
   },
   {
    "duration": 216,
    "start_time": "2022-11-04T13:20:58.383Z"
   },
   {
    "duration": 229,
    "start_time": "2022-11-04T13:21:08.630Z"
   },
   {
    "duration": 216,
    "start_time": "2022-11-04T13:21:20.938Z"
   },
   {
    "duration": 210,
    "start_time": "2022-11-04T13:21:24.071Z"
   },
   {
    "duration": 294,
    "start_time": "2022-11-04T13:22:16.897Z"
   },
   {
    "duration": 176,
    "start_time": "2022-11-04T13:22:29.367Z"
   },
   {
    "duration": 239,
    "start_time": "2022-11-04T13:22:41.231Z"
   },
   {
    "duration": 4,
    "start_time": "2022-11-04T13:23:30.086Z"
   },
   {
    "duration": 60,
    "start_time": "2022-11-04T13:23:30.438Z"
   },
   {
    "duration": 7,
    "start_time": "2022-11-04T13:23:30.604Z"
   },
   {
    "duration": 13,
    "start_time": "2022-11-04T13:23:30.773Z"
   },
   {
    "duration": 9,
    "start_time": "2022-11-04T13:23:30.933Z"
   },
   {
    "duration": 4,
    "start_time": "2022-11-04T13:23:31.092Z"
   },
   {
    "duration": 5,
    "start_time": "2022-11-04T13:23:31.256Z"
   },
   {
    "duration": 11,
    "start_time": "2022-11-04T13:23:31.425Z"
   },
   {
    "duration": 371,
    "start_time": "2022-11-04T13:23:32.030Z"
   },
   {
    "duration": 16,
    "start_time": "2022-11-04T13:23:33.672Z"
   },
   {
    "duration": 207,
    "start_time": "2022-11-04T13:24:00.927Z"
   },
   {
    "duration": 267,
    "start_time": "2022-11-04T13:24:02.285Z"
   },
   {
    "duration": 220,
    "start_time": "2022-11-04T13:24:02.996Z"
   },
   {
    "duration": 4,
    "start_time": "2022-11-04T13:24:52.745Z"
   },
   {
    "duration": 41,
    "start_time": "2022-11-04T13:24:53.038Z"
   },
   {
    "duration": 8,
    "start_time": "2022-11-04T13:24:53.179Z"
   },
   {
    "duration": 12,
    "start_time": "2022-11-04T13:24:53.326Z"
   },
   {
    "duration": 10,
    "start_time": "2022-11-04T13:24:53.466Z"
   },
   {
    "duration": 4,
    "start_time": "2022-11-04T13:24:53.598Z"
   },
   {
    "duration": 5,
    "start_time": "2022-11-04T13:24:53.737Z"
   },
   {
    "duration": 7,
    "start_time": "2022-11-04T13:24:53.868Z"
   },
   {
    "duration": 280,
    "start_time": "2022-11-04T13:24:54.171Z"
   },
   {
    "duration": 16,
    "start_time": "2022-11-04T13:24:54.662Z"
   },
   {
    "duration": 235,
    "start_time": "2022-11-04T13:24:55.756Z"
   },
   {
    "duration": 255,
    "start_time": "2022-11-04T13:25:01.262Z"
   },
   {
    "duration": 184,
    "start_time": "2022-11-04T13:25:38.308Z"
   },
   {
    "duration": 218,
    "start_time": "2022-11-04T13:25:42.321Z"
   },
   {
    "duration": 377,
    "start_time": "2022-11-04T13:27:00.436Z"
   },
   {
    "duration": 16,
    "start_time": "2022-11-04T13:28:48.006Z"
   },
   {
    "duration": 4,
    "start_time": "2022-11-04T13:28:53.722Z"
   },
   {
    "duration": 43,
    "start_time": "2022-11-04T13:28:53.991Z"
   },
   {
    "duration": 8,
    "start_time": "2022-11-04T13:28:54.140Z"
   },
   {
    "duration": 13,
    "start_time": "2022-11-04T13:28:54.270Z"
   },
   {
    "duration": 9,
    "start_time": "2022-11-04T13:28:54.393Z"
   },
   {
    "duration": 4,
    "start_time": "2022-11-04T13:28:54.624Z"
   },
   {
    "duration": 5,
    "start_time": "2022-11-04T13:28:55.052Z"
   },
   {
    "duration": 8,
    "start_time": "2022-11-04T13:28:55.177Z"
   },
   {
    "duration": 292,
    "start_time": "2022-11-04T13:28:55.500Z"
   },
   {
    "duration": 17,
    "start_time": "2022-11-04T13:28:56.088Z"
   },
   {
    "duration": 239,
    "start_time": "2022-11-04T13:28:57.488Z"
   },
   {
    "duration": 18,
    "start_time": "2022-11-04T13:29:33.491Z"
   },
   {
    "duration": 16,
    "start_time": "2022-11-04T13:31:22.654Z"
   },
   {
    "duration": 7,
    "start_time": "2022-11-04T13:32:37.092Z"
   },
   {
    "duration": 18,
    "start_time": "2022-11-04T13:32:42.585Z"
   },
   {
    "duration": 166,
    "start_time": "2022-11-04T13:33:16.048Z"
   },
   {
    "duration": 12,
    "start_time": "2022-11-04T13:33:28.754Z"
   },
   {
    "duration": 326,
    "start_time": "2022-11-04T13:34:44.628Z"
   },
   {
    "duration": 336,
    "start_time": "2022-11-04T13:35:01.287Z"
   },
   {
    "duration": 29,
    "start_time": "2022-11-04T13:39:22.230Z"
   },
   {
    "duration": 28,
    "start_time": "2022-11-04T13:39:28.122Z"
   },
   {
    "duration": 4,
    "start_time": "2022-11-04T13:39:34.194Z"
   },
   {
    "duration": 56,
    "start_time": "2022-11-04T13:39:34.456Z"
   },
   {
    "duration": 8,
    "start_time": "2022-11-04T13:39:34.606Z"
   },
   {
    "duration": 12,
    "start_time": "2022-11-04T13:39:34.782Z"
   },
   {
    "duration": 8,
    "start_time": "2022-11-04T13:39:34.934Z"
   },
   {
    "duration": 4,
    "start_time": "2022-11-04T13:39:35.064Z"
   },
   {
    "duration": 5,
    "start_time": "2022-11-04T13:39:35.315Z"
   },
   {
    "duration": 12,
    "start_time": "2022-11-04T13:39:35.328Z"
   },
   {
    "duration": 375,
    "start_time": "2022-11-04T13:39:35.767Z"
   },
   {
    "duration": 9,
    "start_time": "2022-11-04T13:39:36.377Z"
   },
   {
    "duration": 156,
    "start_time": "2022-11-04T13:39:37.050Z"
   },
   {
    "duration": 28,
    "start_time": "2022-11-04T13:39:39.309Z"
   },
   {
    "duration": 29,
    "start_time": "2022-11-04T13:40:53.284Z"
   },
   {
    "duration": 207,
    "start_time": "2022-11-04T13:40:54.222Z"
   },
   {
    "duration": 170,
    "start_time": "2022-11-04T13:41:33.022Z"
   },
   {
    "duration": 32,
    "start_time": "2022-11-04T13:41:34.429Z"
   },
   {
    "duration": 248,
    "start_time": "2022-11-04T13:44:05.182Z"
   },
   {
    "duration": 21,
    "start_time": "2022-11-04T13:44:41.844Z"
   },
   {
    "duration": 17,
    "start_time": "2022-11-04T13:44:47.626Z"
   },
   {
    "duration": 242,
    "start_time": "2022-11-04T13:45:18.626Z"
   },
   {
    "duration": 197,
    "start_time": "2022-11-04T13:46:10.948Z"
   },
   {
    "duration": 178,
    "start_time": "2022-11-04T13:46:51.996Z"
   },
   {
    "duration": 219,
    "start_time": "2022-11-04T13:46:58.560Z"
   },
   {
    "duration": 18,
    "start_time": "2022-11-04T13:47:21.098Z"
   },
   {
    "duration": 19,
    "start_time": "2022-11-04T13:47:51.901Z"
   },
   {
    "duration": 199,
    "start_time": "2022-11-04T13:47:55.421Z"
   },
   {
    "duration": 22,
    "start_time": "2022-11-04T13:48:18.894Z"
   },
   {
    "duration": 185,
    "start_time": "2022-11-04T13:48:27.025Z"
   },
   {
    "duration": 22,
    "start_time": "2022-11-04T13:48:48.194Z"
   },
   {
    "duration": 201,
    "start_time": "2022-11-04T13:48:53.274Z"
   },
   {
    "duration": 1181,
    "start_time": "2022-11-04T13:53:45.669Z"
   },
   {
    "duration": 6,
    "start_time": "2022-11-04T13:54:12.308Z"
   },
   {
    "duration": 45,
    "start_time": "2022-11-04T13:54:12.622Z"
   },
   {
    "duration": 11,
    "start_time": "2022-11-04T13:54:12.798Z"
   },
   {
    "duration": 12,
    "start_time": "2022-11-04T13:54:12.937Z"
   },
   {
    "duration": 10,
    "start_time": "2022-11-04T13:54:13.045Z"
   },
   {
    "duration": 5,
    "start_time": "2022-11-04T13:54:13.234Z"
   },
   {
    "duration": 5,
    "start_time": "2022-11-04T13:54:13.310Z"
   },
   {
    "duration": 7,
    "start_time": "2022-11-04T13:54:13.455Z"
   },
   {
    "duration": 289,
    "start_time": "2022-11-04T13:54:13.573Z"
   },
   {
    "duration": 185,
    "start_time": "2022-11-04T13:54:14.467Z"
   },
   {
    "duration": 202,
    "start_time": "2022-11-04T13:54:15.322Z"
   },
   {
    "duration": 958,
    "start_time": "2022-11-04T13:54:15.765Z"
   },
   {
    "duration": 269,
    "start_time": "2022-11-04T13:54:31.228Z"
   },
   {
    "duration": 834,
    "start_time": "2022-11-04T13:54:32.695Z"
   },
   {
    "duration": 4,
    "start_time": "2022-11-04T13:55:04.333Z"
   },
   {
    "duration": 61,
    "start_time": "2022-11-04T13:55:04.339Z"
   },
   {
    "duration": 7,
    "start_time": "2022-11-04T13:55:04.402Z"
   },
   {
    "duration": 21,
    "start_time": "2022-11-04T13:55:04.411Z"
   },
   {
    "duration": 13,
    "start_time": "2022-11-04T13:55:04.433Z"
   },
   {
    "duration": 6,
    "start_time": "2022-11-04T13:55:04.447Z"
   },
   {
    "duration": 5,
    "start_time": "2022-11-04T13:55:04.455Z"
   },
   {
    "duration": 8,
    "start_time": "2022-11-04T13:55:04.462Z"
   },
   {
    "duration": 388,
    "start_time": "2022-11-04T13:55:04.471Z"
   },
   {
    "duration": 163,
    "start_time": "2022-11-04T13:55:04.860Z"
   },
   {
    "duration": 10,
    "start_time": "2022-11-04T13:55:08.393Z"
   },
   {
    "duration": 825,
    "start_time": "2022-11-04T13:55:09.201Z"
   },
   {
    "duration": 8,
    "start_time": "2022-11-04T13:56:16.406Z"
   },
   {
    "duration": 852,
    "start_time": "2022-11-04T13:56:17.063Z"
   },
   {
    "duration": 228,
    "start_time": "2022-11-04T13:56:22.739Z"
   },
   {
    "duration": 9,
    "start_time": "2022-11-04T13:56:41.247Z"
   },
   {
    "duration": 819,
    "start_time": "2022-11-04T13:56:41.703Z"
   },
   {
    "duration": 4,
    "start_time": "2022-11-04T13:56:53.922Z"
   },
   {
    "duration": 1161,
    "start_time": "2022-11-04T13:58:41.534Z"
   },
   {
    "duration": 9,
    "start_time": "2022-11-04T13:59:39.523Z"
   },
   {
    "duration": 1139,
    "start_time": "2022-11-04T13:59:41.026Z"
   },
   {
    "duration": 23,
    "start_time": "2022-11-04T14:00:09.152Z"
   },
   {
    "duration": 18,
    "start_time": "2022-11-04T14:00:20.949Z"
   },
   {
    "duration": 251,
    "start_time": "2022-11-04T14:01:11.267Z"
   },
   {
    "duration": 235,
    "start_time": "2022-11-04T14:01:30.169Z"
   },
   {
    "duration": 329,
    "start_time": "2022-11-04T14:01:41.258Z"
   },
   {
    "duration": 252,
    "start_time": "2022-11-04T14:01:55.602Z"
   },
   {
    "duration": 204,
    "start_time": "2022-11-04T14:03:10.322Z"
   },
   {
    "duration": 257,
    "start_time": "2022-11-04T14:03:28.636Z"
   },
   {
    "duration": 322,
    "start_time": "2022-11-04T14:03:56.156Z"
   },
   {
    "duration": 302,
    "start_time": "2022-11-04T14:04:16.523Z"
   },
   {
    "duration": 423,
    "start_time": "2022-11-04T14:04:32.740Z"
   },
   {
    "duration": 274,
    "start_time": "2022-11-04T14:04:40.430Z"
   },
   {
    "duration": 271,
    "start_time": "2022-11-04T14:05:30.278Z"
   },
   {
    "duration": 269,
    "start_time": "2022-11-04T14:05:38.879Z"
   },
   {
    "duration": 328,
    "start_time": "2022-11-04T14:05:46.960Z"
   },
   {
    "duration": 349,
    "start_time": "2022-11-04T14:06:12.610Z"
   },
   {
    "duration": 287,
    "start_time": "2022-11-04T14:06:30.291Z"
   },
   {
    "duration": 314,
    "start_time": "2022-11-04T14:06:45.665Z"
   },
   {
    "duration": 24,
    "start_time": "2022-11-04T14:11:38.240Z"
   },
   {
    "duration": 385,
    "start_time": "2022-11-04T14:11:41.839Z"
   },
   {
    "duration": 294,
    "start_time": "2022-11-04T14:23:25.532Z"
   },
   {
    "duration": 23,
    "start_time": "2022-11-04T14:36:02.353Z"
   },
   {
    "duration": 7,
    "start_time": "2022-11-04T14:36:08.529Z"
   },
   {
    "duration": 11,
    "start_time": "2022-11-04T14:36:08.718Z"
   },
   {
    "duration": 763,
    "start_time": "2022-11-04T14:36:08.825Z"
   },
   {
    "duration": 0,
    "start_time": "2022-11-04T14:36:09.592Z"
   },
   {
    "duration": 0,
    "start_time": "2022-11-04T14:36:09.593Z"
   },
   {
    "duration": 0,
    "start_time": "2022-11-04T14:36:09.595Z"
   },
   {
    "duration": 530,
    "start_time": "2022-11-04T14:36:09.599Z"
   },
   {
    "duration": 312,
    "start_time": "2022-11-04T14:36:10.131Z"
   },
   {
    "duration": 10,
    "start_time": "2022-11-04T14:36:10.737Z"
   },
   {
    "duration": 224,
    "start_time": "2022-11-04T14:36:22.118Z"
   },
   {
    "duration": 277,
    "start_time": "2022-11-04T14:36:31.700Z"
   },
   {
    "duration": 215,
    "start_time": "2022-11-04T14:37:25.631Z"
   },
   {
    "duration": 237,
    "start_time": "2022-11-04T14:37:32.425Z"
   },
   {
    "duration": 226,
    "start_time": "2022-11-04T14:37:38.185Z"
   },
   {
    "duration": 235,
    "start_time": "2022-11-04T14:37:44.141Z"
   },
   {
    "duration": 248,
    "start_time": "2022-11-04T14:37:51.126Z"
   },
   {
    "duration": 14,
    "start_time": "2022-11-04T14:40:50.471Z"
   },
   {
    "duration": 172,
    "start_time": "2022-11-04T14:41:19.826Z"
   },
   {
    "duration": 306,
    "start_time": "2022-11-04T14:41:30.244Z"
   },
   {
    "duration": 43,
    "start_time": "2022-11-04T14:41:44.875Z"
   },
   {
    "duration": 16,
    "start_time": "2022-11-04T14:41:48.805Z"
   },
   {
    "duration": 242,
    "start_time": "2022-11-04T14:41:52.945Z"
   },
   {
    "duration": 235,
    "start_time": "2022-11-04T14:41:57.771Z"
   },
   {
    "duration": 251,
    "start_time": "2022-11-04T14:42:11.923Z"
   },
   {
    "duration": 1583,
    "start_time": "2022-11-04T18:16:29.823Z"
   },
   {
    "duration": 141,
    "start_time": "2022-11-04T18:16:31.408Z"
   },
   {
    "duration": 9,
    "start_time": "2022-11-04T18:16:31.551Z"
   },
   {
    "duration": 11,
    "start_time": "2022-11-04T18:16:31.562Z"
   },
   {
    "duration": 10,
    "start_time": "2022-11-04T18:16:31.574Z"
   },
   {
    "duration": 4,
    "start_time": "2022-11-04T18:16:31.672Z"
   },
   {
    "duration": 4,
    "start_time": "2022-11-04T18:16:32.085Z"
   },
   {
    "duration": 9,
    "start_time": "2022-11-04T18:16:32.401Z"
   },
   {
    "duration": 340,
    "start_time": "2022-11-04T18:16:33.475Z"
   },
   {
    "duration": 291,
    "start_time": "2022-11-04T18:16:35.082Z"
   },
   {
    "duration": 150,
    "start_time": "2022-11-04T18:16:58.365Z"
   },
   {
    "duration": 8,
    "start_time": "2022-11-04T18:17:22.756Z"
   },
   {
    "duration": 1479,
    "start_time": "2022-11-04T18:19:27.509Z"
   },
   {
    "duration": 11,
    "start_time": "2022-11-04T18:19:58.818Z"
   },
   {
    "duration": 7,
    "start_time": "2022-11-04T18:20:19.799Z"
   },
   {
    "duration": 11,
    "start_time": "2022-11-04T18:20:31.097Z"
   },
   {
    "duration": 6,
    "start_time": "2022-11-04T18:20:34.958Z"
   },
   {
    "duration": 13,
    "start_time": "2022-11-04T18:21:00.819Z"
   },
   {
    "duration": 11,
    "start_time": "2022-11-04T18:21:04.248Z"
   },
   {
    "duration": 12,
    "start_time": "2022-11-04T18:21:55.872Z"
   },
   {
    "duration": 11,
    "start_time": "2022-11-04T18:21:59.712Z"
   },
   {
    "duration": 11,
    "start_time": "2022-11-04T18:22:06.295Z"
   },
   {
    "duration": 12,
    "start_time": "2022-11-04T18:22:44.145Z"
   },
   {
    "duration": 8,
    "start_time": "2022-11-04T18:23:47.842Z"
   },
   {
    "duration": 11,
    "start_time": "2022-11-04T18:23:58.777Z"
   },
   {
    "duration": 9,
    "start_time": "2022-11-04T18:24:09.020Z"
   },
   {
    "duration": 156,
    "start_time": "2022-11-04T18:26:33.871Z"
   },
   {
    "duration": 9,
    "start_time": "2022-11-04T18:27:30.594Z"
   },
   {
    "duration": 6,
    "start_time": "2022-11-04T18:27:53.255Z"
   },
   {
    "duration": 163,
    "start_time": "2022-11-04T18:28:52.244Z"
   },
   {
    "duration": 124,
    "start_time": "2022-11-04T18:30:00.912Z"
   },
   {
    "duration": 215,
    "start_time": "2022-11-04T18:30:21.718Z"
   },
   {
    "duration": 303,
    "start_time": "2022-11-04T18:30:28.259Z"
   },
   {
    "duration": 216,
    "start_time": "2022-11-04T18:30:29.941Z"
   },
   {
    "duration": 257,
    "start_time": "2022-11-04T18:30:42.006Z"
   },
   {
    "duration": 171,
    "start_time": "2022-11-04T18:30:58.645Z"
   },
   {
    "duration": 264,
    "start_time": "2022-11-04T18:31:11.695Z"
   },
   {
    "duration": 175,
    "start_time": "2022-11-04T18:35:00.086Z"
   },
   {
    "duration": 185,
    "start_time": "2022-11-04T18:35:17.235Z"
   },
   {
    "duration": 168,
    "start_time": "2022-11-04T18:35:23.599Z"
   },
   {
    "duration": 309,
    "start_time": "2022-11-04T18:35:43.559Z"
   },
   {
    "duration": 276,
    "start_time": "2022-11-04T18:35:52.796Z"
   },
   {
    "duration": 361,
    "start_time": "2022-11-04T19:35:22.618Z"
   },
   {
    "duration": 82,
    "start_time": "2022-11-05T18:50:27.067Z"
   },
   {
    "duration": 1706,
    "start_time": "2022-11-05T18:50:33.302Z"
   },
   {
    "duration": 113,
    "start_time": "2022-11-05T18:50:35.011Z"
   },
   {
    "duration": 12,
    "start_time": "2022-11-05T18:50:35.125Z"
   },
   {
    "duration": 15,
    "start_time": "2022-11-05T18:50:35.139Z"
   },
   {
    "duration": 9,
    "start_time": "2022-11-05T18:50:35.156Z"
   },
   {
    "duration": 11,
    "start_time": "2022-11-05T18:50:35.167Z"
   },
   {
    "duration": 7,
    "start_time": "2022-11-05T18:50:35.180Z"
   },
   {
    "duration": 19,
    "start_time": "2022-11-05T18:50:35.189Z"
   },
   {
    "duration": 427,
    "start_time": "2022-11-05T18:50:35.210Z"
   },
   {
    "duration": 382,
    "start_time": "2022-11-05T18:50:35.640Z"
   },
   {
    "duration": 225,
    "start_time": "2022-11-05T18:50:36.025Z"
   },
   {
    "duration": 17,
    "start_time": "2022-11-05T18:50:36.254Z"
   },
   {
    "duration": 186,
    "start_time": "2022-11-05T18:50:39.581Z"
   },
   {
    "duration": 3,
    "start_time": "2022-11-05T18:51:10.449Z"
   },
   {
    "duration": 83,
    "start_time": "2022-11-05T18:51:11.267Z"
   },
   {
    "duration": 26,
    "start_time": "2022-11-05T18:52:21.496Z"
   },
   {
    "duration": 20,
    "start_time": "2022-11-05T18:52:46.618Z"
   },
   {
    "duration": 20,
    "start_time": "2022-11-05T18:53:08.267Z"
   },
   {
    "duration": 24,
    "start_time": "2022-11-05T18:53:21.677Z"
   },
   {
    "duration": 23,
    "start_time": "2022-11-05T18:53:32.343Z"
   },
   {
    "duration": 21,
    "start_time": "2022-11-05T18:53:42.168Z"
   },
   {
    "duration": 10,
    "start_time": "2022-11-05T18:54:09.408Z"
   },
   {
    "duration": 39,
    "start_time": "2022-11-05T18:54:25.013Z"
   },
   {
    "duration": 40,
    "start_time": "2022-11-05T18:54:47.446Z"
   },
   {
    "duration": 31,
    "start_time": "2022-11-05T18:55:16.498Z"
   },
   {
    "duration": 30,
    "start_time": "2022-11-05T18:55:31.970Z"
   },
   {
    "duration": 13,
    "start_time": "2022-11-05T19:02:26.454Z"
   },
   {
    "duration": 4,
    "start_time": "2022-11-05T19:02:39.135Z"
   },
   {
    "duration": 19,
    "start_time": "2022-11-05T19:02:40.152Z"
   },
   {
    "duration": 11,
    "start_time": "2022-11-05T19:05:06.870Z"
   },
   {
    "duration": 10,
    "start_time": "2022-11-05T19:05:23.613Z"
   },
   {
    "duration": 56,
    "start_time": "2022-11-05T19:05:30.730Z"
   },
   {
    "duration": 13,
    "start_time": "2022-11-05T19:05:40.363Z"
   },
   {
    "duration": 64478,
    "start_time": "2022-11-05T19:06:37.447Z"
   },
   {
    "duration": 4,
    "start_time": "2022-11-05T19:08:27.720Z"
   },
   {
    "duration": 34,
    "start_time": "2022-11-05T19:10:11.006Z"
   },
   {
    "duration": 7975,
    "start_time": "2022-11-05T19:11:08.346Z"
   },
   {
    "duration": 43,
    "start_time": "2022-11-05T19:12:25.905Z"
   },
   {
    "duration": 8213,
    "start_time": "2022-11-05T19:12:31.896Z"
   },
   {
    "duration": 1807,
    "start_time": "2022-11-05T19:12:57.013Z"
   },
   {
    "duration": 9692,
    "start_time": "2022-11-05T19:13:17.515Z"
   },
   {
    "duration": 4,
    "start_time": "2022-11-05T19:13:53.794Z"
   },
   {
    "duration": 10179,
    "start_time": "2022-11-05T19:14:19.236Z"
   },
   {
    "duration": 6,
    "start_time": "2022-11-05T19:14:49.774Z"
   },
   {
    "duration": 4,
    "start_time": "2022-11-05T19:15:06.808Z"
   },
   {
    "duration": 5,
    "start_time": "2022-11-05T19:15:11.777Z"
   },
   {
    "duration": 9744,
    "start_time": "2022-11-05T19:15:26.432Z"
   },
   {
    "duration": 9784,
    "start_time": "2022-11-05T19:15:52.529Z"
   },
   {
    "duration": 4,
    "start_time": "2022-11-05T19:16:24.921Z"
   },
   {
    "duration": 32,
    "start_time": "2022-11-05T19:16:53.463Z"
   },
   {
    "duration": 33,
    "start_time": "2022-11-05T19:17:16.710Z"
   },
   {
    "duration": 3489,
    "start_time": "2022-11-05T19:18:51.903Z"
   },
   {
    "duration": 45,
    "start_time": "2022-11-05T19:19:13.044Z"
   },
   {
    "duration": 10,
    "start_time": "2022-11-05T19:19:16.777Z"
   },
   {
    "duration": 10,
    "start_time": "2022-11-05T19:19:25.428Z"
   },
   {
    "duration": 10,
    "start_time": "2022-11-05T19:19:39.493Z"
   },
   {
    "duration": 11,
    "start_time": "2022-11-05T19:21:03.227Z"
   },
   {
    "duration": 34,
    "start_time": "2022-11-05T19:21:10.001Z"
   },
   {
    "duration": 10025,
    "start_time": "2022-11-05T19:21:10.756Z"
   },
   {
    "duration": 68265,
    "start_time": "2022-11-05T19:21:20.783Z"
   },
   {
    "duration": 5,
    "start_time": "2022-11-05T19:22:29.049Z"
   },
   {
    "duration": 15,
    "start_time": "2022-11-05T19:22:29.056Z"
   },
   {
    "duration": 12,
    "start_time": "2022-11-05T19:22:38.194Z"
   },
   {
    "duration": 11,
    "start_time": "2022-11-05T19:23:06.597Z"
   },
   {
    "duration": 57,
    "start_time": "2022-11-05T19:23:49.911Z"
   },
   {
    "duration": 52,
    "start_time": "2022-11-05T19:24:07.475Z"
   },
   {
    "duration": 46,
    "start_time": "2022-11-05T19:24:17.958Z"
   },
   {
    "duration": 49,
    "start_time": "2022-11-05T19:24:26.234Z"
   },
   {
    "duration": 43,
    "start_time": "2022-11-05T19:24:34.849Z"
   },
   {
    "duration": 45,
    "start_time": "2022-11-05T19:24:41.814Z"
   },
   {
    "duration": 40,
    "start_time": "2022-11-05T19:24:55.593Z"
   },
   {
    "duration": 44,
    "start_time": "2022-11-05T19:25:01.543Z"
   },
   {
    "duration": 38,
    "start_time": "2022-11-05T19:25:23.765Z"
   },
   {
    "duration": 9824,
    "start_time": "2022-11-05T19:25:28.712Z"
   },
   {
    "duration": 10,
    "start_time": "2022-11-05T19:25:40.439Z"
   },
   {
    "duration": 12,
    "start_time": "2022-11-05T19:25:55.400Z"
   },
   {
    "duration": 11,
    "start_time": "2022-11-05T19:25:59.301Z"
   },
   {
    "duration": 2408,
    "start_time": "2022-11-05T19:26:02.317Z"
   },
   {
    "duration": 37,
    "start_time": "2022-11-05T19:26:04.727Z"
   },
   {
    "duration": 15,
    "start_time": "2022-11-05T19:26:04.766Z"
   },
   {
    "duration": 20,
    "start_time": "2022-11-05T19:29:52.360Z"
   },
   {
    "duration": 45,
    "start_time": "2022-11-05T19:29:54.816Z"
   },
   {
    "duration": 17,
    "start_time": "2022-11-05T19:30:03.959Z"
   },
   {
    "duration": 18,
    "start_time": "2022-11-05T19:30:23.065Z"
   },
   {
    "duration": 50,
    "start_time": "2022-11-05T19:30:24.324Z"
   },
   {
    "duration": 18924,
    "start_time": "2022-11-05T19:30:24.781Z"
   },
   {
    "duration": 121968,
    "start_time": "2022-11-05T19:30:43.708Z"
   },
   {
    "duration": 4,
    "start_time": "2022-11-05T19:32:45.678Z"
   },
   {
    "duration": 16,
    "start_time": "2022-11-05T19:32:45.685Z"
   },
   {
    "duration": 52,
    "start_time": "2022-11-05T19:32:45.703Z"
   },
   {
    "duration": 3933,
    "start_time": "2022-11-05T19:32:45.757Z"
   },
   {
    "duration": 51,
    "start_time": "2022-11-05T19:32:49.692Z"
   },
   {
    "duration": 11,
    "start_time": "2022-11-05T19:32:49.745Z"
   },
   {
    "duration": 28,
    "start_time": "2022-11-05T19:33:16.181Z"
   },
   {
    "duration": 439,
    "start_time": "2022-11-05T19:33:24.022Z"
   },
   {
    "duration": 16,
    "start_time": "2022-11-05T19:33:31.279Z"
   },
   {
    "duration": 4,
    "start_time": "2022-11-05T19:39:26.383Z"
   },
   {
    "duration": 1569,
    "start_time": "2022-11-05T19:40:39.613Z"
   },
   {
    "duration": 49,
    "start_time": "2022-11-05T19:40:41.184Z"
   },
   {
    "duration": 12,
    "start_time": "2022-11-05T19:40:41.234Z"
   },
   {
    "duration": 24,
    "start_time": "2022-11-05T19:40:41.248Z"
   },
   {
    "duration": 14,
    "start_time": "2022-11-05T19:40:41.274Z"
   },
   {
    "duration": 16,
    "start_time": "2022-11-05T19:40:41.290Z"
   },
   {
    "duration": 12,
    "start_time": "2022-11-05T19:40:41.309Z"
   },
   {
    "duration": 29,
    "start_time": "2022-11-05T19:40:41.324Z"
   },
   {
    "duration": 489,
    "start_time": "2022-11-05T19:40:41.356Z"
   },
   {
    "duration": 321,
    "start_time": "2022-11-05T19:40:41.849Z"
   },
   {
    "duration": 219,
    "start_time": "2022-11-05T19:40:42.172Z"
   },
   {
    "duration": 137,
    "start_time": "2022-11-05T19:40:42.394Z"
   },
   {
    "duration": 1033,
    "start_time": "2022-11-05T19:40:42.533Z"
   },
   {
    "duration": 29919,
    "start_time": "2022-11-05T19:40:43.569Z"
   },
   {
    "duration": 230927,
    "start_time": "2022-11-05T19:41:13.490Z"
   },
   {
    "duration": 4,
    "start_time": "2022-11-05T19:45:04.419Z"
   },
   {
    "duration": 22,
    "start_time": "2022-11-05T19:45:04.424Z"
   },
   {
    "duration": 110,
    "start_time": "2022-11-05T19:45:04.448Z"
   },
   {
    "duration": 7373,
    "start_time": "2022-11-05T19:45:04.560Z"
   },
   {
    "duration": 52,
    "start_time": "2022-11-05T19:45:11.935Z"
   },
   {
    "duration": 11,
    "start_time": "2022-11-05T19:45:11.988Z"
   },
   {
    "duration": 2051,
    "start_time": "2022-11-05T19:49:19.856Z"
   },
   {
    "duration": 1493,
    "start_time": "2022-11-05T19:49:33.819Z"
   },
   {
    "duration": 50,
    "start_time": "2022-11-05T19:49:35.314Z"
   },
   {
    "duration": 16,
    "start_time": "2022-11-05T19:49:35.365Z"
   },
   {
    "duration": 30,
    "start_time": "2022-11-05T19:49:35.383Z"
   },
   {
    "duration": 14,
    "start_time": "2022-11-05T19:49:35.415Z"
   },
   {
    "duration": 19,
    "start_time": "2022-11-05T19:49:35.430Z"
   },
   {
    "duration": 34,
    "start_time": "2022-11-05T19:49:35.451Z"
   },
   {
    "duration": 43,
    "start_time": "2022-11-05T19:49:35.487Z"
   },
   {
    "duration": 433,
    "start_time": "2022-11-05T19:49:35.532Z"
   },
   {
    "duration": 296,
    "start_time": "2022-11-05T19:49:35.968Z"
   },
   {
    "duration": 204,
    "start_time": "2022-11-05T19:49:36.265Z"
   },
   {
    "duration": 126,
    "start_time": "2022-11-05T19:49:36.470Z"
   },
   {
    "duration": 370,
    "start_time": "2022-11-05T19:49:36.598Z"
   },
   {
    "duration": 28510,
    "start_time": "2022-11-05T19:49:37.056Z"
   },
   {
    "duration": 243366,
    "start_time": "2022-11-05T19:50:05.568Z"
   },
   {
    "duration": 4,
    "start_time": "2022-11-05T19:54:08.936Z"
   },
   {
    "duration": 21,
    "start_time": "2022-11-05T19:54:08.942Z"
   },
   {
    "duration": 89,
    "start_time": "2022-11-05T19:54:08.965Z"
   },
   {
    "duration": 7777,
    "start_time": "2022-11-05T19:54:09.056Z"
   },
   {
    "duration": 52,
    "start_time": "2022-11-05T19:54:16.835Z"
   },
   {
    "duration": 10,
    "start_time": "2022-11-05T19:54:16.889Z"
   }
  ],
  "kernelspec": {
   "display_name": "Python 3 (ipykernel)",
   "language": "python",
   "name": "python3"
  },
  "language_info": {
   "codemirror_mode": {
    "name": "ipython",
    "version": 3
   },
   "file_extension": ".py",
   "mimetype": "text/x-python",
   "name": "python",
   "nbconvert_exporter": "python",
   "pygments_lexer": "ipython3",
   "version": "3.9.13"
  },
  "toc": {
   "base_numbering": 1,
   "nav_menu": {},
   "number_sections": true,
   "sideBar": true,
   "skip_h1_title": true,
   "title_cell": "Содержание",
   "title_sidebar": "Contents",
   "toc_cell": true,
   "toc_position": {
    "height": "calc(100% - 180px)",
    "left": "10px",
    "top": "150px",
    "width": "165px"
   },
   "toc_section_display": true,
   "toc_window_display": true
  }
 },
 "nbformat": 4,
 "nbformat_minor": 2
}
