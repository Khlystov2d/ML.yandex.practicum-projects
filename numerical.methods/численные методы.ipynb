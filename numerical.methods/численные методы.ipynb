{
 "cells": [
  {
   "cell_type": "markdown",
   "metadata": {},
   "source": [
    "# Определение стоимости автомобилей"
   ]
  },
  {
   "cell_type": "markdown",
   "metadata": {},
   "source": [
    "Сервис по продаже автомобилей с пробегом «Не бит, не крашен» разрабатывает приложение для привлечения новых клиентов. В нём можно быстро узнать рыночную стоимость своего автомобиля. В вашем распоряжении исторические данные: технические характеристики, комплектации и цены автомобилей. Вам нужно построить модель для определения стоимости. \n",
    "\n",
    "Заказчику важны:\n",
    "\n",
    "- качество предсказания;\n",
    "- скорость предсказания;\n",
    "- время обучения."
   ]
  },
  {
   "cell_type": "markdown",
   "metadata": {},
   "source": [
    "**План работы:**\n",
    "1. Подготовка данных(Обработка пропусков, Обработка аномальных значений, подготовка данных к обучению моделей)\n",
    "2. Обучение моделей\n",
    "3. Анализ моделей и выбор лучшей"
   ]
  },
  {
   "cell_type": "markdown",
   "metadata": {},
   "source": [
    "**Мы имеем:**\n",
    "\n",
    "\n",
    "Исторические данные с техническими характеристиками и ценой авто на вторичном рынке"
   ]
  },
  {
   "cell_type": "markdown",
   "metadata": {},
   "source": [
    "**Требуется:**\n",
    "\n",
    "Построить модель для предсказания цены. Заказчику важны - качество предсказания, скорость предсказания, время обучения"
   ]
  },
  {
   "cell_type": "markdown",
   "metadata": {},
   "source": [
    "**Описание данных:**\n",
    "\n",
    "**Признаки:**\n",
    "- DateCrawled — дата скачивания анкеты из базы\n",
    "- VehicleType — тип автомобильного кузова\n",
    "- RegistrationYear — год регистрации автомобиля\n",
    "- Gearbox — тип коробки передач\n",
    "- Power — мощность (л. с.)\n",
    "- Model — модель автомобиля\n",
    "- Kilometer — пробег (км)\n",
    "- RegistrationMonth — месяц регистрации автомобиля\n",
    "- FuelType — тип топлива\n",
    "- Brand — марка автомобиля\n",
    "- NotRepaired — была машина в ремонте или нет\n",
    "- DateCreated — дата создания анкеты\n",
    "- NumberOfPictures — количество фотографий автомобиля\n",
    "- PostalCode — почтовый индекс владельца анкеты (пользователя)\n",
    "- LastSeen — дата последней активности пользователя\n",
    "\n",
    "**Целевой признак:**\n",
    "- Price — цена (евро)"
   ]
  },
  {
   "cell_type": "markdown",
   "metadata": {},
   "source": [
    "## Подготовка данных"
   ]
  },
  {
   "cell_type": "code",
   "execution_count": 1,
   "metadata": {},
   "outputs": [],
   "source": [
    "import pandas as pd\n",
    "import numpy as np\n",
    "import matplotlib.pyplot as plt\n",
    "import datetime\n",
    "from sklearn.model_selection import train_test_split\n",
    "from sklearn.metrics import mean_squared_error\n",
    "from sklearn.linear_model import LinearRegression\n",
    "from sklearn.model_selection import cross_val_score\n",
    "from lightgbm import LGBMRegressor\n",
    "from sklearn.model_selection import GridSearchCV\n",
    "from sklearn.model_selection import RandomizedSearchCV\n",
    "from catboost import CatBoostRegressor\n",
    "from sklearn.model_selection import cross_val_score\n",
    "from sklearn.preprocessing import StandardScaler\n",
    "\n",
    "rs = 42 # random_state"
   ]
  },
  {
   "cell_type": "code",
   "execution_count": 2,
   "metadata": {},
   "outputs": [],
   "source": [
    "df = pd.read_csv('/datasets/autos.csv')"
   ]
  },
  {
   "cell_type": "code",
   "execution_count": 3,
   "metadata": {},
   "outputs": [
    {
     "data": {
      "text/html": [
       "<div>\n",
       "<style scoped>\n",
       "    .dataframe tbody tr th:only-of-type {\n",
       "        vertical-align: middle;\n",
       "    }\n",
       "\n",
       "    .dataframe tbody tr th {\n",
       "        vertical-align: top;\n",
       "    }\n",
       "\n",
       "    .dataframe thead th {\n",
       "        text-align: right;\n",
       "    }\n",
       "</style>\n",
       "<table border=\"1\" class=\"dataframe\">\n",
       "  <thead>\n",
       "    <tr style=\"text-align: right;\">\n",
       "      <th></th>\n",
       "      <th>DateCrawled</th>\n",
       "      <th>Price</th>\n",
       "      <th>VehicleType</th>\n",
       "      <th>RegistrationYear</th>\n",
       "      <th>Gearbox</th>\n",
       "      <th>Power</th>\n",
       "      <th>Model</th>\n",
       "      <th>Kilometer</th>\n",
       "      <th>RegistrationMonth</th>\n",
       "      <th>FuelType</th>\n",
       "      <th>Brand</th>\n",
       "      <th>NotRepaired</th>\n",
       "      <th>DateCreated</th>\n",
       "      <th>NumberOfPictures</th>\n",
       "      <th>PostalCode</th>\n",
       "      <th>LastSeen</th>\n",
       "    </tr>\n",
       "  </thead>\n",
       "  <tbody>\n",
       "    <tr>\n",
       "      <th>0</th>\n",
       "      <td>2016-03-24 11:52:17</td>\n",
       "      <td>480</td>\n",
       "      <td>NaN</td>\n",
       "      <td>1993</td>\n",
       "      <td>manual</td>\n",
       "      <td>0</td>\n",
       "      <td>golf</td>\n",
       "      <td>150000</td>\n",
       "      <td>0</td>\n",
       "      <td>petrol</td>\n",
       "      <td>volkswagen</td>\n",
       "      <td>NaN</td>\n",
       "      <td>2016-03-24 00:00:00</td>\n",
       "      <td>0</td>\n",
       "      <td>70435</td>\n",
       "      <td>2016-04-07 03:16:57</td>\n",
       "    </tr>\n",
       "    <tr>\n",
       "      <th>1</th>\n",
       "      <td>2016-03-24 10:58:45</td>\n",
       "      <td>18300</td>\n",
       "      <td>coupe</td>\n",
       "      <td>2011</td>\n",
       "      <td>manual</td>\n",
       "      <td>190</td>\n",
       "      <td>NaN</td>\n",
       "      <td>125000</td>\n",
       "      <td>5</td>\n",
       "      <td>gasoline</td>\n",
       "      <td>audi</td>\n",
       "      <td>yes</td>\n",
       "      <td>2016-03-24 00:00:00</td>\n",
       "      <td>0</td>\n",
       "      <td>66954</td>\n",
       "      <td>2016-04-07 01:46:50</td>\n",
       "    </tr>\n",
       "    <tr>\n",
       "      <th>2</th>\n",
       "      <td>2016-03-14 12:52:21</td>\n",
       "      <td>9800</td>\n",
       "      <td>suv</td>\n",
       "      <td>2004</td>\n",
       "      <td>auto</td>\n",
       "      <td>163</td>\n",
       "      <td>grand</td>\n",
       "      <td>125000</td>\n",
       "      <td>8</td>\n",
       "      <td>gasoline</td>\n",
       "      <td>jeep</td>\n",
       "      <td>NaN</td>\n",
       "      <td>2016-03-14 00:00:00</td>\n",
       "      <td>0</td>\n",
       "      <td>90480</td>\n",
       "      <td>2016-04-05 12:47:46</td>\n",
       "    </tr>\n",
       "    <tr>\n",
       "      <th>3</th>\n",
       "      <td>2016-03-17 16:54:04</td>\n",
       "      <td>1500</td>\n",
       "      <td>small</td>\n",
       "      <td>2001</td>\n",
       "      <td>manual</td>\n",
       "      <td>75</td>\n",
       "      <td>golf</td>\n",
       "      <td>150000</td>\n",
       "      <td>6</td>\n",
       "      <td>petrol</td>\n",
       "      <td>volkswagen</td>\n",
       "      <td>no</td>\n",
       "      <td>2016-03-17 00:00:00</td>\n",
       "      <td>0</td>\n",
       "      <td>91074</td>\n",
       "      <td>2016-03-17 17:40:17</td>\n",
       "    </tr>\n",
       "    <tr>\n",
       "      <th>4</th>\n",
       "      <td>2016-03-31 17:25:20</td>\n",
       "      <td>3600</td>\n",
       "      <td>small</td>\n",
       "      <td>2008</td>\n",
       "      <td>manual</td>\n",
       "      <td>69</td>\n",
       "      <td>fabia</td>\n",
       "      <td>90000</td>\n",
       "      <td>7</td>\n",
       "      <td>gasoline</td>\n",
       "      <td>skoda</td>\n",
       "      <td>no</td>\n",
       "      <td>2016-03-31 00:00:00</td>\n",
       "      <td>0</td>\n",
       "      <td>60437</td>\n",
       "      <td>2016-04-06 10:17:21</td>\n",
       "    </tr>\n",
       "  </tbody>\n",
       "</table>\n",
       "</div>"
      ],
      "text/plain": [
       "           DateCrawled  Price VehicleType  RegistrationYear Gearbox  Power  \\\n",
       "0  2016-03-24 11:52:17    480         NaN              1993  manual      0   \n",
       "1  2016-03-24 10:58:45  18300       coupe              2011  manual    190   \n",
       "2  2016-03-14 12:52:21   9800         suv              2004    auto    163   \n",
       "3  2016-03-17 16:54:04   1500       small              2001  manual     75   \n",
       "4  2016-03-31 17:25:20   3600       small              2008  manual     69   \n",
       "\n",
       "   Model  Kilometer  RegistrationMonth  FuelType       Brand NotRepaired  \\\n",
       "0   golf     150000                  0    petrol  volkswagen         NaN   \n",
       "1    NaN     125000                  5  gasoline        audi         yes   \n",
       "2  grand     125000                  8  gasoline        jeep         NaN   \n",
       "3   golf     150000                  6    petrol  volkswagen          no   \n",
       "4  fabia      90000                  7  gasoline       skoda          no   \n",
       "\n",
       "           DateCreated  NumberOfPictures  PostalCode             LastSeen  \n",
       "0  2016-03-24 00:00:00                 0       70435  2016-04-07 03:16:57  \n",
       "1  2016-03-24 00:00:00                 0       66954  2016-04-07 01:46:50  \n",
       "2  2016-03-14 00:00:00                 0       90480  2016-04-05 12:47:46  \n",
       "3  2016-03-17 00:00:00                 0       91074  2016-03-17 17:40:17  \n",
       "4  2016-03-31 00:00:00                 0       60437  2016-04-06 10:17:21  "
      ]
     },
     "execution_count": 3,
     "metadata": {},
     "output_type": "execute_result"
    }
   ],
   "source": [
    "df.head()"
   ]
  },
  {
   "cell_type": "code",
   "execution_count": 4,
   "metadata": {},
   "outputs": [],
   "source": [
    "def camel_to_snake(str, sep='_'): #преобразование столбцов в змеиный регистр\n",
    "    snake_register = ''\n",
    "    for i in str:\n",
    "        if i.isupper():\n",
    "            snake_register += sep + i.lower()\n",
    "        else:\n",
    "            snake_register += i\n",
    "    return snake_register.lstrip(sep)\n",
    "col = []\n",
    "for i in df.columns:\n",
    "    col.append(camel_to_snake(i))\n",
    "df.columns = col"
   ]
  },
  {
   "cell_type": "markdown",
   "metadata": {},
   "source": [
    "**Столбцы со следующей информацией:**\n",
    "1. дата скачивания анкеты из базы\n",
    "2. почтовый индекс владельца анкеты (так как у нас нет информции по регионам)\n",
    "3. количество фотографий автомобиля\n",
    "4. последняя активность пользователя\n",
    "**Не имеют ценности для моделей. Их проще удалить**"
   ]
  },
  {
   "cell_type": "code",
   "execution_count": 5,
   "metadata": {},
   "outputs": [],
   "source": [
    "fordrop = ['date_crawled', 'number_of_pictures', 'postal_code', 'last_seen'] #Неинформативные столбцы\n",
    "df = df.drop(fordrop, axis = 1)"
   ]
  },
  {
   "cell_type": "markdown",
   "metadata": {},
   "source": [
    "**Точная дата создания объявления не нужна. Вполне хватит месяца и года**"
   ]
  },
  {
   "cell_type": "code",
   "execution_count": 6,
   "metadata": {},
   "outputs": [],
   "source": [
    "df['year_created'] = pd.to_datetime(df['date_created'], format=\"%Y-%m-%dT%H:%M:%S\").dt.year\n",
    "df['month_created'] = pd.to_datetime(df['date_created'], format=\"%Y-%m-%dT%H:%M:%S\").dt.month\n",
    "df = df.drop('date_created', axis = 1)"
   ]
  },
  {
   "cell_type": "code",
   "execution_count": 7,
   "metadata": {},
   "outputs": [
    {
     "name": "stdout",
     "output_type": "stream",
     "text": [
      "<class 'pandas.core.frame.DataFrame'>\n",
      "RangeIndex: 354369 entries, 0 to 354368\n",
      "Data columns (total 13 columns):\n",
      " #   Column              Non-Null Count   Dtype \n",
      "---  ------              --------------   ----- \n",
      " 0   price               354369 non-null  int64 \n",
      " 1   vehicle_type        316879 non-null  object\n",
      " 2   registration_year   354369 non-null  int64 \n",
      " 3   gearbox             334536 non-null  object\n",
      " 4   power               354369 non-null  int64 \n",
      " 5   model               334664 non-null  object\n",
      " 6   kilometer           354369 non-null  int64 \n",
      " 7   registration_month  354369 non-null  int64 \n",
      " 8   fuel_type           321474 non-null  object\n",
      " 9   brand               354369 non-null  object\n",
      " 10  not_repaired        283215 non-null  object\n",
      " 11  year_created        354369 non-null  int64 \n",
      " 12  month_created       354369 non-null  int64 \n",
      "dtypes: int64(7), object(6)\n",
      "memory usage: 35.1+ MB\n"
     ]
    }
   ],
   "source": [
    "df.info()"
   ]
  },
  {
   "cell_type": "markdown",
   "metadata": {},
   "source": [
    "**Так как нет возможности заполнить пропуски - заменим их константным значением \"unknown\"**"
   ]
  },
  {
   "cell_type": "code",
   "execution_count": 8,
   "metadata": {},
   "outputs": [],
   "source": [
    "df = df.fillna('unknown')"
   ]
  },
  {
   "cell_type": "markdown",
   "metadata": {},
   "source": [
    "**Уберем редкие признаки**"
   ]
  },
  {
   "cell_type": "code",
   "execution_count": 9,
   "metadata": {
    "scrolled": false
   },
   "outputs": [
    {
     "data": {
      "image/png": "[encoded data removed]",
      "text/plain": [
       "<Figure size 432x288 with 1 Axes>"
      ]
     },
     "metadata": {
      "needs_background": "light"
     },
     "output_type": "display_data"
    },
    {
     "data": {
      "image/png": "[encoded data removed]",
      "text/plain": [
       "<Figure size 432x288 with 1 Axes>"
      ]
     },
     "metadata": {
      "needs_background": "light"
     },
     "output_type": "display_data"
    },
    {
     "data": {
      "image/png": "[encoded data removed]",
      "text/plain": [
       "<Figure size 432x288 with 1 Axes>"
      ]
     },
     "metadata": {
      "needs_background": "light"
     },
     "output_type": "display_data"
    },
    {
     "data": {
      "image/png": "[encoded data removed]",
      "text/plain": [
       "<Figure size 432x288 with 1 Axes>"
      ]
     },
     "metadata": {
      "needs_background": "light"
     },
     "output_type": "display_data"
    }
   ],
   "source": [
    "for i in ['price', 'registration_year', 'power', 'kilometer']:\n",
    "    df.boxplot(i)\n",
    "    \n",
    "    plt.show()"
   ]
  },
  {
   "cell_type": "code",
   "execution_count": 10,
   "metadata": {},
   "outputs": [
    {
     "data": {
      "image/png": "[encoded data removed]",
      "text/plain": [
       "<Figure size 432x288 with 1 Axes>"
      ]
     },
     "metadata": {
      "needs_background": "light"
     },
     "output_type": "display_data"
    }
   ],
   "source": [
    "df.boxplot('power')# без лимитов не видно\n",
    "plt.ylim(0, 800)\n",
    "plt.show()"
   ]
  },
  {
   "cell_type": "code",
   "execution_count": 11,
   "metadata": {},
   "outputs": [
    {
     "data": {
      "image/png": "[encoded data removed]",
      "text/plain": [
       "<Figure size 432x288 with 1 Axes>"
      ]
     },
     "metadata": {
      "needs_background": "light"
     },
     "output_type": "display_data"
    }
   ],
   "source": [
    "df.boxplot('registration_year')# без лимитов не видно \n",
    "plt.ylim(1960, 2016)\n",
    "plt.show()"
   ]
  },
  {
   "cell_type": "code",
   "execution_count": 12,
   "metadata": {},
   "outputs": [],
   "source": [
    "df = df.loc[(df['price'] < 15500)&(df['price'] > 500)]\n",
    "df = df.loc[(df['registration_year'] > 1982)&(df['registration_year'] < 2016)]\n",
    "df = df.loc[(df['power'] < 300)&(df['power'] > 30)]\n",
    "df = df.loc[df['kilometer'] > 80000]"
   ]
  },
  {
   "cell_type": "code",
   "execution_count": 13,
   "metadata": {},
   "outputs": [],
   "source": [
    "df = df.reset_index(drop = True)"
   ]
  },
  {
   "cell_type": "code",
   "execution_count": 14,
   "metadata": {
    "scrolled": false
   },
   "outputs": [
    {
     "name": "stdout",
     "output_type": "stream",
     "text": [
      "<class 'pandas.core.frame.DataFrame'>\n",
      "RangeIndex: 216546 entries, 0 to 216545\n",
      "Data columns (total 13 columns):\n",
      " #   Column              Non-Null Count   Dtype \n",
      "---  ------              --------------   ----- \n",
      " 0   price               216546 non-null  int64 \n",
      " 1   vehicle_type        216546 non-null  object\n",
      " 2   registration_year   216546 non-null  int64 \n",
      " 3   gearbox             216546 non-null  object\n",
      " 4   power               216546 non-null  int64 \n",
      " 5   model               216546 non-null  object\n",
      " 6   kilometer           216546 non-null  int64 \n",
      " 7   registration_month  216546 non-null  int64 \n",
      " 8   fuel_type           216546 non-null  object\n",
      " 9   brand               216546 non-null  object\n",
      " 10  not_repaired        216546 non-null  object\n",
      " 11  year_created        216546 non-null  int64 \n",
      " 12  month_created       216546 non-null  int64 \n",
      "dtypes: int64(7), object(6)\n",
      "memory usage: 21.5+ MB\n"
     ]
    }
   ],
   "source": [
    "df.info()"
   ]
  },
  {
   "cell_type": "markdown",
   "metadata": {},
   "source": [
    "**Подготовим таблицу к обучению моделей**"
   ]
  },
  {
   "cell_type": "code",
   "execution_count": 15,
   "metadata": {},
   "outputs": [],
   "source": [
    "#df = pd.get_dummies(df)\n",
    "from sklearn.preprocessing import OrdinalEncoder\n",
    "categories = ['vehicle_type', 'gearbox', 'model', 'fuel_type', 'brand', 'not_repaired']\n",
    "enc = OrdinalEncoder()\n",
    "enc.fit(df[categories])\n",
    "df[categories] = enc.transform(df[categories])"
   ]
  },
  {
   "cell_type": "markdown",
   "metadata": {},
   "source": [
    "**Разделим на таргеты и фичи и так же на тренировочную и тестовую выборки**"
   ]
  },
  {
   "cell_type": "code",
   "execution_count": 16,
   "metadata": {},
   "outputs": [],
   "source": [
    "target = df['price']\n",
    "features = df.drop('price', axis = 1)\n",
    "features_train, features_test, target_train, target_test = train_test_split(\n",
    "    features, target, test_size=0.25, random_state=rs)"
   ]
  },
  {
   "cell_type": "markdown",
   "metadata": {},
   "source": [
    "**И проведем масштабирование количественных признаков**"
   ]
  },
  {
   "cell_type": "code",
   "execution_count": 17,
   "metadata": {},
   "outputs": [
    {
     "name": "stderr",
     "output_type": "stream",
     "text": [
      "/tmp/ipykernel_435/843301306.py:4: SettingWithCopyWarning: \n",
      "A value is trying to be set on a copy of a slice from a DataFrame.\n",
      "Try using .loc[row_indexer,col_indexer] = value instead\n",
      "\n",
      "See the caveats in the documentation: https://pandas.pydata.org/pandas-docs/stable/user_guide/indexing.html#returning-a-view-versus-a-copy\n",
      "  features_train[scal_columns] = scaler.transform(features_train[scal_columns])\n",
      "/opt/conda/lib/python3.9/site-packages/pandas/core/indexing.py:1738: SettingWithCopyWarning: \n",
      "A value is trying to be set on a copy of a slice from a DataFrame.\n",
      "Try using .loc[row_indexer,col_indexer] = value instead\n",
      "\n",
      "See the caveats in the documentation: https://pandas.pydata.org/pandas-docs/stable/user_guide/indexing.html#returning-a-view-versus-a-copy\n",
      "  self._setitem_single_column(loc, value[:, i].tolist(), pi)\n",
      "/tmp/ipykernel_435/843301306.py:5: SettingWithCopyWarning: \n",
      "A value is trying to be set on a copy of a slice from a DataFrame.\n",
      "Try using .loc[row_indexer,col_indexer] = value instead\n",
      "\n",
      "See the caveats in the documentation: https://pandas.pydata.org/pandas-docs/stable/user_guide/indexing.html#returning-a-view-versus-a-copy\n",
      "  features_test[scal_columns] = scaler.transform(features_test[scal_columns])\n",
      "/opt/conda/lib/python3.9/site-packages/pandas/core/indexing.py:1738: SettingWithCopyWarning: \n",
      "A value is trying to be set on a copy of a slice from a DataFrame.\n",
      "Try using .loc[row_indexer,col_indexer] = value instead\n",
      "\n",
      "See the caveats in the documentation: https://pandas.pydata.org/pandas-docs/stable/user_guide/indexing.html#returning-a-view-versus-a-copy\n",
      "  self._setitem_single_column(loc, value[:, i].tolist(), pi)\n"
     ]
    }
   ],
   "source": [
    "scal_columns = ['power', 'kilometer', 'year_created', 'registration_year']\n",
    "scaler = StandardScaler()\n",
    "scaler.fit(features_train[scal_columns])\n",
    "features_train[scal_columns] = scaler.transform(features_train[scal_columns])\n",
    "features_test[scal_columns] = scaler.transform(features_test[scal_columns])"
   ]
  },
  {
   "cell_type": "markdown",
   "metadata": {},
   "source": [
    "## Обучение моделей"
   ]
  },
  {
   "cell_type": "markdown",
   "metadata": {},
   "source": [
    "**LGBMRegressor через random search**"
   ]
  },
  {
   "cell_type": "code",
   "execution_count": 18,
   "metadata": {
    "scrolled": true
   },
   "outputs": [
    {
     "name": "stdout",
     "output_type": "stream",
     "text": [
      "Fitting 3 folds for each of 10 candidates, totalling 30 fits\n",
      "[CV] END .....................max_depth=50, n_estimators=144; total time= 7.9min\n",
      "[CV] END .....................max_depth=50, n_estimators=144; total time= 7.7min\n",
      "[CV] END .....................max_depth=50, n_estimators=144; total time=10.0min\n",
      "[CV] END .....................max_depth=50, n_estimators=177; total time=12.1min\n",
      "[CV] END .....................max_depth=50, n_estimators=177; total time=12.0min\n",
      "[CV] END .....................max_depth=50, n_estimators=177; total time= 9.5min\n",
      "[CV] END .....................max_depth=10, n_estimators=144; total time= 7.5min\n",
      "[CV] END .....................max_depth=10, n_estimators=144; total time= 9.5min\n",
      "[CV] END .....................max_depth=10, n_estimators=144; total time= 7.4min\n",
      "[CV] END .....................max_depth=60, n_estimators=155; total time= 8.4min\n",
      "[CV] END .....................max_depth=60, n_estimators=155; total time= 8.3min\n",
      "[CV] END .....................max_depth=60, n_estimators=155; total time= 8.5min\n",
      "[CV] END .....................max_depth=30, n_estimators=166; total time= 9.0min\n",
      "[CV] END .....................max_depth=30, n_estimators=166; total time=10.7min\n",
      "[CV] END .....................max_depth=30, n_estimators=166; total time=10.6min\n",
      "[CV] END .....................max_depth=70, n_estimators=144; total time=10.1min\n",
      "[CV] END .....................max_depth=70, n_estimators=144; total time= 8.0min\n",
      "[CV] END .....................max_depth=70, n_estimators=144; total time= 8.0min\n",
      "[CV] END .....................max_depth=80, n_estimators=133; total time= 9.3min\n",
      "[CV] END .....................max_depth=80, n_estimators=133; total time= 9.1min\n",
      "[CV] END .....................max_depth=80, n_estimators=133; total time= 7.2min\n",
      "[CV] END .....................max_depth=20, n_estimators=100; total time= 7.0min\n",
      "[CV] END .....................max_depth=20, n_estimators=100; total time= 5.6min\n",
      "[CV] END .....................max_depth=20, n_estimators=100; total time= 5.5min\n",
      "[CV] END .....................max_depth=50, n_estimators=100; total time= 5.3min\n",
      "[CV] END .....................max_depth=50, n_estimators=100; total time= 5.6min\n",
      "[CV] END .....................max_depth=50, n_estimators=100; total time= 5.4min\n",
      "[CV] END ....................max_depth=110, n_estimators=177; total time= 9.6min\n",
      "[CV] END ....................max_depth=110, n_estimators=177; total time= 9.6min\n",
      "[CV] END ....................max_depth=110, n_estimators=177; total time= 9.4min\n"
     ]
    },
    {
     "data": {
      "text/plain": [
       "RandomizedSearchCV(cv=3, estimator=LGBMRegressor(random_state=42), n_jobs=-1,\n",
       "                   param_distributions={'max_depth': [10, 20, 30, 40, 50, 60,\n",
       "                                                      70, 80, 90, 100, 110,\n",
       "                                                      120],\n",
       "                                        'n_estimators': [100, 111, 122, 133,\n",
       "                                                         144, 155, 166, 177,\n",
       "                                                         188, 200]},\n",
       "                   random_state=42, scoring='neg_mean_squared_error',\n",
       "                   verbose=2)"
      ]
     },
     "execution_count": 18,
     "metadata": {},
     "output_type": "execute_result"
    }
   ],
   "source": [
    "model_LGBM = LGBMRegressor(random_state = rs)\n",
    "n_estimators = [int(x) for x in np.linspace(100, 200, num = 10)]\n",
    "max_depth = [int(x) for x in np.linspace(10, 120, num = 12)]\n",
    "random_grid = {'n_estimators': n_estimators, 'max_depth': max_depth}\n",
    "LGBM_random = RandomizedSearchCV(estimator = model_LGBM, param_distributions = random_grid,\n",
    "                                 cv = 3, verbose=2, random_state=rs, n_jobs = -1 , scoring = 'neg_mean_squared_error')\n",
    "LGBM_random.fit(features_train, target_train)"
   ]
  },
  {
   "cell_type": "code",
   "execution_count": 19,
   "metadata": {},
   "outputs": [
    {
     "name": "stdout",
     "output_type": "stream",
     "text": [
      "Лучшие параметры {'n_estimators': 177, 'max_depth': 50}\n",
      "Лучший результат 1327.370047131827\n"
     ]
    }
   ],
   "source": [
    "print('Лучшие параметры', LGBM_random.best_params_)\n",
    "print('Лучший результат', abs(LGBM_random.best_score_) ** 0.5)"
   ]
  },
  {
   "cell_type": "code",
   "execution_count": 20,
   "metadata": {},
   "outputs": [
    {
     "name": "stdout",
     "output_type": "stream",
     "text": [
      "CPU times: user 675 ms, sys: 7.44 ms, total: 683 ms\n",
      "Wall time: 690 ms\n"
     ]
    }
   ],
   "source": [
    "%%time\n",
    "pred_LGBM = LGBM_random.predict(features_test) #предсказание"
   ]
  },
  {
   "cell_type": "code",
   "execution_count": 21,
   "metadata": {},
   "outputs": [
    {
     "name": "stdout",
     "output_type": "stream",
     "text": [
      "RMSE =  1322.0962123289853\n"
     ]
    }
   ],
   "source": [
    "RMSE_LGBM = mean_squared_error(target_test, pred_LGBM, squared=False)\n",
    "print('RMSE = ', RMSE_LGBM)"
   ]
  },
  {
   "cell_type": "markdown",
   "metadata": {},
   "source": [
    "---"
   ]
  },
  {
   "cell_type": "markdown",
   "metadata": {},
   "source": [
    "**LinearRegression**"
   ]
  },
  {
   "cell_type": "code",
   "execution_count": 22,
   "metadata": {
    "scrolled": false
   },
   "outputs": [
    {
     "name": "stdout",
     "output_type": "stream",
     "text": [
      "средний RMSE методом cross_val_score длф linear regression 2148.1168661920565\n"
     ]
    }
   ],
   "source": [
    "model_LR = LinearRegression()\n",
    "RMSE_crossval  = cross_val_score(model_LR, features_train, target_train, cv=5, scoring = 'neg_mean_squared_error')\n",
    "mse_to_rmse = []\n",
    "for i in RMSE_crossval:\n",
    "    mse_to_rmse.append(abs(i) ** 0.5)\n",
    "mean_rmse_LR = np.mean(mse_to_rmse)\n",
    "print('средний RMSE методом cross_val_score длф linear regression', mean_rmse_LR)"
   ]
  },
  {
   "cell_type": "markdown",
   "metadata": {},
   "source": [
    "*LinearRegression на тестовой выборке*"
   ]
  },
  {
   "cell_type": "code",
   "execution_count": 23,
   "metadata": {},
   "outputs": [
    {
     "name": "stdout",
     "output_type": "stream",
     "text": [
      "CPU times: user 78.8 ms, sys: 39.1 ms, total: 118 ms\n",
      "Wall time: 124 ms\n"
     ]
    },
    {
     "data": {
      "text/plain": [
       "LinearRegression()"
      ]
     },
     "execution_count": 23,
     "metadata": {},
     "output_type": "execute_result"
    }
   ],
   "source": [
    "%%time\n",
    "model_LR.fit(features_train, target_train,) #обучение"
   ]
  },
  {
   "cell_type": "code",
   "execution_count": 24,
   "metadata": {
    "scrolled": true
   },
   "outputs": [
    {
     "name": "stdout",
     "output_type": "stream",
     "text": [
      "CPU times: user 22 ms, sys: 7.87 ms, total: 29.9 ms\n",
      "Wall time: 9.39 ms\n"
     ]
    }
   ],
   "source": [
    "%%time\n",
    "pred_LR = model_LR.predict(features_test) #предсказание"
   ]
  },
  {
   "cell_type": "code",
   "execution_count": 25,
   "metadata": {},
   "outputs": [
    {
     "name": "stdout",
     "output_type": "stream",
     "text": [
      "RMSE =  2143.956370326591\n"
     ]
    }
   ],
   "source": [
    "RMSE_LR = mean_squared_error(target_test, pred_LR, squared=False)\n",
    "print('RMSE = ', RMSE_LR)"
   ]
  },
  {
   "cell_type": "markdown",
   "metadata": {},
   "source": [
    "---"
   ]
  },
  {
   "cell_type": "markdown",
   "metadata": {},
   "source": [
    "**CatBoostRegressor**"
   ]
  },
  {
   "cell_type": "code",
   "execution_count": 26,
   "metadata": {},
   "outputs": [
    {
     "name": "stdout",
     "output_type": "stream",
     "text": [
      "Learning rate set to 0.105909\n",
      "0:\tlearn: 3192.6503255\ttotal: 84ms\tremaining: 1m 7s\n",
      "100:\tlearn: 1425.5384359\ttotal: 1.92s\tremaining: 13.3s\n",
      "200:\tlearn: 1361.1332663\ttotal: 3.69s\tremaining: 11s\n",
      "300:\tlearn: 1325.8140700\ttotal: 5.44s\tremaining: 9.02s\n",
      "400:\tlearn: 1301.8223868\ttotal: 7.38s\tremaining: 7.34s\n",
      "500:\tlearn: 1284.2277862\ttotal: 9.16s\tremaining: 5.47s\n",
      "600:\tlearn: 1269.7503242\ttotal: 11s\tremaining: 3.65s\n",
      "700:\tlearn: 1257.0962679\ttotal: 12.8s\tremaining: 1.8s\n",
      "799:\tlearn: 1246.5945771\ttotal: 14.6s\tremaining: 0us\n",
      "Learning rate set to 0.105909\n",
      "0:\tlearn: 3190.5866225\ttotal: 18.6ms\tremaining: 14.9s\n",
      "100:\tlearn: 1427.9667919\ttotal: 1.97s\tremaining: 13.7s\n",
      "200:\tlearn: 1365.3519146\ttotal: 4.05s\tremaining: 12.1s\n",
      "300:\tlearn: 1329.7142872\ttotal: 5.85s\tremaining: 9.69s\n",
      "400:\tlearn: 1307.3384666\ttotal: 8.11s\tremaining: 8.07s\n",
      "500:\tlearn: 1288.6491569\ttotal: 10.9s\tremaining: 6.51s\n",
      "600:\tlearn: 1273.3250643\ttotal: 13.6s\tremaining: 4.52s\n",
      "700:\tlearn: 1260.9056432\ttotal: 15.5s\tremaining: 2.19s\n",
      "799:\tlearn: 1250.0143082\ttotal: 17.5s\tremaining: 0us\n",
      "Learning rate set to 0.105909\n",
      "0:\tlearn: 3183.1191902\ttotal: 18.2ms\tremaining: 14.5s\n",
      "100:\tlearn: 1425.8895583\ttotal: 1.92s\tremaining: 13.3s\n",
      "200:\tlearn: 1358.3304204\ttotal: 3.75s\tremaining: 11.2s\n",
      "300:\tlearn: 1324.2538606\ttotal: 5.51s\tremaining: 9.13s\n",
      "400:\tlearn: 1302.3193935\ttotal: 7.34s\tremaining: 7.3s\n",
      "500:\tlearn: 1285.6553149\ttotal: 9.21s\tremaining: 5.5s\n",
      "600:\tlearn: 1271.2508490\ttotal: 11s\tremaining: 3.65s\n",
      "700:\tlearn: 1258.4061954\ttotal: 12.8s\tremaining: 1.81s\n",
      "799:\tlearn: 1247.5655398\ttotal: 14.5s\tremaining: 0us\n",
      "Learning rate set to 0.105909\n",
      "0:\tlearn: 3192.1667323\ttotal: 28.4ms\tremaining: 22.7s\n",
      "100:\tlearn: 1425.4946461\ttotal: 1.77s\tremaining: 12.3s\n",
      "200:\tlearn: 1361.9693504\ttotal: 3.52s\tremaining: 10.5s\n",
      "300:\tlearn: 1329.0259359\ttotal: 5.26s\tremaining: 8.71s\n",
      "400:\tlearn: 1303.3174714\ttotal: 7s\tremaining: 6.96s\n",
      "500:\tlearn: 1284.5523605\ttotal: 8.81s\tremaining: 5.26s\n",
      "600:\tlearn: 1269.8804657\ttotal: 10.5s\tremaining: 3.48s\n",
      "700:\tlearn: 1257.6772898\ttotal: 12.2s\tremaining: 1.73s\n",
      "799:\tlearn: 1246.4456760\ttotal: 14.1s\tremaining: 0us\n",
      "Learning rate set to 0.105909\n",
      "0:\tlearn: 3191.4057441\ttotal: 17.9ms\tremaining: 14.3s\n",
      "100:\tlearn: 1425.7436478\ttotal: 1.72s\tremaining: 11.9s\n",
      "200:\tlearn: 1361.4980471\ttotal: 3.53s\tremaining: 10.5s\n",
      "300:\tlearn: 1328.8090482\ttotal: 5.28s\tremaining: 8.75s\n",
      "400:\tlearn: 1305.8891186\ttotal: 7.11s\tremaining: 7.07s\n",
      "500:\tlearn: 1288.3076433\ttotal: 8.87s\tremaining: 5.29s\n",
      "600:\tlearn: 1272.6015206\ttotal: 10.6s\tremaining: 3.52s\n",
      "700:\tlearn: 1260.7726660\ttotal: 12.3s\tremaining: 1.74s\n",
      "799:\tlearn: 1249.5835123\ttotal: 14.2s\tremaining: 0us\n",
      "средний RMSE методом cross_val_score для catboost 1304.4769093079367\n"
     ]
    }
   ],
   "source": [
    "model_cat = CatBoostRegressor(iterations=800, verbose=100, early_stopping_rounds=100, \n",
    "                              random_state = rs)\n",
    "RMSE_crossval  = cross_val_score(model_cat, features_train, target_train, cv=5, scoring = 'neg_mean_squared_error')\n",
    "mse_to_rmse = []\n",
    "for i in RMSE_crossval:\n",
    "    mse_to_rmse.append(abs(i) ** 0.5)\n",
    "mean_rmse_cat = np.mean(mse_to_rmse)\n",
    "print('средний RMSE методом cross_val_score для catboost', mean_rmse_cat)"
   ]
  },
  {
   "cell_type": "markdown",
   "metadata": {},
   "source": [
    "*catboost на тестовой выборке*"
   ]
  },
  {
   "cell_type": "code",
   "execution_count": 27,
   "metadata": {},
   "outputs": [
    {
     "name": "stdout",
     "output_type": "stream",
     "text": [
      "Learning rate set to 0.109709\n",
      "0:\tlearn: 3181.7503228\ttotal: 26ms\tremaining: 20.8s\n",
      "100:\tlearn: 1423.6548108\ttotal: 2.22s\tremaining: 15.4s\n",
      "200:\tlearn: 1359.3159808\ttotal: 4.67s\tremaining: 13.9s\n",
      "300:\tlearn: 1327.0046498\ttotal: 6.97s\tremaining: 11.5s\n",
      "400:\tlearn: 1304.5872827\ttotal: 9.25s\tremaining: 9.2s\n",
      "500:\tlearn: 1286.7601343\ttotal: 11.6s\tremaining: 6.91s\n",
      "600:\tlearn: 1273.2098811\ttotal: 13.7s\tremaining: 4.55s\n",
      "700:\tlearn: 1261.7616738\ttotal: 15.9s\tremaining: 2.25s\n",
      "799:\tlearn: 1251.7998493\ttotal: 18.1s\tremaining: 0us\n",
      "CPU times: user 18.2 s, sys: 113 ms, total: 18.3 s\n",
      "Wall time: 18.9 s\n"
     ]
    },
    {
     "data": {
      "text/plain": [
       "<catboost.core.CatBoostRegressor at 0x7fdc4269d4c0>"
      ]
     },
     "execution_count": 27,
     "metadata": {},
     "output_type": "execute_result"
    }
   ],
   "source": [
    "%%time\n",
    "model_cat.fit(features_train, target_train,) #обучение"
   ]
  },
  {
   "cell_type": "code",
   "execution_count": 28,
   "metadata": {},
   "outputs": [
    {
     "name": "stdout",
     "output_type": "stream",
     "text": [
      "CPU times: user 50.7 ms, sys: 31 µs, total: 50.7 ms\n",
      "Wall time: 48.4 ms\n"
     ]
    }
   ],
   "source": [
    "%%time\n",
    "pred_cat = model_cat.predict(features_test) #предсказание"
   ]
  },
  {
   "cell_type": "code",
   "execution_count": 29,
   "metadata": {},
   "outputs": [
    {
     "name": "stdout",
     "output_type": "stream",
     "text": [
      "RMSE =  1295.0011034539796\n"
     ]
    }
   ],
   "source": [
    "RMSE_cat = mean_squared_error(target_test, pred_cat, squared=False)\n",
    "print('RMSE = ', RMSE_cat)"
   ]
  },
  {
   "cell_type": "markdown",
   "metadata": {},
   "source": [
    "## Анализ моделей"
   ]
  },
  {
   "cell_type": "code",
   "execution_count": 36,
   "metadata": {},
   "outputs": [
    {
     "name": "stdout",
     "output_type": "stream",
     "text": [
      "RMSE кросс-валидацией и на тесте\n"
     ]
    },
    {
     "data": {
      "text/html": [
       "<div>\n",
       "<style scoped>\n",
       "    .dataframe tbody tr th:only-of-type {\n",
       "        vertical-align: middle;\n",
       "    }\n",
       "\n",
       "    .dataframe tbody tr th {\n",
       "        vertical-align: top;\n",
       "    }\n",
       "\n",
       "    .dataframe thead th {\n",
       "        text-align: right;\n",
       "    }\n",
       "</style>\n",
       "<table border=\"1\" class=\"dataframe\">\n",
       "  <thead>\n",
       "    <tr style=\"text-align: right;\">\n",
       "      <th></th>\n",
       "      <th>LGBMRegressor</th>\n",
       "      <th>LinearRegression</th>\n",
       "      <th>CatBoostRegressor</th>\n",
       "    </tr>\n",
       "  </thead>\n",
       "  <tbody>\n",
       "    <tr>\n",
       "      <th>RMSE моделей на тесте</th>\n",
       "      <td>1322.096212</td>\n",
       "      <td>2143.956370</td>\n",
       "      <td>1295.001103</td>\n",
       "    </tr>\n",
       "    <tr>\n",
       "      <th>RMSE моделей кросс-валидацией</th>\n",
       "      <td>1327.370047</td>\n",
       "      <td>2148.116866</td>\n",
       "      <td>1304.476909</td>\n",
       "    </tr>\n",
       "  </tbody>\n",
       "</table>\n",
       "</div>"
      ],
      "text/plain": [
       "                               LGBMRegressor  LinearRegression  \\\n",
       "RMSE моделей на тесте            1322.096212       2143.956370   \n",
       "RMSE моделей кросс-валидацией    1327.370047       2148.116866   \n",
       "\n",
       "                               CatBoostRegressor  \n",
       "RMSE моделей на тесте                1295.001103  \n",
       "RMSE моделей кросс-валидацией        1304.476909  "
      ]
     },
     "execution_count": 36,
     "metadata": {},
     "output_type": "execute_result"
    }
   ],
   "source": [
    "print('RMSE кросс-валидацией и на тесте')\n",
    "pd.DataFrame({'RMSE моделей на тесте': {'LGBMRegressor' : RMSE_LGBM, 'LinearRegression': RMSE_LR,\n",
    "                               'CatBoostRegressor':RMSE_cat},\n",
    "              'RMSE моделей кросс-валидацией':{'LGBMRegressor' : ( abs(LGBM_random.best_score_) ** 0.5), \n",
    "                                               'LinearRegression': mean_rmse_LR, \n",
    "                                               'CatBoostRegressor':mean_rmse_cat}}).T\n"
   ]
  },
  {
   "cell_type": "markdown",
   "metadata": {},
   "source": [
    "**По качеству предсказания стоит отбросить LinearRegression. RMSE ниже проходного уровня в 2500, но гораздо выше, чем у других 2х моделей**"
   ]
  },
  {
   "cell_type": "code",
   "execution_count": 38,
   "metadata": {},
   "outputs": [],
   "source": [
    "time = pd.DataFrame({'Время обучения': ['11.6m', '71.8ms', '17.2s'], 'время предсказания': ['637ms', '49ms', '49ms']}).T\n",
    "time.columns = ['LGBMRegressor','LinearRegression', 'CatBoostRegressor']"
   ]
  },
  {
   "cell_type": "code",
   "execution_count": 39,
   "metadata": {},
   "outputs": [
    {
     "name": "stdout",
     "output_type": "stream",
     "text": [
      "Время на обучение и предсказания\n"
     ]
    },
    {
     "data": {
      "text/html": [
       "<div>\n",
       "<style scoped>\n",
       "    .dataframe tbody tr th:only-of-type {\n",
       "        vertical-align: middle;\n",
       "    }\n",
       "\n",
       "    .dataframe tbody tr th {\n",
       "        vertical-align: top;\n",
       "    }\n",
       "\n",
       "    .dataframe thead th {\n",
       "        text-align: right;\n",
       "    }\n",
       "</style>\n",
       "<table border=\"1\" class=\"dataframe\">\n",
       "  <thead>\n",
       "    <tr style=\"text-align: right;\">\n",
       "      <th></th>\n",
       "      <th>LGBMRegressor</th>\n",
       "      <th>LinearRegression</th>\n",
       "      <th>CatBoostRegressor</th>\n",
       "    </tr>\n",
       "  </thead>\n",
       "  <tbody>\n",
       "    <tr>\n",
       "      <th>Время обучения</th>\n",
       "      <td>11.6m</td>\n",
       "      <td>71.8ms</td>\n",
       "      <td>17.2s</td>\n",
       "    </tr>\n",
       "    <tr>\n",
       "      <th>время предсказания</th>\n",
       "      <td>637ms</td>\n",
       "      <td>49ms</td>\n",
       "      <td>49ms</td>\n",
       "    </tr>\n",
       "  </tbody>\n",
       "</table>\n",
       "</div>"
      ],
      "text/plain": [
       "                   LGBMRegressor LinearRegression CatBoostRegressor\n",
       "Время обучения             11.6m           71.8ms             17.2s\n",
       "время предсказания         637ms             49ms              49ms"
      ]
     },
     "execution_count": 39,
     "metadata": {},
     "output_type": "execute_result"
    }
   ],
   "source": [
    "print('Время на обучение и предсказания')\n",
    "time"
   ]
  },
  {
   "cell_type": "markdown",
   "metadata": {},
   "source": [
    "**Исходя из времени обучения, можно сказать, что лучшая модель - CatBoostRegressor с параметрами - iterations - 800, verbose - 100, early_stopping_rounds - 100. Она оказалась лучшей как по RMSE кросс-валидацией, так и по тесту. Время обучения у нее оказалось намного ниже, чем у LGBMRegressor - 17 секунд против 11 минут. Время предсказания CatBoostRegressor так же - 49ms против 637ms у LGBMRegressor.**"
   ]
  }
 ],
 "metadata": {
  "ExecuteTimeLog": [
   {
    "duration": 396,
    "start_time": "2022-10-21T08:00:47.522Z"
   },
   {
    "duration": 1055,
    "start_time": "2022-10-21T08:01:09.699Z"
   },
   {
    "duration": 27,
    "start_time": "2022-10-21T08:01:14.677Z"
   },
   {
    "duration": 12,
    "start_time": "2022-10-21T08:03:58.695Z"
   },
   {
    "duration": 123,
    "start_time": "2022-10-21T08:04:01.582Z"
   },
   {
    "duration": 12,
    "start_time": "2022-10-21T08:04:38.614Z"
   },
   {
    "duration": 16,
    "start_time": "2022-10-21T08:04:44.312Z"
   },
   {
    "duration": 4,
    "start_time": "2022-10-21T08:24:09.249Z"
   },
   {
    "duration": 114,
    "start_time": "2022-10-21T08:24:30.185Z"
   },
   {
    "duration": 780,
    "start_time": "2022-10-21T08:28:13.274Z"
   },
   {
    "duration": 4,
    "start_time": "2022-10-21T08:28:28.808Z"
   },
   {
    "duration": 6,
    "start_time": "2022-10-21T08:28:41.667Z"
   },
   {
    "duration": 277,
    "start_time": "2022-10-21T08:30:50.518Z"
   },
   {
    "duration": 6,
    "start_time": "2022-10-21T08:32:24.048Z"
   },
   {
    "duration": 114,
    "start_time": "2022-10-21T08:32:33.411Z"
   },
   {
    "duration": 2,
    "start_time": "2022-10-21T08:39:51.074Z"
   },
   {
    "duration": 8,
    "start_time": "2022-10-21T11:17:15.164Z"
   },
   {
    "duration": 394,
    "start_time": "2022-10-21T11:17:19.212Z"
   },
   {
    "duration": 1003,
    "start_time": "2022-10-21T11:17:19.607Z"
   },
   {
    "duration": 21,
    "start_time": "2022-10-21T11:17:20.612Z"
   },
   {
    "duration": 4,
    "start_time": "2022-10-21T11:17:20.634Z"
   },
   {
    "duration": 115,
    "start_time": "2022-10-21T11:17:20.639Z"
   },
   {
    "duration": 2,
    "start_time": "2022-10-21T11:17:20.756Z"
   },
   {
    "duration": 24,
    "start_time": "2022-10-21T11:18:10.572Z"
   },
   {
    "duration": 78,
    "start_time": "2022-10-21T11:18:11.772Z"
   },
   {
    "duration": 110,
    "start_time": "2022-10-21T11:21:11.954Z"
   },
   {
    "duration": 2,
    "start_time": "2022-10-21T11:21:44.347Z"
   },
   {
    "duration": 901,
    "start_time": "2022-10-21T11:21:44.689Z"
   },
   {
    "duration": 22,
    "start_time": "2022-10-21T11:21:45.592Z"
   },
   {
    "duration": 4,
    "start_time": "2022-10-21T11:21:45.813Z"
   },
   {
    "duration": 29,
    "start_time": "2022-10-21T11:22:01.875Z"
   },
   {
    "duration": 85,
    "start_time": "2022-10-21T11:22:03.459Z"
   },
   {
    "duration": 7,
    "start_time": "2022-10-21T11:23:41.601Z"
   },
   {
    "duration": 6,
    "start_time": "2022-10-21T11:23:50.041Z"
   },
   {
    "duration": 6,
    "start_time": "2022-10-21T11:30:23.086Z"
   },
   {
    "duration": 5,
    "start_time": "2022-10-21T11:30:28.929Z"
   },
   {
    "duration": 8,
    "start_time": "2022-10-21T11:30:48.554Z"
   },
   {
    "duration": 80,
    "start_time": "2022-10-21T11:31:21.014Z"
   },
   {
    "duration": 90,
    "start_time": "2022-10-21T11:31:27.613Z"
   },
   {
    "duration": 2,
    "start_time": "2022-10-21T11:35:57.475Z"
   },
   {
    "duration": 146,
    "start_time": "2022-10-21T11:36:01.921Z"
   },
   {
    "duration": 14,
    "start_time": "2022-10-21T11:38:22.296Z"
   },
   {
    "duration": 13,
    "start_time": "2022-10-21T11:38:32.519Z"
   },
   {
    "duration": 10,
    "start_time": "2022-10-21T11:38:45.465Z"
   },
   {
    "duration": 2,
    "start_time": "2022-10-21T11:38:54.690Z"
   },
   {
    "duration": 681,
    "start_time": "2022-10-21T11:38:54.849Z"
   },
   {
    "duration": 11,
    "start_time": "2022-10-21T11:38:55.532Z"
   },
   {
    "duration": 6,
    "start_time": "2022-10-21T11:38:55.544Z"
   },
   {
    "duration": 22,
    "start_time": "2022-10-21T11:38:57.068Z"
   },
   {
    "duration": 22,
    "start_time": "2022-10-21T11:45:36.469Z"
   },
   {
    "duration": 8,
    "start_time": "2022-10-21T11:45:59.438Z"
   },
   {
    "duration": 10,
    "start_time": "2022-10-21T11:46:03.699Z"
   },
   {
    "duration": 669,
    "start_time": "2022-10-21T11:46:12.343Z"
   },
   {
    "duration": 12,
    "start_time": "2022-10-21T11:46:13.631Z"
   },
   {
    "duration": 1194,
    "start_time": "2022-10-21T11:55:54.639Z"
   },
   {
    "duration": 4,
    "start_time": "2022-10-21T11:56:02.496Z"
   },
   {
    "duration": 144,
    "start_time": "2022-10-21T11:56:07.606Z"
   },
   {
    "duration": 63461,
    "start_time": "2022-10-21T11:56:08.286Z"
   },
   {
    "duration": 32,
    "start_time": "2022-10-21T11:58:46.282Z"
   },
   {
    "duration": 485127,
    "start_time": "2022-10-21T11:59:09.403Z"
   },
   {
    "duration": 0,
    "start_time": "2022-10-21T12:07:14.532Z"
   },
   {
    "duration": 0,
    "start_time": "2022-10-21T12:07:14.533Z"
   },
   {
    "duration": 0,
    "start_time": "2022-10-21T12:07:14.534Z"
   },
   {
    "duration": 352,
    "start_time": "2022-10-21T12:07:22.635Z"
   },
   {
    "duration": 755,
    "start_time": "2022-10-21T12:07:22.989Z"
   },
   {
    "duration": 19,
    "start_time": "2022-10-21T12:07:23.746Z"
   },
   {
    "duration": 11,
    "start_time": "2022-10-21T12:07:23.767Z"
   },
   {
    "duration": 31,
    "start_time": "2022-10-21T12:07:23.780Z"
   },
   {
    "duration": 159,
    "start_time": "2022-10-21T12:07:23.813Z"
   },
   {
    "duration": 85,
    "start_time": "2022-10-21T12:07:23.974Z"
   },
   {
    "duration": 102,
    "start_time": "2022-10-21T12:07:24.061Z"
   },
   {
    "duration": 89,
    "start_time": "2022-10-21T12:07:24.165Z"
   },
   {
    "duration": 63,
    "start_time": "2022-10-21T12:08:17.467Z"
   },
   {
    "duration": 21,
    "start_time": "2022-10-21T12:08:20.528Z"
   },
   {
    "duration": 22,
    "start_time": "2022-10-21T12:09:18.102Z"
   },
   {
    "duration": 3,
    "start_time": "2022-10-21T12:09:59.712Z"
   },
   {
    "duration": 22,
    "start_time": "2022-10-21T12:10:07.422Z"
   },
   {
    "duration": 21,
    "start_time": "2022-10-21T12:10:30.635Z"
   },
   {
    "duration": 21,
    "start_time": "2022-10-21T12:44:11.944Z"
   },
   {
    "duration": 21,
    "start_time": "2022-10-21T12:47:12.215Z"
   },
   {
    "duration": 20,
    "start_time": "2022-10-21T12:47:22.994Z"
   },
   {
    "duration": 40,
    "start_time": "2022-10-21T12:47:37.939Z"
   },
   {
    "duration": 18,
    "start_time": "2022-10-21T12:47:54.316Z"
   },
   {
    "duration": 38,
    "start_time": "2022-10-21T12:48:15.815Z"
   },
   {
    "duration": 75,
    "start_time": "2022-10-21T12:48:26.333Z"
   },
   {
    "duration": 15,
    "start_time": "2022-10-21T12:52:58.565Z"
   },
   {
    "duration": 18,
    "start_time": "2022-10-21T12:53:14.823Z"
   },
   {
    "duration": 20,
    "start_time": "2022-10-21T12:53:25.447Z"
   },
   {
    "duration": 79,
    "start_time": "2022-10-21T12:53:30.513Z"
   },
   {
    "duration": 119,
    "start_time": "2022-10-21T12:56:55.335Z"
   },
   {
    "duration": 87,
    "start_time": "2022-10-21T12:57:08.450Z"
   },
   {
    "duration": 18,
    "start_time": "2022-10-21T12:57:12.504Z"
   },
   {
    "duration": 104,
    "start_time": "2022-10-21T12:57:30.005Z"
   },
   {
    "duration": 18,
    "start_time": "2022-10-21T12:57:32.088Z"
   },
   {
    "duration": 3,
    "start_time": "2022-10-21T12:58:19.982Z"
   },
   {
    "duration": 697,
    "start_time": "2022-10-21T12:58:20.332Z"
   },
   {
    "duration": 13,
    "start_time": "2022-10-21T12:58:21.031Z"
   },
   {
    "duration": 4,
    "start_time": "2022-10-21T12:58:21.061Z"
   },
   {
    "duration": 17,
    "start_time": "2022-10-21T12:58:22.075Z"
   },
   {
    "duration": 149,
    "start_time": "2022-10-21T12:58:22.955Z"
   },
   {
    "duration": 101,
    "start_time": "2022-10-21T12:58:23.621Z"
   },
   {
    "duration": 74,
    "start_time": "2022-10-21T12:58:28.462Z"
   },
   {
    "duration": 18,
    "start_time": "2022-10-21T12:58:29.533Z"
   },
   {
    "duration": 115,
    "start_time": "2022-10-21T12:58:30.228Z"
   },
   {
    "duration": 18,
    "start_time": "2022-10-21T12:58:32.153Z"
   },
   {
    "duration": 18,
    "start_time": "2022-10-21T13:03:10.389Z"
   },
   {
    "duration": 9,
    "start_time": "2022-10-21T13:04:11.675Z"
   },
   {
    "duration": 732,
    "start_time": "2022-10-21T13:04:35.946Z"
   },
   {
    "duration": 472,
    "start_time": "2022-10-21T13:07:15.571Z"
   },
   {
    "duration": 1089,
    "start_time": "2022-10-21T13:08:37.936Z"
   },
   {
    "duration": 3,
    "start_time": "2022-10-21T13:09:16.462Z"
   },
   {
    "duration": 1444,
    "start_time": "2022-10-21T13:09:28.331Z"
   },
   {
    "duration": 39,
    "start_time": "2022-10-21T13:12:23.818Z"
   },
   {
    "duration": 18,
    "start_time": "2022-10-21T13:12:36.822Z"
   },
   {
    "duration": 20,
    "start_time": "2022-10-21T13:12:39.514Z"
   },
   {
    "duration": 44,
    "start_time": "2022-10-21T13:13:27.046Z"
   },
   {
    "duration": 44,
    "start_time": "2022-10-21T13:15:13.435Z"
   },
   {
    "duration": 56,
    "start_time": "2022-10-21T13:15:38.382Z"
   },
   {
    "duration": 62,
    "start_time": "2022-10-21T13:15:43.080Z"
   },
   {
    "duration": 77,
    "start_time": "2022-10-21T16:17:28.942Z"
   },
   {
    "duration": 55,
    "start_time": "2022-10-21T16:17:29.182Z"
   },
   {
    "duration": 78,
    "start_time": "2022-10-21T16:17:32.682Z"
   },
   {
    "duration": 6,
    "start_time": "2022-10-21T16:17:33.189Z"
   },
   {
    "duration": 771,
    "start_time": "2022-10-21T16:17:38.740Z"
   },
   {
    "duration": 3038,
    "start_time": "2022-10-21T16:17:39.513Z"
   },
   {
    "duration": 17,
    "start_time": "2022-10-21T16:17:42.553Z"
   },
   {
    "duration": 4,
    "start_time": "2022-10-21T16:17:42.572Z"
   },
   {
    "duration": 31,
    "start_time": "2022-10-21T16:17:43.866Z"
   },
   {
    "duration": 46,
    "start_time": "2022-10-21T16:17:47.767Z"
   },
   {
    "duration": 3,
    "start_time": "2022-10-21T16:18:04.901Z"
   },
   {
    "duration": 940,
    "start_time": "2022-10-21T16:18:05.593Z"
   },
   {
    "duration": 25,
    "start_time": "2022-10-21T16:18:07.318Z"
   },
   {
    "duration": 4,
    "start_time": "2022-10-21T16:18:08.285Z"
   },
   {
    "duration": 29,
    "start_time": "2022-10-21T16:18:10.847Z"
   },
   {
    "duration": 105,
    "start_time": "2022-10-21T16:19:42.614Z"
   },
   {
    "duration": 178,
    "start_time": "2022-10-21T16:20:00.840Z"
   },
   {
    "duration": 107,
    "start_time": "2022-10-21T16:23:46.049Z"
   },
   {
    "duration": 16,
    "start_time": "2022-10-21T16:26:29.261Z"
   },
   {
    "duration": 1133,
    "start_time": "2022-10-21T16:45:48.371Z"
   },
   {
    "duration": 3,
    "start_time": "2022-10-21T16:45:55.445Z"
   },
   {
    "duration": 744,
    "start_time": "2022-10-21T16:45:55.728Z"
   },
   {
    "duration": 12,
    "start_time": "2022-10-21T16:45:56.474Z"
   },
   {
    "duration": 4,
    "start_time": "2022-10-21T16:45:57.191Z"
   },
   {
    "duration": 17,
    "start_time": "2022-10-21T16:45:58.550Z"
   },
   {
    "duration": 177,
    "start_time": "2022-10-21T16:47:38.385Z"
   },
   {
    "duration": 110,
    "start_time": "2022-10-21T16:47:46.329Z"
   },
   {
    "duration": 68,
    "start_time": "2022-10-21T16:48:10.921Z"
   },
   {
    "duration": 104,
    "start_time": "2022-10-21T16:48:20.110Z"
   },
   {
    "duration": 28,
    "start_time": "2022-10-21T16:49:16.127Z"
   },
   {
    "duration": 21,
    "start_time": "2022-10-21T16:49:20.447Z"
   },
   {
    "duration": 576,
    "start_time": "2022-10-21T16:49:27.834Z"
   },
   {
    "duration": 714,
    "start_time": "2022-10-21T16:49:28.413Z"
   },
   {
    "duration": 15,
    "start_time": "2022-10-21T16:49:29.128Z"
   },
   {
    "duration": 4,
    "start_time": "2022-10-21T16:49:29.146Z"
   },
   {
    "duration": 25,
    "start_time": "2022-10-21T16:49:29.152Z"
   },
   {
    "duration": 207,
    "start_time": "2022-10-21T16:49:29.179Z"
   },
   {
    "duration": 80,
    "start_time": "2022-10-21T16:49:29.388Z"
   },
   {
    "duration": 17,
    "start_time": "2022-10-21T16:49:29.469Z"
   },
   {
    "duration": 94,
    "start_time": "2022-10-21T16:49:29.488Z"
   },
   {
    "duration": 1201,
    "start_time": "2022-10-21T16:49:29.584Z"
   },
   {
    "duration": 80,
    "start_time": "2022-10-21T16:49:30.787Z"
   },
   {
    "duration": 10,
    "start_time": "2022-10-21T16:49:30.868Z"
   },
   {
    "duration": 22,
    "start_time": "2022-10-21T16:49:30.880Z"
   },
   {
    "duration": 47,
    "start_time": "2022-10-21T16:51:19.440Z"
   },
   {
    "duration": 9,
    "start_time": "2022-10-21T16:53:43.624Z"
   },
   {
    "duration": 64,
    "start_time": "2022-10-21T16:53:52.219Z"
   },
   {
    "duration": 4,
    "start_time": "2022-10-21T16:54:01.304Z"
   },
   {
    "duration": 5,
    "start_time": "2022-10-21T17:01:13.315Z"
   },
   {
    "duration": 14,
    "start_time": "2022-10-21T17:01:21.708Z"
   },
   {
    "duration": 651,
    "start_time": "2022-10-21T17:01:45.805Z"
   },
   {
    "duration": 698,
    "start_time": "2022-10-21T17:01:46.458Z"
   },
   {
    "duration": 16,
    "start_time": "2022-10-21T17:01:47.158Z"
   },
   {
    "duration": 4,
    "start_time": "2022-10-21T17:01:47.175Z"
   },
   {
    "duration": 50,
    "start_time": "2022-10-21T17:01:47.181Z"
   },
   {
    "duration": 196,
    "start_time": "2022-10-21T17:01:47.233Z"
   },
   {
    "duration": 72,
    "start_time": "2022-10-21T17:01:47.431Z"
   },
   {
    "duration": 22,
    "start_time": "2022-10-21T17:01:47.505Z"
   },
   {
    "duration": 96,
    "start_time": "2022-10-21T17:01:47.528Z"
   },
   {
    "duration": 1106,
    "start_time": "2022-10-21T17:01:47.626Z"
   },
   {
    "duration": 13,
    "start_time": "2022-10-21T17:01:48.734Z"
   },
   {
    "duration": 47,
    "start_time": "2022-10-21T17:01:48.749Z"
   },
   {
    "duration": 25,
    "start_time": "2022-10-21T17:01:48.798Z"
   },
   {
    "duration": 66,
    "start_time": "2022-10-21T17:03:06.331Z"
   },
   {
    "duration": 71,
    "start_time": "2022-10-21T17:03:13.322Z"
   },
   {
    "duration": 66,
    "start_time": "2022-10-21T17:03:21.046Z"
   },
   {
    "duration": 10,
    "start_time": "2022-10-21T17:03:24.106Z"
   },
   {
    "duration": 50,
    "start_time": "2022-10-21T17:04:03.372Z"
   },
   {
    "duration": 394,
    "start_time": "2022-10-21T17:05:02.056Z"
   },
   {
    "duration": 12,
    "start_time": "2022-10-21T17:07:27.868Z"
   },
   {
    "duration": 700,
    "start_time": "2022-10-21T17:17:50.683Z"
   },
   {
    "duration": 69,
    "start_time": "2022-10-21T17:18:17.918Z"
   },
   {
    "duration": 74,
    "start_time": "2022-10-21T17:18:24.782Z"
   },
   {
    "duration": 57,
    "start_time": "2022-10-21T17:25:57.141Z"
   },
   {
    "duration": 196,
    "start_time": "2022-10-21T17:34:29.644Z"
   },
   {
    "duration": 195,
    "start_time": "2022-10-21T17:34:40.275Z"
   },
   {
    "duration": 269,
    "start_time": "2022-10-21T17:35:08.901Z"
   },
   {
    "duration": 74,
    "start_time": "2022-10-21T17:35:23.583Z"
   },
   {
    "duration": 11,
    "start_time": "2022-10-21T17:35:27.331Z"
   },
   {
    "duration": 47,
    "start_time": "2022-10-21T17:35:27.665Z"
   },
   {
    "duration": 372,
    "start_time": "2022-10-21T17:35:31.700Z"
   },
   {
    "duration": 321,
    "start_time": "2022-10-21T17:35:35.036Z"
   },
   {
    "duration": 52,
    "start_time": "2022-10-21T18:08:56.053Z"
   },
   {
    "duration": 2,
    "start_time": "2022-10-21T18:17:33.024Z"
   },
   {
    "duration": 137,
    "start_time": "2022-10-21T18:50:37.765Z"
   },
   {
    "duration": 13,
    "start_time": "2022-10-21T18:51:28.814Z"
   },
   {
    "duration": 12,
    "start_time": "2022-10-21T18:52:28.852Z"
   },
   {
    "duration": 287,
    "start_time": "2022-10-21T18:52:48.948Z"
   },
   {
    "duration": 212,
    "start_time": "2022-10-21T18:52:59.586Z"
   },
   {
    "duration": 113,
    "start_time": "2022-10-21T18:53:38.053Z"
   },
   {
    "duration": 119,
    "start_time": "2022-10-21T18:53:52.611Z"
   },
   {
    "duration": 106,
    "start_time": "2022-10-21T19:02:27.880Z"
   },
   {
    "duration": 53,
    "start_time": "2022-10-24T11:13:39.439Z"
   },
   {
    "duration": 1531,
    "start_time": "2022-10-24T11:13:56.289Z"
   },
   {
    "duration": 1188,
    "start_time": "2022-10-24T11:13:57.822Z"
   },
   {
    "duration": 18,
    "start_time": "2022-10-24T11:13:59.012Z"
   },
   {
    "duration": 5,
    "start_time": "2022-10-24T11:13:59.032Z"
   },
   {
    "duration": 42,
    "start_time": "2022-10-24T11:13:59.038Z"
   },
   {
    "duration": 238,
    "start_time": "2022-10-24T11:13:59.082Z"
   },
   {
    "duration": 101,
    "start_time": "2022-10-24T11:13:59.323Z"
   },
   {
    "duration": 30,
    "start_time": "2022-10-24T11:13:59.427Z"
   },
   {
    "duration": 168,
    "start_time": "2022-10-24T11:13:59.459Z"
   },
   {
    "duration": 1447,
    "start_time": "2022-10-24T11:13:59.630Z"
   },
   {
    "duration": 307,
    "start_time": "2022-10-24T11:14:01.079Z"
   },
   {
    "duration": 118,
    "start_time": "2022-10-24T11:14:01.388Z"
   },
   {
    "duration": 14,
    "start_time": "2022-10-24T11:14:01.508Z"
   },
   {
    "duration": 119,
    "start_time": "2022-10-24T11:14:01.525Z"
   },
   {
    "duration": 595,
    "start_time": "2022-10-24T11:14:01.646Z"
   },
   {
    "duration": 361,
    "start_time": "2022-10-24T11:14:02.242Z"
   },
   {
    "duration": 375584,
    "start_time": "2022-10-24T11:14:02.605Z"
   },
   {
    "duration": 0,
    "start_time": "2022-10-24T11:20:18.192Z"
   },
   {
    "duration": 55,
    "start_time": "2022-10-24T13:09:44.377Z"
   },
   {
    "duration": 1583,
    "start_time": "2022-10-24T13:09:53.103Z"
   },
   {
    "duration": 1179,
    "start_time": "2022-10-24T13:09:54.688Z"
   },
   {
    "duration": 19,
    "start_time": "2022-10-24T13:09:55.869Z"
   },
   {
    "duration": 8,
    "start_time": "2022-10-24T13:09:55.890Z"
   },
   {
    "duration": 35,
    "start_time": "2022-10-24T13:09:55.899Z"
   },
   {
    "duration": 218,
    "start_time": "2022-10-24T13:09:55.936Z"
   },
   {
    "duration": 81,
    "start_time": "2022-10-24T13:09:56.156Z"
   },
   {
    "duration": 31,
    "start_time": "2022-10-24T13:09:56.239Z"
   },
   {
    "duration": 123,
    "start_time": "2022-10-24T13:09:56.272Z"
   },
   {
    "duration": 1299,
    "start_time": "2022-10-24T13:09:56.398Z"
   },
   {
    "duration": 276,
    "start_time": "2022-10-24T13:09:57.699Z"
   },
   {
    "duration": 100,
    "start_time": "2022-10-24T13:09:57.977Z"
   },
   {
    "duration": 12,
    "start_time": "2022-10-24T13:09:58.079Z"
   },
   {
    "duration": 73,
    "start_time": "2022-10-24T13:09:58.093Z"
   },
   {
    "duration": 559,
    "start_time": "2022-10-24T13:09:58.168Z"
   },
   {
    "duration": 355,
    "start_time": "2022-10-24T13:09:58.729Z"
   },
   {
    "duration": 115,
    "start_time": "2022-10-24T13:09:59.086Z"
   },
   {
    "duration": 0,
    "start_time": "2022-10-24T13:09:59.202Z"
   },
   {
    "duration": 0,
    "start_time": "2022-10-24T13:09:59.204Z"
   },
   {
    "duration": 4,
    "start_time": "2022-10-24T13:10:11.752Z"
   },
   {
    "duration": 165253,
    "start_time": "2022-10-24T13:10:13.415Z"
   },
   {
    "duration": 221446,
    "start_time": "2022-10-24T13:13:00.676Z"
   },
   {
    "duration": 0,
    "start_time": "2022-10-24T13:16:42.126Z"
   },
   {
    "duration": 265778,
    "start_time": "2022-10-24T13:16:49.088Z"
   },
   {
    "duration": 15357,
    "start_time": "2022-10-24T13:23:20.404Z"
   },
   {
    "duration": 182,
    "start_time": "2022-10-24T13:25:23.479Z"
   },
   {
    "duration": 191,
    "start_time": "2022-10-24T13:25:29.863Z"
   },
   {
    "duration": 235,
    "start_time": "2022-10-24T13:27:16.322Z"
   },
   {
    "duration": 4,
    "start_time": "2022-10-24T13:29:51.498Z"
   },
   {
    "duration": 15823,
    "start_time": "2022-10-24T13:29:56.439Z"
   },
   {
    "duration": 16761,
    "start_time": "2022-10-24T13:30:47.196Z"
   },
   {
    "duration": 37177,
    "start_time": "2022-10-24T13:31:43.984Z"
   },
   {
    "duration": 4,
    "start_time": "2022-10-24T13:32:47.320Z"
   },
   {
    "duration": 56,
    "start_time": "2022-10-24T15:33:34.796Z"
   },
   {
    "duration": 1458,
    "start_time": "2022-10-24T15:33:40.940Z"
   },
   {
    "duration": 1104,
    "start_time": "2022-10-24T15:33:42.400Z"
   },
   {
    "duration": 18,
    "start_time": "2022-10-24T15:33:43.506Z"
   },
   {
    "duration": 4,
    "start_time": "2022-10-24T15:33:43.525Z"
   },
   {
    "duration": 42,
    "start_time": "2022-10-24T15:33:43.531Z"
   },
   {
    "duration": 202,
    "start_time": "2022-10-24T15:33:43.574Z"
   },
   {
    "duration": 77,
    "start_time": "2022-10-24T15:33:43.777Z"
   },
   {
    "duration": 33,
    "start_time": "2022-10-24T15:33:43.856Z"
   },
   {
    "duration": 111,
    "start_time": "2022-10-24T15:33:43.890Z"
   },
   {
    "duration": 1192,
    "start_time": "2022-10-24T15:33:44.004Z"
   },
   {
    "duration": 319,
    "start_time": "2022-10-24T15:33:45.197Z"
   },
   {
    "duration": 86,
    "start_time": "2022-10-24T15:33:45.518Z"
   },
   {
    "duration": 11,
    "start_time": "2022-10-24T15:33:45.605Z"
   },
   {
    "duration": 60,
    "start_time": "2022-10-24T15:33:45.617Z"
   },
   {
    "duration": 427,
    "start_time": "2022-10-24T15:33:45.678Z"
   },
   {
    "duration": 319,
    "start_time": "2022-10-24T15:33:46.107Z"
   },
   {
    "duration": 68,
    "start_time": "2022-10-24T15:33:46.428Z"
   },
   {
    "duration": 16838,
    "start_time": "2022-10-24T15:33:46.497Z"
   },
   {
    "duration": 0,
    "start_time": "2022-10-24T15:34:03.336Z"
   },
   {
    "duration": 0,
    "start_time": "2022-10-24T15:34:03.337Z"
   },
   {
    "duration": 0,
    "start_time": "2022-10-24T15:34:03.338Z"
   },
   {
    "duration": 14881,
    "start_time": "2022-10-24T15:34:11.103Z"
   },
   {
    "duration": 7390,
    "start_time": "2022-10-24T15:34:25.986Z"
   },
   {
    "duration": 6815,
    "start_time": "2022-10-24T15:35:19.676Z"
   },
   {
    "duration": 9595,
    "start_time": "2022-10-24T15:35:39.989Z"
   },
   {
    "duration": 4,
    "start_time": "2022-10-24T15:42:50.203Z"
   },
   {
    "duration": 79352,
    "start_time": "2022-10-24T15:43:00.138Z"
   },
   {
    "duration": 69,
    "start_time": "2022-10-24T15:44:21.581Z"
   },
   {
    "duration": 157743,
    "start_time": "2022-10-24T15:44:39.874Z"
   },
   {
    "duration": 192035,
    "start_time": "2022-10-24T15:47:22.859Z"
   },
   {
    "duration": 101174,
    "start_time": "2022-10-24T15:50:35.830Z"
   },
   {
    "duration": 320612,
    "start_time": "2022-10-24T15:52:18.776Z"
   },
   {
    "duration": 0,
    "start_time": "2022-10-24T15:57:39.391Z"
   },
   {
    "duration": 70735,
    "start_time": "2022-10-24T15:57:44.844Z"
   },
   {
    "duration": 23526,
    "start_time": "2022-10-24T15:59:16.331Z"
   },
   {
    "duration": 38571,
    "start_time": "2022-10-24T15:59:54.700Z"
   },
   {
    "duration": 43727,
    "start_time": "2022-10-24T16:00:35.362Z"
   },
   {
    "duration": 98654,
    "start_time": "2022-10-24T16:01:28.624Z"
   },
   {
    "duration": 9002,
    "start_time": "2022-10-24T16:04:16.033Z"
   },
   {
    "duration": 0,
    "start_time": "2022-10-24T16:04:32.902Z"
   },
   {
    "duration": 1110167,
    "start_time": "2022-10-24T16:05:06.842Z"
   },
   {
    "duration": 457202,
    "start_time": "2022-10-24T16:23:38.680Z"
   },
   {
    "duration": 179202,
    "start_time": "2022-10-24T16:34:34.888Z"
   },
   {
    "duration": 74,
    "start_time": "2022-10-27T13:44:22.606Z"
   },
   {
    "duration": 1470,
    "start_time": "2022-10-27T13:47:41.091Z"
   },
   {
    "duration": 1023,
    "start_time": "2022-10-27T13:47:42.562Z"
   },
   {
    "duration": 16,
    "start_time": "2022-10-27T13:47:43.586Z"
   },
   {
    "duration": 18,
    "start_time": "2022-10-27T13:47:43.604Z"
   },
   {
    "duration": 37,
    "start_time": "2022-10-27T13:47:43.623Z"
   },
   {
    "duration": 207,
    "start_time": "2022-10-27T13:47:43.662Z"
   },
   {
    "duration": 76,
    "start_time": "2022-10-27T13:47:43.871Z"
   },
   {
    "duration": 26,
    "start_time": "2022-10-27T13:47:43.949Z"
   },
   {
    "duration": 117,
    "start_time": "2022-10-27T13:47:43.977Z"
   },
   {
    "duration": 1209,
    "start_time": "2022-10-27T13:47:44.096Z"
   },
   {
    "duration": 248,
    "start_time": "2022-10-27T13:47:45.307Z"
   },
   {
    "duration": 72,
    "start_time": "2022-10-27T13:47:45.557Z"
   },
   {
    "duration": 13,
    "start_time": "2022-10-27T13:47:45.631Z"
   },
   {
    "duration": 59,
    "start_time": "2022-10-27T13:47:45.645Z"
   },
   {
    "duration": 456,
    "start_time": "2022-10-27T13:47:45.705Z"
   },
   {
    "duration": 323,
    "start_time": "2022-10-27T13:47:46.163Z"
   },
   {
    "duration": 58,
    "start_time": "2022-10-27T13:47:46.488Z"
   },
   {
    "duration": 112,
    "start_time": "2022-10-27T13:47:46.547Z"
   },
   {
    "duration": 0,
    "start_time": "2022-10-27T13:47:46.661Z"
   },
   {
    "duration": 0,
    "start_time": "2022-10-27T13:47:46.662Z"
   },
   {
    "duration": 0,
    "start_time": "2022-10-27T13:47:46.663Z"
   },
   {
    "duration": 0,
    "start_time": "2022-10-27T13:47:46.664Z"
   },
   {
    "duration": 0,
    "start_time": "2022-10-27T13:47:46.665Z"
   },
   {
    "duration": 1577988,
    "start_time": "2022-10-27T13:49:14.516Z"
   },
   {
    "duration": 91,
    "start_time": "2022-10-27T14:32:04.318Z"
   },
   {
    "duration": 10,
    "start_time": "2022-10-27T14:32:10.035Z"
   },
   {
    "duration": 3,
    "start_time": "2022-10-27T14:32:20.631Z"
   },
   {
    "duration": 2860,
    "start_time": "2022-10-27T14:32:34.649Z"
   },
   {
    "duration": 3290,
    "start_time": "2022-10-27T14:33:04.612Z"
   },
   {
    "duration": 3125,
    "start_time": "2022-10-27T14:33:19.987Z"
   },
   {
    "duration": 9320,
    "start_time": "2022-10-27T14:46:44.913Z"
   },
   {
    "duration": 9,
    "start_time": "2022-10-27T14:46:54.234Z"
   },
   {
    "duration": 1261375,
    "start_time": "2022-10-27T14:48:32.729Z"
   },
   {
    "duration": 4,
    "start_time": "2022-10-27T15:09:34.106Z"
   },
   {
    "duration": 3,
    "start_time": "2022-10-27T15:14:40.771Z"
   },
   {
    "duration": 6152,
    "start_time": "2022-10-27T15:14:43.050Z"
   },
   {
    "duration": 1697668,
    "start_time": "2022-10-27T15:15:12.745Z"
   },
   {
    "duration": 4,
    "start_time": "2022-10-27T15:43:30.414Z"
   },
   {
    "duration": 13088,
    "start_time": "2022-10-27T15:43:30.419Z"
   },
   {
    "duration": 93,
    "start_time": "2022-10-27T15:43:43.509Z"
   },
   {
    "duration": 3397,
    "start_time": "2022-10-27T15:43:43.604Z"
   },
   {
    "duration": 3,
    "start_time": "2022-10-27T21:01:47.801Z"
   },
   {
    "duration": 4617,
    "start_time": "2022-10-27T21:01:50.587Z"
   },
   {
    "duration": 3,
    "start_time": "2022-10-27T21:02:15.735Z"
   },
   {
    "duration": 3865,
    "start_time": "2022-10-27T21:02:16.846Z"
   },
   {
    "duration": 3,
    "start_time": "2022-10-27T21:02:28.276Z"
   },
   {
    "duration": 4443,
    "start_time": "2022-10-27T21:02:28.569Z"
   },
   {
    "duration": 3,
    "start_time": "2022-10-27T21:02:44.884Z"
   },
   {
    "duration": 5890,
    "start_time": "2022-10-27T21:02:46.811Z"
   },
   {
    "duration": 1416,
    "start_time": "2022-10-28T10:28:13.081Z"
   },
   {
    "duration": 3111,
    "start_time": "2022-10-28T10:28:14.499Z"
   },
   {
    "duration": 20,
    "start_time": "2022-10-28T10:28:17.612Z"
   },
   {
    "duration": 5,
    "start_time": "2022-10-28T10:28:17.635Z"
   },
   {
    "duration": 45,
    "start_time": "2022-10-28T10:28:17.641Z"
   },
   {
    "duration": 206,
    "start_time": "2022-10-28T10:28:17.689Z"
   },
   {
    "duration": 76,
    "start_time": "2022-10-28T10:28:17.906Z"
   },
   {
    "duration": 17,
    "start_time": "2022-10-28T10:28:18.974Z"
   },
   {
    "duration": 94,
    "start_time": "2022-10-28T10:28:19.478Z"
   },
   {
    "duration": 1047,
    "start_time": "2022-10-28T10:28:20.760Z"
   },
   {
    "duration": 302,
    "start_time": "2022-10-28T10:28:21.809Z"
   },
   {
    "duration": 71,
    "start_time": "2022-10-28T10:28:22.113Z"
   },
   {
    "duration": 11,
    "start_time": "2022-10-28T10:28:22.709Z"
   },
   {
    "duration": 50,
    "start_time": "2022-10-28T10:28:23.333Z"
   },
   {
    "duration": 367,
    "start_time": "2022-10-28T10:28:24.805Z"
   },
   {
    "duration": 304,
    "start_time": "2022-10-28T10:28:26.587Z"
   },
   {
    "duration": 652183,
    "start_time": "2022-10-28T10:30:26.897Z"
   },
   {
    "duration": 0,
    "start_time": "2022-10-28T10:41:19.093Z"
   },
   {
    "duration": 0,
    "start_time": "2022-10-28T10:41:19.094Z"
   },
   {
    "duration": 0,
    "start_time": "2022-10-28T10:41:19.095Z"
   },
   {
    "duration": 63,
    "start_time": "2022-10-28T10:44:28.387Z"
   },
   {
    "duration": 6744955,
    "start_time": "2022-10-28T10:44:37.044Z"
   },
   {
    "duration": 87,
    "start_time": "2022-10-28T12:37:25.348Z"
   },
   {
    "duration": 73,
    "start_time": "2022-10-28T12:50:40.114Z"
   },
   {
    "duration": 5908,
    "start_time": "2022-10-28T12:50:40.189Z"
   },
   {
    "duration": 34768,
    "start_time": "2022-10-28T12:50:48.233Z"
   },
   {
    "duration": 44602,
    "start_time": "2022-10-28T12:51:33.407Z"
   },
   {
    "duration": 143613,
    "start_time": "2022-10-28T12:52:39.631Z"
   },
   {
    "duration": 214159,
    "start_time": "2022-10-28T12:55:11.983Z"
   },
   {
    "duration": 253845,
    "start_time": "2022-10-28T12:58:47.567Z"
   },
   {
    "duration": 35630,
    "start_time": "2022-10-28T13:22:20.210Z"
   },
   {
    "duration": 7535,
    "start_time": "2022-10-28T13:22:58.094Z"
   },
   {
    "duration": 616671,
    "start_time": "2022-10-28T13:23:07.238Z"
   },
   {
    "duration": 108,
    "start_time": "2022-10-28T14:09:26.536Z"
   },
   {
    "duration": 875,
    "start_time": "2022-10-28T14:09:32.732Z"
   },
   {
    "duration": 928,
    "start_time": "2022-10-28T14:09:39.907Z"
   },
   {
    "duration": 805,
    "start_time": "2022-10-28T14:09:43.316Z"
   },
   {
    "duration": 13371,
    "start_time": "2022-10-28T14:09:58.442Z"
   },
   {
    "duration": 290,
    "start_time": "2022-10-28T14:10:11.816Z"
   },
   {
    "duration": 138,
    "start_time": "2022-10-28T14:10:12.108Z"
   },
   {
    "duration": 8,
    "start_time": "2022-10-28T14:10:12.248Z"
   },
   {
    "duration": 47,
    "start_time": "2022-10-28T14:10:17.819Z"
   },
   {
    "duration": 7271,
    "start_time": "2022-10-28T14:10:24.857Z"
   },
   {
    "duration": 66,
    "start_time": "2022-10-28T14:10:32.130Z"
   },
   {
    "duration": 55,
    "start_time": "2022-10-28T14:40:39.083Z"
   },
   {
    "duration": 7431,
    "start_time": "2022-10-28T14:41:45.472Z"
   },
   {
    "duration": 53,
    "start_time": "2022-10-28T14:41:56.801Z"
   },
   {
    "duration": 11508,
    "start_time": "2022-10-28T14:42:05.849Z"
   },
   {
    "duration": 75,
    "start_time": "2022-10-28T14:42:53.996Z"
   },
   {
    "duration": 18142,
    "start_time": "2022-10-28T14:43:09.657Z"
   },
   {
    "duration": 84,
    "start_time": "2022-10-28T14:44:01.554Z"
   },
   {
    "duration": 23052,
    "start_time": "2022-10-28T14:51:31.441Z"
   },
   {
    "duration": 19269,
    "start_time": "2022-10-28T14:52:28.357Z"
   },
   {
    "duration": 11038,
    "start_time": "2022-10-28T14:52:57.152Z"
   },
   {
    "duration": 20851,
    "start_time": "2022-10-28T14:53:09.873Z"
   },
   {
    "duration": 368051,
    "start_time": "2022-10-28T14:53:40.258Z"
   },
   {
    "duration": 867,
    "start_time": "2022-10-28T15:00:25.440Z"
   },
   {
    "duration": 2443117,
    "start_time": "2022-10-28T15:00:43.792Z"
   },
   {
    "duration": 173,
    "start_time": "2022-10-28T18:01:05.992Z"
   },
   {
    "duration": 113,
    "start_time": "2022-10-28T18:01:18.850Z"
   },
   {
    "duration": 118,
    "start_time": "2022-10-28T18:01:26.636Z"
   },
   {
    "duration": 122,
    "start_time": "2022-10-28T18:01:53.319Z"
   },
   {
    "duration": 135,
    "start_time": "2022-10-28T18:01:58.919Z"
   },
   {
    "duration": 226,
    "start_time": "2022-10-28T18:02:07.832Z"
   },
   {
    "duration": 147,
    "start_time": "2022-10-28T18:02:13.427Z"
   },
   {
    "duration": 119,
    "start_time": "2022-10-28T18:02:29.989Z"
   },
   {
    "duration": 867,
    "start_time": "2022-10-28T18:02:48.365Z"
   },
   {
    "duration": 147922,
    "start_time": "2022-10-28T18:03:32.296Z"
   },
   {
    "duration": 15,
    "start_time": "2022-10-28T18:06:00.219Z"
   },
   {
    "duration": 37,
    "start_time": "2022-10-28T18:06:37.513Z"
   },
   {
    "duration": 34,
    "start_time": "2022-10-28T18:06:38.816Z"
   },
   {
    "duration": 30117,
    "start_time": "2022-10-28T18:06:41.706Z"
   },
   {
    "duration": 14,
    "start_time": "2022-10-28T18:07:13.086Z"
   },
   {
    "duration": 9,
    "start_time": "2022-10-28T18:08:07.301Z"
   },
   {
    "duration": 70,
    "start_time": "2022-10-28T18:08:44.722Z"
   },
   {
    "duration": 10,
    "start_time": "2022-10-28T18:08:49.511Z"
   },
   {
    "duration": 78,
    "start_time": "2022-10-28T18:09:08.074Z"
   },
   {
    "duration": 4,
    "start_time": "2022-10-28T18:09:13.861Z"
   },
   {
    "duration": 91,
    "start_time": "2022-10-28T18:09:30.016Z"
   },
   {
    "duration": 71,
    "start_time": "2022-10-28T18:10:00.852Z"
   },
   {
    "duration": 82,
    "start_time": "2022-10-28T18:10:13.935Z"
   },
   {
    "duration": 97,
    "start_time": "2022-10-28T18:10:21.955Z"
   },
   {
    "duration": 5,
    "start_time": "2022-10-28T18:10:27.930Z"
   },
   {
    "duration": 92,
    "start_time": "2022-10-28T18:10:39.932Z"
   },
   {
    "duration": 66,
    "start_time": "2022-10-28T18:11:08.443Z"
   },
   {
    "duration": 9,
    "start_time": "2022-10-28T18:13:12.988Z"
   },
   {
    "duration": 12,
    "start_time": "2022-10-28T18:13:22.233Z"
   },
   {
    "duration": 13,
    "start_time": "2022-10-28T18:13:30.655Z"
   },
   {
    "duration": 12,
    "start_time": "2022-10-28T18:13:47.072Z"
   },
   {
    "duration": 68,
    "start_time": "2022-10-28T18:14:28.095Z"
   },
   {
    "duration": 75,
    "start_time": "2022-10-28T18:14:35.576Z"
   },
   {
    "duration": 75,
    "start_time": "2022-10-28T18:14:46.507Z"
   },
   {
    "duration": 3,
    "start_time": "2022-10-28T18:14:50.724Z"
   },
   {
    "duration": 16,
    "start_time": "2022-10-28T18:14:59.607Z"
   },
   {
    "duration": 76,
    "start_time": "2022-10-28T18:15:22.903Z"
   },
   {
    "duration": 8,
    "start_time": "2022-10-28T18:15:31.613Z"
   },
   {
    "duration": 7,
    "start_time": "2022-10-28T18:15:43.344Z"
   },
   {
    "duration": 69,
    "start_time": "2022-10-28T18:15:57.053Z"
   },
   {
    "duration": 7,
    "start_time": "2022-10-28T18:16:00.845Z"
   },
   {
    "duration": 9,
    "start_time": "2022-10-28T18:16:09.040Z"
   },
   {
    "duration": 1433,
    "start_time": "2022-10-28T18:18:52.154Z"
   },
   {
    "duration": 1744,
    "start_time": "2022-10-28T18:18:53.588Z"
   },
   {
    "duration": 18,
    "start_time": "2022-10-28T18:18:55.334Z"
   },
   {
    "duration": 4,
    "start_time": "2022-10-28T18:18:55.355Z"
   },
   {
    "duration": 34,
    "start_time": "2022-10-28T18:18:55.360Z"
   },
   {
    "duration": 215,
    "start_time": "2022-10-28T18:18:55.395Z"
   },
   {
    "duration": 73,
    "start_time": "2022-10-28T18:18:55.612Z"
   },
   {
    "duration": 24,
    "start_time": "2022-10-28T18:18:55.687Z"
   },
   {
    "duration": 101,
    "start_time": "2022-10-28T18:18:55.713Z"
   },
   {
    "duration": 1117,
    "start_time": "2022-10-28T18:18:55.816Z"
   },
   {
    "duration": 327,
    "start_time": "2022-10-28T18:18:56.934Z"
   },
   {
    "duration": 92,
    "start_time": "2022-10-28T18:18:57.263Z"
   },
   {
    "duration": 12,
    "start_time": "2022-10-28T18:18:57.357Z"
   },
   {
    "duration": 90,
    "start_time": "2022-10-28T18:18:57.372Z"
   },
   {
    "duration": 390,
    "start_time": "2022-10-28T18:18:57.464Z"
   },
   {
    "duration": 336,
    "start_time": "2022-10-28T18:18:57.856Z"
   },
   {
    "duration": 339928,
    "start_time": "2022-10-28T18:18:58.194Z"
   },
   {
    "duration": 96,
    "start_time": "2022-10-28T18:24:38.124Z"
   },
   {
    "duration": 17689,
    "start_time": "2022-10-28T18:24:38.222Z"
   },
   {
    "duration": 299,
    "start_time": "2022-10-28T18:24:55.913Z"
   },
   {
    "duration": 17680,
    "start_time": "2022-10-28T18:24:56.214Z"
   },
   {
    "duration": 91,
    "start_time": "2022-10-28T18:25:13.895Z"
   },
   {
    "duration": 18,
    "start_time": "2022-10-28T18:25:13.988Z"
   },
   {
    "duration": 0,
    "start_time": "2022-10-28T18:25:14.007Z"
   },
   {
    "duration": 0,
    "start_time": "2022-10-28T18:25:14.010Z"
   },
   {
    "duration": 108953,
    "start_time": "2022-10-28T18:27:40.953Z"
   },
   {
    "duration": 1286,
    "start_time": "2022-10-28T18:31:43.628Z"
   },
   {
    "duration": 744,
    "start_time": "2022-10-28T18:31:44.916Z"
   },
   {
    "duration": 18,
    "start_time": "2022-10-28T18:31:45.661Z"
   },
   {
    "duration": 4,
    "start_time": "2022-10-28T18:31:45.681Z"
   },
   {
    "duration": 47,
    "start_time": "2022-10-28T18:31:45.687Z"
   },
   {
    "duration": 190,
    "start_time": "2022-10-28T18:31:45.736Z"
   },
   {
    "duration": 78,
    "start_time": "2022-10-28T18:31:45.928Z"
   },
   {
    "duration": 18,
    "start_time": "2022-10-28T18:31:46.008Z"
   },
   {
    "duration": 104,
    "start_time": "2022-10-28T18:31:46.027Z"
   },
   {
    "duration": 1114,
    "start_time": "2022-10-28T18:31:46.133Z"
   },
   {
    "duration": 375,
    "start_time": "2022-10-28T18:31:47.249Z"
   },
   {
    "duration": 83,
    "start_time": "2022-10-28T18:31:47.626Z"
   },
   {
    "duration": 10,
    "start_time": "2022-10-28T18:31:47.711Z"
   },
   {
    "duration": 44,
    "start_time": "2022-10-28T18:31:47.723Z"
   },
   {
    "duration": 430,
    "start_time": "2022-10-28T18:31:47.769Z"
   },
   {
    "duration": 323,
    "start_time": "2022-10-28T18:31:48.200Z"
   },
   {
    "duration": 365468,
    "start_time": "2022-10-28T18:31:48.525Z"
   },
   {
    "duration": 75,
    "start_time": "2022-10-28T18:37:53.994Z"
   },
   {
    "duration": 17945,
    "start_time": "2022-10-28T18:37:54.071Z"
   },
   {
    "duration": 310,
    "start_time": "2022-10-28T18:38:12.018Z"
   },
   {
    "duration": 5017,
    "start_time": "2022-10-28T18:38:12.330Z"
   },
   {
    "duration": 111,
    "start_time": "2022-10-28T18:38:17.349Z"
   },
   {
    "duration": 12,
    "start_time": "2022-10-28T18:38:17.462Z"
   },
   {
    "duration": 0,
    "start_time": "2022-10-28T18:38:17.476Z"
   },
   {
    "duration": 0,
    "start_time": "2022-10-28T18:38:17.479Z"
   },
   {
    "duration": 1015,
    "start_time": "2022-10-28T18:38:19.341Z"
   },
   {
    "duration": 72,
    "start_time": "2022-10-28T18:38:55.669Z"
   },
   {
    "duration": 61,
    "start_time": "2022-10-28T18:39:07.281Z"
   },
   {
    "duration": 502,
    "start_time": "2022-10-28T18:39:12.217Z"
   },
   {
    "duration": 125097,
    "start_time": "2022-10-28T18:39:57.368Z"
   },
   {
    "duration": 1356,
    "start_time": "2022-10-28T18:42:13.194Z"
   },
   {
    "duration": 799,
    "start_time": "2022-10-28T18:42:14.552Z"
   },
   {
    "duration": 16,
    "start_time": "2022-10-28T18:42:15.353Z"
   },
   {
    "duration": 7,
    "start_time": "2022-10-28T18:42:15.371Z"
   },
   {
    "duration": 41,
    "start_time": "2022-10-28T18:42:15.379Z"
   },
   {
    "duration": 219,
    "start_time": "2022-10-28T18:42:15.422Z"
   },
   {
    "duration": 76,
    "start_time": "2022-10-28T18:42:15.643Z"
   },
   {
    "duration": 26,
    "start_time": "2022-10-28T18:42:15.721Z"
   },
   {
    "duration": 127,
    "start_time": "2022-10-28T18:42:15.749Z"
   },
   {
    "duration": 1240,
    "start_time": "2022-10-28T18:42:15.879Z"
   },
   {
    "duration": 359,
    "start_time": "2022-10-28T18:42:17.121Z"
   },
   {
    "duration": 92,
    "start_time": "2022-10-28T18:42:17.482Z"
   },
   {
    "duration": 11,
    "start_time": "2022-10-28T18:42:17.576Z"
   },
   {
    "duration": 92,
    "start_time": "2022-10-28T18:42:17.589Z"
   },
   {
    "duration": 442,
    "start_time": "2022-10-28T18:42:17.684Z"
   },
   {
    "duration": 323,
    "start_time": "2022-10-28T18:42:18.131Z"
   },
   {
    "duration": 4848578,
    "start_time": "2022-10-28T18:42:18.456Z"
   },
   {
    "duration": 980,
    "start_time": "2022-10-28T20:03:07.036Z"
   },
   {
    "duration": 15194,
    "start_time": "2022-10-28T20:03:08.018Z"
   },
   {
    "duration": 298,
    "start_time": "2022-10-28T20:03:23.213Z"
   },
   {
    "duration": 17599,
    "start_time": "2022-10-28T20:03:23.604Z"
   },
   {
    "duration": 92,
    "start_time": "2022-10-28T20:03:41.205Z"
   },
   {
    "duration": 9,
    "start_time": "2022-10-28T20:03:41.307Z"
   },
   {
    "duration": 142,
    "start_time": "2022-10-28T20:03:41.319Z"
   },
   {
    "duration": 1610,
    "start_time": "2022-10-29T11:29:35.338Z"
   },
   {
    "duration": 1307,
    "start_time": "2022-10-29T11:29:36.953Z"
   },
   {
    "duration": 15,
    "start_time": "2022-10-29T11:29:38.262Z"
   },
   {
    "duration": 6,
    "start_time": "2022-10-29T11:29:38.279Z"
   },
   {
    "duration": 33,
    "start_time": "2022-10-29T11:29:38.286Z"
   },
   {
    "duration": 262,
    "start_time": "2022-10-29T11:29:39.069Z"
   },
   {
    "duration": 97,
    "start_time": "2022-10-29T11:29:39.448Z"
   },
   {
    "duration": 130,
    "start_time": "2022-10-29T11:29:41.764Z"
   },
   {
    "duration": 1641,
    "start_time": "2022-10-29T11:29:44.261Z"
   },
   {
    "duration": 499,
    "start_time": "2022-10-29T11:30:54.193Z"
   },
   {
    "duration": 437,
    "start_time": "2022-10-29T11:31:34.707Z"
   },
   {
    "duration": 407,
    "start_time": "2022-10-29T11:31:41.665Z"
   },
   {
    "duration": 447,
    "start_time": "2022-10-29T11:32:01.848Z"
   },
   {
    "duration": 117,
    "start_time": "2022-10-29T11:54:50.541Z"
   },
   {
    "duration": 4,
    "start_time": "2022-10-29T11:55:11.119Z"
   },
   {
    "duration": 3,
    "start_time": "2022-10-29T11:55:18.307Z"
   },
   {
    "duration": 798,
    "start_time": "2022-10-29T11:55:19.365Z"
   },
   {
    "duration": 12,
    "start_time": "2022-10-29T11:55:20.164Z"
   },
   {
    "duration": 7,
    "start_time": "2022-10-29T11:55:20.536Z"
   },
   {
    "duration": 33,
    "start_time": "2022-10-29T11:55:22.006Z"
   },
   {
    "duration": 188,
    "start_time": "2022-10-29T11:55:23.374Z"
   },
   {
    "duration": 88,
    "start_time": "2022-10-29T11:55:24.145Z"
   },
   {
    "duration": 105,
    "start_time": "2022-10-29T11:55:27.311Z"
   },
   {
    "duration": 1755,
    "start_time": "2022-10-29T11:55:28.861Z"
   },
   {
    "duration": 368,
    "start_time": "2022-10-29T11:55:32.241Z"
   },
   {
    "duration": 467,
    "start_time": "2022-10-29T11:55:32.718Z"
   },
   {
    "duration": 103,
    "start_time": "2022-10-29T11:55:34.479Z"
   },
   {
    "duration": 10,
    "start_time": "2022-10-29T11:55:39.441Z"
   },
   {
    "duration": 72,
    "start_time": "2022-10-29T11:55:39.806Z"
   },
   {
    "duration": 394,
    "start_time": "2022-10-29T11:55:40.649Z"
   },
   {
    "duration": 337,
    "start_time": "2022-10-29T11:55:42.917Z"
   },
   {
    "duration": 2,
    "start_time": "2022-10-29T11:55:49.990Z"
   },
   {
    "duration": 36236,
    "start_time": "2022-10-29T11:55:50.614Z"
   },
   {
    "duration": 287828,
    "start_time": "2022-10-29T11:56:43.205Z"
   },
   {
    "duration": 117473,
    "start_time": "2022-10-29T12:03:20.976Z"
   },
   {
    "duration": 45,
    "start_time": "2022-10-29T12:06:55.248Z"
   },
   {
    "duration": 1397,
    "start_time": "2022-10-29T12:07:10.942Z"
   },
   {
    "duration": 855,
    "start_time": "2022-10-29T12:07:12.345Z"
   },
   {
    "duration": 15,
    "start_time": "2022-10-29T12:07:13.202Z"
   },
   {
    "duration": 20,
    "start_time": "2022-10-29T12:07:13.219Z"
   },
   {
    "duration": 37,
    "start_time": "2022-10-29T12:07:13.243Z"
   },
   {
    "duration": 232,
    "start_time": "2022-10-29T12:07:13.281Z"
   },
   {
    "duration": 98,
    "start_time": "2022-10-29T12:07:13.515Z"
   },
   {
    "duration": 137,
    "start_time": "2022-10-29T12:07:13.614Z"
   },
   {
    "duration": 1706,
    "start_time": "2022-10-29T12:07:13.756Z"
   },
   {
    "duration": 450,
    "start_time": "2022-10-29T12:07:15.463Z"
   },
   {
    "duration": 448,
    "start_time": "2022-10-29T12:07:15.914Z"
   },
   {
    "duration": 120,
    "start_time": "2022-10-29T12:07:16.363Z"
   },
   {
    "duration": 10,
    "start_time": "2022-10-29T12:07:16.484Z"
   },
   {
    "duration": 73,
    "start_time": "2022-10-29T12:07:16.497Z"
   },
   {
    "duration": 379,
    "start_time": "2022-10-29T12:07:16.572Z"
   },
   {
    "duration": 345,
    "start_time": "2022-10-29T12:07:16.953Z"
   },
   {
    "duration": 2,
    "start_time": "2022-10-29T12:07:17.300Z"
   },
   {
    "duration": 1425,
    "start_time": "2022-10-29T12:07:44.745Z"
   },
   {
    "duration": 817,
    "start_time": "2022-10-29T12:07:46.172Z"
   },
   {
    "duration": 15,
    "start_time": "2022-10-29T12:07:46.993Z"
   },
   {
    "duration": 20,
    "start_time": "2022-10-29T12:07:47.021Z"
   },
   {
    "duration": 38,
    "start_time": "2022-10-29T12:07:47.043Z"
   },
   {
    "duration": 217,
    "start_time": "2022-10-29T12:07:47.083Z"
   },
   {
    "duration": 101,
    "start_time": "2022-10-29T12:07:47.302Z"
   },
   {
    "duration": 156,
    "start_time": "2022-10-29T12:07:47.405Z"
   },
   {
    "duration": 1794,
    "start_time": "2022-10-29T12:07:47.563Z"
   },
   {
    "duration": 431,
    "start_time": "2022-10-29T12:07:49.358Z"
   },
   {
    "duration": 451,
    "start_time": "2022-10-29T12:07:49.791Z"
   },
   {
    "duration": 108,
    "start_time": "2022-10-29T12:07:50.243Z"
   },
   {
    "duration": 21,
    "start_time": "2022-10-29T12:07:50.353Z"
   },
   {
    "duration": 74,
    "start_time": "2022-10-29T12:07:50.376Z"
   },
   {
    "duration": 408,
    "start_time": "2022-10-29T12:07:50.452Z"
   },
   {
    "duration": 343,
    "start_time": "2022-10-29T12:07:50.861Z"
   },
   {
    "duration": 2,
    "start_time": "2022-10-29T12:07:51.205Z"
   },
   {
    "duration": 116340,
    "start_time": "2022-10-29T12:07:51.209Z"
   },
   {
    "duration": 75,
    "start_time": "2022-10-29T12:09:47.551Z"
   },
   {
    "duration": 306,
    "start_time": "2022-10-29T12:09:47.628Z"
   },
   {
    "duration": 19620,
    "start_time": "2022-10-29T12:09:47.936Z"
   },
   {
    "duration": 110,
    "start_time": "2022-10-29T12:10:07.557Z"
   },
   {
    "duration": 115,
    "start_time": "2022-10-29T12:10:07.669Z"
   },
   {
    "duration": 0,
    "start_time": "2022-10-29T12:10:07.786Z"
   },
   {
    "duration": 120039,
    "start_time": "2022-10-29T12:15:34.508Z"
   },
   {
    "duration": 74,
    "start_time": "2022-10-29T12:17:34.550Z"
   },
   {
    "duration": 0,
    "start_time": "2022-10-29T12:19:11.644Z"
   },
   {
    "duration": 60557,
    "start_time": "2022-10-29T12:22:01.382Z"
   },
   {
    "duration": 0,
    "start_time": "2022-10-29T12:25:13.667Z"
   },
   {
    "duration": 48191,
    "start_time": "2022-10-29T12:36:22.750Z"
   },
   {
    "duration": 4,
    "start_time": "2022-10-29T12:37:18.651Z"
   },
   {
    "duration": 4,
    "start_time": "2022-10-29T12:37:25.757Z"
   },
   {
    "duration": 15,
    "start_time": "2022-10-29T12:37:31.617Z"
   },
   {
    "duration": 4,
    "start_time": "2022-10-29T12:37:47.773Z"
   },
   {
    "duration": 110382,
    "start_time": "2022-10-29T12:39:42.953Z"
   },
   {
    "duration": 107894,
    "start_time": "2022-10-29T13:11:56.337Z"
   },
   {
    "duration": 4,
    "start_time": "2022-10-29T13:44:16.790Z"
   },
   {
    "duration": 787,
    "start_time": "2022-10-29T13:44:17.174Z"
   },
   {
    "duration": 11,
    "start_time": "2022-10-29T13:44:17.963Z"
   },
   {
    "duration": 6,
    "start_time": "2022-10-29T13:44:17.976Z"
   },
   {
    "duration": 17,
    "start_time": "2022-10-29T13:44:18.064Z"
   },
   {
    "duration": 182,
    "start_time": "2022-10-29T13:44:18.533Z"
   },
   {
    "duration": 94,
    "start_time": "2022-10-29T13:44:18.717Z"
   },
   {
    "duration": 143,
    "start_time": "2022-10-29T13:44:18.990Z"
   },
   {
    "duration": 1619,
    "start_time": "2022-10-29T13:44:19.615Z"
   },
   {
    "duration": 328,
    "start_time": "2022-10-29T13:44:21.236Z"
   },
   {
    "duration": 397,
    "start_time": "2022-10-29T13:44:21.566Z"
   },
   {
    "duration": 93,
    "start_time": "2022-10-29T13:44:21.965Z"
   },
   {
    "duration": 10,
    "start_time": "2022-10-29T13:44:26.039Z"
   },
   {
    "duration": 59,
    "start_time": "2022-10-29T13:44:26.278Z"
   },
   {
    "duration": 365,
    "start_time": "2022-10-29T13:44:27.228Z"
   },
   {
    "duration": 322,
    "start_time": "2022-10-29T13:44:30.710Z"
   },
   {
    "duration": 128,
    "start_time": "2022-10-29T13:44:32.428Z"
   },
   {
    "duration": 93933,
    "start_time": "2022-10-29T13:45:25.794Z"
   },
   {
    "duration": 106772,
    "start_time": "2022-10-29T13:47:51.375Z"
   },
   {
    "duration": 110381,
    "start_time": "2022-10-29T13:50:19.677Z"
   },
   {
    "duration": 139438,
    "start_time": "2022-10-29T13:53:05.095Z"
   },
   {
    "duration": 8,
    "start_time": "2022-10-29T13:59:33.689Z"
   },
   {
    "duration": 8,
    "start_time": "2022-10-29T13:59:45.562Z"
   },
   {
    "duration": 9,
    "start_time": "2022-10-29T13:59:48.817Z"
   },
   {
    "duration": 5,
    "start_time": "2022-10-29T14:00:12.595Z"
   },
   {
    "duration": 4,
    "start_time": "2022-10-29T14:00:15.539Z"
   },
   {
    "duration": 4,
    "start_time": "2022-10-29T14:00:24.675Z"
   },
   {
    "duration": 4,
    "start_time": "2022-10-29T14:00:29.274Z"
   },
   {
    "duration": 3,
    "start_time": "2022-10-29T14:00:34.595Z"
   },
   {
    "duration": 1311,
    "start_time": "2022-10-29T14:01:07.217Z"
   },
   {
    "duration": 790,
    "start_time": "2022-10-29T14:01:08.530Z"
   },
   {
    "duration": 15,
    "start_time": "2022-10-29T14:01:09.321Z"
   },
   {
    "duration": 28,
    "start_time": "2022-10-29T14:01:09.338Z"
   },
   {
    "duration": 54,
    "start_time": "2022-10-29T14:01:09.368Z"
   },
   {
    "duration": 204,
    "start_time": "2022-10-29T14:01:09.423Z"
   },
   {
    "duration": 83,
    "start_time": "2022-10-29T14:01:09.628Z"
   },
   {
    "duration": 131,
    "start_time": "2022-10-29T14:01:09.712Z"
   },
   {
    "duration": 1425,
    "start_time": "2022-10-29T14:01:09.845Z"
   },
   {
    "duration": 386,
    "start_time": "2022-10-29T14:01:11.273Z"
   },
   {
    "duration": 355,
    "start_time": "2022-10-29T14:01:11.660Z"
   },
   {
    "duration": 93,
    "start_time": "2022-10-29T14:01:12.016Z"
   },
   {
    "duration": 29,
    "start_time": "2022-10-29T14:01:12.110Z"
   },
   {
    "duration": 59,
    "start_time": "2022-10-29T14:01:12.140Z"
   },
   {
    "duration": 972,
    "start_time": "2022-10-29T14:01:12.200Z"
   },
   {
    "duration": 0,
    "start_time": "2022-10-29T14:01:13.174Z"
   },
   {
    "duration": 0,
    "start_time": "2022-10-29T14:01:13.175Z"
   },
   {
    "duration": 0,
    "start_time": "2022-10-29T14:01:13.176Z"
   },
   {
    "duration": 0,
    "start_time": "2022-10-29T14:01:13.177Z"
   },
   {
    "duration": 0,
    "start_time": "2022-10-29T14:01:13.178Z"
   },
   {
    "duration": 1,
    "start_time": "2022-10-29T14:01:13.179Z"
   },
   {
    "duration": 0,
    "start_time": "2022-10-29T14:01:13.180Z"
   },
   {
    "duration": 0,
    "start_time": "2022-10-29T14:01:13.182Z"
   },
   {
    "duration": 0,
    "start_time": "2022-10-29T14:01:13.183Z"
   },
   {
    "duration": 657,
    "start_time": "2022-10-29T14:18:16.917Z"
   },
   {
    "duration": 41,
    "start_time": "2022-10-29T14:18:23.647Z"
   },
   {
    "duration": 133,
    "start_time": "2022-10-29T14:18:24.844Z"
   },
   {
    "duration": 1057,
    "start_time": "2022-10-29T14:18:31.074Z"
   },
   {
    "duration": 8,
    "start_time": "2022-10-29T14:18:32.137Z"
   },
   {
    "duration": 49,
    "start_time": "2022-10-29T14:18:32.344Z"
   },
   {
    "duration": 4,
    "start_time": "2022-10-29T14:19:02.035Z"
   },
   {
    "duration": 69,
    "start_time": "2022-10-29T14:21:20.290Z"
   },
   {
    "duration": 43,
    "start_time": "2022-10-29T14:21:26.858Z"
   },
   {
    "duration": 17,
    "start_time": "2022-10-29T14:21:33.433Z"
   },
   {
    "duration": 46,
    "start_time": "2022-10-29T14:22:31.868Z"
   },
   {
    "duration": 1363,
    "start_time": "2022-10-29T14:28:17.308Z"
   },
   {
    "duration": 870,
    "start_time": "2022-10-29T14:28:18.673Z"
   },
   {
    "duration": 16,
    "start_time": "2022-10-29T14:28:19.544Z"
   },
   {
    "duration": 4,
    "start_time": "2022-10-29T14:28:19.562Z"
   },
   {
    "duration": 30,
    "start_time": "2022-10-29T14:28:19.567Z"
   },
   {
    "duration": 216,
    "start_time": "2022-10-29T14:28:19.599Z"
   },
   {
    "duration": 97,
    "start_time": "2022-10-29T14:28:19.816Z"
   },
   {
    "duration": 124,
    "start_time": "2022-10-29T14:28:19.914Z"
   },
   {
    "duration": 1647,
    "start_time": "2022-10-29T14:28:20.040Z"
   },
   {
    "duration": 416,
    "start_time": "2022-10-29T14:28:21.690Z"
   },
   {
    "duration": 412,
    "start_time": "2022-10-29T14:28:22.108Z"
   },
   {
    "duration": 103,
    "start_time": "2022-10-29T14:28:22.528Z"
   },
   {
    "duration": 23,
    "start_time": "2022-10-29T14:28:22.633Z"
   },
   {
    "duration": 54,
    "start_time": "2022-10-29T14:28:22.657Z"
   },
   {
    "duration": 827,
    "start_time": "2022-10-29T14:28:22.712Z"
   },
   {
    "duration": 44,
    "start_time": "2022-10-29T14:28:23.541Z"
   },
   {
    "duration": 152,
    "start_time": "2022-10-29T14:28:23.587Z"
   },
   {
    "duration": 761206,
    "start_time": "2022-10-29T14:28:23.741Z"
   },
   {
    "duration": 697,
    "start_time": "2022-10-29T14:41:04.949Z"
   },
   {
    "duration": 1088,
    "start_time": "2022-10-29T14:41:05.648Z"
   },
   {
    "duration": 131,
    "start_time": "2022-10-29T14:41:06.738Z"
   },
   {
    "duration": 69,
    "start_time": "2022-10-29T14:41:06.871Z"
   },
   {
    "duration": 103,
    "start_time": "2022-10-29T14:41:06.942Z"
   },
   {
    "duration": 76435,
    "start_time": "2022-10-29T14:41:07.047Z"
   },
   {
    "duration": 18812,
    "start_time": "2022-10-29T14:42:23.484Z"
   },
   {
    "duration": 55,
    "start_time": "2022-10-29T14:42:42.297Z"
   },
   {
    "duration": 4,
    "start_time": "2022-10-29T14:42:42.354Z"
   },
   {
    "duration": 9,
    "start_time": "2022-10-29T14:42:42.360Z"
   },
   {
    "duration": 137,
    "start_time": "2022-10-29T14:42:42.370Z"
   },
   {
    "duration": 4,
    "start_time": "2022-10-29T15:15:22.153Z"
   },
   {
    "duration": 5,
    "start_time": "2022-10-29T15:15:58.460Z"
   },
   {
    "duration": 116,
    "start_time": "2022-10-29T15:16:42.379Z"
   },
   {
    "duration": 8,
    "start_time": "2022-10-29T15:16:49.369Z"
   },
   {
    "duration": 555,
    "start_time": "2022-10-29T15:18:13.388Z"
   },
   {
    "duration": 4,
    "start_time": "2022-10-29T15:18:18.709Z"
   },
   {
    "duration": 3,
    "start_time": "2022-10-29T15:27:46.865Z"
   },
   {
    "duration": 10,
    "start_time": "2022-10-29T15:27:57.610Z"
   },
   {
    "duration": 8,
    "start_time": "2022-10-29T15:28:55.555Z"
   },
   {
    "duration": 5,
    "start_time": "2022-10-29T15:29:02.267Z"
   },
   {
    "duration": 3,
    "start_time": "2022-10-29T15:29:42.109Z"
   },
   {
    "duration": 52,
    "start_time": "2022-10-29T15:31:45.001Z"
   },
   {
    "duration": 56,
    "start_time": "2022-10-29T15:31:49.008Z"
   },
   {
    "duration": 48,
    "start_time": "2022-10-29T15:31:51.434Z"
   },
   {
    "duration": 14,
    "start_time": "2022-10-29T15:34:55.096Z"
   },
   {
    "duration": 7,
    "start_time": "2022-10-29T15:35:13.911Z"
   },
   {
    "duration": 9,
    "start_time": "2022-10-29T15:35:32.133Z"
   },
   {
    "duration": 7,
    "start_time": "2022-10-29T15:35:51.564Z"
   },
   {
    "duration": 101,
    "start_time": "2022-10-29T15:37:02.805Z"
   },
   {
    "duration": 4,
    "start_time": "2022-10-29T15:37:10.397Z"
   },
   {
    "duration": 4,
    "start_time": "2022-10-29T15:37:17.934Z"
   },
   {
    "duration": 4,
    "start_time": "2022-10-29T15:37:27.935Z"
   },
   {
    "duration": 5,
    "start_time": "2022-10-29T15:37:36.533Z"
   },
   {
    "duration": 4,
    "start_time": "2022-10-29T15:37:38.894Z"
   },
   {
    "duration": 4,
    "start_time": "2022-10-29T15:37:59.247Z"
   },
   {
    "duration": 7,
    "start_time": "2022-10-29T15:38:01.408Z"
   },
   {
    "duration": 4,
    "start_time": "2022-10-29T15:38:10.251Z"
   },
   {
    "duration": 14,
    "start_time": "2022-10-29T15:38:11.320Z"
   },
   {
    "duration": 10,
    "start_time": "2022-10-29T15:38:23.441Z"
   },
   {
    "duration": 4,
    "start_time": "2022-10-29T15:38:28.834Z"
   },
   {
    "duration": 3,
    "start_time": "2022-10-29T15:38:29.295Z"
   },
   {
    "duration": 6,
    "start_time": "2022-10-29T15:38:35.737Z"
   },
   {
    "duration": 9,
    "start_time": "2022-10-29T15:38:38.809Z"
   },
   {
    "duration": 4,
    "start_time": "2022-10-29T15:38:44.211Z"
   },
   {
    "duration": 7,
    "start_time": "2022-10-29T15:38:49.338Z"
   },
   {
    "duration": 9,
    "start_time": "2022-10-29T15:39:18.867Z"
   },
   {
    "duration": 4,
    "start_time": "2022-10-29T15:39:52.252Z"
   },
   {
    "duration": 9,
    "start_time": "2022-10-29T15:39:57.243Z"
   },
   {
    "duration": 4,
    "start_time": "2022-10-29T15:43:07.237Z"
   },
   {
    "duration": 8,
    "start_time": "2022-10-29T15:43:08.438Z"
   },
   {
    "duration": 573,
    "start_time": "2022-10-29T15:47:08.892Z"
   },
   {
    "duration": 6,
    "start_time": "2022-10-29T15:49:52.188Z"
   },
   {
    "duration": 4,
    "start_time": "2022-10-29T16:06:10.056Z"
   },
   {
    "duration": 4,
    "start_time": "2022-10-29T16:09:33.037Z"
   },
   {
    "duration": 73,
    "start_time": "2022-10-29T16:10:20.847Z"
   },
   {
    "duration": 1456,
    "start_time": "2022-10-29T16:13:51.810Z"
   },
   {
    "duration": 840,
    "start_time": "2022-10-29T16:13:53.267Z"
   },
   {
    "duration": 23,
    "start_time": "2022-10-29T16:13:54.108Z"
   },
   {
    "duration": 5,
    "start_time": "2022-10-29T16:13:54.133Z"
   },
   {
    "duration": 31,
    "start_time": "2022-10-29T16:13:54.140Z"
   },
   {
    "duration": 233,
    "start_time": "2022-10-29T16:13:54.173Z"
   },
   {
    "duration": 101,
    "start_time": "2022-10-29T16:13:54.408Z"
   },
   {
    "duration": 129,
    "start_time": "2022-10-29T16:13:54.510Z"
   },
   {
    "duration": 1619,
    "start_time": "2022-10-29T16:13:54.641Z"
   },
   {
    "duration": 396,
    "start_time": "2022-10-29T16:13:56.261Z"
   },
   {
    "duration": 399,
    "start_time": "2022-10-29T16:13:56.658Z"
   },
   {
    "duration": 118,
    "start_time": "2022-10-29T16:13:57.059Z"
   },
   {
    "duration": 21,
    "start_time": "2022-10-29T16:13:57.179Z"
   },
   {
    "duration": 92,
    "start_time": "2022-10-29T16:13:57.203Z"
   },
   {
    "duration": 740,
    "start_time": "2022-10-29T16:13:57.296Z"
   },
   {
    "duration": 48,
    "start_time": "2022-10-29T16:13:58.038Z"
   },
   {
    "duration": 169,
    "start_time": "2022-10-29T16:13:58.088Z"
   },
   {
    "duration": 1294,
    "start_time": "2022-10-29T16:17:22.473Z"
   },
   {
    "duration": 790,
    "start_time": "2022-10-29T16:17:23.769Z"
   },
   {
    "duration": 16,
    "start_time": "2022-10-29T16:17:24.561Z"
   },
   {
    "duration": 4,
    "start_time": "2022-10-29T16:17:24.580Z"
   },
   {
    "duration": 45,
    "start_time": "2022-10-29T16:17:24.586Z"
   },
   {
    "duration": 212,
    "start_time": "2022-10-29T16:17:24.633Z"
   },
   {
    "duration": 92,
    "start_time": "2022-10-29T16:17:24.847Z"
   },
   {
    "duration": 132,
    "start_time": "2022-10-29T16:17:24.941Z"
   },
   {
    "duration": 1509,
    "start_time": "2022-10-29T16:17:25.075Z"
   },
   {
    "duration": 395,
    "start_time": "2022-10-29T16:17:26.587Z"
   },
   {
    "duration": 381,
    "start_time": "2022-10-29T16:17:26.984Z"
   },
   {
    "duration": 101,
    "start_time": "2022-10-29T16:17:27.367Z"
   },
   {
    "duration": 19,
    "start_time": "2022-10-29T16:17:27.471Z"
   },
   {
    "duration": 72,
    "start_time": "2022-10-29T16:17:27.492Z"
   },
   {
    "duration": 653,
    "start_time": "2022-10-29T16:17:27.566Z"
   },
   {
    "duration": 53,
    "start_time": "2022-10-29T16:17:28.221Z"
   },
   {
    "duration": 146,
    "start_time": "2022-10-29T16:17:28.276Z"
   },
   {
    "duration": 1304,
    "start_time": "2022-10-29T16:17:49.635Z"
   },
   {
    "duration": 805,
    "start_time": "2022-10-29T16:17:50.940Z"
   },
   {
    "duration": 23,
    "start_time": "2022-10-29T16:17:51.751Z"
   },
   {
    "duration": 5,
    "start_time": "2022-10-29T16:17:51.776Z"
   },
   {
    "duration": 41,
    "start_time": "2022-10-29T16:17:51.783Z"
   },
   {
    "duration": 197,
    "start_time": "2022-10-29T16:17:51.826Z"
   },
   {
    "duration": 97,
    "start_time": "2022-10-29T16:17:52.025Z"
   },
   {
    "duration": 135,
    "start_time": "2022-10-29T16:17:52.124Z"
   },
   {
    "duration": 1519,
    "start_time": "2022-10-29T16:17:52.262Z"
   },
   {
    "duration": 386,
    "start_time": "2022-10-29T16:17:53.783Z"
   },
   {
    "duration": 378,
    "start_time": "2022-10-29T16:17:54.171Z"
   },
   {
    "duration": 115,
    "start_time": "2022-10-29T16:17:54.551Z"
   },
   {
    "duration": 12,
    "start_time": "2022-10-29T16:17:54.667Z"
   },
   {
    "duration": 65,
    "start_time": "2022-10-29T16:17:54.681Z"
   },
   {
    "duration": 671,
    "start_time": "2022-10-29T16:17:54.748Z"
   },
   {
    "duration": 49,
    "start_time": "2022-10-29T16:17:55.421Z"
   },
   {
    "duration": 150,
    "start_time": "2022-10-29T16:17:55.472Z"
   },
   {
    "duration": 1279,
    "start_time": "2022-10-29T16:18:45.373Z"
   },
   {
    "duration": 761,
    "start_time": "2022-10-29T16:18:46.654Z"
   },
   {
    "duration": 18,
    "start_time": "2022-10-29T16:18:47.416Z"
   },
   {
    "duration": 4,
    "start_time": "2022-10-29T16:18:47.436Z"
   },
   {
    "duration": 36,
    "start_time": "2022-10-29T16:18:47.441Z"
   },
   {
    "duration": 225,
    "start_time": "2022-10-29T16:18:47.479Z"
   },
   {
    "duration": 85,
    "start_time": "2022-10-29T16:18:47.706Z"
   },
   {
    "duration": 120,
    "start_time": "2022-10-29T16:18:47.793Z"
   },
   {
    "duration": 1559,
    "start_time": "2022-10-29T16:18:47.915Z"
   },
   {
    "duration": 396,
    "start_time": "2022-10-29T16:18:49.476Z"
   },
   {
    "duration": 378,
    "start_time": "2022-10-29T16:18:49.874Z"
   },
   {
    "duration": 96,
    "start_time": "2022-10-29T16:18:50.254Z"
   },
   {
    "duration": 13,
    "start_time": "2022-10-29T16:18:50.352Z"
   },
   {
    "duration": 67,
    "start_time": "2022-10-29T16:18:50.366Z"
   },
   {
    "duration": 651,
    "start_time": "2022-10-29T16:18:50.434Z"
   },
   {
    "duration": 58,
    "start_time": "2022-10-29T16:18:51.087Z"
   },
   {
    "duration": 141,
    "start_time": "2022-10-29T16:18:51.147Z"
   },
   {
    "duration": 2651088,
    "start_time": "2022-10-29T16:18:51.289Z"
   },
   {
    "duration": 0,
    "start_time": "2022-10-29T17:03:02.378Z"
   },
   {
    "duration": 0,
    "start_time": "2022-10-29T17:03:02.379Z"
   },
   {
    "duration": 0,
    "start_time": "2022-10-29T17:03:02.380Z"
   },
   {
    "duration": 0,
    "start_time": "2022-10-29T17:03:02.381Z"
   },
   {
    "duration": 0,
    "start_time": "2022-10-29T17:03:02.382Z"
   },
   {
    "duration": 0,
    "start_time": "2022-10-29T17:03:02.383Z"
   },
   {
    "duration": 0,
    "start_time": "2022-10-29T17:03:02.384Z"
   },
   {
    "duration": 0,
    "start_time": "2022-10-29T17:03:02.385Z"
   },
   {
    "duration": 0,
    "start_time": "2022-10-29T17:03:02.386Z"
   },
   {
    "duration": 0,
    "start_time": "2022-10-29T17:03:02.387Z"
   },
   {
    "duration": 0,
    "start_time": "2022-10-29T17:03:02.388Z"
   },
   {
    "duration": 0,
    "start_time": "2022-10-29T17:03:02.389Z"
   },
   {
    "duration": 0,
    "start_time": "2022-10-29T17:03:02.390Z"
   },
   {
    "duration": 0,
    "start_time": "2022-10-29T17:03:02.391Z"
   },
   {
    "duration": 0,
    "start_time": "2022-10-29T17:03:02.392Z"
   },
   {
    "duration": 71588,
    "start_time": "2022-10-29T17:03:23.261Z"
   },
   {
    "duration": 24575,
    "start_time": "2022-10-29T17:04:44.650Z"
   },
   {
    "duration": 1342,
    "start_time": "2022-10-29T17:09:33.326Z"
   },
   {
    "duration": 796,
    "start_time": "2022-10-29T17:09:34.670Z"
   },
   {
    "duration": 18,
    "start_time": "2022-10-29T17:09:35.468Z"
   },
   {
    "duration": 4,
    "start_time": "2022-10-29T17:09:35.488Z"
   },
   {
    "duration": 42,
    "start_time": "2022-10-29T17:09:35.494Z"
   },
   {
    "duration": 208,
    "start_time": "2022-10-29T17:09:36.102Z"
   },
   {
    "duration": 90,
    "start_time": "2022-10-29T17:09:36.365Z"
   },
   {
    "duration": 125,
    "start_time": "2022-10-29T17:09:36.829Z"
   },
   {
    "duration": 1561,
    "start_time": "2022-10-29T17:09:37.775Z"
   },
   {
    "duration": 397,
    "start_time": "2022-10-29T17:09:39.339Z"
   },
   {
    "duration": 379,
    "start_time": "2022-10-29T17:09:39.738Z"
   },
   {
    "duration": 117,
    "start_time": "2022-10-29T17:09:40.121Z"
   },
   {
    "duration": 11,
    "start_time": "2022-10-29T17:09:40.943Z"
   },
   {
    "duration": 54,
    "start_time": "2022-10-29T17:09:41.302Z"
   },
   {
    "duration": 608,
    "start_time": "2022-10-29T17:09:41.990Z"
   },
   {
    "duration": 49,
    "start_time": "2022-10-29T17:09:43.717Z"
   },
   {
    "duration": 134,
    "start_time": "2022-10-29T17:09:44.421Z"
   },
   {
    "duration": 605892,
    "start_time": "2022-10-29T17:09:45.893Z"
   },
   {
    "duration": 0,
    "start_time": "2022-10-29T17:19:51.789Z"
   },
   {
    "duration": 0,
    "start_time": "2022-10-29T17:19:51.790Z"
   },
   {
    "duration": 0,
    "start_time": "2022-10-29T17:19:51.791Z"
   },
   {
    "duration": 0,
    "start_time": "2022-10-29T17:19:51.792Z"
   },
   {
    "duration": 0,
    "start_time": "2022-10-29T17:19:51.793Z"
   },
   {
    "duration": 0,
    "start_time": "2022-10-29T17:19:51.796Z"
   },
   {
    "duration": 0,
    "start_time": "2022-10-29T17:19:51.797Z"
   },
   {
    "duration": 0,
    "start_time": "2022-10-29T17:19:51.798Z"
   },
   {
    "duration": 0,
    "start_time": "2022-10-29T17:19:51.799Z"
   },
   {
    "duration": 0,
    "start_time": "2022-10-29T17:19:51.801Z"
   },
   {
    "duration": 0,
    "start_time": "2022-10-29T17:19:51.803Z"
   },
   {
    "duration": 0,
    "start_time": "2022-10-29T17:19:51.822Z"
   },
   {
    "duration": 0,
    "start_time": "2022-10-29T17:19:51.823Z"
   },
   {
    "duration": 0,
    "start_time": "2022-10-29T17:19:51.824Z"
   },
   {
    "duration": 0,
    "start_time": "2022-10-29T17:19:51.826Z"
   },
   {
    "duration": 30610,
    "start_time": "2022-10-29T17:20:09.447Z"
   },
   {
    "duration": 14393,
    "start_time": "2022-10-29T17:20:41.557Z"
   },
   {
    "duration": 1392,
    "start_time": "2022-10-29T17:21:02.105Z"
   },
   {
    "duration": 795,
    "start_time": "2022-10-29T17:21:03.499Z"
   },
   {
    "duration": 16,
    "start_time": "2022-10-29T17:21:04.295Z"
   },
   {
    "duration": 4,
    "start_time": "2022-10-29T17:21:04.322Z"
   },
   {
    "duration": 31,
    "start_time": "2022-10-29T17:21:04.328Z"
   },
   {
    "duration": 202,
    "start_time": "2022-10-29T17:21:04.361Z"
   },
   {
    "duration": 88,
    "start_time": "2022-10-29T17:21:04.565Z"
   },
   {
    "duration": 124,
    "start_time": "2022-10-29T17:21:04.654Z"
   },
   {
    "duration": 1553,
    "start_time": "2022-10-29T17:21:04.780Z"
   },
   {
    "duration": 401,
    "start_time": "2022-10-29T17:21:06.336Z"
   },
   {
    "duration": 383,
    "start_time": "2022-10-29T17:21:06.739Z"
   },
   {
    "duration": 106,
    "start_time": "2022-10-29T17:21:07.123Z"
   },
   {
    "duration": 22,
    "start_time": "2022-10-29T17:21:07.230Z"
   },
   {
    "duration": 68,
    "start_time": "2022-10-29T17:21:07.254Z"
   },
   {
    "duration": 657,
    "start_time": "2022-10-29T17:21:07.324Z"
   },
   {
    "duration": 55,
    "start_time": "2022-10-29T17:21:07.982Z"
   },
   {
    "duration": 132,
    "start_time": "2022-10-29T17:21:08.038Z"
   },
   {
    "duration": 15800955,
    "start_time": "2022-10-29T17:21:08.173Z"
   },
   {
    "duration": 6,
    "start_time": "2022-10-29T21:44:29.130Z"
   },
   {
    "duration": 702,
    "start_time": "2022-10-29T21:44:29.139Z"
   },
   {
    "duration": 6,
    "start_time": "2022-10-29T21:44:29.843Z"
   },
   {
    "duration": 1176,
    "start_time": "2022-10-29T21:44:29.851Z"
   },
   {
    "duration": 131,
    "start_time": "2022-10-29T21:44:31.032Z"
   },
   {
    "duration": 16,
    "start_time": "2022-10-29T21:44:31.223Z"
   },
   {
    "duration": 87,
    "start_time": "2022-10-29T21:44:31.242Z"
   },
   {
    "duration": 79675,
    "start_time": "2022-10-29T21:44:31.331Z"
   },
   {
    "duration": 18913,
    "start_time": "2022-10-29T21:45:51.008Z"
   },
   {
    "duration": 52,
    "start_time": "2022-10-29T21:46:09.925Z"
   },
   {
    "duration": 6,
    "start_time": "2022-10-29T21:46:09.979Z"
   },
   {
    "duration": 14,
    "start_time": "2022-10-29T21:46:09.986Z"
   },
   {
    "duration": 5,
    "start_time": "2022-10-29T21:46:10.023Z"
   },
   {
    "duration": 57,
    "start_time": "2022-10-29T21:46:10.030Z"
   },
   {
    "duration": 137,
    "start_time": "2022-10-29T21:46:10.090Z"
   },
   {
    "duration": 4,
    "start_time": "2022-10-30T01:48:30.292Z"
   },
   {
    "duration": 8,
    "start_time": "2022-10-30T01:48:37.005Z"
   },
   {
    "duration": 11,
    "start_time": "2022-10-30T01:49:39.276Z"
   },
   {
    "duration": 5,
    "start_time": "2022-10-30T01:51:57.890Z"
   },
   {
    "duration": 5,
    "start_time": "2022-10-30T01:52:07.134Z"
   },
   {
    "duration": 8,
    "start_time": "2022-10-30T01:52:07.702Z"
   },
   {
    "duration": 133136,
    "start_time": "2022-10-30T02:12:54.696Z"
   },
   {
    "duration": 111,
    "start_time": "2022-10-30T03:10:32.882Z"
   }
  ],
  "kernelspec": {
   "display_name": "Python 3 (ipykernel)",
   "language": "python",
   "name": "python3"
  },
  "language_info": {
   "codemirror_mode": {
    "name": "ipython",
    "version": 3
   },
   "file_extension": ".py",
   "mimetype": "text/x-python",
   "name": "python",
   "nbconvert_exporter": "python",
   "pygments_lexer": "ipython3",
   "version": "3.9.13"
  },
  "toc": {
   "base_numbering": 1,
   "nav_menu": {},
   "number_sections": true,
   "sideBar": true,
   "skip_h1_title": true,
   "title_cell": "Table of Contents",
   "title_sidebar": "Contents",
   "toc_cell": false,
   "toc_position": {},
   "toc_section_display": true,
   "toc_window_display": false
  }
 },
 "nbformat": 4,
 "nbformat_minor": 2
}
